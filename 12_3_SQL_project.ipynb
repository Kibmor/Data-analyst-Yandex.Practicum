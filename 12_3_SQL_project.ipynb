{
  "cells": [
    {
      "cell_type": "markdown",
      "metadata": {
        "id": "view-in-github",
        "colab_type": "text"
      },
      "source": [
        "<a href=\"https://colab.research.google.com/github/Kibmor/Ramil_Yarullin_data_analyst/blob/main/12_3_SQL_project.ipynb\" target=\"_parent\"><img src=\"https://colab.research.google.com/assets/colab-badge.svg\" alt=\"Open In Colab\"/></a>"
      ]
    },
    {
      "cell_type": "markdown",
      "metadata": {
        "id": "XpC3n5uOPVVB"
      },
      "source": [
        "# SQL"
      ]
    },
    {
      "cell_type": "markdown",
      "metadata": {
        "id": "-JCYfEsdPVVB"
      },
      "source": [
        "Коронавирус застал мир врасплох, изменив привычный порядок вещей. В свободное время жители городов больше не выходят на улицу, не посещают кафе и торговые центры. Зато стало больше времени для книг. Это заметили стартаперы — и бросились создавать приложения для тех, кто любит читать.\n",
        "\n",
        "Ваша компания решила быть на волне и купила крупный сервис для чтения книг по подписке. Ваша первая задача как аналитика — проанализировать базу данных.\n",
        "В ней — информация о книгах, издательствах, авторах, а также пользовательские обзоры книг. Эти данные помогут сформулировать ценностное предложение для нового продукта."
      ]
    },
    {
      "cell_type": "markdown",
      "metadata": {
        "id": "0cyRajGmPVVC"
      },
      "source": [
        "**Описание данных:**\n",
        "\n",
        "**Таблица `books`**\n",
        "\n",
        "Содержит данные о книгах:\n",
        "\n",
        "- `book_id` — идентификатор книги;\n",
        "- `author_id` — идентификатор автора;\n",
        "- `title` — название книги;\n",
        "- `num_pages` — количество страниц;\n",
        "- `publication_date` — дата публикации книги;\n",
        "- `publisher_id` — идентификатор издателя.\n",
        "\n",
        "**Таблица `authors`**\n",
        "\n",
        "Содержит данные об авторах:\n",
        "\n",
        "- `author_id` — идентификатор автора;\n",
        "- `author` — имя автора.\n",
        "\n",
        "**Таблица `publishers`**\n",
        "\n",
        "Содержит данные об издательствах:\n",
        "\n",
        "- `publisher_id` — идентификатор издательства;\n",
        "- `publisher` — название издательства;\n",
        "\n",
        "**Таблица `ratings`**\n",
        "\n",
        "Содержит данные о пользовательских оценках книг:\n",
        "\n",
        "- `rating_id` — идентификатор оценки;\n",
        "- `book_id` — идентификатор книги;\n",
        "- `username` — имя пользователя, оставившего оценку;\n",
        "- `rating` — оценка книги.\n",
        "\n",
        "**Таблица `reviews`**\n",
        "\n",
        "Содержит данные о пользовательских обзорах на книги:\n",
        "\n",
        "- `review_id` — идентификатор обзора;\n",
        "- `book_id` — идентификатор книги;\n",
        "- `username` — имя пользователя, написавшего обзор;\n",
        "- `text` — текст обзора."
      ]
    },
    {
      "cell_type": "markdown",
      "metadata": {
        "id": "8HQfe1TgPVVC"
      },
      "source": [
        "**ЗАДАНИЕ:**\n",
        "\n",
        "- Посчитайте, сколько книг вышло после 1 января 2000 года;\n",
        "- Для каждой книги посчитайте количество обзоров и среднюю оценку;\n",
        "- Определите издательство, которое выпустило наибольшее число книг толще 50 страниц — так вы исключите из анализа брошюры;\n",
        "- Определите автора с самой высокой средней оценкой книг — учитывайте только книги с 50 и более оценками;\n",
        "- Посчитайте среднее количество обзоров от пользователей, которые поставили больше 50 оценок."
      ]
    },
    {
      "cell_type": "code",
      "source": [
        "from IPython.display import Markdown\n",
        "import nbformat\n",
        "import re\n",
        "import gdown\n",
        "import pandas as pd\n",
        "from sqlalchemy import text,create_engine"
      ],
      "metadata": {
        "id": "nhUy4E7mUMIV"
      },
      "execution_count": 1,
      "outputs": []
    },
    {
      "cell_type": "markdown",
      "source": [
        "## Оглавление"
      ],
      "metadata": {
        "id": "AOAWlbasUUgd"
      }
    },
    {
      "cell_type": "code",
      "source": [
        "def generate_table_of_contents(notebook_path):\n",
        "    notebook_url = 'https://drive.google.com/uc?id=' + notebook_path.split('/')[-2]\n",
        "    gdown.download(notebook_url, 'notebook.ipynb', quiet=True)\n",
        "\n",
        "    with open('notebook.ipynb', 'r', encoding='utf-8') as file:\n",
        "        notebook = nbformat.read(file, nbformat.NO_CONVERT)\n",
        "\n",
        "    table_of_contents = []\n",
        "    heading_numbers = [0, 0, 0, 0, 0, 0]  # Начальные значения номеров для разных уровней заголовков\n",
        "\n",
        "    for cell in notebook['cells']:\n",
        "        if cell['cell_type'] == 'markdown':\n",
        "            source = cell['source']\n",
        "            headers = re.findall(r'^(#+)\\s+(.*)$', source, flags=re.MULTILINE)\n",
        "\n",
        "            for header in headers:\n",
        "                level = len(header[0])\n",
        "                title = header[1].strip()\n",
        "\n",
        "                link = '-'.join(re.findall(r'\\w+', title.lower()))\n",
        "                indentation = '&nbsp;' * 2 * (level - 1)\n",
        "                line_break = '\\n' + '&nbsp;' * 2 * level\n",
        "\n",
        "                heading_numbers[level - 1] += 1\n",
        "                heading_number_str = '.'.join(str(num) for num in heading_numbers[:level])\n",
        "\n",
        "                colab_link = notebook_path + f'#scrollTo={link}'\n",
        "                table_of_contents.append(f'{line_break}- {heading_number_str} {title}')\n",
        "\n",
        "    markdown_output= '\\n'.join(table_of_contents)\n",
        "    display(Markdown(markdown_output))\n",
        "\n",
        "\n",
        "# Укажите ссылку на ваш файл на Google Диске\n",
        "notebook_path = 'https://drive.google.com/file/d/1IA889g40TWgDYwNn2plorEhdFIDIBowO/view?usp=sharing'\n",
        "\n",
        "# Генерирование оглавления\n",
        "table_of_contents = generate_table_of_contents(notebook_path)\n",
        "# Отображение оглавления"
      ],
      "metadata": {
        "colab": {
          "base_uri": "https://localhost:8080/",
          "height": 350
        },
        "id": "z9VQ9vxdUS6l",
        "outputId": "e5d4c768-b439-4faa-f343-7f9f0f2a6cba"
      },
      "execution_count": 2,
      "outputs": [
        {
          "output_type": "display_data",
          "data": {
            "text/plain": [
              "<IPython.core.display.Markdown object>"
            ],
            "text/markdown": "\n&nbsp;&nbsp;- 1 SQL\n\n&nbsp;&nbsp;&nbsp;&nbsp;- 1.1 Оглавление\n\n&nbsp;&nbsp;&nbsp;&nbsp;- 1.2 Выведем датасеты books, authors, publishers, ratings и reviews:\n\n&nbsp;&nbsp;&nbsp;&nbsp;&nbsp;&nbsp;- 1.2.1 1) books:\n\n&nbsp;&nbsp;&nbsp;&nbsp;&nbsp;&nbsp;- 1.2.2 2) authors:\n\n&nbsp;&nbsp;&nbsp;&nbsp;&nbsp;&nbsp;- 1.2.3 3) publishers:\n\n&nbsp;&nbsp;&nbsp;&nbsp;&nbsp;&nbsp;- 1.2.4 4) ratings:\n\n&nbsp;&nbsp;&nbsp;&nbsp;&nbsp;&nbsp;- 1.2.5 5) reviews:\n\n&nbsp;&nbsp;&nbsp;&nbsp;- 1.3 Задание 1:\n\n&nbsp;&nbsp;&nbsp;&nbsp;- 1.4 Задание 2:\n\n&nbsp;&nbsp;&nbsp;&nbsp;- 1.5 Задание 3\n\n&nbsp;&nbsp;&nbsp;&nbsp;- 1.6 Задание 4\n\n&nbsp;&nbsp;&nbsp;&nbsp;- 1.7 Задание 5\n\n&nbsp;&nbsp;&nbsp;&nbsp;- 1.8 Общий вывод:"
          },
          "metadata": {}
        }
      ]
    },
    {
      "cell_type": "markdown",
      "source": [],
      "metadata": {
        "id": "0aaYH1zKUSeH"
      }
    },
    {
      "cell_type": "code",
      "execution_count": null,
      "metadata": {
        "id": "h4VVSiGdPVVD"
      },
      "outputs": [],
      "source": [
        "\n",
        "# устанавливаем параметры\n",
        "db_config = {'user': 'praktikum_student', # имя пользователя\n",
        "'pwd': 'Sdf4$2;d-d30pp', # пароль\n",
        "'host': 'rc1b-wcoijxj3yxfsf3fs.mdb.yandexcloud.net',\n",
        "'port': 6432, # порт подключения\n",
        "'db': 'data-analyst-final-project-db'} # название базы данных\n",
        "connection_string = 'postgresql://{user}:{pwd}@{host}:{port}/{db}'.format(**db_config)\n",
        "# сохраняем коннектор\n",
        "engine = create_engine(connection_string, connect_args={'sslmode':'require'})"
      ]
    },
    {
      "cell_type": "markdown",
      "metadata": {
        "id": "jRbyf6jIPVVE"
      },
      "source": [
        "**Напишем функцию для вывода результатов запроса:**"
      ]
    },
    {
      "cell_type": "code",
      "execution_count": null,
      "metadata": {
        "id": "25m6TM8iPVVE"
      },
      "outputs": [],
      "source": [
        "def query(sql):\n",
        "  return pd.io.sql.read_sql(sql=text(sql),con = engine.connect())"
      ]
    },
    {
      "cell_type": "markdown",
      "metadata": {
        "id": "zw8yNqPQPVVE"
      },
      "source": [
        "## Выведем датасеты books, authors, publishers, ratings и reviews:"
      ]
    },
    {
      "cell_type": "markdown",
      "metadata": {
        "id": "faPHNLA0PVVE"
      },
      "source": [
        "### 1) books:"
      ]
    },
    {
      "cell_type": "code",
      "execution_count": null,
      "metadata": {
        "colab": {
          "base_uri": "https://localhost:8080/",
          "height": 206
        },
        "id": "oZhYSbCrPVVF",
        "outputId": "790b5578-2b5a-4354-9cac-257963bb4bbb"
      },
      "outputs": [
        {
          "output_type": "execute_result",
          "data": {
            "text/plain": [
              "   book_id  author_id                                              title  \\\n",
              "0        1        546                                       'Salem's Lot   \n",
              "1        2        465                 1 000 Places to See Before You Die   \n",
              "2        3        407  13 Little Blue Envelopes (Little Blue Envelope...   \n",
              "3        4         82  1491: New Revelations of the Americas Before C...   \n",
              "4        5        125                                               1776   \n",
              "\n",
              "   num_pages publication_date  publisher_id  \n",
              "0        594       2005-11-01            93  \n",
              "1        992       2003-05-22           336  \n",
              "2        322       2010-12-21           135  \n",
              "3        541       2006-10-10           309  \n",
              "4        386       2006-07-04           268  "
            ],
            "text/html": [
              "\n",
              "  <div id=\"df-0a11a981-d630-4317-9f03-6e1e722b421f\">\n",
              "    <div class=\"colab-df-container\">\n",
              "      <div>\n",
              "<style scoped>\n",
              "    .dataframe tbody tr th:only-of-type {\n",
              "        vertical-align: middle;\n",
              "    }\n",
              "\n",
              "    .dataframe tbody tr th {\n",
              "        vertical-align: top;\n",
              "    }\n",
              "\n",
              "    .dataframe thead th {\n",
              "        text-align: right;\n",
              "    }\n",
              "</style>\n",
              "<table border=\"1\" class=\"dataframe\">\n",
              "  <thead>\n",
              "    <tr style=\"text-align: right;\">\n",
              "      <th></th>\n",
              "      <th>book_id</th>\n",
              "      <th>author_id</th>\n",
              "      <th>title</th>\n",
              "      <th>num_pages</th>\n",
              "      <th>publication_date</th>\n",
              "      <th>publisher_id</th>\n",
              "    </tr>\n",
              "  </thead>\n",
              "  <tbody>\n",
              "    <tr>\n",
              "      <th>0</th>\n",
              "      <td>1</td>\n",
              "      <td>546</td>\n",
              "      <td>'Salem's Lot</td>\n",
              "      <td>594</td>\n",
              "      <td>2005-11-01</td>\n",
              "      <td>93</td>\n",
              "    </tr>\n",
              "    <tr>\n",
              "      <th>1</th>\n",
              "      <td>2</td>\n",
              "      <td>465</td>\n",
              "      <td>1 000 Places to See Before You Die</td>\n",
              "      <td>992</td>\n",
              "      <td>2003-05-22</td>\n",
              "      <td>336</td>\n",
              "    </tr>\n",
              "    <tr>\n",
              "      <th>2</th>\n",
              "      <td>3</td>\n",
              "      <td>407</td>\n",
              "      <td>13 Little Blue Envelopes (Little Blue Envelope...</td>\n",
              "      <td>322</td>\n",
              "      <td>2010-12-21</td>\n",
              "      <td>135</td>\n",
              "    </tr>\n",
              "    <tr>\n",
              "      <th>3</th>\n",
              "      <td>4</td>\n",
              "      <td>82</td>\n",
              "      <td>1491: New Revelations of the Americas Before C...</td>\n",
              "      <td>541</td>\n",
              "      <td>2006-10-10</td>\n",
              "      <td>309</td>\n",
              "    </tr>\n",
              "    <tr>\n",
              "      <th>4</th>\n",
              "      <td>5</td>\n",
              "      <td>125</td>\n",
              "      <td>1776</td>\n",
              "      <td>386</td>\n",
              "      <td>2006-07-04</td>\n",
              "      <td>268</td>\n",
              "    </tr>\n",
              "  </tbody>\n",
              "</table>\n",
              "</div>\n",
              "      <button class=\"colab-df-convert\" onclick=\"convertToInteractive('df-0a11a981-d630-4317-9f03-6e1e722b421f')\"\n",
              "              title=\"Convert this dataframe to an interactive table.\"\n",
              "              style=\"display:none;\">\n",
              "        \n",
              "  <svg xmlns=\"http://www.w3.org/2000/svg\" height=\"24px\"viewBox=\"0 0 24 24\"\n",
              "       width=\"24px\">\n",
              "    <path d=\"M0 0h24v24H0V0z\" fill=\"none\"/>\n",
              "    <path d=\"M18.56 5.44l.94 2.06.94-2.06 2.06-.94-2.06-.94-.94-2.06-.94 2.06-2.06.94zm-11 1L8.5 8.5l.94-2.06 2.06-.94-2.06-.94L8.5 2.5l-.94 2.06-2.06.94zm10 10l.94 2.06.94-2.06 2.06-.94-2.06-.94-.94-2.06-.94 2.06-2.06.94z\"/><path d=\"M17.41 7.96l-1.37-1.37c-.4-.4-.92-.59-1.43-.59-.52 0-1.04.2-1.43.59L10.3 9.45l-7.72 7.72c-.78.78-.78 2.05 0 2.83L4 21.41c.39.39.9.59 1.41.59.51 0 1.02-.2 1.41-.59l7.78-7.78 2.81-2.81c.8-.78.8-2.07 0-2.86zM5.41 20L4 18.59l7.72-7.72 1.47 1.35L5.41 20z\"/>\n",
              "  </svg>\n",
              "      </button>\n",
              "      \n",
              "  <style>\n",
              "    .colab-df-container {\n",
              "      display:flex;\n",
              "      flex-wrap:wrap;\n",
              "      gap: 12px;\n",
              "    }\n",
              "\n",
              "    .colab-df-convert {\n",
              "      background-color: #E8F0FE;\n",
              "      border: none;\n",
              "      border-radius: 50%;\n",
              "      cursor: pointer;\n",
              "      display: none;\n",
              "      fill: #1967D2;\n",
              "      height: 32px;\n",
              "      padding: 0 0 0 0;\n",
              "      width: 32px;\n",
              "    }\n",
              "\n",
              "    .colab-df-convert:hover {\n",
              "      background-color: #E2EBFA;\n",
              "      box-shadow: 0px 1px 2px rgba(60, 64, 67, 0.3), 0px 1px 3px 1px rgba(60, 64, 67, 0.15);\n",
              "      fill: #174EA6;\n",
              "    }\n",
              "\n",
              "    [theme=dark] .colab-df-convert {\n",
              "      background-color: #3B4455;\n",
              "      fill: #D2E3FC;\n",
              "    }\n",
              "\n",
              "    [theme=dark] .colab-df-convert:hover {\n",
              "      background-color: #434B5C;\n",
              "      box-shadow: 0px 1px 3px 1px rgba(0, 0, 0, 0.15);\n",
              "      filter: drop-shadow(0px 1px 2px rgba(0, 0, 0, 0.3));\n",
              "      fill: #FFFFFF;\n",
              "    }\n",
              "  </style>\n",
              "\n",
              "      <script>\n",
              "        const buttonEl =\n",
              "          document.querySelector('#df-0a11a981-d630-4317-9f03-6e1e722b421f button.colab-df-convert');\n",
              "        buttonEl.style.display =\n",
              "          google.colab.kernel.accessAllowed ? 'block' : 'none';\n",
              "\n",
              "        async function convertToInteractive(key) {\n",
              "          const element = document.querySelector('#df-0a11a981-d630-4317-9f03-6e1e722b421f');\n",
              "          const dataTable =\n",
              "            await google.colab.kernel.invokeFunction('convertToInteractive',\n",
              "                                                     [key], {});\n",
              "          if (!dataTable) return;\n",
              "\n",
              "          const docLinkHtml = 'Like what you see? Visit the ' +\n",
              "            '<a target=\"_blank\" href=https://colab.research.google.com/notebooks/data_table.ipynb>data table notebook</a>'\n",
              "            + ' to learn more about interactive tables.';\n",
              "          element.innerHTML = '';\n",
              "          dataTable['output_type'] = 'display_data';\n",
              "          await google.colab.output.renderOutput(dataTable, element);\n",
              "          const docLink = document.createElement('div');\n",
              "          docLink.innerHTML = docLinkHtml;\n",
              "          element.appendChild(docLink);\n",
              "        }\n",
              "      </script>\n",
              "    </div>\n",
              "  </div>\n",
              "  "
            ]
          },
          "metadata": {},
          "execution_count": 72
        }
      ],
      "source": [
        "books = '''\n",
        "SELECT *\n",
        "FROM books\n",
        "\n",
        "LIMIT 5\n",
        "'''\n",
        "query(books)"
      ]
    },
    {
      "cell_type": "markdown",
      "metadata": {
        "id": "cz3PMfAKPVVF"
      },
      "source": [
        "Выведем общую информацию:"
      ]
    },
    {
      "cell_type": "code",
      "execution_count": null,
      "metadata": {
        "id": "WEma6devPVVG",
        "colab": {
          "base_uri": "https://localhost:8080/"
        },
        "outputId": "c09ed83a-39b5-4fb5-fcec-4f5f4ee9025a"
      },
      "outputs": [
        {
          "output_type": "stream",
          "name": "stdout",
          "text": [
            "В датасете books - 5 строк и 6 полей.\n"
          ]
        }
      ],
      "source": [
        "print('В датасете books -',query(books).shape[0],'строк и',\n",
        "      query(books).shape[1],'полей.')"
      ]
    },
    {
      "cell_type": "code",
      "execution_count": null,
      "metadata": {
        "id": "ZRjPmJ8ePVVG",
        "colab": {
          "base_uri": "https://localhost:8080/"
        },
        "outputId": "4d96f6b1-7323-45cd-9faa-f834a43b6c4e"
      },
      "outputs": [
        {
          "output_type": "stream",
          "name": "stdout",
          "text": [
            "<class 'pandas.core.frame.DataFrame'>\n",
            "RangeIndex: 5 entries, 0 to 4\n",
            "Data columns (total 6 columns):\n",
            " #   Column            Non-Null Count  Dtype \n",
            "---  ------            --------------  ----- \n",
            " 0   book_id           5 non-null      int64 \n",
            " 1   author_id         5 non-null      int64 \n",
            " 2   title             5 non-null      object\n",
            " 3   num_pages         5 non-null      int64 \n",
            " 4   publication_date  5 non-null      object\n",
            " 5   publisher_id      5 non-null      int64 \n",
            "dtypes: int64(4), object(2)\n",
            "memory usage: 368.0+ bytes\n"
          ]
        }
      ],
      "source": [
        "query(books).info()"
      ]
    },
    {
      "cell_type": "markdown",
      "metadata": {
        "id": "jKrJ2MOtPVVG"
      },
      "source": [
        "___\n",
        "Количество пропусков:"
      ]
    },
    {
      "cell_type": "code",
      "execution_count": null,
      "metadata": {
        "id": "oU9V1ZjKPVVG",
        "colab": {
          "base_uri": "https://localhost:8080/"
        },
        "outputId": "25464ae0-89ab-42e3-abc2-7924e4797c67"
      },
      "outputs": [
        {
          "output_type": "execute_result",
          "data": {
            "text/plain": [
              "book_id             0\n",
              "author_id           0\n",
              "title               0\n",
              "num_pages           0\n",
              "publication_date    0\n",
              "publisher_id        0\n",
              "dtype: int64"
            ]
          },
          "metadata": {},
          "execution_count": 75
        }
      ],
      "source": [
        "query(books).isnull().sum()"
      ]
    },
    {
      "cell_type": "markdown",
      "metadata": {
        "id": "L4doTJVsPVVG"
      },
      "source": [
        "___\n",
        "Количество дубликатов:"
      ]
    },
    {
      "cell_type": "code",
      "execution_count": null,
      "metadata": {
        "id": "95fyDBGjPVVH",
        "colab": {
          "base_uri": "https://localhost:8080/"
        },
        "outputId": "7280b90a-9da7-4f36-dd27-c69d1e983944"
      },
      "outputs": [
        {
          "output_type": "execute_result",
          "data": {
            "text/plain": [
              "0"
            ]
          },
          "metadata": {},
          "execution_count": 76
        }
      ],
      "source": [
        "query(books).duplicated().sum()"
      ]
    },
    {
      "cell_type": "markdown",
      "metadata": {
        "id": "FdpV9aZiPVVH"
      },
      "source": [
        "**Вывод:** В таблице books 1000 строк и 6 столбцов, отсутствуют пропуски и дубликаты;"
      ]
    },
    {
      "cell_type": "markdown",
      "metadata": {
        "id": "cBKjjOMCPVVH"
      },
      "source": [
        "___\n",
        "### 2) authors:"
      ]
    },
    {
      "cell_type": "code",
      "execution_count": null,
      "metadata": {
        "id": "XSX1jhzZPVVH",
        "colab": {
          "base_uri": "https://localhost:8080/",
          "height": 206
        },
        "outputId": "c07f0c22-e0d8-48b7-8f84-10be976f957f"
      },
      "outputs": [
        {
          "output_type": "execute_result",
          "data": {
            "text/plain": [
              "   author_id                          author\n",
              "0          1                      A.S. Byatt\n",
              "1          2  Aesop/Laura Harris/Laura Gibbs\n",
              "2          3                 Agatha Christie\n",
              "3          4                   Alan Brennert\n",
              "4          5        Alan Moore/David   Lloyd"
            ],
            "text/html": [
              "\n",
              "  <div id=\"df-01c6c605-fd02-4687-a679-6050487eea7c\">\n",
              "    <div class=\"colab-df-container\">\n",
              "      <div>\n",
              "<style scoped>\n",
              "    .dataframe tbody tr th:only-of-type {\n",
              "        vertical-align: middle;\n",
              "    }\n",
              "\n",
              "    .dataframe tbody tr th {\n",
              "        vertical-align: top;\n",
              "    }\n",
              "\n",
              "    .dataframe thead th {\n",
              "        text-align: right;\n",
              "    }\n",
              "</style>\n",
              "<table border=\"1\" class=\"dataframe\">\n",
              "  <thead>\n",
              "    <tr style=\"text-align: right;\">\n",
              "      <th></th>\n",
              "      <th>author_id</th>\n",
              "      <th>author</th>\n",
              "    </tr>\n",
              "  </thead>\n",
              "  <tbody>\n",
              "    <tr>\n",
              "      <th>0</th>\n",
              "      <td>1</td>\n",
              "      <td>A.S. Byatt</td>\n",
              "    </tr>\n",
              "    <tr>\n",
              "      <th>1</th>\n",
              "      <td>2</td>\n",
              "      <td>Aesop/Laura Harris/Laura Gibbs</td>\n",
              "    </tr>\n",
              "    <tr>\n",
              "      <th>2</th>\n",
              "      <td>3</td>\n",
              "      <td>Agatha Christie</td>\n",
              "    </tr>\n",
              "    <tr>\n",
              "      <th>3</th>\n",
              "      <td>4</td>\n",
              "      <td>Alan Brennert</td>\n",
              "    </tr>\n",
              "    <tr>\n",
              "      <th>4</th>\n",
              "      <td>5</td>\n",
              "      <td>Alan Moore/David   Lloyd</td>\n",
              "    </tr>\n",
              "  </tbody>\n",
              "</table>\n",
              "</div>\n",
              "      <button class=\"colab-df-convert\" onclick=\"convertToInteractive('df-01c6c605-fd02-4687-a679-6050487eea7c')\"\n",
              "              title=\"Convert this dataframe to an interactive table.\"\n",
              "              style=\"display:none;\">\n",
              "        \n",
              "  <svg xmlns=\"http://www.w3.org/2000/svg\" height=\"24px\"viewBox=\"0 0 24 24\"\n",
              "       width=\"24px\">\n",
              "    <path d=\"M0 0h24v24H0V0z\" fill=\"none\"/>\n",
              "    <path d=\"M18.56 5.44l.94 2.06.94-2.06 2.06-.94-2.06-.94-.94-2.06-.94 2.06-2.06.94zm-11 1L8.5 8.5l.94-2.06 2.06-.94-2.06-.94L8.5 2.5l-.94 2.06-2.06.94zm10 10l.94 2.06.94-2.06 2.06-.94-2.06-.94-.94-2.06-.94 2.06-2.06.94z\"/><path d=\"M17.41 7.96l-1.37-1.37c-.4-.4-.92-.59-1.43-.59-.52 0-1.04.2-1.43.59L10.3 9.45l-7.72 7.72c-.78.78-.78 2.05 0 2.83L4 21.41c.39.39.9.59 1.41.59.51 0 1.02-.2 1.41-.59l7.78-7.78 2.81-2.81c.8-.78.8-2.07 0-2.86zM5.41 20L4 18.59l7.72-7.72 1.47 1.35L5.41 20z\"/>\n",
              "  </svg>\n",
              "      </button>\n",
              "      \n",
              "  <style>\n",
              "    .colab-df-container {\n",
              "      display:flex;\n",
              "      flex-wrap:wrap;\n",
              "      gap: 12px;\n",
              "    }\n",
              "\n",
              "    .colab-df-convert {\n",
              "      background-color: #E8F0FE;\n",
              "      border: none;\n",
              "      border-radius: 50%;\n",
              "      cursor: pointer;\n",
              "      display: none;\n",
              "      fill: #1967D2;\n",
              "      height: 32px;\n",
              "      padding: 0 0 0 0;\n",
              "      width: 32px;\n",
              "    }\n",
              "\n",
              "    .colab-df-convert:hover {\n",
              "      background-color: #E2EBFA;\n",
              "      box-shadow: 0px 1px 2px rgba(60, 64, 67, 0.3), 0px 1px 3px 1px rgba(60, 64, 67, 0.15);\n",
              "      fill: #174EA6;\n",
              "    }\n",
              "\n",
              "    [theme=dark] .colab-df-convert {\n",
              "      background-color: #3B4455;\n",
              "      fill: #D2E3FC;\n",
              "    }\n",
              "\n",
              "    [theme=dark] .colab-df-convert:hover {\n",
              "      background-color: #434B5C;\n",
              "      box-shadow: 0px 1px 3px 1px rgba(0, 0, 0, 0.15);\n",
              "      filter: drop-shadow(0px 1px 2px rgba(0, 0, 0, 0.3));\n",
              "      fill: #FFFFFF;\n",
              "    }\n",
              "  </style>\n",
              "\n",
              "      <script>\n",
              "        const buttonEl =\n",
              "          document.querySelector('#df-01c6c605-fd02-4687-a679-6050487eea7c button.colab-df-convert');\n",
              "        buttonEl.style.display =\n",
              "          google.colab.kernel.accessAllowed ? 'block' : 'none';\n",
              "\n",
              "        async function convertToInteractive(key) {\n",
              "          const element = document.querySelector('#df-01c6c605-fd02-4687-a679-6050487eea7c');\n",
              "          const dataTable =\n",
              "            await google.colab.kernel.invokeFunction('convertToInteractive',\n",
              "                                                     [key], {});\n",
              "          if (!dataTable) return;\n",
              "\n",
              "          const docLinkHtml = 'Like what you see? Visit the ' +\n",
              "            '<a target=\"_blank\" href=https://colab.research.google.com/notebooks/data_table.ipynb>data table notebook</a>'\n",
              "            + ' to learn more about interactive tables.';\n",
              "          element.innerHTML = '';\n",
              "          dataTable['output_type'] = 'display_data';\n",
              "          await google.colab.output.renderOutput(dataTable, element);\n",
              "          const docLink = document.createElement('div');\n",
              "          docLink.innerHTML = docLinkHtml;\n",
              "          element.appendChild(docLink);\n",
              "        }\n",
              "      </script>\n",
              "    </div>\n",
              "  </div>\n",
              "  "
            ]
          },
          "metadata": {},
          "execution_count": 77
        }
      ],
      "source": [
        "authors = '''\n",
        "SELECT *\n",
        "FROM authors\n",
        "\n",
        "LIMIT 5\n",
        "'''\n",
        "\n",
        "query(authors)"
      ]
    },
    {
      "cell_type": "code",
      "execution_count": null,
      "metadata": {
        "id": "hljG0UGAPVVH",
        "colab": {
          "base_uri": "https://localhost:8080/"
        },
        "outputId": "440b61e3-60c3-4a01-9fd9-95245700d0f3"
      },
      "outputs": [
        {
          "output_type": "stream",
          "name": "stdout",
          "text": [
            "В датасете authors - 5 строк и 2 полей.\n"
          ]
        }
      ],
      "source": [
        "print('В датасете authors -',query(authors).shape[0],'строк и',\n",
        "      query(authors).shape[1],'полей.')"
      ]
    },
    {
      "cell_type": "code",
      "execution_count": null,
      "metadata": {
        "id": "mlGzvI2CPVVI",
        "colab": {
          "base_uri": "https://localhost:8080/"
        },
        "outputId": "f0eabcf1-77a9-4f76-8592-4ef45f0a77db"
      },
      "outputs": [
        {
          "output_type": "stream",
          "name": "stdout",
          "text": [
            "<class 'pandas.core.frame.DataFrame'>\n",
            "RangeIndex: 5 entries, 0 to 4\n",
            "Data columns (total 2 columns):\n",
            " #   Column     Non-Null Count  Dtype \n",
            "---  ------     --------------  ----- \n",
            " 0   author_id  5 non-null      int64 \n",
            " 1   author     5 non-null      object\n",
            "dtypes: int64(1), object(1)\n",
            "memory usage: 208.0+ bytes\n"
          ]
        }
      ],
      "source": [
        "query(authors).info()"
      ]
    },
    {
      "cell_type": "code",
      "execution_count": null,
      "metadata": {
        "id": "6HDzLJaQPVVI",
        "colab": {
          "base_uri": "https://localhost:8080/"
        },
        "outputId": "be1b4632-f0f9-4a19-abc0-944af132c502"
      },
      "outputs": [
        {
          "output_type": "execute_result",
          "data": {
            "text/plain": [
              "author_id    0\n",
              "author       0\n",
              "dtype: int64"
            ]
          },
          "metadata": {},
          "execution_count": 80
        }
      ],
      "source": [
        "query(authors).isna().sum()"
      ]
    },
    {
      "cell_type": "code",
      "execution_count": null,
      "metadata": {
        "id": "nmt0ZMfAPVVI",
        "colab": {
          "base_uri": "https://localhost:8080/"
        },
        "outputId": "c3fbba95-79aa-440e-adc2-e228bff7dddc"
      },
      "outputs": [
        {
          "output_type": "execute_result",
          "data": {
            "text/plain": [
              "0"
            ]
          },
          "metadata": {},
          "execution_count": 81
        }
      ],
      "source": [
        "query(authors).duplicated().sum()"
      ]
    },
    {
      "cell_type": "code",
      "execution_count": null,
      "metadata": {
        "id": "Mv_B4g3RPVVJ"
      },
      "outputs": [],
      "source": []
    },
    {
      "cell_type": "markdown",
      "metadata": {
        "id": "kYD-cBXePVVJ"
      },
      "source": [
        "**Вывод:** В таблице authors 636 строк и 2 столбца, отсутствуют пропуски и дубликаты;"
      ]
    },
    {
      "cell_type": "markdown",
      "metadata": {
        "id": "wNpQf95MPVVJ"
      },
      "source": [
        "___\n",
        "### 3) publishers:"
      ]
    },
    {
      "cell_type": "code",
      "execution_count": null,
      "metadata": {
        "id": "O7QeuGagPVVJ",
        "colab": {
          "base_uri": "https://localhost:8080/",
          "height": 206
        },
        "outputId": "386ff3f9-98a9-4ddc-8d93-2d13838ef3e3"
      },
      "outputs": [
        {
          "output_type": "execute_result",
          "data": {
            "text/plain": [
              "   publisher_id                          publisher\n",
              "0             1                                Ace\n",
              "1             2                           Ace Book\n",
              "2             3                          Ace Books\n",
              "3             4                      Ace Hardcover\n",
              "4             5  Addison Wesley Publishing Company"
            ],
            "text/html": [
              "\n",
              "  <div id=\"df-ce9d1a94-f4b1-4528-bc2b-63542f88b08d\">\n",
              "    <div class=\"colab-df-container\">\n",
              "      <div>\n",
              "<style scoped>\n",
              "    .dataframe tbody tr th:only-of-type {\n",
              "        vertical-align: middle;\n",
              "    }\n",
              "\n",
              "    .dataframe tbody tr th {\n",
              "        vertical-align: top;\n",
              "    }\n",
              "\n",
              "    .dataframe thead th {\n",
              "        text-align: right;\n",
              "    }\n",
              "</style>\n",
              "<table border=\"1\" class=\"dataframe\">\n",
              "  <thead>\n",
              "    <tr style=\"text-align: right;\">\n",
              "      <th></th>\n",
              "      <th>publisher_id</th>\n",
              "      <th>publisher</th>\n",
              "    </tr>\n",
              "  </thead>\n",
              "  <tbody>\n",
              "    <tr>\n",
              "      <th>0</th>\n",
              "      <td>1</td>\n",
              "      <td>Ace</td>\n",
              "    </tr>\n",
              "    <tr>\n",
              "      <th>1</th>\n",
              "      <td>2</td>\n",
              "      <td>Ace Book</td>\n",
              "    </tr>\n",
              "    <tr>\n",
              "      <th>2</th>\n",
              "      <td>3</td>\n",
              "      <td>Ace Books</td>\n",
              "    </tr>\n",
              "    <tr>\n",
              "      <th>3</th>\n",
              "      <td>4</td>\n",
              "      <td>Ace Hardcover</td>\n",
              "    </tr>\n",
              "    <tr>\n",
              "      <th>4</th>\n",
              "      <td>5</td>\n",
              "      <td>Addison Wesley Publishing Company</td>\n",
              "    </tr>\n",
              "  </tbody>\n",
              "</table>\n",
              "</div>\n",
              "      <button class=\"colab-df-convert\" onclick=\"convertToInteractive('df-ce9d1a94-f4b1-4528-bc2b-63542f88b08d')\"\n",
              "              title=\"Convert this dataframe to an interactive table.\"\n",
              "              style=\"display:none;\">\n",
              "        \n",
              "  <svg xmlns=\"http://www.w3.org/2000/svg\" height=\"24px\"viewBox=\"0 0 24 24\"\n",
              "       width=\"24px\">\n",
              "    <path d=\"M0 0h24v24H0V0z\" fill=\"none\"/>\n",
              "    <path d=\"M18.56 5.44l.94 2.06.94-2.06 2.06-.94-2.06-.94-.94-2.06-.94 2.06-2.06.94zm-11 1L8.5 8.5l.94-2.06 2.06-.94-2.06-.94L8.5 2.5l-.94 2.06-2.06.94zm10 10l.94 2.06.94-2.06 2.06-.94-2.06-.94-.94-2.06-.94 2.06-2.06.94z\"/><path d=\"M17.41 7.96l-1.37-1.37c-.4-.4-.92-.59-1.43-.59-.52 0-1.04.2-1.43.59L10.3 9.45l-7.72 7.72c-.78.78-.78 2.05 0 2.83L4 21.41c.39.39.9.59 1.41.59.51 0 1.02-.2 1.41-.59l7.78-7.78 2.81-2.81c.8-.78.8-2.07 0-2.86zM5.41 20L4 18.59l7.72-7.72 1.47 1.35L5.41 20z\"/>\n",
              "  </svg>\n",
              "      </button>\n",
              "      \n",
              "  <style>\n",
              "    .colab-df-container {\n",
              "      display:flex;\n",
              "      flex-wrap:wrap;\n",
              "      gap: 12px;\n",
              "    }\n",
              "\n",
              "    .colab-df-convert {\n",
              "      background-color: #E8F0FE;\n",
              "      border: none;\n",
              "      border-radius: 50%;\n",
              "      cursor: pointer;\n",
              "      display: none;\n",
              "      fill: #1967D2;\n",
              "      height: 32px;\n",
              "      padding: 0 0 0 0;\n",
              "      width: 32px;\n",
              "    }\n",
              "\n",
              "    .colab-df-convert:hover {\n",
              "      background-color: #E2EBFA;\n",
              "      box-shadow: 0px 1px 2px rgba(60, 64, 67, 0.3), 0px 1px 3px 1px rgba(60, 64, 67, 0.15);\n",
              "      fill: #174EA6;\n",
              "    }\n",
              "\n",
              "    [theme=dark] .colab-df-convert {\n",
              "      background-color: #3B4455;\n",
              "      fill: #D2E3FC;\n",
              "    }\n",
              "\n",
              "    [theme=dark] .colab-df-convert:hover {\n",
              "      background-color: #434B5C;\n",
              "      box-shadow: 0px 1px 3px 1px rgba(0, 0, 0, 0.15);\n",
              "      filter: drop-shadow(0px 1px 2px rgba(0, 0, 0, 0.3));\n",
              "      fill: #FFFFFF;\n",
              "    }\n",
              "  </style>\n",
              "\n",
              "      <script>\n",
              "        const buttonEl =\n",
              "          document.querySelector('#df-ce9d1a94-f4b1-4528-bc2b-63542f88b08d button.colab-df-convert');\n",
              "        buttonEl.style.display =\n",
              "          google.colab.kernel.accessAllowed ? 'block' : 'none';\n",
              "\n",
              "        async function convertToInteractive(key) {\n",
              "          const element = document.querySelector('#df-ce9d1a94-f4b1-4528-bc2b-63542f88b08d');\n",
              "          const dataTable =\n",
              "            await google.colab.kernel.invokeFunction('convertToInteractive',\n",
              "                                                     [key], {});\n",
              "          if (!dataTable) return;\n",
              "\n",
              "          const docLinkHtml = 'Like what you see? Visit the ' +\n",
              "            '<a target=\"_blank\" href=https://colab.research.google.com/notebooks/data_table.ipynb>data table notebook</a>'\n",
              "            + ' to learn more about interactive tables.';\n",
              "          element.innerHTML = '';\n",
              "          dataTable['output_type'] = 'display_data';\n",
              "          await google.colab.output.renderOutput(dataTable, element);\n",
              "          const docLink = document.createElement('div');\n",
              "          docLink.innerHTML = docLinkHtml;\n",
              "          element.appendChild(docLink);\n",
              "        }\n",
              "      </script>\n",
              "    </div>\n",
              "  </div>\n",
              "  "
            ]
          },
          "metadata": {},
          "execution_count": 82
        }
      ],
      "source": [
        "publishers = '''\n",
        "SELECT *\n",
        "FROM publishers\n",
        "\n",
        "LIMIT 5\n",
        "'''\n",
        "\n",
        "query(publishers)"
      ]
    },
    {
      "cell_type": "code",
      "execution_count": null,
      "metadata": {
        "id": "JcF2syGRPVVJ",
        "colab": {
          "base_uri": "https://localhost:8080/"
        },
        "outputId": "2f378984-dd90-4bb6-e625-9f2fcac5def1"
      },
      "outputs": [
        {
          "output_type": "stream",
          "name": "stdout",
          "text": [
            "В датасете publishers - 5 строк и 2 полей.\n"
          ]
        }
      ],
      "source": [
        "print('В датасете publishers -',query(publishers).shape[0],'строк и',\n",
        "      query(publishers).shape[1],'полей.')"
      ]
    },
    {
      "cell_type": "code",
      "execution_count": null,
      "metadata": {
        "id": "dZaGJOhhPVVJ",
        "colab": {
          "base_uri": "https://localhost:8080/"
        },
        "outputId": "8fe6d303-d7c6-41e1-8ed7-860aa7b0bea5"
      },
      "outputs": [
        {
          "output_type": "stream",
          "name": "stdout",
          "text": [
            "<class 'pandas.core.frame.DataFrame'>\n",
            "RangeIndex: 5 entries, 0 to 4\n",
            "Data columns (total 2 columns):\n",
            " #   Column        Non-Null Count  Dtype \n",
            "---  ------        --------------  ----- \n",
            " 0   publisher_id  5 non-null      int64 \n",
            " 1   publisher     5 non-null      object\n",
            "dtypes: int64(1), object(1)\n",
            "memory usage: 208.0+ bytes\n"
          ]
        }
      ],
      "source": [
        "query(publishers).info()"
      ]
    },
    {
      "cell_type": "code",
      "execution_count": null,
      "metadata": {
        "id": "GFl9BWBvPVVK",
        "colab": {
          "base_uri": "https://localhost:8080/"
        },
        "outputId": "e06f4f5a-bb2a-47d1-ee01-7376a0332053"
      },
      "outputs": [
        {
          "output_type": "execute_result",
          "data": {
            "text/plain": [
              "publisher_id    0\n",
              "publisher       0\n",
              "dtype: int64"
            ]
          },
          "metadata": {},
          "execution_count": 85
        }
      ],
      "source": [
        "query(publishers).isna().sum()"
      ]
    },
    {
      "cell_type": "code",
      "execution_count": null,
      "metadata": {
        "id": "wkItKZNGPVVK",
        "colab": {
          "base_uri": "https://localhost:8080/"
        },
        "outputId": "46e1ebe8-4fa2-461f-e0ae-7b45c3c50ec5"
      },
      "outputs": [
        {
          "output_type": "execute_result",
          "data": {
            "text/plain": [
              "0"
            ]
          },
          "metadata": {},
          "execution_count": 55
        }
      ],
      "source": [
        "query(publishers).duplicated().sum()"
      ]
    },
    {
      "cell_type": "markdown",
      "metadata": {
        "id": "w4vxdUf7PVVK"
      },
      "source": [
        "**Вывод:** В таблице publishers 340 строк и 2 столбца, отсутствуют пропуски и дубликаты;"
      ]
    },
    {
      "cell_type": "markdown",
      "metadata": {
        "id": "fUmbZW-CPVVK"
      },
      "source": [
        "___\n",
        "### 4) ratings:"
      ]
    },
    {
      "cell_type": "code",
      "execution_count": null,
      "metadata": {
        "id": "Jzh5XKglPVVK",
        "colab": {
          "base_uri": "https://localhost:8080/",
          "height": 206
        },
        "outputId": "fb6c0c50-dc24-4f38-ada8-d7647a761c82"
      },
      "outputs": [
        {
          "output_type": "execute_result",
          "data": {
            "text/plain": [
              "   rating_id  book_id       username  rating\n",
              "0          1        1     ryanfranco       4\n",
              "1          2        1  grantpatricia       2\n",
              "2          3        1   brandtandrea       5\n",
              "3          4        2       lorichen       3\n",
              "4          5        2    mariokeller       2"
            ],
            "text/html": [
              "\n",
              "  <div id=\"df-120070e9-f9e8-4891-a1ce-951dd1f8d694\">\n",
              "    <div class=\"colab-df-container\">\n",
              "      <div>\n",
              "<style scoped>\n",
              "    .dataframe tbody tr th:only-of-type {\n",
              "        vertical-align: middle;\n",
              "    }\n",
              "\n",
              "    .dataframe tbody tr th {\n",
              "        vertical-align: top;\n",
              "    }\n",
              "\n",
              "    .dataframe thead th {\n",
              "        text-align: right;\n",
              "    }\n",
              "</style>\n",
              "<table border=\"1\" class=\"dataframe\">\n",
              "  <thead>\n",
              "    <tr style=\"text-align: right;\">\n",
              "      <th></th>\n",
              "      <th>rating_id</th>\n",
              "      <th>book_id</th>\n",
              "      <th>username</th>\n",
              "      <th>rating</th>\n",
              "    </tr>\n",
              "  </thead>\n",
              "  <tbody>\n",
              "    <tr>\n",
              "      <th>0</th>\n",
              "      <td>1</td>\n",
              "      <td>1</td>\n",
              "      <td>ryanfranco</td>\n",
              "      <td>4</td>\n",
              "    </tr>\n",
              "    <tr>\n",
              "      <th>1</th>\n",
              "      <td>2</td>\n",
              "      <td>1</td>\n",
              "      <td>grantpatricia</td>\n",
              "      <td>2</td>\n",
              "    </tr>\n",
              "    <tr>\n",
              "      <th>2</th>\n",
              "      <td>3</td>\n",
              "      <td>1</td>\n",
              "      <td>brandtandrea</td>\n",
              "      <td>5</td>\n",
              "    </tr>\n",
              "    <tr>\n",
              "      <th>3</th>\n",
              "      <td>4</td>\n",
              "      <td>2</td>\n",
              "      <td>lorichen</td>\n",
              "      <td>3</td>\n",
              "    </tr>\n",
              "    <tr>\n",
              "      <th>4</th>\n",
              "      <td>5</td>\n",
              "      <td>2</td>\n",
              "      <td>mariokeller</td>\n",
              "      <td>2</td>\n",
              "    </tr>\n",
              "  </tbody>\n",
              "</table>\n",
              "</div>\n",
              "      <button class=\"colab-df-convert\" onclick=\"convertToInteractive('df-120070e9-f9e8-4891-a1ce-951dd1f8d694')\"\n",
              "              title=\"Convert this dataframe to an interactive table.\"\n",
              "              style=\"display:none;\">\n",
              "        \n",
              "  <svg xmlns=\"http://www.w3.org/2000/svg\" height=\"24px\"viewBox=\"0 0 24 24\"\n",
              "       width=\"24px\">\n",
              "    <path d=\"M0 0h24v24H0V0z\" fill=\"none\"/>\n",
              "    <path d=\"M18.56 5.44l.94 2.06.94-2.06 2.06-.94-2.06-.94-.94-2.06-.94 2.06-2.06.94zm-11 1L8.5 8.5l.94-2.06 2.06-.94-2.06-.94L8.5 2.5l-.94 2.06-2.06.94zm10 10l.94 2.06.94-2.06 2.06-.94-2.06-.94-.94-2.06-.94 2.06-2.06.94z\"/><path d=\"M17.41 7.96l-1.37-1.37c-.4-.4-.92-.59-1.43-.59-.52 0-1.04.2-1.43.59L10.3 9.45l-7.72 7.72c-.78.78-.78 2.05 0 2.83L4 21.41c.39.39.9.59 1.41.59.51 0 1.02-.2 1.41-.59l7.78-7.78 2.81-2.81c.8-.78.8-2.07 0-2.86zM5.41 20L4 18.59l7.72-7.72 1.47 1.35L5.41 20z\"/>\n",
              "  </svg>\n",
              "      </button>\n",
              "      \n",
              "  <style>\n",
              "    .colab-df-container {\n",
              "      display:flex;\n",
              "      flex-wrap:wrap;\n",
              "      gap: 12px;\n",
              "    }\n",
              "\n",
              "    .colab-df-convert {\n",
              "      background-color: #E8F0FE;\n",
              "      border: none;\n",
              "      border-radius: 50%;\n",
              "      cursor: pointer;\n",
              "      display: none;\n",
              "      fill: #1967D2;\n",
              "      height: 32px;\n",
              "      padding: 0 0 0 0;\n",
              "      width: 32px;\n",
              "    }\n",
              "\n",
              "    .colab-df-convert:hover {\n",
              "      background-color: #E2EBFA;\n",
              "      box-shadow: 0px 1px 2px rgba(60, 64, 67, 0.3), 0px 1px 3px 1px rgba(60, 64, 67, 0.15);\n",
              "      fill: #174EA6;\n",
              "    }\n",
              "\n",
              "    [theme=dark] .colab-df-convert {\n",
              "      background-color: #3B4455;\n",
              "      fill: #D2E3FC;\n",
              "    }\n",
              "\n",
              "    [theme=dark] .colab-df-convert:hover {\n",
              "      background-color: #434B5C;\n",
              "      box-shadow: 0px 1px 3px 1px rgba(0, 0, 0, 0.15);\n",
              "      filter: drop-shadow(0px 1px 2px rgba(0, 0, 0, 0.3));\n",
              "      fill: #FFFFFF;\n",
              "    }\n",
              "  </style>\n",
              "\n",
              "      <script>\n",
              "        const buttonEl =\n",
              "          document.querySelector('#df-120070e9-f9e8-4891-a1ce-951dd1f8d694 button.colab-df-convert');\n",
              "        buttonEl.style.display =\n",
              "          google.colab.kernel.accessAllowed ? 'block' : 'none';\n",
              "\n",
              "        async function convertToInteractive(key) {\n",
              "          const element = document.querySelector('#df-120070e9-f9e8-4891-a1ce-951dd1f8d694');\n",
              "          const dataTable =\n",
              "            await google.colab.kernel.invokeFunction('convertToInteractive',\n",
              "                                                     [key], {});\n",
              "          if (!dataTable) return;\n",
              "\n",
              "          const docLinkHtml = 'Like what you see? Visit the ' +\n",
              "            '<a target=\"_blank\" href=https://colab.research.google.com/notebooks/data_table.ipynb>data table notebook</a>'\n",
              "            + ' to learn more about interactive tables.';\n",
              "          element.innerHTML = '';\n",
              "          dataTable['output_type'] = 'display_data';\n",
              "          await google.colab.output.renderOutput(dataTable, element);\n",
              "          const docLink = document.createElement('div');\n",
              "          docLink.innerHTML = docLinkHtml;\n",
              "          element.appendChild(docLink);\n",
              "        }\n",
              "      </script>\n",
              "    </div>\n",
              "  </div>\n",
              "  "
            ]
          },
          "metadata": {},
          "execution_count": 56
        }
      ],
      "source": [
        "ratings = '''\n",
        "SELECT *\n",
        "FROM ratings\n",
        "\n",
        "LIMIT 5\n",
        "'''\n",
        "\n",
        "query(ratings)"
      ]
    },
    {
      "cell_type": "code",
      "execution_count": null,
      "metadata": {
        "id": "L8FxjymDPVVK",
        "colab": {
          "base_uri": "https://localhost:8080/"
        },
        "outputId": "cc3da72a-6c03-4d19-e5ee-6027b306fed0"
      },
      "outputs": [
        {
          "output_type": "stream",
          "name": "stdout",
          "text": [
            "В датасете ratings - 5 строк и 4 полей.\n"
          ]
        }
      ],
      "source": [
        "print('В датасете ratings -',query(ratings).shape[0],'строк и',\n",
        "      query(ratings).shape[1],'полей.')"
      ]
    },
    {
      "cell_type": "code",
      "execution_count": null,
      "metadata": {
        "id": "872ejjQxPVVL",
        "colab": {
          "base_uri": "https://localhost:8080/"
        },
        "outputId": "17e3c492-4b28-49e3-caf1-837e432b1d57"
      },
      "outputs": [
        {
          "output_type": "stream",
          "name": "stdout",
          "text": [
            "<class 'pandas.core.frame.DataFrame'>\n",
            "RangeIndex: 5 entries, 0 to 4\n",
            "Data columns (total 4 columns):\n",
            " #   Column     Non-Null Count  Dtype \n",
            "---  ------     --------------  ----- \n",
            " 0   rating_id  5 non-null      int64 \n",
            " 1   book_id    5 non-null      int64 \n",
            " 2   username   5 non-null      object\n",
            " 3   rating     5 non-null      int64 \n",
            "dtypes: int64(3), object(1)\n",
            "memory usage: 288.0+ bytes\n"
          ]
        }
      ],
      "source": [
        "query(ratings).info()"
      ]
    },
    {
      "cell_type": "code",
      "execution_count": null,
      "metadata": {
        "id": "HQH281ovPVVL",
        "colab": {
          "base_uri": "https://localhost:8080/"
        },
        "outputId": "1e6af897-0268-44b9-9311-b743354948da"
      },
      "outputs": [
        {
          "output_type": "execute_result",
          "data": {
            "text/plain": [
              "rating_id    0\n",
              "book_id      0\n",
              "username     0\n",
              "rating       0\n",
              "dtype: int64"
            ]
          },
          "metadata": {},
          "execution_count": 59
        }
      ],
      "source": [
        "query(ratings).isna().sum()"
      ]
    },
    {
      "cell_type": "code",
      "execution_count": null,
      "metadata": {
        "id": "FUn6LX7vPVVL",
        "colab": {
          "base_uri": "https://localhost:8080/"
        },
        "outputId": "4710b6a1-e47d-4731-8bef-563fb261dcd0"
      },
      "outputs": [
        {
          "output_type": "execute_result",
          "data": {
            "text/plain": [
              "0"
            ]
          },
          "metadata": {},
          "execution_count": 60
        }
      ],
      "source": [
        "query(ratings).duplicated().sum()"
      ]
    },
    {
      "cell_type": "markdown",
      "metadata": {
        "id": "fcsffCiwPVVL"
      },
      "source": [
        "**Вывод:** В таблице ratings 6456 строк и 4 столбца, отсутствуют пропуски и дубликаты;"
      ]
    },
    {
      "cell_type": "markdown",
      "metadata": {
        "id": "fCiBPjM6PVVM"
      },
      "source": [
        "___\n",
        "### 5) reviews:"
      ]
    },
    {
      "cell_type": "code",
      "execution_count": null,
      "metadata": {
        "id": "gcy9G4yfPVVM",
        "colab": {
          "base_uri": "https://localhost:8080/",
          "height": 206
        },
        "outputId": "242e4e12-72c7-4de6-923f-16b9e4e19295"
      },
      "outputs": [
        {
          "output_type": "execute_result",
          "data": {
            "text/plain": [
              "   review_id  book_id       username  \\\n",
              "0          1        1   brandtandrea   \n",
              "1          2        1     ryanfranco   \n",
              "2          3        2       lorichen   \n",
              "3          4        3  johnsonamanda   \n",
              "4          5        3    scotttamara   \n",
              "\n",
              "                                                text  \n",
              "0  Mention society tell send professor analysis. ...  \n",
              "1  Foot glass pretty audience hit themselves. Amo...  \n",
              "2  Listen treat keep worry. Miss husband tax but ...  \n",
              "3  Finally month interesting blue could nature cu...  \n",
              "4  Nation purpose heavy give wait song will. List...  "
            ],
            "text/html": [
              "\n",
              "  <div id=\"df-dbdfbcbe-429d-45d9-be29-e082f6bc4676\">\n",
              "    <div class=\"colab-df-container\">\n",
              "      <div>\n",
              "<style scoped>\n",
              "    .dataframe tbody tr th:only-of-type {\n",
              "        vertical-align: middle;\n",
              "    }\n",
              "\n",
              "    .dataframe tbody tr th {\n",
              "        vertical-align: top;\n",
              "    }\n",
              "\n",
              "    .dataframe thead th {\n",
              "        text-align: right;\n",
              "    }\n",
              "</style>\n",
              "<table border=\"1\" class=\"dataframe\">\n",
              "  <thead>\n",
              "    <tr style=\"text-align: right;\">\n",
              "      <th></th>\n",
              "      <th>review_id</th>\n",
              "      <th>book_id</th>\n",
              "      <th>username</th>\n",
              "      <th>text</th>\n",
              "    </tr>\n",
              "  </thead>\n",
              "  <tbody>\n",
              "    <tr>\n",
              "      <th>0</th>\n",
              "      <td>1</td>\n",
              "      <td>1</td>\n",
              "      <td>brandtandrea</td>\n",
              "      <td>Mention society tell send professor analysis. ...</td>\n",
              "    </tr>\n",
              "    <tr>\n",
              "      <th>1</th>\n",
              "      <td>2</td>\n",
              "      <td>1</td>\n",
              "      <td>ryanfranco</td>\n",
              "      <td>Foot glass pretty audience hit themselves. Amo...</td>\n",
              "    </tr>\n",
              "    <tr>\n",
              "      <th>2</th>\n",
              "      <td>3</td>\n",
              "      <td>2</td>\n",
              "      <td>lorichen</td>\n",
              "      <td>Listen treat keep worry. Miss husband tax but ...</td>\n",
              "    </tr>\n",
              "    <tr>\n",
              "      <th>3</th>\n",
              "      <td>4</td>\n",
              "      <td>3</td>\n",
              "      <td>johnsonamanda</td>\n",
              "      <td>Finally month interesting blue could nature cu...</td>\n",
              "    </tr>\n",
              "    <tr>\n",
              "      <th>4</th>\n",
              "      <td>5</td>\n",
              "      <td>3</td>\n",
              "      <td>scotttamara</td>\n",
              "      <td>Nation purpose heavy give wait song will. List...</td>\n",
              "    </tr>\n",
              "  </tbody>\n",
              "</table>\n",
              "</div>\n",
              "      <button class=\"colab-df-convert\" onclick=\"convertToInteractive('df-dbdfbcbe-429d-45d9-be29-e082f6bc4676')\"\n",
              "              title=\"Convert this dataframe to an interactive table.\"\n",
              "              style=\"display:none;\">\n",
              "        \n",
              "  <svg xmlns=\"http://www.w3.org/2000/svg\" height=\"24px\"viewBox=\"0 0 24 24\"\n",
              "       width=\"24px\">\n",
              "    <path d=\"M0 0h24v24H0V0z\" fill=\"none\"/>\n",
              "    <path d=\"M18.56 5.44l.94 2.06.94-2.06 2.06-.94-2.06-.94-.94-2.06-.94 2.06-2.06.94zm-11 1L8.5 8.5l.94-2.06 2.06-.94-2.06-.94L8.5 2.5l-.94 2.06-2.06.94zm10 10l.94 2.06.94-2.06 2.06-.94-2.06-.94-.94-2.06-.94 2.06-2.06.94z\"/><path d=\"M17.41 7.96l-1.37-1.37c-.4-.4-.92-.59-1.43-.59-.52 0-1.04.2-1.43.59L10.3 9.45l-7.72 7.72c-.78.78-.78 2.05 0 2.83L4 21.41c.39.39.9.59 1.41.59.51 0 1.02-.2 1.41-.59l7.78-7.78 2.81-2.81c.8-.78.8-2.07 0-2.86zM5.41 20L4 18.59l7.72-7.72 1.47 1.35L5.41 20z\"/>\n",
              "  </svg>\n",
              "      </button>\n",
              "      \n",
              "  <style>\n",
              "    .colab-df-container {\n",
              "      display:flex;\n",
              "      flex-wrap:wrap;\n",
              "      gap: 12px;\n",
              "    }\n",
              "\n",
              "    .colab-df-convert {\n",
              "      background-color: #E8F0FE;\n",
              "      border: none;\n",
              "      border-radius: 50%;\n",
              "      cursor: pointer;\n",
              "      display: none;\n",
              "      fill: #1967D2;\n",
              "      height: 32px;\n",
              "      padding: 0 0 0 0;\n",
              "      width: 32px;\n",
              "    }\n",
              "\n",
              "    .colab-df-convert:hover {\n",
              "      background-color: #E2EBFA;\n",
              "      box-shadow: 0px 1px 2px rgba(60, 64, 67, 0.3), 0px 1px 3px 1px rgba(60, 64, 67, 0.15);\n",
              "      fill: #174EA6;\n",
              "    }\n",
              "\n",
              "    [theme=dark] .colab-df-convert {\n",
              "      background-color: #3B4455;\n",
              "      fill: #D2E3FC;\n",
              "    }\n",
              "\n",
              "    [theme=dark] .colab-df-convert:hover {\n",
              "      background-color: #434B5C;\n",
              "      box-shadow: 0px 1px 3px 1px rgba(0, 0, 0, 0.15);\n",
              "      filter: drop-shadow(0px 1px 2px rgba(0, 0, 0, 0.3));\n",
              "      fill: #FFFFFF;\n",
              "    }\n",
              "  </style>\n",
              "\n",
              "      <script>\n",
              "        const buttonEl =\n",
              "          document.querySelector('#df-dbdfbcbe-429d-45d9-be29-e082f6bc4676 button.colab-df-convert');\n",
              "        buttonEl.style.display =\n",
              "          google.colab.kernel.accessAllowed ? 'block' : 'none';\n",
              "\n",
              "        async function convertToInteractive(key) {\n",
              "          const element = document.querySelector('#df-dbdfbcbe-429d-45d9-be29-e082f6bc4676');\n",
              "          const dataTable =\n",
              "            await google.colab.kernel.invokeFunction('convertToInteractive',\n",
              "                                                     [key], {});\n",
              "          if (!dataTable) return;\n",
              "\n",
              "          const docLinkHtml = 'Like what you see? Visit the ' +\n",
              "            '<a target=\"_blank\" href=https://colab.research.google.com/notebooks/data_table.ipynb>data table notebook</a>'\n",
              "            + ' to learn more about interactive tables.';\n",
              "          element.innerHTML = '';\n",
              "          dataTable['output_type'] = 'display_data';\n",
              "          await google.colab.output.renderOutput(dataTable, element);\n",
              "          const docLink = document.createElement('div');\n",
              "          docLink.innerHTML = docLinkHtml;\n",
              "          element.appendChild(docLink);\n",
              "        }\n",
              "      </script>\n",
              "    </div>\n",
              "  </div>\n",
              "  "
            ]
          },
          "metadata": {},
          "execution_count": 61
        }
      ],
      "source": [
        "reviews = '''\n",
        "SELECT *\n",
        "FROM reviews\n",
        "\n",
        "LIMIT 5\n",
        "'''\n",
        "\n",
        "query(reviews)"
      ]
    },
    {
      "cell_type": "code",
      "execution_count": null,
      "metadata": {
        "id": "AEwBihztPVVM",
        "colab": {
          "base_uri": "https://localhost:8080/"
        },
        "outputId": "088c28bf-26a4-4470-a295-da2782d2a104"
      },
      "outputs": [
        {
          "output_type": "stream",
          "name": "stdout",
          "text": [
            "<class 'pandas.core.frame.DataFrame'>\n",
            "RangeIndex: 5 entries, 0 to 4\n",
            "Data columns (total 4 columns):\n",
            " #   Column     Non-Null Count  Dtype \n",
            "---  ------     --------------  ----- \n",
            " 0   review_id  5 non-null      int64 \n",
            " 1   book_id    5 non-null      int64 \n",
            " 2   username   5 non-null      object\n",
            " 3   text       5 non-null      object\n",
            "dtypes: int64(2), object(2)\n",
            "memory usage: 288.0+ bytes\n"
          ]
        }
      ],
      "source": [
        "query(reviews).info()"
      ]
    },
    {
      "cell_type": "code",
      "execution_count": null,
      "metadata": {
        "id": "OkLabz3sPVVM",
        "colab": {
          "base_uri": "https://localhost:8080/"
        },
        "outputId": "ff364079-1bac-4a26-9cc8-0747db14b71b"
      },
      "outputs": [
        {
          "output_type": "execute_result",
          "data": {
            "text/plain": [
              "review_id    0\n",
              "book_id      0\n",
              "username     0\n",
              "text         0\n",
              "dtype: int64"
            ]
          },
          "metadata": {},
          "execution_count": 63
        }
      ],
      "source": [
        "query(reviews).isna().sum()"
      ]
    },
    {
      "cell_type": "code",
      "execution_count": null,
      "metadata": {
        "id": "toZ2pNr3PVVN",
        "colab": {
          "base_uri": "https://localhost:8080/"
        },
        "outputId": "b73df58d-0dd5-4d02-9204-9085454a652c"
      },
      "outputs": [
        {
          "output_type": "execute_result",
          "data": {
            "text/plain": [
              "0"
            ]
          },
          "metadata": {},
          "execution_count": 64
        }
      ],
      "source": [
        "query(reviews).duplicated().sum()"
      ]
    },
    {
      "cell_type": "markdown",
      "metadata": {
        "id": "JBkbyXtBPVVN"
      },
      "source": [
        "**Вывод:** В таблице reviews 2793 строк и 4 столбца, отсутствуют пропуски и дубликаты."
      ]
    },
    {
      "cell_type": "markdown",
      "metadata": {
        "id": "D6CfWs-bPVVN"
      },
      "source": [
        "Доступ к базе получили, на таблицы посмотрели, переходим к основной работе\n"
      ]
    },
    {
      "cell_type": "markdown",
      "metadata": {
        "id": "ZNid6tUrPVVN"
      },
      "source": [
        "___\n",
        "___\n",
        "## Задание 1:"
      ]
    },
    {
      "cell_type": "markdown",
      "metadata": {
        "id": "xp0vqEXjPVVN"
      },
      "source": [
        "**Посчитаем сколько книг, выпущено после 1 января 2000 года:**"
      ]
    },
    {
      "cell_type": "code",
      "execution_count": null,
      "metadata": {
        "id": "CjZiYVnbPVVO",
        "colab": {
          "base_uri": "https://localhost:8080/",
          "height": 81
        },
        "outputId": "f1979df8-9742-4ddf-cbf0-ae6644de721e"
      },
      "outputs": [
        {
          "output_type": "execute_result",
          "data": {
            "text/plain": [
              "   count\n",
              "0    819"
            ],
            "text/html": [
              "\n",
              "  <div id=\"df-1c41692a-212d-4b8c-8046-e28ac1614c23\">\n",
              "    <div class=\"colab-df-container\">\n",
              "      <div>\n",
              "<style scoped>\n",
              "    .dataframe tbody tr th:only-of-type {\n",
              "        vertical-align: middle;\n",
              "    }\n",
              "\n",
              "    .dataframe tbody tr th {\n",
              "        vertical-align: top;\n",
              "    }\n",
              "\n",
              "    .dataframe thead th {\n",
              "        text-align: right;\n",
              "    }\n",
              "</style>\n",
              "<table border=\"1\" class=\"dataframe\">\n",
              "  <thead>\n",
              "    <tr style=\"text-align: right;\">\n",
              "      <th></th>\n",
              "      <th>count</th>\n",
              "    </tr>\n",
              "  </thead>\n",
              "  <tbody>\n",
              "    <tr>\n",
              "      <th>0</th>\n",
              "      <td>819</td>\n",
              "    </tr>\n",
              "  </tbody>\n",
              "</table>\n",
              "</div>\n",
              "      <button class=\"colab-df-convert\" onclick=\"convertToInteractive('df-1c41692a-212d-4b8c-8046-e28ac1614c23')\"\n",
              "              title=\"Convert this dataframe to an interactive table.\"\n",
              "              style=\"display:none;\">\n",
              "        \n",
              "  <svg xmlns=\"http://www.w3.org/2000/svg\" height=\"24px\"viewBox=\"0 0 24 24\"\n",
              "       width=\"24px\">\n",
              "    <path d=\"M0 0h24v24H0V0z\" fill=\"none\"/>\n",
              "    <path d=\"M18.56 5.44l.94 2.06.94-2.06 2.06-.94-2.06-.94-.94-2.06-.94 2.06-2.06.94zm-11 1L8.5 8.5l.94-2.06 2.06-.94-2.06-.94L8.5 2.5l-.94 2.06-2.06.94zm10 10l.94 2.06.94-2.06 2.06-.94-2.06-.94-.94-2.06-.94 2.06-2.06.94z\"/><path d=\"M17.41 7.96l-1.37-1.37c-.4-.4-.92-.59-1.43-.59-.52 0-1.04.2-1.43.59L10.3 9.45l-7.72 7.72c-.78.78-.78 2.05 0 2.83L4 21.41c.39.39.9.59 1.41.59.51 0 1.02-.2 1.41-.59l7.78-7.78 2.81-2.81c.8-.78.8-2.07 0-2.86zM5.41 20L4 18.59l7.72-7.72 1.47 1.35L5.41 20z\"/>\n",
              "  </svg>\n",
              "      </button>\n",
              "      \n",
              "  <style>\n",
              "    .colab-df-container {\n",
              "      display:flex;\n",
              "      flex-wrap:wrap;\n",
              "      gap: 12px;\n",
              "    }\n",
              "\n",
              "    .colab-df-convert {\n",
              "      background-color: #E8F0FE;\n",
              "      border: none;\n",
              "      border-radius: 50%;\n",
              "      cursor: pointer;\n",
              "      display: none;\n",
              "      fill: #1967D2;\n",
              "      height: 32px;\n",
              "      padding: 0 0 0 0;\n",
              "      width: 32px;\n",
              "    }\n",
              "\n",
              "    .colab-df-convert:hover {\n",
              "      background-color: #E2EBFA;\n",
              "      box-shadow: 0px 1px 2px rgba(60, 64, 67, 0.3), 0px 1px 3px 1px rgba(60, 64, 67, 0.15);\n",
              "      fill: #174EA6;\n",
              "    }\n",
              "\n",
              "    [theme=dark] .colab-df-convert {\n",
              "      background-color: #3B4455;\n",
              "      fill: #D2E3FC;\n",
              "    }\n",
              "\n",
              "    [theme=dark] .colab-df-convert:hover {\n",
              "      background-color: #434B5C;\n",
              "      box-shadow: 0px 1px 3px 1px rgba(0, 0, 0, 0.15);\n",
              "      filter: drop-shadow(0px 1px 2px rgba(0, 0, 0, 0.3));\n",
              "      fill: #FFFFFF;\n",
              "    }\n",
              "  </style>\n",
              "\n",
              "      <script>\n",
              "        const buttonEl =\n",
              "          document.querySelector('#df-1c41692a-212d-4b8c-8046-e28ac1614c23 button.colab-df-convert');\n",
              "        buttonEl.style.display =\n",
              "          google.colab.kernel.accessAllowed ? 'block' : 'none';\n",
              "\n",
              "        async function convertToInteractive(key) {\n",
              "          const element = document.querySelector('#df-1c41692a-212d-4b8c-8046-e28ac1614c23');\n",
              "          const dataTable =\n",
              "            await google.colab.kernel.invokeFunction('convertToInteractive',\n",
              "                                                     [key], {});\n",
              "          if (!dataTable) return;\n",
              "\n",
              "          const docLinkHtml = 'Like what you see? Visit the ' +\n",
              "            '<a target=\"_blank\" href=https://colab.research.google.com/notebooks/data_table.ipynb>data table notebook</a>'\n",
              "            + ' to learn more about interactive tables.';\n",
              "          element.innerHTML = '';\n",
              "          dataTable['output_type'] = 'display_data';\n",
              "          await google.colab.output.renderOutput(dataTable, element);\n",
              "          const docLink = document.createElement('div');\n",
              "          docLink.innerHTML = docLinkHtml;\n",
              "          element.appendChild(docLink);\n",
              "        }\n",
              "      </script>\n",
              "    </div>\n",
              "  </div>\n",
              "  "
            ]
          },
          "metadata": {},
          "execution_count": 65
        }
      ],
      "source": [
        "books_count_after_2000 = '''\n",
        "SELECT COUNT(book_id)\n",
        "FROM books\n",
        "WHERE publication_date > '2000-01-01'\n",
        "'''\n",
        "query(books_count_after_2000)"
      ]
    },
    {
      "cell_type": "markdown",
      "metadata": {
        "id": "NvTHxH4sPVVO"
      },
      "source": [
        "**Вывод:** 819 книг было выпущено после 1 января 2000 года;"
      ]
    },
    {
      "cell_type": "markdown",
      "metadata": {
        "id": "89S9IE6RPVVO"
      },
      "source": [
        "___\n",
        "___\n",
        "## Задание 2:"
      ]
    },
    {
      "cell_type": "markdown",
      "metadata": {
        "id": "6iKZKK3XPVVO"
      },
      "source": [
        "**Посчитаем для каждой книги количество обзоров и среднюю оценку**"
      ]
    },
    {
      "cell_type": "code",
      "execution_count": null,
      "metadata": {
        "id": "fnpYxsubPVVP",
        "colab": {
          "base_uri": "https://localhost:8080/",
          "height": 424
        },
        "outputId": "e9b639ea-8b38-4060-f3d1-d415d16db96f"
      },
      "outputs": [
        {
          "output_type": "execute_result",
          "data": {
            "text/plain": [
              "                                                 title  book_id  \\\n",
              "0                              Twilight (Twilight  #1)      948   \n",
              "1                                  Water for Elephants      963   \n",
              "2                                     The Glass Castle      734   \n",
              "3    Harry Potter and the Prisoner of Azkaban (Harr...      302   \n",
              "4    The Curious Incident of the Dog in the Night-Time      695   \n",
              "..                                                 ...      ...   \n",
              "995    Anne Rice's The Vampire Lestat: A Graphic Novel       83   \n",
              "996                            The Natural Way to Draw      808   \n",
              "997   The Cat in the Hat and Other Dr. Seuss Favorites      672   \n",
              "998                          Essential Tales and Poems      221   \n",
              "999  Disney's Beauty and the Beast (A Little Golden...      191   \n",
              "\n",
              "     count_reviews  avg_rating  \n",
              "0                7    3.662500  \n",
              "1                6    3.977273  \n",
              "2                6    4.206897  \n",
              "3                6    4.414634  \n",
              "4                6    4.081081  \n",
              "..             ...         ...  \n",
              "995              0    3.666667  \n",
              "996              0    3.000000  \n",
              "997              0    5.000000  \n",
              "998              0    4.000000  \n",
              "999              0    4.000000  \n",
              "\n",
              "[1000 rows x 4 columns]"
            ],
            "text/html": [
              "\n",
              "  <div id=\"df-f97b273b-b92c-4976-8427-871c8331bb31\">\n",
              "    <div class=\"colab-df-container\">\n",
              "      <div>\n",
              "<style scoped>\n",
              "    .dataframe tbody tr th:only-of-type {\n",
              "        vertical-align: middle;\n",
              "    }\n",
              "\n",
              "    .dataframe tbody tr th {\n",
              "        vertical-align: top;\n",
              "    }\n",
              "\n",
              "    .dataframe thead th {\n",
              "        text-align: right;\n",
              "    }\n",
              "</style>\n",
              "<table border=\"1\" class=\"dataframe\">\n",
              "  <thead>\n",
              "    <tr style=\"text-align: right;\">\n",
              "      <th></th>\n",
              "      <th>title</th>\n",
              "      <th>book_id</th>\n",
              "      <th>count_reviews</th>\n",
              "      <th>avg_rating</th>\n",
              "    </tr>\n",
              "  </thead>\n",
              "  <tbody>\n",
              "    <tr>\n",
              "      <th>0</th>\n",
              "      <td>Twilight (Twilight  #1)</td>\n",
              "      <td>948</td>\n",
              "      <td>7</td>\n",
              "      <td>3.662500</td>\n",
              "    </tr>\n",
              "    <tr>\n",
              "      <th>1</th>\n",
              "      <td>Water for Elephants</td>\n",
              "      <td>963</td>\n",
              "      <td>6</td>\n",
              "      <td>3.977273</td>\n",
              "    </tr>\n",
              "    <tr>\n",
              "      <th>2</th>\n",
              "      <td>The Glass Castle</td>\n",
              "      <td>734</td>\n",
              "      <td>6</td>\n",
              "      <td>4.206897</td>\n",
              "    </tr>\n",
              "    <tr>\n",
              "      <th>3</th>\n",
              "      <td>Harry Potter and the Prisoner of Azkaban (Harr...</td>\n",
              "      <td>302</td>\n",
              "      <td>6</td>\n",
              "      <td>4.414634</td>\n",
              "    </tr>\n",
              "    <tr>\n",
              "      <th>4</th>\n",
              "      <td>The Curious Incident of the Dog in the Night-Time</td>\n",
              "      <td>695</td>\n",
              "      <td>6</td>\n",
              "      <td>4.081081</td>\n",
              "    </tr>\n",
              "    <tr>\n",
              "      <th>...</th>\n",
              "      <td>...</td>\n",
              "      <td>...</td>\n",
              "      <td>...</td>\n",
              "      <td>...</td>\n",
              "    </tr>\n",
              "    <tr>\n",
              "      <th>995</th>\n",
              "      <td>Anne Rice's The Vampire Lestat: A Graphic Novel</td>\n",
              "      <td>83</td>\n",
              "      <td>0</td>\n",
              "      <td>3.666667</td>\n",
              "    </tr>\n",
              "    <tr>\n",
              "      <th>996</th>\n",
              "      <td>The Natural Way to Draw</td>\n",
              "      <td>808</td>\n",
              "      <td>0</td>\n",
              "      <td>3.000000</td>\n",
              "    </tr>\n",
              "    <tr>\n",
              "      <th>997</th>\n",
              "      <td>The Cat in the Hat and Other Dr. Seuss Favorites</td>\n",
              "      <td>672</td>\n",
              "      <td>0</td>\n",
              "      <td>5.000000</td>\n",
              "    </tr>\n",
              "    <tr>\n",
              "      <th>998</th>\n",
              "      <td>Essential Tales and Poems</td>\n",
              "      <td>221</td>\n",
              "      <td>0</td>\n",
              "      <td>4.000000</td>\n",
              "    </tr>\n",
              "    <tr>\n",
              "      <th>999</th>\n",
              "      <td>Disney's Beauty and the Beast (A Little Golden...</td>\n",
              "      <td>191</td>\n",
              "      <td>0</td>\n",
              "      <td>4.000000</td>\n",
              "    </tr>\n",
              "  </tbody>\n",
              "</table>\n",
              "<p>1000 rows × 4 columns</p>\n",
              "</div>\n",
              "      <button class=\"colab-df-convert\" onclick=\"convertToInteractive('df-f97b273b-b92c-4976-8427-871c8331bb31')\"\n",
              "              title=\"Convert this dataframe to an interactive table.\"\n",
              "              style=\"display:none;\">\n",
              "        \n",
              "  <svg xmlns=\"http://www.w3.org/2000/svg\" height=\"24px\"viewBox=\"0 0 24 24\"\n",
              "       width=\"24px\">\n",
              "    <path d=\"M0 0h24v24H0V0z\" fill=\"none\"/>\n",
              "    <path d=\"M18.56 5.44l.94 2.06.94-2.06 2.06-.94-2.06-.94-.94-2.06-.94 2.06-2.06.94zm-11 1L8.5 8.5l.94-2.06 2.06-.94-2.06-.94L8.5 2.5l-.94 2.06-2.06.94zm10 10l.94 2.06.94-2.06 2.06-.94-2.06-.94-.94-2.06-.94 2.06-2.06.94z\"/><path d=\"M17.41 7.96l-1.37-1.37c-.4-.4-.92-.59-1.43-.59-.52 0-1.04.2-1.43.59L10.3 9.45l-7.72 7.72c-.78.78-.78 2.05 0 2.83L4 21.41c.39.39.9.59 1.41.59.51 0 1.02-.2 1.41-.59l7.78-7.78 2.81-2.81c.8-.78.8-2.07 0-2.86zM5.41 20L4 18.59l7.72-7.72 1.47 1.35L5.41 20z\"/>\n",
              "  </svg>\n",
              "      </button>\n",
              "      \n",
              "  <style>\n",
              "    .colab-df-container {\n",
              "      display:flex;\n",
              "      flex-wrap:wrap;\n",
              "      gap: 12px;\n",
              "    }\n",
              "\n",
              "    .colab-df-convert {\n",
              "      background-color: #E8F0FE;\n",
              "      border: none;\n",
              "      border-radius: 50%;\n",
              "      cursor: pointer;\n",
              "      display: none;\n",
              "      fill: #1967D2;\n",
              "      height: 32px;\n",
              "      padding: 0 0 0 0;\n",
              "      width: 32px;\n",
              "    }\n",
              "\n",
              "    .colab-df-convert:hover {\n",
              "      background-color: #E2EBFA;\n",
              "      box-shadow: 0px 1px 2px rgba(60, 64, 67, 0.3), 0px 1px 3px 1px rgba(60, 64, 67, 0.15);\n",
              "      fill: #174EA6;\n",
              "    }\n",
              "\n",
              "    [theme=dark] .colab-df-convert {\n",
              "      background-color: #3B4455;\n",
              "      fill: #D2E3FC;\n",
              "    }\n",
              "\n",
              "    [theme=dark] .colab-df-convert:hover {\n",
              "      background-color: #434B5C;\n",
              "      box-shadow: 0px 1px 3px 1px rgba(0, 0, 0, 0.15);\n",
              "      filter: drop-shadow(0px 1px 2px rgba(0, 0, 0, 0.3));\n",
              "      fill: #FFFFFF;\n",
              "    }\n",
              "  </style>\n",
              "\n",
              "      <script>\n",
              "        const buttonEl =\n",
              "          document.querySelector('#df-f97b273b-b92c-4976-8427-871c8331bb31 button.colab-df-convert');\n",
              "        buttonEl.style.display =\n",
              "          google.colab.kernel.accessAllowed ? 'block' : 'none';\n",
              "\n",
              "        async function convertToInteractive(key) {\n",
              "          const element = document.querySelector('#df-f97b273b-b92c-4976-8427-871c8331bb31');\n",
              "          const dataTable =\n",
              "            await google.colab.kernel.invokeFunction('convertToInteractive',\n",
              "                                                     [key], {});\n",
              "          if (!dataTable) return;\n",
              "\n",
              "          const docLinkHtml = 'Like what you see? Visit the ' +\n",
              "            '<a target=\"_blank\" href=https://colab.research.google.com/notebooks/data_table.ipynb>data table notebook</a>'\n",
              "            + ' to learn more about interactive tables.';\n",
              "          element.innerHTML = '';\n",
              "          dataTable['output_type'] = 'display_data';\n",
              "          await google.colab.output.renderOutput(dataTable, element);\n",
              "          const docLink = document.createElement('div');\n",
              "          docLink.innerHTML = docLinkHtml;\n",
              "          element.appendChild(docLink);\n",
              "        }\n",
              "      </script>\n",
              "    </div>\n",
              "  </div>\n",
              "  "
            ]
          },
          "metadata": {},
          "execution_count": 66
        }
      ],
      "source": [
        "book_reviews_count__avg_rating = '''\n",
        "SELECT books.title,\n",
        "        books.book_id,\n",
        "        COUNT(DISTINCT reviews.text) AS count_reviews,\n",
        "        AVG(ratings.rating) AS avg_rating\n",
        "FROM books\n",
        "LEFT JOIN ratings ON ratings.book_id = books.book_id\n",
        "LEFT JOIN reviews ON reviews.book_id = books.book_id\n",
        "\n",
        "GROUP BY books.title, books.book_id\n",
        "ORDER BY count_reviews DESC\n",
        "\n",
        "'''\n",
        "\n",
        "query(book_reviews_count__avg_rating)"
      ]
    },
    {
      "cell_type": "markdown",
      "metadata": {
        "id": "IIcFub6iPVVP"
      },
      "source": [
        "**Вывод:**\n",
        "Максимальное количество обзоров у книги **Twilight #1 - 7**, затем следует группа книг с количеством обзоров - 6, средняя оценка книг примерно 3.8 - 4.2."
      ]
    },
    {
      "cell_type": "markdown",
      "metadata": {
        "id": "pch2nesIPVVQ"
      },
      "source": [
        "___\n",
        "\n",
        "\n",
        "\n",
        "___\n",
        "\n",
        "\n",
        "## Задание 3"
      ]
    },
    {
      "cell_type": "markdown",
      "metadata": {
        "id": "emsgpPafPVVQ"
      },
      "source": [
        "**Определим издательство, которое издало наибольшее число книг толще 50 страниц**"
      ]
    },
    {
      "cell_type": "code",
      "execution_count": null,
      "metadata": {
        "id": "7ySR5nsuPVVQ",
        "colab": {
          "base_uri": "https://localhost:8080/",
          "height": 363
        },
        "outputId": "5ce31d16-f9d3-4ea0-8486-317adda4640d"
      },
      "outputs": [
        {
          "output_type": "execute_result",
          "data": {
            "text/plain": [
              "                        name  count_books\n",
              "0              Penguin Books           42\n",
              "1                    Vintage           31\n",
              "2   Grand Central Publishing           25\n",
              "3           Penguin Classics           24\n",
              "4           Ballantine Books           19\n",
              "5                     Bantam           19\n",
              "6                    Berkley           17\n",
              "7         St. Martin's Press           14\n",
              "8              Berkley Books           14\n",
              "9  William Morrow Paperbacks           13"
            ],
            "text/html": [
              "\n",
              "  <div id=\"df-3a7b9c63-2b52-43f0-ae70-71e98e1ad205\">\n",
              "    <div class=\"colab-df-container\">\n",
              "      <div>\n",
              "<style scoped>\n",
              "    .dataframe tbody tr th:only-of-type {\n",
              "        vertical-align: middle;\n",
              "    }\n",
              "\n",
              "    .dataframe tbody tr th {\n",
              "        vertical-align: top;\n",
              "    }\n",
              "\n",
              "    .dataframe thead th {\n",
              "        text-align: right;\n",
              "    }\n",
              "</style>\n",
              "<table border=\"1\" class=\"dataframe\">\n",
              "  <thead>\n",
              "    <tr style=\"text-align: right;\">\n",
              "      <th></th>\n",
              "      <th>name</th>\n",
              "      <th>count_books</th>\n",
              "    </tr>\n",
              "  </thead>\n",
              "  <tbody>\n",
              "    <tr>\n",
              "      <th>0</th>\n",
              "      <td>Penguin Books</td>\n",
              "      <td>42</td>\n",
              "    </tr>\n",
              "    <tr>\n",
              "      <th>1</th>\n",
              "      <td>Vintage</td>\n",
              "      <td>31</td>\n",
              "    </tr>\n",
              "    <tr>\n",
              "      <th>2</th>\n",
              "      <td>Grand Central Publishing</td>\n",
              "      <td>25</td>\n",
              "    </tr>\n",
              "    <tr>\n",
              "      <th>3</th>\n",
              "      <td>Penguin Classics</td>\n",
              "      <td>24</td>\n",
              "    </tr>\n",
              "    <tr>\n",
              "      <th>4</th>\n",
              "      <td>Ballantine Books</td>\n",
              "      <td>19</td>\n",
              "    </tr>\n",
              "    <tr>\n",
              "      <th>5</th>\n",
              "      <td>Bantam</td>\n",
              "      <td>19</td>\n",
              "    </tr>\n",
              "    <tr>\n",
              "      <th>6</th>\n",
              "      <td>Berkley</td>\n",
              "      <td>17</td>\n",
              "    </tr>\n",
              "    <tr>\n",
              "      <th>7</th>\n",
              "      <td>St. Martin's Press</td>\n",
              "      <td>14</td>\n",
              "    </tr>\n",
              "    <tr>\n",
              "      <th>8</th>\n",
              "      <td>Berkley Books</td>\n",
              "      <td>14</td>\n",
              "    </tr>\n",
              "    <tr>\n",
              "      <th>9</th>\n",
              "      <td>William Morrow Paperbacks</td>\n",
              "      <td>13</td>\n",
              "    </tr>\n",
              "  </tbody>\n",
              "</table>\n",
              "</div>\n",
              "      <button class=\"colab-df-convert\" onclick=\"convertToInteractive('df-3a7b9c63-2b52-43f0-ae70-71e98e1ad205')\"\n",
              "              title=\"Convert this dataframe to an interactive table.\"\n",
              "              style=\"display:none;\">\n",
              "        \n",
              "  <svg xmlns=\"http://www.w3.org/2000/svg\" height=\"24px\"viewBox=\"0 0 24 24\"\n",
              "       width=\"24px\">\n",
              "    <path d=\"M0 0h24v24H0V0z\" fill=\"none\"/>\n",
              "    <path d=\"M18.56 5.44l.94 2.06.94-2.06 2.06-.94-2.06-.94-.94-2.06-.94 2.06-2.06.94zm-11 1L8.5 8.5l.94-2.06 2.06-.94-2.06-.94L8.5 2.5l-.94 2.06-2.06.94zm10 10l.94 2.06.94-2.06 2.06-.94-2.06-.94-.94-2.06-.94 2.06-2.06.94z\"/><path d=\"M17.41 7.96l-1.37-1.37c-.4-.4-.92-.59-1.43-.59-.52 0-1.04.2-1.43.59L10.3 9.45l-7.72 7.72c-.78.78-.78 2.05 0 2.83L4 21.41c.39.39.9.59 1.41.59.51 0 1.02-.2 1.41-.59l7.78-7.78 2.81-2.81c.8-.78.8-2.07 0-2.86zM5.41 20L4 18.59l7.72-7.72 1.47 1.35L5.41 20z\"/>\n",
              "  </svg>\n",
              "      </button>\n",
              "      \n",
              "  <style>\n",
              "    .colab-df-container {\n",
              "      display:flex;\n",
              "      flex-wrap:wrap;\n",
              "      gap: 12px;\n",
              "    }\n",
              "\n",
              "    .colab-df-convert {\n",
              "      background-color: #E8F0FE;\n",
              "      border: none;\n",
              "      border-radius: 50%;\n",
              "      cursor: pointer;\n",
              "      display: none;\n",
              "      fill: #1967D2;\n",
              "      height: 32px;\n",
              "      padding: 0 0 0 0;\n",
              "      width: 32px;\n",
              "    }\n",
              "\n",
              "    .colab-df-convert:hover {\n",
              "      background-color: #E2EBFA;\n",
              "      box-shadow: 0px 1px 2px rgba(60, 64, 67, 0.3), 0px 1px 3px 1px rgba(60, 64, 67, 0.15);\n",
              "      fill: #174EA6;\n",
              "    }\n",
              "\n",
              "    [theme=dark] .colab-df-convert {\n",
              "      background-color: #3B4455;\n",
              "      fill: #D2E3FC;\n",
              "    }\n",
              "\n",
              "    [theme=dark] .colab-df-convert:hover {\n",
              "      background-color: #434B5C;\n",
              "      box-shadow: 0px 1px 3px 1px rgba(0, 0, 0, 0.15);\n",
              "      filter: drop-shadow(0px 1px 2px rgba(0, 0, 0, 0.3));\n",
              "      fill: #FFFFFF;\n",
              "    }\n",
              "  </style>\n",
              "\n",
              "      <script>\n",
              "        const buttonEl =\n",
              "          document.querySelector('#df-3a7b9c63-2b52-43f0-ae70-71e98e1ad205 button.colab-df-convert');\n",
              "        buttonEl.style.display =\n",
              "          google.colab.kernel.accessAllowed ? 'block' : 'none';\n",
              "\n",
              "        async function convertToInteractive(key) {\n",
              "          const element = document.querySelector('#df-3a7b9c63-2b52-43f0-ae70-71e98e1ad205');\n",
              "          const dataTable =\n",
              "            await google.colab.kernel.invokeFunction('convertToInteractive',\n",
              "                                                     [key], {});\n",
              "          if (!dataTable) return;\n",
              "\n",
              "          const docLinkHtml = 'Like what you see? Visit the ' +\n",
              "            '<a target=\"_blank\" href=https://colab.research.google.com/notebooks/data_table.ipynb>data table notebook</a>'\n",
              "            + ' to learn more about interactive tables.';\n",
              "          element.innerHTML = '';\n",
              "          dataTable['output_type'] = 'display_data';\n",
              "          await google.colab.output.renderOutput(dataTable, element);\n",
              "          const docLink = document.createElement('div');\n",
              "          docLink.innerHTML = docLinkHtml;\n",
              "          element.appendChild(docLink);\n",
              "        }\n",
              "      </script>\n",
              "    </div>\n",
              "  </div>\n",
              "  "
            ]
          },
          "metadata": {},
          "execution_count": 67
        }
      ],
      "source": [
        "book_publisher_many_pages = '''\n",
        "SELECT publishers.publisher AS name,\n",
        "        COUNT(books.book_id) AS count_books\n",
        "\n",
        "FROM publishers\n",
        "INNER JOIN books ON books.publisher_id = publishers.publisher_id\n",
        "\n",
        "WHERE books.num_pages > 50\n",
        "\n",
        "GROUP BY name\n",
        "ORDER BY count_books DESC\n",
        "LIMIT 10\n",
        "'''\n",
        "\n",
        "query(book_publisher_many_pages)"
      ]
    },
    {
      "cell_type": "markdown",
      "metadata": {
        "id": "mKvRe_6VPVVR"
      },
      "source": [
        "**Вывод:** Penguin Books - выпустило наибольшее число книг в количество 42 книг, толще 50 страниц. На 2 и 3 местах издательства Vintage - 31 и Grand Central Publishing - 25."
      ]
    },
    {
      "cell_type": "markdown",
      "metadata": {
        "id": "R3UL9sxjPVVR"
      },
      "source": [
        "___\n",
        "___\n",
        "## Задание 4"
      ]
    },
    {
      "cell_type": "markdown",
      "metadata": {
        "id": "EItdAWEzPVVR"
      },
      "source": [
        "**Определим автора с самой высокой средней оценкой книг (учитываем только книги с 50 и более оценками).**"
      ]
    },
    {
      "cell_type": "code",
      "execution_count": null,
      "metadata": {
        "id": "tkmakwDkPVVR",
        "colab": {
          "base_uri": "https://localhost:8080/",
          "height": 488
        },
        "outputId": "8f26b456-bf31-45ca-b2e6-71ba99fd1e48"
      },
      "outputs": [
        {
          "output_type": "execute_result",
          "data": {
            "text/plain": [
              "                                               author  avg_rating\n",
              "0                          J.K. Rowling/Mary GrandPré    4.283844\n",
              "1                   Markus Zusak/Cao Xuân Việt Khương    4.264151\n",
              "2                                      J.R.R. Tolkien    4.258446\n",
              "3                                   Louisa May Alcott    4.192308\n",
              "4                                        Rick Riordan    4.080645\n",
              "5                                     William Golding    3.901408\n",
              "6                                       J.D. Salinger    3.825581\n",
              "7            Paulo Coelho/Alan R. Clarke/Özdemir İnce    3.789474\n",
              "8   William Shakespeare/Paul Werstine/Barbara A. M...    3.787879\n",
              "9                                           Dan Brown    3.754540\n",
              "10                                         Lois Lowry    3.750000\n",
              "11            George Orwell/Boris Grabnar/Peter Škerl    3.729730\n",
              "12                                    Stephenie Meyer    3.662500\n",
              "13                                     John Steinbeck    3.622951"
            ],
            "text/html": [
              "\n",
              "  <div id=\"df-18acbad6-03ff-4419-b5b7-99a226f8c66c\">\n",
              "    <div class=\"colab-df-container\">\n",
              "      <div>\n",
              "<style scoped>\n",
              "    .dataframe tbody tr th:only-of-type {\n",
              "        vertical-align: middle;\n",
              "    }\n",
              "\n",
              "    .dataframe tbody tr th {\n",
              "        vertical-align: top;\n",
              "    }\n",
              "\n",
              "    .dataframe thead th {\n",
              "        text-align: right;\n",
              "    }\n",
              "</style>\n",
              "<table border=\"1\" class=\"dataframe\">\n",
              "  <thead>\n",
              "    <tr style=\"text-align: right;\">\n",
              "      <th></th>\n",
              "      <th>author</th>\n",
              "      <th>avg_rating</th>\n",
              "    </tr>\n",
              "  </thead>\n",
              "  <tbody>\n",
              "    <tr>\n",
              "      <th>0</th>\n",
              "      <td>J.K. Rowling/Mary GrandPré</td>\n",
              "      <td>4.283844</td>\n",
              "    </tr>\n",
              "    <tr>\n",
              "      <th>1</th>\n",
              "      <td>Markus Zusak/Cao Xuân Việt Khương</td>\n",
              "      <td>4.264151</td>\n",
              "    </tr>\n",
              "    <tr>\n",
              "      <th>2</th>\n",
              "      <td>J.R.R. Tolkien</td>\n",
              "      <td>4.258446</td>\n",
              "    </tr>\n",
              "    <tr>\n",
              "      <th>3</th>\n",
              "      <td>Louisa May Alcott</td>\n",
              "      <td>4.192308</td>\n",
              "    </tr>\n",
              "    <tr>\n",
              "      <th>4</th>\n",
              "      <td>Rick Riordan</td>\n",
              "      <td>4.080645</td>\n",
              "    </tr>\n",
              "    <tr>\n",
              "      <th>5</th>\n",
              "      <td>William Golding</td>\n",
              "      <td>3.901408</td>\n",
              "    </tr>\n",
              "    <tr>\n",
              "      <th>6</th>\n",
              "      <td>J.D. Salinger</td>\n",
              "      <td>3.825581</td>\n",
              "    </tr>\n",
              "    <tr>\n",
              "      <th>7</th>\n",
              "      <td>Paulo Coelho/Alan R. Clarke/Özdemir İnce</td>\n",
              "      <td>3.789474</td>\n",
              "    </tr>\n",
              "    <tr>\n",
              "      <th>8</th>\n",
              "      <td>William Shakespeare/Paul Werstine/Barbara A. M...</td>\n",
              "      <td>3.787879</td>\n",
              "    </tr>\n",
              "    <tr>\n",
              "      <th>9</th>\n",
              "      <td>Dan Brown</td>\n",
              "      <td>3.754540</td>\n",
              "    </tr>\n",
              "    <tr>\n",
              "      <th>10</th>\n",
              "      <td>Lois Lowry</td>\n",
              "      <td>3.750000</td>\n",
              "    </tr>\n",
              "    <tr>\n",
              "      <th>11</th>\n",
              "      <td>George Orwell/Boris Grabnar/Peter Škerl</td>\n",
              "      <td>3.729730</td>\n",
              "    </tr>\n",
              "    <tr>\n",
              "      <th>12</th>\n",
              "      <td>Stephenie Meyer</td>\n",
              "      <td>3.662500</td>\n",
              "    </tr>\n",
              "    <tr>\n",
              "      <th>13</th>\n",
              "      <td>John Steinbeck</td>\n",
              "      <td>3.622951</td>\n",
              "    </tr>\n",
              "  </tbody>\n",
              "</table>\n",
              "</div>\n",
              "      <button class=\"colab-df-convert\" onclick=\"convertToInteractive('df-18acbad6-03ff-4419-b5b7-99a226f8c66c')\"\n",
              "              title=\"Convert this dataframe to an interactive table.\"\n",
              "              style=\"display:none;\">\n",
              "        \n",
              "  <svg xmlns=\"http://www.w3.org/2000/svg\" height=\"24px\"viewBox=\"0 0 24 24\"\n",
              "       width=\"24px\">\n",
              "    <path d=\"M0 0h24v24H0V0z\" fill=\"none\"/>\n",
              "    <path d=\"M18.56 5.44l.94 2.06.94-2.06 2.06-.94-2.06-.94-.94-2.06-.94 2.06-2.06.94zm-11 1L8.5 8.5l.94-2.06 2.06-.94-2.06-.94L8.5 2.5l-.94 2.06-2.06.94zm10 10l.94 2.06.94-2.06 2.06-.94-2.06-.94-.94-2.06-.94 2.06-2.06.94z\"/><path d=\"M17.41 7.96l-1.37-1.37c-.4-.4-.92-.59-1.43-.59-.52 0-1.04.2-1.43.59L10.3 9.45l-7.72 7.72c-.78.78-.78 2.05 0 2.83L4 21.41c.39.39.9.59 1.41.59.51 0 1.02-.2 1.41-.59l7.78-7.78 2.81-2.81c.8-.78.8-2.07 0-2.86zM5.41 20L4 18.59l7.72-7.72 1.47 1.35L5.41 20z\"/>\n",
              "  </svg>\n",
              "      </button>\n",
              "      \n",
              "  <style>\n",
              "    .colab-df-container {\n",
              "      display:flex;\n",
              "      flex-wrap:wrap;\n",
              "      gap: 12px;\n",
              "    }\n",
              "\n",
              "    .colab-df-convert {\n",
              "      background-color: #E8F0FE;\n",
              "      border: none;\n",
              "      border-radius: 50%;\n",
              "      cursor: pointer;\n",
              "      display: none;\n",
              "      fill: #1967D2;\n",
              "      height: 32px;\n",
              "      padding: 0 0 0 0;\n",
              "      width: 32px;\n",
              "    }\n",
              "\n",
              "    .colab-df-convert:hover {\n",
              "      background-color: #E2EBFA;\n",
              "      box-shadow: 0px 1px 2px rgba(60, 64, 67, 0.3), 0px 1px 3px 1px rgba(60, 64, 67, 0.15);\n",
              "      fill: #174EA6;\n",
              "    }\n",
              "\n",
              "    [theme=dark] .colab-df-convert {\n",
              "      background-color: #3B4455;\n",
              "      fill: #D2E3FC;\n",
              "    }\n",
              "\n",
              "    [theme=dark] .colab-df-convert:hover {\n",
              "      background-color: #434B5C;\n",
              "      box-shadow: 0px 1px 3px 1px rgba(0, 0, 0, 0.15);\n",
              "      filter: drop-shadow(0px 1px 2px rgba(0, 0, 0, 0.3));\n",
              "      fill: #FFFFFF;\n",
              "    }\n",
              "  </style>\n",
              "\n",
              "      <script>\n",
              "        const buttonEl =\n",
              "          document.querySelector('#df-18acbad6-03ff-4419-b5b7-99a226f8c66c button.colab-df-convert');\n",
              "        buttonEl.style.display =\n",
              "          google.colab.kernel.accessAllowed ? 'block' : 'none';\n",
              "\n",
              "        async function convertToInteractive(key) {\n",
              "          const element = document.querySelector('#df-18acbad6-03ff-4419-b5b7-99a226f8c66c');\n",
              "          const dataTable =\n",
              "            await google.colab.kernel.invokeFunction('convertToInteractive',\n",
              "                                                     [key], {});\n",
              "          if (!dataTable) return;\n",
              "\n",
              "          const docLinkHtml = 'Like what you see? Visit the ' +\n",
              "            '<a target=\"_blank\" href=https://colab.research.google.com/notebooks/data_table.ipynb>data table notebook</a>'\n",
              "            + ' to learn more about interactive tables.';\n",
              "          element.innerHTML = '';\n",
              "          dataTable['output_type'] = 'display_data';\n",
              "          await google.colab.output.renderOutput(dataTable, element);\n",
              "          const docLink = document.createElement('div');\n",
              "          docLink.innerHTML = docLinkHtml;\n",
              "          element.appendChild(docLink);\n",
              "        }\n",
              "      </script>\n",
              "    </div>\n",
              "  </div>\n",
              "  "
            ]
          },
          "metadata": {},
          "execution_count": 68
        }
      ],
      "source": [
        "high_avg_rating_author = '''\n",
        "\n",
        "SELECT  books_rating_count_author.author AS author,\n",
        "        AVG(books_rating_count_author.avg_rating) AS avg_rating\n",
        "\n",
        "FROM (  SELECT authors.author AS author,\n",
        "                books.book_id AS id,\n",
        "                AVG(ratings.rating) AS avg_rating,\n",
        "                COUNT(ratings.rating) AS count_rating\n",
        "        FROM authors\n",
        "        INNER JOIN books ON books.author_id = authors.author_id\n",
        "        INNER JOIN ratings ON ratings.book_id = books.book_id\n",
        "\n",
        "        GROUP BY author, id\n",
        "        HAVING COUNT(ratings.rating) >= 50\n",
        "      )\n",
        "            AS books_rating_count_author\n",
        "\n",
        "\n",
        "GROUP BY author\n",
        "ORDER BY avg_rating DESC\n",
        "'''\n",
        "\n",
        "query(high_avg_rating_author)"
      ]
    },
    {
      "cell_type": "markdown",
      "metadata": {
        "id": "NsqUlFFZPVVS"
      },
      "source": [
        "**Вывод:** Cамая высокая средняя оценка у автора **J.K. Rowling/Mary GrandPré - 4.284**, далее Markus Zusak/Cao Xuân Việt Khương - 4.264 и J.R.R. Tolkien - 4.258"
      ]
    },
    {
      "cell_type": "markdown",
      "metadata": {
        "id": "N2faHS7WPVVT"
      },
      "source": [
        "___\n",
        "___\n",
        "## Задание 5"
      ]
    },
    {
      "cell_type": "markdown",
      "metadata": {
        "id": "IsY6EdNFPVVT"
      },
      "source": [
        "**Посчитаем среднее количество обзоров от пользователей, которые поставили больше 50 оценок.**"
      ]
    },
    {
      "cell_type": "code",
      "execution_count": null,
      "metadata": {
        "id": "RmNc0q_1PVVT",
        "colab": {
          "base_uri": "https://localhost:8080/",
          "height": 81
        },
        "outputId": "1533c29e-2a07-4251-aa57-568f39c194e5"
      },
      "outputs": [
        {
          "output_type": "execute_result",
          "data": {
            "text/plain": [
              "   avg_num_reviews\n",
              "0               24"
            ],
            "text/html": [
              "\n",
              "  <div id=\"df-81a7da90-efed-45a3-8a69-c0eba6a3b500\">\n",
              "    <div class=\"colab-df-container\">\n",
              "      <div>\n",
              "<style scoped>\n",
              "    .dataframe tbody tr th:only-of-type {\n",
              "        vertical-align: middle;\n",
              "    }\n",
              "\n",
              "    .dataframe tbody tr th {\n",
              "        vertical-align: top;\n",
              "    }\n",
              "\n",
              "    .dataframe thead th {\n",
              "        text-align: right;\n",
              "    }\n",
              "</style>\n",
              "<table border=\"1\" class=\"dataframe\">\n",
              "  <thead>\n",
              "    <tr style=\"text-align: right;\">\n",
              "      <th></th>\n",
              "      <th>avg_num_reviews</th>\n",
              "    </tr>\n",
              "  </thead>\n",
              "  <tbody>\n",
              "    <tr>\n",
              "      <th>0</th>\n",
              "      <td>24</td>\n",
              "    </tr>\n",
              "  </tbody>\n",
              "</table>\n",
              "</div>\n",
              "      <button class=\"colab-df-convert\" onclick=\"convertToInteractive('df-81a7da90-efed-45a3-8a69-c0eba6a3b500')\"\n",
              "              title=\"Convert this dataframe to an interactive table.\"\n",
              "              style=\"display:none;\">\n",
              "        \n",
              "  <svg xmlns=\"http://www.w3.org/2000/svg\" height=\"24px\"viewBox=\"0 0 24 24\"\n",
              "       width=\"24px\">\n",
              "    <path d=\"M0 0h24v24H0V0z\" fill=\"none\"/>\n",
              "    <path d=\"M18.56 5.44l.94 2.06.94-2.06 2.06-.94-2.06-.94-.94-2.06-.94 2.06-2.06.94zm-11 1L8.5 8.5l.94-2.06 2.06-.94-2.06-.94L8.5 2.5l-.94 2.06-2.06.94zm10 10l.94 2.06.94-2.06 2.06-.94-2.06-.94-.94-2.06-.94 2.06-2.06.94z\"/><path d=\"M17.41 7.96l-1.37-1.37c-.4-.4-.92-.59-1.43-.59-.52 0-1.04.2-1.43.59L10.3 9.45l-7.72 7.72c-.78.78-.78 2.05 0 2.83L4 21.41c.39.39.9.59 1.41.59.51 0 1.02-.2 1.41-.59l7.78-7.78 2.81-2.81c.8-.78.8-2.07 0-2.86zM5.41 20L4 18.59l7.72-7.72 1.47 1.35L5.41 20z\"/>\n",
              "  </svg>\n",
              "      </button>\n",
              "      \n",
              "  <style>\n",
              "    .colab-df-container {\n",
              "      display:flex;\n",
              "      flex-wrap:wrap;\n",
              "      gap: 12px;\n",
              "    }\n",
              "\n",
              "    .colab-df-convert {\n",
              "      background-color: #E8F0FE;\n",
              "      border: none;\n",
              "      border-radius: 50%;\n",
              "      cursor: pointer;\n",
              "      display: none;\n",
              "      fill: #1967D2;\n",
              "      height: 32px;\n",
              "      padding: 0 0 0 0;\n",
              "      width: 32px;\n",
              "    }\n",
              "\n",
              "    .colab-df-convert:hover {\n",
              "      background-color: #E2EBFA;\n",
              "      box-shadow: 0px 1px 2px rgba(60, 64, 67, 0.3), 0px 1px 3px 1px rgba(60, 64, 67, 0.15);\n",
              "      fill: #174EA6;\n",
              "    }\n",
              "\n",
              "    [theme=dark] .colab-df-convert {\n",
              "      background-color: #3B4455;\n",
              "      fill: #D2E3FC;\n",
              "    }\n",
              "\n",
              "    [theme=dark] .colab-df-convert:hover {\n",
              "      background-color: #434B5C;\n",
              "      box-shadow: 0px 1px 3px 1px rgba(0, 0, 0, 0.15);\n",
              "      filter: drop-shadow(0px 1px 2px rgba(0, 0, 0, 0.3));\n",
              "      fill: #FFFFFF;\n",
              "    }\n",
              "  </style>\n",
              "\n",
              "      <script>\n",
              "        const buttonEl =\n",
              "          document.querySelector('#df-81a7da90-efed-45a3-8a69-c0eba6a3b500 button.colab-df-convert');\n",
              "        buttonEl.style.display =\n",
              "          google.colab.kernel.accessAllowed ? 'block' : 'none';\n",
              "\n",
              "        async function convertToInteractive(key) {\n",
              "          const element = document.querySelector('#df-81a7da90-efed-45a3-8a69-c0eba6a3b500');\n",
              "          const dataTable =\n",
              "            await google.colab.kernel.invokeFunction('convertToInteractive',\n",
              "                                                     [key], {});\n",
              "          if (!dataTable) return;\n",
              "\n",
              "          const docLinkHtml = 'Like what you see? Visit the ' +\n",
              "            '<a target=\"_blank\" href=https://colab.research.google.com/notebooks/data_table.ipynb>data table notebook</a>'\n",
              "            + ' to learn more about interactive tables.';\n",
              "          element.innerHTML = '';\n",
              "          dataTable['output_type'] = 'display_data';\n",
              "          await google.colab.output.renderOutput(dataTable, element);\n",
              "          const docLink = document.createElement('div');\n",
              "          docLink.innerHTML = docLinkHtml;\n",
              "          element.appendChild(docLink);\n",
              "        }\n",
              "      </script>\n",
              "    </div>\n",
              "  </div>\n",
              "  "
            ]
          },
          "metadata": {},
          "execution_count": 69
        }
      ],
      "source": [
        "avg_review_count_with_many_rating_count = '''\n",
        "SELECT COUNT(*)/COUNT(DISTINCT username) as avg_num_reviews\n",
        "FROM reviews\n",
        "WHERE username IN (SELECT username\n",
        "                    FROM ratings\n",
        "                    GROUP BY username\n",
        "                    having COUNT(rating_id)>50\n",
        "                   )\n",
        "'''\n",
        "\n",
        "query(avg_review_count_with_many_rating_count)"
      ]
    },
    {
      "cell_type": "markdown",
      "metadata": {
        "id": "avX3l2PEPVVU"
      },
      "source": [
        "Среднее кол-во обзоров пользователей, которые поставили более чем по 50 оценок равно 24."
      ]
    },
    {
      "cell_type": "markdown",
      "metadata": {
        "id": "4pDoQFOgPVVU"
      },
      "source": [
        "## Общий вывод:\n",
        "\n",
        "- В таблице book_publisher лежит список всех издательств, которые выпускают книги от 50 страниц;\n",
        "- В таблице best_author лежит список авторов с самой выской средней оценкой, так как у этих авторов учтены книги которые имеют больше 50 пользовательских оценок;\n",
        "- В таблице book_reviews есть книги со средней оценкой и пользовательскими обзорами;\n",
        "- Так же среднее количество текстовых обзоров на книги более чем 50 оценками имеют в среднем 24 текстовых обзора, что будет достаточно информативно для будущих пользователей."
      ]
    }
  ],
  "metadata": {
    "ExecuteTimeLog": [
      {
        "duration": 11690,
        "start_time": "2023-03-09T17:02:01.515Z"
      },
      {
        "duration": 2,
        "start_time": "2023-03-09T17:02:13.208Z"
      },
      {
        "duration": 56,
        "start_time": "2023-03-09T17:02:13.211Z"
      },
      {
        "duration": 13,
        "start_time": "2023-03-09T17:02:13.270Z"
      },
      {
        "duration": 16,
        "start_time": "2023-03-09T17:02:13.285Z"
      },
      {
        "duration": 11,
        "start_time": "2023-03-09T17:02:13.302Z"
      },
      {
        "duration": 17,
        "start_time": "2023-03-09T17:02:13.314Z"
      },
      {
        "duration": 22,
        "start_time": "2023-03-09T17:02:13.333Z"
      },
      {
        "duration": 13,
        "start_time": "2023-03-09T17:02:13.357Z"
      },
      {
        "duration": 12,
        "start_time": "2023-03-09T17:02:13.371Z"
      },
      {
        "duration": 9,
        "start_time": "2023-03-09T17:02:13.385Z"
      },
      {
        "duration": 8,
        "start_time": "2023-03-09T17:02:13.395Z"
      },
      {
        "duration": 16,
        "start_time": "2023-03-09T17:02:13.404Z"
      },
      {
        "duration": 11,
        "start_time": "2023-03-09T17:02:13.423Z"
      },
      {
        "duration": 13,
        "start_time": "2023-03-09T17:02:13.436Z"
      },
      {
        "duration": 10,
        "start_time": "2023-03-09T17:02:13.450Z"
      },
      {
        "duration": 9,
        "start_time": "2023-03-09T17:02:13.462Z"
      },
      {
        "duration": 13,
        "start_time": "2023-03-09T17:02:13.472Z"
      },
      {
        "duration": 38,
        "start_time": "2023-03-09T17:02:13.486Z"
      },
      {
        "duration": 16,
        "start_time": "2023-03-09T17:02:13.526Z"
      },
      {
        "duration": 10,
        "start_time": "2023-03-09T17:02:13.544Z"
      },
      {
        "duration": 15,
        "start_time": "2023-03-09T17:02:13.556Z"
      },
      {
        "duration": 12,
        "start_time": "2023-03-09T17:02:13.573Z"
      },
      {
        "duration": 36,
        "start_time": "2023-03-09T17:02:13.586Z"
      },
      {
        "duration": 10,
        "start_time": "2023-03-09T17:02:13.624Z"
      },
      {
        "duration": 9,
        "start_time": "2023-03-09T17:02:13.636Z"
      },
      {
        "duration": 10,
        "start_time": "2023-03-09T17:02:13.647Z"
      },
      {
        "duration": 34,
        "start_time": "2023-03-09T17:02:13.659Z"
      },
      {
        "duration": 13,
        "start_time": "2023-03-09T17:02:13.711Z"
      },
      {
        "duration": 17,
        "start_time": "2023-03-09T17:02:13.726Z"
      },
      {
        "duration": 10,
        "start_time": "2023-03-09T17:02:13.745Z"
      }
    ],
    "kernelspec": {
      "display_name": "Python 3 (ipykernel)",
      "language": "python",
      "name": "python3"
    },
    "language_info": {
      "codemirror_mode": {
        "name": "ipython",
        "version": 3
      },
      "file_extension": ".py",
      "mimetype": "text/x-python",
      "name": "python",
      "nbconvert_exporter": "python",
      "pygments_lexer": "ipython3",
      "version": "3.9.5"
    },
    "toc": {
      "base_numbering": 1,
      "nav_menu": {},
      "number_sections": false,
      "sideBar": true,
      "skip_h1_title": false,
      "title_cell": "Table of Contents",
      "title_sidebar": "Contents",
      "toc_cell": false,
      "toc_position": {
        "height": "calc(100% - 180px)",
        "left": "10px",
        "top": "150px",
        "width": "211.264px"
      },
      "toc_section_display": true,
      "toc_window_display": false
    },
    "colab": {
      "provenance": [],
      "include_colab_link": true
    }
  },
  "nbformat": 4,
  "nbformat_minor": 0
}