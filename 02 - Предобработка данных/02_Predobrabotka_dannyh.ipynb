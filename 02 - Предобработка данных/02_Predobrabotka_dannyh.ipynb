{
  "cells": [
    {
      "cell_type": "markdown",
      "id": "86dd7b62",
      "metadata": {
        "deletable": false,
        "editable": false,
        "id": "86dd7b62"
      },
      "source": [
        "# Исследование надежности заемщиков\n"
      ]
    },
    {
      "cell_type": "markdown",
      "id": "49a02aab",
      "metadata": {
        "deletable": false,
        "editable": false,
        "id": "49a02aab"
      },
      "source": [
        "## Откройте таблицу и изучите общую информацию о данных"
      ]
    },
    {
      "cell_type": "markdown",
      "source": [
        "**Цель исследования** — выяснить, влияет ли семейное положение и количество детей клиента на факт погашения кредита в срок.\n",
        "\n",
        "Данные для исследования предоставлены банком и включают в себя информацию о платежеспособности клиентов, такую как количество детей в семье, общий трудовой стаж в днях, возраст клиента в годах, уровень образования, идентификатор уровня образования, семейное положение, идентификатор семейного положения, пол клиента, тип занятости, имел ли задолженность по возврату кредитов, ежемесячный доход и цель получения кредита.\n",
        "\n",
        "**План работы:**\n",
        "\n",
        "1. Ознакомление с данными: оценить объем данных, проверить наличие пропущенных значений, оценить качество данных.\n",
        "2. Предварительный анализ данных: определить статистические показатели для каждой переменной, провести визуализацию данных.\n",
        "3. Обработка данных: заполнить пропущенные значения, удалить дубликаты, привести данные к нужному формату.\n",
        "4. Анализ данных: определить влияние семейного положения и количества детей клиента на факт погашения кредита в срок.\n",
        "5. Выводы: сформулировать выводы и рекомендации на основе результатов анализа."
      ],
      "metadata": {
        "id": "Aa_GDFlN_vTL"
      },
      "id": "Aa_GDFlN_vTL"
    },
    {
      "cell_type": "markdown",
      "id": "51994abe",
      "metadata": {
        "id": "51994abe"
      },
      "source": [
        "Заказчик — кредитный отдел банка. Нужно разобраться, влияет ли семейное положение и количество детей клиента на факт погашения кредита в срок. Входные данные от банка — статистика о платёжеспособности клиентов.\n",
        "###### Результаты исследования будут учтены при построении модели кредитного скоринга — специальной системы, которая оценивает способность потенциального заёмщика вернуть кредит банку.\n",
        "\n",
        "# *Описание данных*\n",
        "- children — количество детей в семье\n",
        "- days_employed — общий трудовой стаж в днях\n",
        "- dob_years — возраст клиента в годах\n",
        "- education — уровень образования клиента\n",
        "- education_id — идентификатор уровня образования\n",
        "- family_status — семейное положение\n",
        "- family_status_id — идентификатор семейного положения\n",
        "- gender — пол клиента\n",
        "- income_type — тип занятости\n",
        "- debt — имел ли задолженность по возврату кредитов\n",
        "- total_income — ежемесячный доход\n",
        "- purpose — цель получения кредита"
      ]
    },
    {
      "cell_type": "code",
      "source": [
        "import pandas as pd\n",
        "from io import BytesIO\n",
        "import requests\n",
        "import seaborn as sns\n",
        "import matplotlib.pyplot as plt\n",
        "import numpy as np"
      ],
      "metadata": {
        "id": "-RMbuAh_mWRK"
      },
      "id": "-RMbuAh_mWRK",
      "execution_count": null,
      "outputs": []
    },
    {
      "cell_type": "markdown",
      "id": "4987885e",
      "metadata": {
        "deletable": false,
        "editable": false,
        "id": "4987885e"
      },
      "source": [
        "**Задание 1. Импортируйте библиотеку pandas. Считайте данные из csv-файла в датафрейм и сохраните в переменную `data`. Путь к файлу:**\n",
        "\n",
        "`/datasets/data.csv`"
      ]
    },
    {
      "cell_type": "code",
      "source": [
        "\n",
        "def get_data(link):\n",
        "  spreadsheet_id = link[link.find('d/')+2:link.find('/edit')]\n",
        "  file_name = 'https://docs.google.com/spreadsheets/d/{}/export?format=csv'.format(spreadsheet_id)\n",
        "  r = requests.get(file_name)\n",
        "  data = pd.read_csv(BytesIO(r.content))\n",
        "  return data"
      ],
      "metadata": {
        "id": "vHj1J-SQ8JzR"
      },
      "id": "vHj1J-SQ8JzR",
      "execution_count": null,
      "outputs": []
    },
    {
      "cell_type": "code",
      "source": [],
      "metadata": {
        "id": "OVVjAaGwmUo4"
      },
      "id": "OVVjAaGwmUo4",
      "execution_count": null,
      "outputs": []
    },
    {
      "cell_type": "code",
      "execution_count": null,
      "id": "853762e1",
      "metadata": {
        "deletable": false,
        "id": "853762e1"
      },
      "outputs": [],
      "source": [
        "\n",
        "\n",
        "try:\n",
        "    data = pd.read_csv('------data.csv')\n",
        "except:\n",
        "    data = pd.read_csv('https:/-------------------/data.csv')"
      ]
    },
    {
      "cell_type": "code",
      "source": [
        "data=get_data('https://docs.google.com/spreadsheets/d/-----------------------------------/edit?usp=drive_link')"
      ],
      "metadata": {
        "id": "I43gOKRY8S4I"
      },
      "id": "I43gOKRY8S4I",
      "execution_count": null,
      "outputs": []
    },
    {
      "cell_type": "markdown",
      "id": "19dddefb",
      "metadata": {
        "deletable": false,
        "editable": false,
        "id": "19dddefb"
      },
      "source": [
        "**Задание 2. Выведите первые 20 строчек датафрейма `data` на экран.**"
      ]
    },
    {
      "cell_type": "code",
      "execution_count": null,
      "id": "5073b31a",
      "metadata": {
        "deletable": false,
        "id": "5073b31a",
        "outputId": "5d6a548d-9c99-408a-a028-362c56d41916",
        "colab": {
          "base_uri": "https://localhost:8080/",
          "height": 1000
        }
      },
      "outputs": [
        {
          "output_type": "execute_result",
          "data": {
            "text/plain": [
              "    children  days_employed  dob_years            education  education_id  \\\n",
              "0          1   -8437.673028         42               высшее             0   \n",
              "1          1   -4024.803754         36              среднее             1   \n",
              "2          0   -5623.422610         33              Среднее             1   \n",
              "3          3   -4124.747207         32              среднее             1   \n",
              "4          0  340266.072047         53              среднее             1   \n",
              "5          0    -926.185831         27               высшее             0   \n",
              "6          0   -2879.202052         43               высшее             0   \n",
              "7          0    -152.779569         50              СРЕДНЕЕ             1   \n",
              "8          2   -6929.865299         35               ВЫСШЕЕ             0   \n",
              "9          0   -2188.756445         41              среднее             1   \n",
              "10         2   -4171.483647         36               высшее             0   \n",
              "11         0    -792.701887         40              среднее             1   \n",
              "12         0            NaN         65              среднее             1   \n",
              "13         0   -1846.641941         54  неоконченное высшее             2   \n",
              "14         0   -1844.956182         56               высшее             0   \n",
              "15         1    -972.364419         26              среднее             1   \n",
              "16         0   -1719.934226         35              среднее             1   \n",
              "17         0   -2369.999720         33               высшее             0   \n",
              "18         0  400281.136913         53              среднее             1   \n",
              "19         0  -10038.818549         48              СРЕДНЕЕ             1   \n",
              "\n",
              "       family_status  family_status_id gender income_type  debt  \\\n",
              "0    женат / замужем                 0      F   сотрудник     0   \n",
              "1    женат / замужем                 0      F   сотрудник     0   \n",
              "2    женат / замужем                 0      M   сотрудник     0   \n",
              "3    женат / замужем                 0      M   сотрудник     0   \n",
              "4   гражданский брак                 1      F   пенсионер     0   \n",
              "5   гражданский брак                 1      M   компаньон     0   \n",
              "6    женат / замужем                 0      F   компаньон     0   \n",
              "7    женат / замужем                 0      M   сотрудник     0   \n",
              "8   гражданский брак                 1      F   сотрудник     0   \n",
              "9    женат / замужем                 0      M   сотрудник     0   \n",
              "10   женат / замужем                 0      M   компаньон     0   \n",
              "11   женат / замужем                 0      F   сотрудник     0   \n",
              "12  гражданский брак                 1      M   пенсионер     0   \n",
              "13   женат / замужем                 0      F   сотрудник     0   \n",
              "14  гражданский брак                 1      F   компаньон     1   \n",
              "15   женат / замужем                 0      F   сотрудник     0   \n",
              "16   женат / замужем                 0      F   сотрудник     0   \n",
              "17  гражданский брак                 1      M   сотрудник     0   \n",
              "18    вдовец / вдова                 2      F   пенсионер     0   \n",
              "19         в разводе                 3      F   сотрудник     0   \n",
              "\n",
              "     total_income                                 purpose  \n",
              "0   253875.639453                           покупка жилья  \n",
              "1   112080.014102                 приобретение автомобиля  \n",
              "2   145885.952297                           покупка жилья  \n",
              "3   267628.550329              дополнительное образование  \n",
              "4   158616.077870                         сыграть свадьбу  \n",
              "5   255763.565419                           покупка жилья  \n",
              "6   240525.971920                       операции с жильем  \n",
              "7   135823.934197                             образование  \n",
              "8    95856.832424                   на проведение свадьбы  \n",
              "9   144425.938277                 покупка жилья для семьи  \n",
              "10  113943.491460                    покупка недвижимости  \n",
              "11   77069.234271       покупка коммерческой недвижимости  \n",
              "12            NaN                         сыграть свадьбу  \n",
              "13  130458.228857                 приобретение автомобиля  \n",
              "14  165127.911772              покупка жилой недвижимости  \n",
              "15  116820.904450  строительство собственной недвижимости  \n",
              "16  289202.704229                            недвижимость  \n",
              "17   90410.586745              строительство недвижимости  \n",
              "18   56823.777243      на покупку подержанного автомобиля  \n",
              "19  242831.107982            на покупку своего автомобиля  "
            ],
            "text/html": [
              "\n",
              "  <div id=\"df-6adf3c4e-9750-426b-b4de-60e5e90e595b\">\n",
              "    <div class=\"colab-df-container\">\n",
              "      <div>\n",
              "<style scoped>\n",
              "    .dataframe tbody tr th:only-of-type {\n",
              "        vertical-align: middle;\n",
              "    }\n",
              "\n",
              "    .dataframe tbody tr th {\n",
              "        vertical-align: top;\n",
              "    }\n",
              "\n",
              "    .dataframe thead th {\n",
              "        text-align: right;\n",
              "    }\n",
              "</style>\n",
              "<table border=\"1\" class=\"dataframe\">\n",
              "  <thead>\n",
              "    <tr style=\"text-align: right;\">\n",
              "      <th></th>\n",
              "      <th>children</th>\n",
              "      <th>days_employed</th>\n",
              "      <th>dob_years</th>\n",
              "      <th>education</th>\n",
              "      <th>education_id</th>\n",
              "      <th>family_status</th>\n",
              "      <th>family_status_id</th>\n",
              "      <th>gender</th>\n",
              "      <th>income_type</th>\n",
              "      <th>debt</th>\n",
              "      <th>total_income</th>\n",
              "      <th>purpose</th>\n",
              "    </tr>\n",
              "  </thead>\n",
              "  <tbody>\n",
              "    <tr>\n",
              "      <th>0</th>\n",
              "      <td>1</td>\n",
              "      <td>-8437.673028</td>\n",
              "      <td>42</td>\n",
              "      <td>высшее</td>\n",
              "      <td>0</td>\n",
              "      <td>женат / замужем</td>\n",
              "      <td>0</td>\n",
              "      <td>F</td>\n",
              "      <td>сотрудник</td>\n",
              "      <td>0</td>\n",
              "      <td>253875.639453</td>\n",
              "      <td>покупка жилья</td>\n",
              "    </tr>\n",
              "    <tr>\n",
              "      <th>1</th>\n",
              "      <td>1</td>\n",
              "      <td>-4024.803754</td>\n",
              "      <td>36</td>\n",
              "      <td>среднее</td>\n",
              "      <td>1</td>\n",
              "      <td>женат / замужем</td>\n",
              "      <td>0</td>\n",
              "      <td>F</td>\n",
              "      <td>сотрудник</td>\n",
              "      <td>0</td>\n",
              "      <td>112080.014102</td>\n",
              "      <td>приобретение автомобиля</td>\n",
              "    </tr>\n",
              "    <tr>\n",
              "      <th>2</th>\n",
              "      <td>0</td>\n",
              "      <td>-5623.422610</td>\n",
              "      <td>33</td>\n",
              "      <td>Среднее</td>\n",
              "      <td>1</td>\n",
              "      <td>женат / замужем</td>\n",
              "      <td>0</td>\n",
              "      <td>M</td>\n",
              "      <td>сотрудник</td>\n",
              "      <td>0</td>\n",
              "      <td>145885.952297</td>\n",
              "      <td>покупка жилья</td>\n",
              "    </tr>\n",
              "    <tr>\n",
              "      <th>3</th>\n",
              "      <td>3</td>\n",
              "      <td>-4124.747207</td>\n",
              "      <td>32</td>\n",
              "      <td>среднее</td>\n",
              "      <td>1</td>\n",
              "      <td>женат / замужем</td>\n",
              "      <td>0</td>\n",
              "      <td>M</td>\n",
              "      <td>сотрудник</td>\n",
              "      <td>0</td>\n",
              "      <td>267628.550329</td>\n",
              "      <td>дополнительное образование</td>\n",
              "    </tr>\n",
              "    <tr>\n",
              "      <th>4</th>\n",
              "      <td>0</td>\n",
              "      <td>340266.072047</td>\n",
              "      <td>53</td>\n",
              "      <td>среднее</td>\n",
              "      <td>1</td>\n",
              "      <td>гражданский брак</td>\n",
              "      <td>1</td>\n",
              "      <td>F</td>\n",
              "      <td>пенсионер</td>\n",
              "      <td>0</td>\n",
              "      <td>158616.077870</td>\n",
              "      <td>сыграть свадьбу</td>\n",
              "    </tr>\n",
              "    <tr>\n",
              "      <th>5</th>\n",
              "      <td>0</td>\n",
              "      <td>-926.185831</td>\n",
              "      <td>27</td>\n",
              "      <td>высшее</td>\n",
              "      <td>0</td>\n",
              "      <td>гражданский брак</td>\n",
              "      <td>1</td>\n",
              "      <td>M</td>\n",
              "      <td>компаньон</td>\n",
              "      <td>0</td>\n",
              "      <td>255763.565419</td>\n",
              "      <td>покупка жилья</td>\n",
              "    </tr>\n",
              "    <tr>\n",
              "      <th>6</th>\n",
              "      <td>0</td>\n",
              "      <td>-2879.202052</td>\n",
              "      <td>43</td>\n",
              "      <td>высшее</td>\n",
              "      <td>0</td>\n",
              "      <td>женат / замужем</td>\n",
              "      <td>0</td>\n",
              "      <td>F</td>\n",
              "      <td>компаньон</td>\n",
              "      <td>0</td>\n",
              "      <td>240525.971920</td>\n",
              "      <td>операции с жильем</td>\n",
              "    </tr>\n",
              "    <tr>\n",
              "      <th>7</th>\n",
              "      <td>0</td>\n",
              "      <td>-152.779569</td>\n",
              "      <td>50</td>\n",
              "      <td>СРЕДНЕЕ</td>\n",
              "      <td>1</td>\n",
              "      <td>женат / замужем</td>\n",
              "      <td>0</td>\n",
              "      <td>M</td>\n",
              "      <td>сотрудник</td>\n",
              "      <td>0</td>\n",
              "      <td>135823.934197</td>\n",
              "      <td>образование</td>\n",
              "    </tr>\n",
              "    <tr>\n",
              "      <th>8</th>\n",
              "      <td>2</td>\n",
              "      <td>-6929.865299</td>\n",
              "      <td>35</td>\n",
              "      <td>ВЫСШЕЕ</td>\n",
              "      <td>0</td>\n",
              "      <td>гражданский брак</td>\n",
              "      <td>1</td>\n",
              "      <td>F</td>\n",
              "      <td>сотрудник</td>\n",
              "      <td>0</td>\n",
              "      <td>95856.832424</td>\n",
              "      <td>на проведение свадьбы</td>\n",
              "    </tr>\n",
              "    <tr>\n",
              "      <th>9</th>\n",
              "      <td>0</td>\n",
              "      <td>-2188.756445</td>\n",
              "      <td>41</td>\n",
              "      <td>среднее</td>\n",
              "      <td>1</td>\n",
              "      <td>женат / замужем</td>\n",
              "      <td>0</td>\n",
              "      <td>M</td>\n",
              "      <td>сотрудник</td>\n",
              "      <td>0</td>\n",
              "      <td>144425.938277</td>\n",
              "      <td>покупка жилья для семьи</td>\n",
              "    </tr>\n",
              "    <tr>\n",
              "      <th>10</th>\n",
              "      <td>2</td>\n",
              "      <td>-4171.483647</td>\n",
              "      <td>36</td>\n",
              "      <td>высшее</td>\n",
              "      <td>0</td>\n",
              "      <td>женат / замужем</td>\n",
              "      <td>0</td>\n",
              "      <td>M</td>\n",
              "      <td>компаньон</td>\n",
              "      <td>0</td>\n",
              "      <td>113943.491460</td>\n",
              "      <td>покупка недвижимости</td>\n",
              "    </tr>\n",
              "    <tr>\n",
              "      <th>11</th>\n",
              "      <td>0</td>\n",
              "      <td>-792.701887</td>\n",
              "      <td>40</td>\n",
              "      <td>среднее</td>\n",
              "      <td>1</td>\n",
              "      <td>женат / замужем</td>\n",
              "      <td>0</td>\n",
              "      <td>F</td>\n",
              "      <td>сотрудник</td>\n",
              "      <td>0</td>\n",
              "      <td>77069.234271</td>\n",
              "      <td>покупка коммерческой недвижимости</td>\n",
              "    </tr>\n",
              "    <tr>\n",
              "      <th>12</th>\n",
              "      <td>0</td>\n",
              "      <td>NaN</td>\n",
              "      <td>65</td>\n",
              "      <td>среднее</td>\n",
              "      <td>1</td>\n",
              "      <td>гражданский брак</td>\n",
              "      <td>1</td>\n",
              "      <td>M</td>\n",
              "      <td>пенсионер</td>\n",
              "      <td>0</td>\n",
              "      <td>NaN</td>\n",
              "      <td>сыграть свадьбу</td>\n",
              "    </tr>\n",
              "    <tr>\n",
              "      <th>13</th>\n",
              "      <td>0</td>\n",
              "      <td>-1846.641941</td>\n",
              "      <td>54</td>\n",
              "      <td>неоконченное высшее</td>\n",
              "      <td>2</td>\n",
              "      <td>женат / замужем</td>\n",
              "      <td>0</td>\n",
              "      <td>F</td>\n",
              "      <td>сотрудник</td>\n",
              "      <td>0</td>\n",
              "      <td>130458.228857</td>\n",
              "      <td>приобретение автомобиля</td>\n",
              "    </tr>\n",
              "    <tr>\n",
              "      <th>14</th>\n",
              "      <td>0</td>\n",
              "      <td>-1844.956182</td>\n",
              "      <td>56</td>\n",
              "      <td>высшее</td>\n",
              "      <td>0</td>\n",
              "      <td>гражданский брак</td>\n",
              "      <td>1</td>\n",
              "      <td>F</td>\n",
              "      <td>компаньон</td>\n",
              "      <td>1</td>\n",
              "      <td>165127.911772</td>\n",
              "      <td>покупка жилой недвижимости</td>\n",
              "    </tr>\n",
              "    <tr>\n",
              "      <th>15</th>\n",
              "      <td>1</td>\n",
              "      <td>-972.364419</td>\n",
              "      <td>26</td>\n",
              "      <td>среднее</td>\n",
              "      <td>1</td>\n",
              "      <td>женат / замужем</td>\n",
              "      <td>0</td>\n",
              "      <td>F</td>\n",
              "      <td>сотрудник</td>\n",
              "      <td>0</td>\n",
              "      <td>116820.904450</td>\n",
              "      <td>строительство собственной недвижимости</td>\n",
              "    </tr>\n",
              "    <tr>\n",
              "      <th>16</th>\n",
              "      <td>0</td>\n",
              "      <td>-1719.934226</td>\n",
              "      <td>35</td>\n",
              "      <td>среднее</td>\n",
              "      <td>1</td>\n",
              "      <td>женат / замужем</td>\n",
              "      <td>0</td>\n",
              "      <td>F</td>\n",
              "      <td>сотрудник</td>\n",
              "      <td>0</td>\n",
              "      <td>289202.704229</td>\n",
              "      <td>недвижимость</td>\n",
              "    </tr>\n",
              "    <tr>\n",
              "      <th>17</th>\n",
              "      <td>0</td>\n",
              "      <td>-2369.999720</td>\n",
              "      <td>33</td>\n",
              "      <td>высшее</td>\n",
              "      <td>0</td>\n",
              "      <td>гражданский брак</td>\n",
              "      <td>1</td>\n",
              "      <td>M</td>\n",
              "      <td>сотрудник</td>\n",
              "      <td>0</td>\n",
              "      <td>90410.586745</td>\n",
              "      <td>строительство недвижимости</td>\n",
              "    </tr>\n",
              "    <tr>\n",
              "      <th>18</th>\n",
              "      <td>0</td>\n",
              "      <td>400281.136913</td>\n",
              "      <td>53</td>\n",
              "      <td>среднее</td>\n",
              "      <td>1</td>\n",
              "      <td>вдовец / вдова</td>\n",
              "      <td>2</td>\n",
              "      <td>F</td>\n",
              "      <td>пенсионер</td>\n",
              "      <td>0</td>\n",
              "      <td>56823.777243</td>\n",
              "      <td>на покупку подержанного автомобиля</td>\n",
              "    </tr>\n",
              "    <tr>\n",
              "      <th>19</th>\n",
              "      <td>0</td>\n",
              "      <td>-10038.818549</td>\n",
              "      <td>48</td>\n",
              "      <td>СРЕДНЕЕ</td>\n",
              "      <td>1</td>\n",
              "      <td>в разводе</td>\n",
              "      <td>3</td>\n",
              "      <td>F</td>\n",
              "      <td>сотрудник</td>\n",
              "      <td>0</td>\n",
              "      <td>242831.107982</td>\n",
              "      <td>на покупку своего автомобиля</td>\n",
              "    </tr>\n",
              "  </tbody>\n",
              "</table>\n",
              "</div>\n",
              "      <button class=\"colab-df-convert\" onclick=\"convertToInteractive('df-6adf3c4e-9750-426b-b4de-60e5e90e595b')\"\n",
              "              title=\"Convert this dataframe to an interactive table.\"\n",
              "              style=\"display:none;\">\n",
              "        \n",
              "  <svg xmlns=\"http://www.w3.org/2000/svg\" height=\"24px\"viewBox=\"0 0 24 24\"\n",
              "       width=\"24px\">\n",
              "    <path d=\"M0 0h24v24H0V0z\" fill=\"none\"/>\n",
              "    <path d=\"M18.56 5.44l.94 2.06.94-2.06 2.06-.94-2.06-.94-.94-2.06-.94 2.06-2.06.94zm-11 1L8.5 8.5l.94-2.06 2.06-.94-2.06-.94L8.5 2.5l-.94 2.06-2.06.94zm10 10l.94 2.06.94-2.06 2.06-.94-2.06-.94-.94-2.06-.94 2.06-2.06.94z\"/><path d=\"M17.41 7.96l-1.37-1.37c-.4-.4-.92-.59-1.43-.59-.52 0-1.04.2-1.43.59L10.3 9.45l-7.72 7.72c-.78.78-.78 2.05 0 2.83L4 21.41c.39.39.9.59 1.41.59.51 0 1.02-.2 1.41-.59l7.78-7.78 2.81-2.81c.8-.78.8-2.07 0-2.86zM5.41 20L4 18.59l7.72-7.72 1.47 1.35L5.41 20z\"/>\n",
              "  </svg>\n",
              "      </button>\n",
              "      \n",
              "  <style>\n",
              "    .colab-df-container {\n",
              "      display:flex;\n",
              "      flex-wrap:wrap;\n",
              "      gap: 12px;\n",
              "    }\n",
              "\n",
              "    .colab-df-convert {\n",
              "      background-color: #E8F0FE;\n",
              "      border: none;\n",
              "      border-radius: 50%;\n",
              "      cursor: pointer;\n",
              "      display: none;\n",
              "      fill: #1967D2;\n",
              "      height: 32px;\n",
              "      padding: 0 0 0 0;\n",
              "      width: 32px;\n",
              "    }\n",
              "\n",
              "    .colab-df-convert:hover {\n",
              "      background-color: #E2EBFA;\n",
              "      box-shadow: 0px 1px 2px rgba(60, 64, 67, 0.3), 0px 1px 3px 1px rgba(60, 64, 67, 0.15);\n",
              "      fill: #174EA6;\n",
              "    }\n",
              "\n",
              "    [theme=dark] .colab-df-convert {\n",
              "      background-color: #3B4455;\n",
              "      fill: #D2E3FC;\n",
              "    }\n",
              "\n",
              "    [theme=dark] .colab-df-convert:hover {\n",
              "      background-color: #434B5C;\n",
              "      box-shadow: 0px 1px 3px 1px rgba(0, 0, 0, 0.15);\n",
              "      filter: drop-shadow(0px 1px 2px rgba(0, 0, 0, 0.3));\n",
              "      fill: #FFFFFF;\n",
              "    }\n",
              "  </style>\n",
              "\n",
              "      <script>\n",
              "        const buttonEl =\n",
              "          document.querySelector('#df-6adf3c4e-9750-426b-b4de-60e5e90e595b button.colab-df-convert');\n",
              "        buttonEl.style.display =\n",
              "          google.colab.kernel.accessAllowed ? 'block' : 'none';\n",
              "\n",
              "        async function convertToInteractive(key) {\n",
              "          const element = document.querySelector('#df-6adf3c4e-9750-426b-b4de-60e5e90e595b');\n",
              "          const dataTable =\n",
              "            await google.colab.kernel.invokeFunction('convertToInteractive',\n",
              "                                                     [key], {});\n",
              "          if (!dataTable) return;\n",
              "\n",
              "          const docLinkHtml = 'Like what you see? Visit the ' +\n",
              "            '<a target=\"_blank\" href=https://colab.research.google.com/notebooks/data_table.ipynb>data table notebook</a>'\n",
              "            + ' to learn more about interactive tables.';\n",
              "          element.innerHTML = '';\n",
              "          dataTable['output_type'] = 'display_data';\n",
              "          await google.colab.output.renderOutput(dataTable, element);\n",
              "          const docLink = document.createElement('div');\n",
              "          docLink.innerHTML = docLinkHtml;\n",
              "          element.appendChild(docLink);\n",
              "        }\n",
              "      </script>\n",
              "    </div>\n",
              "  </div>\n",
              "  "
            ]
          },
          "metadata": {},
          "execution_count": 5
        }
      ],
      "source": [
        "data.head(20)"
      ]
    },
    {
      "cell_type": "markdown",
      "id": "9c415501",
      "metadata": {
        "deletable": false,
        "editable": false,
        "id": "9c415501"
      },
      "source": [
        "**Задание 3. Выведите основную информацию о датафрейме с помощью метода `info()`.**"
      ]
    },
    {
      "cell_type": "code",
      "execution_count": null,
      "id": "2f0f0240",
      "metadata": {
        "deletable": false,
        "id": "2f0f0240",
        "outputId": "b44b174a-d8b0-42b1-cca3-2feee2353e10",
        "colab": {
          "base_uri": "https://localhost:8080/"
        }
      },
      "outputs": [
        {
          "output_type": "stream",
          "name": "stdout",
          "text": [
            "<class 'pandas.core.frame.DataFrame'>\n",
            "RangeIndex: 21525 entries, 0 to 21524\n",
            "Data columns (total 12 columns):\n",
            " #   Column            Non-Null Count  Dtype  \n",
            "---  ------            --------------  -----  \n",
            " 0   children          21525 non-null  int64  \n",
            " 1   days_employed     19351 non-null  float64\n",
            " 2   dob_years         21525 non-null  int64  \n",
            " 3   education         21525 non-null  object \n",
            " 4   education_id      21525 non-null  int64  \n",
            " 5   family_status     21525 non-null  object \n",
            " 6   family_status_id  21525 non-null  int64  \n",
            " 7   gender            21525 non-null  object \n",
            " 8   income_type       21525 non-null  object \n",
            " 9   debt              21525 non-null  int64  \n",
            " 10  total_income      19351 non-null  float64\n",
            " 11  purpose           21525 non-null  object \n",
            "dtypes: float64(2), int64(5), object(5)\n",
            "memory usage: 2.0+ MB\n"
          ]
        }
      ],
      "source": [
        "data.info()"
      ]
    },
    {
      "cell_type": "code",
      "source": [
        "null_sum=data.isna().sum()\n",
        "null_sum"
      ],
      "metadata": {
        "colab": {
          "base_uri": "https://localhost:8080/"
        },
        "id": "a_2EUHJq41Eh",
        "outputId": "abd47b4f-576c-449f-a651-07af58b8ee25"
      },
      "id": "a_2EUHJq41Eh",
      "execution_count": null,
      "outputs": [
        {
          "output_type": "execute_result",
          "data": {
            "text/plain": [
              "children               0\n",
              "days_employed       2174\n",
              "dob_years              0\n",
              "education              0\n",
              "education_id           0\n",
              "family_status          0\n",
              "family_status_id       0\n",
              "gender                 0\n",
              "income_type            0\n",
              "debt                   0\n",
              "total_income        2174\n",
              "purpose                0\n",
              "dtype: int64"
            ]
          },
          "metadata": {},
          "execution_count": 7
        }
      ]
    },
    {
      "cell_type": "code",
      "source": [
        "null_sum[null_sum!=0]"
      ],
      "metadata": {
        "colab": {
          "base_uri": "https://localhost:8080/"
        },
        "id": "VTnKYCoe6zpp",
        "outputId": "3cbaa1d9-eb25-4f49-9eb7-36ba9df56560"
      },
      "id": "VTnKYCoe6zpp",
      "execution_count": null,
      "outputs": [
        {
          "output_type": "execute_result",
          "data": {
            "text/plain": [
              "days_employed    2174\n",
              "total_income     2174\n",
              "dtype: int64"
            ]
          },
          "metadata": {},
          "execution_count": 8
        }
      ]
    },
    {
      "cell_type": "markdown",
      "source": [
        "**ВЫВОД:**\n",
        "\n",
        "Много пропусков (2174) в колонках days_employed (количество отработанных дней) и total_income (суммарно заработанный доход). С чем это связано?"
      ],
      "metadata": {
        "id": "i7azDjXo0bM5"
      },
      "id": "i7azDjXo0bM5"
    },
    {
      "cell_type": "markdown",
      "id": "fd7bd345",
      "metadata": {
        "deletable": false,
        "editable": false,
        "id": "fd7bd345"
      },
      "source": [
        "## Предобработка данных"
      ]
    },
    {
      "cell_type": "markdown",
      "id": "6722ebce",
      "metadata": {
        "deletable": false,
        "editable": false,
        "id": "6722ebce"
      },
      "source": [
        "### Удаление пропусков"
      ]
    },
    {
      "cell_type": "markdown",
      "id": "e9a87d97",
      "metadata": {
        "deletable": false,
        "editable": false,
        "id": "e9a87d97"
      },
      "source": [
        "**Задание 4. Выведите количество пропущенных значений для каждого столбца. Используйте комбинацию двух методов.**"
      ]
    },
    {
      "cell_type": "code",
      "execution_count": null,
      "id": "8315ea0f",
      "metadata": {
        "deletable": false,
        "id": "8315ea0f",
        "outputId": "9bf435d4-027b-4bfc-a963-74f7523556b3",
        "colab": {
          "base_uri": "https://localhost:8080/"
        }
      },
      "outputs": [
        {
          "output_type": "execute_result",
          "data": {
            "text/plain": [
              "children               0\n",
              "days_employed       2174\n",
              "dob_years              0\n",
              "education              0\n",
              "education_id           0\n",
              "family_status          0\n",
              "family_status_id       0\n",
              "gender                 0\n",
              "income_type            0\n",
              "debt                   0\n",
              "total_income        2174\n",
              "purpose                0\n",
              "dtype: int64"
            ]
          },
          "metadata": {},
          "execution_count": 9
        }
      ],
      "source": [
        "data.isna().sum()"
      ]
    },
    {
      "cell_type": "markdown",
      "id": "61c64276",
      "metadata": {
        "deletable": false,
        "editable": false,
        "id": "61c64276"
      },
      "source": [
        "**Задание 5. В двух столбцах есть пропущенные значения. Один из них — `days_employed`. Пропуски в этом столбце вы обработаете на следующем этапе. Другой столбец с пропущенными значениями — `total_income` — хранит данные о доходах. На сумму дохода сильнее всего влияет тип занятости, поэтому заполнить пропуски в этом столбце нужно медианным значением по каждому типу из столбца `income_type`. Например, у человека с типом занятости `сотрудник` пропуск в столбце `total_income` должен быть заполнен медианным доходом среди всех записей с тем же типом.**"
      ]
    },
    {
      "cell_type": "code",
      "execution_count": null,
      "id": "cf038d98",
      "metadata": {
        "deletable": false,
        "id": "cf038d98"
      },
      "outputs": [],
      "source": [
        "for t in data['income_type'].unique():\n",
        "    data.loc[(data['income_type'] == t) & (data['total_income'].isna()), 'total_income'] = \\\n",
        "    data.loc[(data['income_type'] == t), 'total_income'].median()"
      ]
    },
    {
      "cell_type": "markdown",
      "id": "042b9fe8",
      "metadata": {
        "deletable": false,
        "editable": false,
        "id": "042b9fe8"
      },
      "source": [
        "### Обработка аномальных значений"
      ]
    },
    {
      "cell_type": "markdown",
      "id": "fb4c2a9a",
      "metadata": {
        "deletable": false,
        "editable": false,
        "id": "fb4c2a9a"
      },
      "source": [
        "**Задание 6. В данных могут встречаться артефакты (аномалии) — значения, которые не отражают действительность и появились по какой-то ошибке. таким артефактом будет отрицательное количество дней трудового стажа в столбце `days_employed`. Для реальных данных это нормально. Обработайте значения в этом столбце: замените все отрицательные значения положительными с помощью метода `abs()`.**"
      ]
    },
    {
      "cell_type": "code",
      "execution_count": null,
      "id": "c7ce5626",
      "metadata": {
        "deletable": false,
        "id": "c7ce5626"
      },
      "outputs": [],
      "source": [
        "data['days_employed'] = data['days_employed'].abs()"
      ]
    },
    {
      "cell_type": "markdown",
      "id": "0cb41e9f",
      "metadata": {
        "deletable": false,
        "editable": false,
        "id": "0cb41e9f"
      },
      "source": [
        "**Задание 7. Для каждого типа занятости выведите медианное значение трудового стажа `days_employed` в днях.**"
      ]
    },
    {
      "cell_type": "code",
      "execution_count": null,
      "id": "7a22af24",
      "metadata": {
        "deletable": false,
        "id": "7a22af24",
        "outputId": "5e46ff2c-42ff-45df-f8dc-558cb4d53dce",
        "colab": {
          "base_uri": "https://localhost:8080/"
        }
      },
      "outputs": [
        {
          "output_type": "execute_result",
          "data": {
            "text/plain": [
              "income_type\n",
              "безработный        366413.652744\n",
              "в декрете            3296.759962\n",
              "госслужащий          2689.368353\n",
              "компаньон            1547.382223\n",
              "пенсионер          365213.306266\n",
              "предприниматель       520.848083\n",
              "сотрудник            1574.202821\n",
              "студент               578.751554\n",
              "Name: days_employed, dtype: float64"
            ]
          },
          "metadata": {},
          "execution_count": 12
        }
      ],
      "source": [
        "data.groupby('income_type')['days_employed'].agg('median')"
      ]
    },
    {
      "cell_type": "markdown",
      "id": "90d6a00d",
      "metadata": {
        "deletable": false,
        "editable": false,
        "id": "90d6a00d"
      },
      "source": [
        "У двух типов (безработные и пенсионеры) получатся аномально большие значения. Исправить такие значения сложно, поэтому оставьте их как есть. Тем более этот столбец не понадобится вам для исследования."
      ]
    },
    {
      "cell_type": "markdown",
      "id": "6a2f1483",
      "metadata": {
        "deletable": false,
        "editable": false,
        "id": "6a2f1483"
      },
      "source": [
        "**Задание 8. Выведите перечень уникальных значений столбца `children`.**"
      ]
    },
    {
      "cell_type": "code",
      "execution_count": null,
      "id": "b2f7977f",
      "metadata": {
        "deletable": false,
        "id": "b2f7977f",
        "outputId": "4f7bb787-fd30-42fd-ba71-ccf6b0c56c5b",
        "colab": {
          "base_uri": "https://localhost:8080/"
        }
      },
      "outputs": [
        {
          "output_type": "execute_result",
          "data": {
            "text/plain": [
              "array([ 1,  0,  3,  2, -1,  4, 20,  5])"
            ]
          },
          "metadata": {},
          "execution_count": 13
        }
      ],
      "source": [
        "data['children'].unique()"
      ]
    },
    {
      "cell_type": "markdown",
      "id": "2259c049",
      "metadata": {
        "deletable": false,
        "editable": false,
        "id": "2259c049"
      },
      "source": [
        "**Задание 9. В столбце `children` есть два аномальных значения. Удалите строки, в которых встречаются такие аномальные значения из датафрейма `data`.**"
      ]
    },
    {
      "cell_type": "code",
      "execution_count": null,
      "id": "b1fb86c3",
      "metadata": {
        "deletable": false,
        "id": "b1fb86c3"
      },
      "outputs": [],
      "source": [
        "data = data[(data['children'] != -1) & (data['children'] != 20)]"
      ]
    },
    {
      "cell_type": "markdown",
      "id": "8c266f4e",
      "metadata": {
        "deletable": false,
        "editable": false,
        "id": "8c266f4e"
      },
      "source": [
        "**Задание 10. Ещё раз выведите перечень уникальных значений столбца `children`, чтобы убедиться, что артефакты удалены.**"
      ]
    },
    {
      "cell_type": "code",
      "execution_count": null,
      "id": "bf3bdb5c",
      "metadata": {
        "deletable": false,
        "id": "bf3bdb5c",
        "outputId": "e84815df-8e4f-4733-9de3-f35057ecdece",
        "colab": {
          "base_uri": "https://localhost:8080/"
        }
      },
      "outputs": [
        {
          "output_type": "execute_result",
          "data": {
            "text/plain": [
              "array([1, 0, 3, 2, 4, 5])"
            ]
          },
          "metadata": {},
          "execution_count": 15
        }
      ],
      "source": [
        "data['children'].unique()"
      ]
    },
    {
      "cell_type": "markdown",
      "id": "c0618203",
      "metadata": {
        "deletable": false,
        "editable": false,
        "id": "c0618203"
      },
      "source": [
        "### Удаление пропусков (продолжение)"
      ]
    },
    {
      "cell_type": "markdown",
      "id": "d8ab5fe3",
      "metadata": {
        "deletable": false,
        "editable": false,
        "id": "d8ab5fe3"
      },
      "source": [
        "**Задание 11. Заполните пропуски в столбце `days_employed` медианными значениями по каждого типа занятости `income_type`.**"
      ]
    },
    {
      "cell_type": "code",
      "execution_count": null,
      "id": "93b277c6",
      "metadata": {
        "deletable": false,
        "id": "93b277c6"
      },
      "outputs": [],
      "source": [
        "for t in data['income_type'].unique():\n",
        "    data.loc[(data['income_type'] == t) & (data['days_employed'].isna()), 'days_employed'] = \\\n",
        "    data.loc[(data['income_type'] == t), 'days_employed'].median()"
      ]
    },
    {
      "cell_type": "markdown",
      "id": "b2f826a1",
      "metadata": {
        "deletable": false,
        "editable": false,
        "id": "b2f826a1"
      },
      "source": [
        "**Задание 12. Убедитесь, что все пропуски заполнены. Проверьте себя и ещё раз выведите количество пропущенных значений для каждого столбца с помощью двух методов.**"
      ]
    },
    {
      "cell_type": "code",
      "execution_count": null,
      "id": "3a3cf019",
      "metadata": {
        "deletable": false,
        "id": "3a3cf019",
        "outputId": "7e7f8d0d-ada6-43ea-9367-e56009a5d355",
        "colab": {
          "base_uri": "https://localhost:8080/"
        }
      },
      "outputs": [
        {
          "output_type": "execute_result",
          "data": {
            "text/plain": [
              "children            0\n",
              "days_employed       0\n",
              "dob_years           0\n",
              "education           0\n",
              "education_id        0\n",
              "family_status       0\n",
              "family_status_id    0\n",
              "gender              0\n",
              "income_type         0\n",
              "debt                0\n",
              "total_income        0\n",
              "purpose             0\n",
              "dtype: int64"
            ]
          },
          "metadata": {},
          "execution_count": 17
        }
      ],
      "source": [
        "data.isna().sum()"
      ]
    },
    {
      "cell_type": "markdown",
      "id": "35d8a5f3",
      "metadata": {
        "deletable": false,
        "editable": false,
        "id": "35d8a5f3"
      },
      "source": [
        "### Изменение типов данных"
      ]
    },
    {
      "cell_type": "markdown",
      "id": "386e50cd",
      "metadata": {
        "deletable": false,
        "editable": false,
        "id": "386e50cd"
      },
      "source": [
        "**Задание 13. Замените вещественный тип данных в столбце `total_income` на целочисленный с помощью метода `astype()`.**"
      ]
    },
    {
      "cell_type": "code",
      "execution_count": null,
      "id": "26c801ee",
      "metadata": {
        "deletable": false,
        "id": "26c801ee"
      },
      "outputs": [],
      "source": [
        "data['total_income'] = data['total_income'].astype(int)"
      ]
    },
    {
      "cell_type": "markdown",
      "id": "b7d4156a",
      "metadata": {
        "deletable": false,
        "editable": false,
        "id": "b7d4156a"
      },
      "source": [
        "### Обработка дубликатов"
      ]
    },
    {
      "cell_type": "markdown",
      "id": "3701e111",
      "metadata": {
        "deletable": false,
        "editable": false,
        "id": "3701e111"
      },
      "source": [
        "**Задание 14. Обработайте неявные дубликаты в столбце `education`. В этом столбце есть одни и те же значения, но записанные по-разному: с использованием заглавных и строчных букв. Приведите их к нижнему регистру. Проверьте остальные столбцы.**"
      ]
    },
    {
      "cell_type": "code",
      "execution_count": null,
      "id": "35914556",
      "metadata": {
        "deletable": false,
        "id": "35914556"
      },
      "outputs": [],
      "source": [
        "data['education'] = data['education'].str.lower()"
      ]
    },
    {
      "cell_type": "markdown",
      "id": "bc9175a3",
      "metadata": {
        "deletable": false,
        "editable": false,
        "id": "bc9175a3"
      },
      "source": [
        "**Задание 15. Выведите на экран количество строк-дубликатов в данных. Если такие строки присутствуют, удалите их.**"
      ]
    },
    {
      "cell_type": "code",
      "execution_count": null,
      "id": "843492ea",
      "metadata": {
        "deletable": false,
        "id": "843492ea",
        "outputId": "c175d950-abb5-42d7-db4c-080303b49929",
        "colab": {
          "base_uri": "https://localhost:8080/"
        }
      },
      "outputs": [
        {
          "output_type": "execute_result",
          "data": {
            "text/plain": [
              "71"
            ]
          },
          "metadata": {},
          "execution_count": 20
        }
      ],
      "source": [
        "data.duplicated().sum()"
      ]
    },
    {
      "cell_type": "code",
      "execution_count": null,
      "id": "55c16e6d",
      "metadata": {
        "deletable": false,
        "id": "55c16e6d"
      },
      "outputs": [],
      "source": [
        "data = data.drop_duplicates()"
      ]
    },
    {
      "cell_type": "markdown",
      "id": "17cd3ce8",
      "metadata": {
        "deletable": false,
        "editable": false,
        "id": "17cd3ce8"
      },
      "source": [
        "### Категоризация данных"
      ]
    },
    {
      "cell_type": "markdown",
      "id": "bd12bac0",
      "metadata": {
        "deletable": false,
        "editable": false,
        "id": "bd12bac0"
      },
      "source": [
        "**Задание 16. На основании диапазонов, указанных ниже, создайте в датафрейме `data` столбец `total_income_category` с категориями:**\n",
        "\n",
        "- 0–30000 — `'E'`;\n",
        "- 30001–50000 — `'D'`;\n",
        "- 50001–200000 — `'C'`;\n",
        "- 200001–1000000 — `'B'`;\n",
        "- 1000001 и выше — `'A'`.\n",
        "\n",
        "\n",
        "**Например, кредитополучателю с доходом 25000 нужно назначить категорию `'E'`, а клиенту, получающему 235000, — `'B'`. Используйте собственную функцию с именем `categorize_income()` и метод `apply()`.**"
      ]
    },
    {
      "cell_type": "code",
      "execution_count": null,
      "id": "ab7de12c",
      "metadata": {
        "deletable": false,
        "id": "ab7de12c"
      },
      "outputs": [],
      "source": [
        "def categorize_income(income):\n",
        "    try:\n",
        "        if 0 <= income <= 30000:\n",
        "            return 'E'\n",
        "        elif 30001 <= income <= 50000:\n",
        "            return 'D'\n",
        "        elif 50001 <= income <= 200000:\n",
        "            return 'C'\n",
        "        elif 200001 <= income <= 1000000:\n",
        "            return 'B'\n",
        "        elif income >= 1000001:\n",
        "            return 'A'\n",
        "    except:\n",
        "        pass"
      ]
    },
    {
      "cell_type": "code",
      "execution_count": null,
      "id": "70ce0bbb",
      "metadata": {
        "id": "70ce0bbb",
        "outputId": "8a18cf9d-35ea-4e78-b5ca-4265f0bb5fa7",
        "colab": {
          "base_uri": "https://localhost:8080/"
        }
      },
      "outputs": [
        {
          "output_type": "execute_result",
          "data": {
            "text/plain": [
              "<function __main__.categorize_income(income)>"
            ]
          },
          "metadata": {},
          "execution_count": 23
        }
      ],
      "source": [
        "categorize_income"
      ]
    },
    {
      "cell_type": "code",
      "execution_count": null,
      "id": "efc0068f",
      "metadata": {
        "id": "efc0068f",
        "outputId": "5ba9fa91-0a4a-4bba-fc10-671e7e68f288",
        "colab": {
          "base_uri": "https://localhost:8080/"
        }
      },
      "outputs": [
        {
          "output_type": "execute_result",
          "data": {
            "text/plain": [
              "0        253875\n",
              "1        112080\n",
              "2        145885\n",
              "3        267628\n",
              "4        158616\n",
              "          ...  \n",
              "21520    224791\n",
              "21521    155999\n",
              "21522     89672\n",
              "21523    244093\n",
              "21524     82047\n",
              "Name: total_income, Length: 21331, dtype: int64"
            ]
          },
          "metadata": {},
          "execution_count": 24
        }
      ],
      "source": [
        "data['total_income']"
      ]
    },
    {
      "cell_type": "code",
      "execution_count": null,
      "id": "2618fe21",
      "metadata": {
        "deletable": false,
        "id": "2618fe21",
        "outputId": "11b5cc5f-2a61-4f16-e039-34e211d9c786",
        "colab": {
          "base_uri": "https://localhost:8080/"
        }
      },
      "outputs": [
        {
          "output_type": "execute_result",
          "data": {
            "text/plain": [
              "0        B\n",
              "1        C\n",
              "2        C\n",
              "3        B\n",
              "4        C\n",
              "        ..\n",
              "21520    B\n",
              "21521    C\n",
              "21522    C\n",
              "21523    B\n",
              "21524    C\n",
              "Name: total_income_category, Length: 21331, dtype: object"
            ]
          },
          "metadata": {},
          "execution_count": 25
        }
      ],
      "source": [
        "data['total_income_category'] = data['total_income'].apply(categorize_income)\n",
        "data['total_income_category']"
      ]
    },
    {
      "cell_type": "markdown",
      "id": "d7d5b6e0",
      "metadata": {
        "deletable": false,
        "editable": false,
        "id": "d7d5b6e0"
      },
      "source": [
        "**Задание 17. Выведите на экран перечень уникальных целей взятия кредита из столбца `purpose`.**"
      ]
    },
    {
      "cell_type": "code",
      "execution_count": null,
      "id": "9e8b04d9",
      "metadata": {
        "deletable": false,
        "id": "9e8b04d9",
        "colab": {
          "base_uri": "https://localhost:8080/",
          "height": 677
        },
        "outputId": "4f933f74-715b-4535-e8c0-5905d897cfde"
      },
      "outputs": [
        {
          "output_type": "display_data",
          "data": {
            "text/plain": [
              "['покупка жилья',\n",
              " 'приобретение автомобиля',\n",
              " 'дополнительное образование',\n",
              " 'сыграть свадьбу',\n",
              " 'операции с жильем',\n",
              " 'образование',\n",
              " 'на проведение свадьбы',\n",
              " 'покупка жилья для семьи',\n",
              " 'покупка недвижимости',\n",
              " 'покупка коммерческой недвижимости',\n",
              " 'покупка жилой недвижимости',\n",
              " 'строительство собственной недвижимости',\n",
              " 'недвижимость',\n",
              " 'строительство недвижимости',\n",
              " 'на покупку подержанного автомобиля',\n",
              " 'на покупку своего автомобиля',\n",
              " 'операции с коммерческой недвижимостью',\n",
              " 'строительство жилой недвижимости',\n",
              " 'жилье',\n",
              " 'операции со своей недвижимостью',\n",
              " 'автомобили',\n",
              " 'заняться образованием',\n",
              " 'сделка с подержанным автомобилем',\n",
              " 'получение образования',\n",
              " 'автомобиль',\n",
              " 'свадьба',\n",
              " 'получение дополнительного образования',\n",
              " 'покупка своего жилья',\n",
              " 'операции с недвижимостью',\n",
              " 'получение высшего образования',\n",
              " 'свой автомобиль',\n",
              " 'сделка с автомобилем',\n",
              " 'профильное образование',\n",
              " 'высшее образование',\n",
              " 'покупка жилья для сдачи',\n",
              " 'на покупку автомобиля',\n",
              " 'ремонт жилью',\n",
              " 'заняться высшим образованием']"
            ]
          },
          "metadata": {}
        }
      ],
      "source": [
        "display(data['purpose'].unique().tolist())"
      ]
    },
    {
      "cell_type": "markdown",
      "id": "5dd89495",
      "metadata": {
        "deletable": false,
        "editable": false,
        "id": "5dd89495"
      },
      "source": [
        "**Задание 18. Создайте функцию, которая на основании данных из столбца `purpose` сформирует новый столбец `purpose_category`, в который войдут следующие категории:**\n",
        "\n",
        "- `'операции с автомобилем'`,\n",
        "- `'операции с недвижимостью'`,\n",
        "- `'проведение свадьбы'`,\n",
        "- `'получение образования'`.\n",
        "\n",
        "**Например, если в столбце `purpose` находится подстрока `'на покупку автомобиля'`, то в столбце `purpose_category` должна появиться строка `'операции с автомобилем'`.**\n",
        "\n",
        "**Используйте собственную функцию с именем `categorize_purpose()` и метод `apply()`. Изучите данные в столбце `purpose` и определите, какие подстроки помогут вам правильно определить категорию.**"
      ]
    },
    {
      "cell_type": "code",
      "execution_count": null,
      "id": "b0fd7d82",
      "metadata": {
        "deletable": false,
        "id": "b0fd7d82"
      },
      "outputs": [],
      "source": [
        "def categorize_purpose(row):\n",
        "    try:\n",
        "        if 'автом' in row:\n",
        "            return 'операции с автомобилем'\n",
        "        elif 'жил' in row or 'недвиж' in row:\n",
        "            return 'операции с недвижимостью'\n",
        "        elif 'свад' in row:\n",
        "            return 'проведение свадьбы'\n",
        "        elif 'образов' in row:\n",
        "            return 'получение образования'\n",
        "    except:\n",
        "        return 'нет категории'"
      ]
    },
    {
      "cell_type": "code",
      "execution_count": null,
      "id": "a6b02af4",
      "metadata": {
        "deletable": false,
        "id": "a6b02af4"
      },
      "outputs": [],
      "source": [
        "data['purpose_category']=data['purpose'].apply(categorize_purpose)"
      ]
    },
    {
      "cell_type": "code",
      "execution_count": null,
      "id": "6d729f26",
      "metadata": {
        "id": "6d729f26",
        "colab": {
          "base_uri": "https://localhost:8080/",
          "height": 357
        },
        "outputId": "ef7185c5-a3fd-497c-a3b2-9c6902371c05"
      },
      "outputs": [
        {
          "output_type": "execute_result",
          "data": {
            "text/plain": [
              "   children  days_employed  dob_years education  education_id  \\\n",
              "0         1    8437.673028         42    высшее             0   \n",
              "1         1    4024.803754         36   среднее             1   \n",
              "2         0    5623.422610         33   среднее             1   \n",
              "3         3    4124.747207         32   среднее             1   \n",
              "4         0  340266.072047         53   среднее             1   \n",
              "\n",
              "      family_status  family_status_id gender income_type  debt  total_income  \\\n",
              "0   женат / замужем                 0      F   сотрудник     0        253875   \n",
              "1   женат / замужем                 0      F   сотрудник     0        112080   \n",
              "2   женат / замужем                 0      M   сотрудник     0        145885   \n",
              "3   женат / замужем                 0      M   сотрудник     0        267628   \n",
              "4  гражданский брак                 1      F   пенсионер     0        158616   \n",
              "\n",
              "                      purpose total_income_category          purpose_category  \n",
              "0               покупка жилья                     B  операции с недвижимостью  \n",
              "1     приобретение автомобиля                     C    операции с автомобилем  \n",
              "2               покупка жилья                     C  операции с недвижимостью  \n",
              "3  дополнительное образование                     B     получение образования  \n",
              "4             сыграть свадьбу                     C        проведение свадьбы  "
            ],
            "text/html": [
              "\n",
              "  <div id=\"df-775e408a-2d64-492a-abb8-438a1445de38\">\n",
              "    <div class=\"colab-df-container\">\n",
              "      <div>\n",
              "<style scoped>\n",
              "    .dataframe tbody tr th:only-of-type {\n",
              "        vertical-align: middle;\n",
              "    }\n",
              "\n",
              "    .dataframe tbody tr th {\n",
              "        vertical-align: top;\n",
              "    }\n",
              "\n",
              "    .dataframe thead th {\n",
              "        text-align: right;\n",
              "    }\n",
              "</style>\n",
              "<table border=\"1\" class=\"dataframe\">\n",
              "  <thead>\n",
              "    <tr style=\"text-align: right;\">\n",
              "      <th></th>\n",
              "      <th>children</th>\n",
              "      <th>days_employed</th>\n",
              "      <th>dob_years</th>\n",
              "      <th>education</th>\n",
              "      <th>education_id</th>\n",
              "      <th>family_status</th>\n",
              "      <th>family_status_id</th>\n",
              "      <th>gender</th>\n",
              "      <th>income_type</th>\n",
              "      <th>debt</th>\n",
              "      <th>total_income</th>\n",
              "      <th>purpose</th>\n",
              "      <th>total_income_category</th>\n",
              "      <th>purpose_category</th>\n",
              "    </tr>\n",
              "  </thead>\n",
              "  <tbody>\n",
              "    <tr>\n",
              "      <th>0</th>\n",
              "      <td>1</td>\n",
              "      <td>8437.673028</td>\n",
              "      <td>42</td>\n",
              "      <td>высшее</td>\n",
              "      <td>0</td>\n",
              "      <td>женат / замужем</td>\n",
              "      <td>0</td>\n",
              "      <td>F</td>\n",
              "      <td>сотрудник</td>\n",
              "      <td>0</td>\n",
              "      <td>253875</td>\n",
              "      <td>покупка жилья</td>\n",
              "      <td>B</td>\n",
              "      <td>операции с недвижимостью</td>\n",
              "    </tr>\n",
              "    <tr>\n",
              "      <th>1</th>\n",
              "      <td>1</td>\n",
              "      <td>4024.803754</td>\n",
              "      <td>36</td>\n",
              "      <td>среднее</td>\n",
              "      <td>1</td>\n",
              "      <td>женат / замужем</td>\n",
              "      <td>0</td>\n",
              "      <td>F</td>\n",
              "      <td>сотрудник</td>\n",
              "      <td>0</td>\n",
              "      <td>112080</td>\n",
              "      <td>приобретение автомобиля</td>\n",
              "      <td>C</td>\n",
              "      <td>операции с автомобилем</td>\n",
              "    </tr>\n",
              "    <tr>\n",
              "      <th>2</th>\n",
              "      <td>0</td>\n",
              "      <td>5623.422610</td>\n",
              "      <td>33</td>\n",
              "      <td>среднее</td>\n",
              "      <td>1</td>\n",
              "      <td>женат / замужем</td>\n",
              "      <td>0</td>\n",
              "      <td>M</td>\n",
              "      <td>сотрудник</td>\n",
              "      <td>0</td>\n",
              "      <td>145885</td>\n",
              "      <td>покупка жилья</td>\n",
              "      <td>C</td>\n",
              "      <td>операции с недвижимостью</td>\n",
              "    </tr>\n",
              "    <tr>\n",
              "      <th>3</th>\n",
              "      <td>3</td>\n",
              "      <td>4124.747207</td>\n",
              "      <td>32</td>\n",
              "      <td>среднее</td>\n",
              "      <td>1</td>\n",
              "      <td>женат / замужем</td>\n",
              "      <td>0</td>\n",
              "      <td>M</td>\n",
              "      <td>сотрудник</td>\n",
              "      <td>0</td>\n",
              "      <td>267628</td>\n",
              "      <td>дополнительное образование</td>\n",
              "      <td>B</td>\n",
              "      <td>получение образования</td>\n",
              "    </tr>\n",
              "    <tr>\n",
              "      <th>4</th>\n",
              "      <td>0</td>\n",
              "      <td>340266.072047</td>\n",
              "      <td>53</td>\n",
              "      <td>среднее</td>\n",
              "      <td>1</td>\n",
              "      <td>гражданский брак</td>\n",
              "      <td>1</td>\n",
              "      <td>F</td>\n",
              "      <td>пенсионер</td>\n",
              "      <td>0</td>\n",
              "      <td>158616</td>\n",
              "      <td>сыграть свадьбу</td>\n",
              "      <td>C</td>\n",
              "      <td>проведение свадьбы</td>\n",
              "    </tr>\n",
              "  </tbody>\n",
              "</table>\n",
              "</div>\n",
              "      <button class=\"colab-df-convert\" onclick=\"convertToInteractive('df-775e408a-2d64-492a-abb8-438a1445de38')\"\n",
              "              title=\"Convert this dataframe to an interactive table.\"\n",
              "              style=\"display:none;\">\n",
              "        \n",
              "  <svg xmlns=\"http://www.w3.org/2000/svg\" height=\"24px\"viewBox=\"0 0 24 24\"\n",
              "       width=\"24px\">\n",
              "    <path d=\"M0 0h24v24H0V0z\" fill=\"none\"/>\n",
              "    <path d=\"M18.56 5.44l.94 2.06.94-2.06 2.06-.94-2.06-.94-.94-2.06-.94 2.06-2.06.94zm-11 1L8.5 8.5l.94-2.06 2.06-.94-2.06-.94L8.5 2.5l-.94 2.06-2.06.94zm10 10l.94 2.06.94-2.06 2.06-.94-2.06-.94-.94-2.06-.94 2.06-2.06.94z\"/><path d=\"M17.41 7.96l-1.37-1.37c-.4-.4-.92-.59-1.43-.59-.52 0-1.04.2-1.43.59L10.3 9.45l-7.72 7.72c-.78.78-.78 2.05 0 2.83L4 21.41c.39.39.9.59 1.41.59.51 0 1.02-.2 1.41-.59l7.78-7.78 2.81-2.81c.8-.78.8-2.07 0-2.86zM5.41 20L4 18.59l7.72-7.72 1.47 1.35L5.41 20z\"/>\n",
              "  </svg>\n",
              "      </button>\n",
              "      \n",
              "  <style>\n",
              "    .colab-df-container {\n",
              "      display:flex;\n",
              "      flex-wrap:wrap;\n",
              "      gap: 12px;\n",
              "    }\n",
              "\n",
              "    .colab-df-convert {\n",
              "      background-color: #E8F0FE;\n",
              "      border: none;\n",
              "      border-radius: 50%;\n",
              "      cursor: pointer;\n",
              "      display: none;\n",
              "      fill: #1967D2;\n",
              "      height: 32px;\n",
              "      padding: 0 0 0 0;\n",
              "      width: 32px;\n",
              "    }\n",
              "\n",
              "    .colab-df-convert:hover {\n",
              "      background-color: #E2EBFA;\n",
              "      box-shadow: 0px 1px 2px rgba(60, 64, 67, 0.3), 0px 1px 3px 1px rgba(60, 64, 67, 0.15);\n",
              "      fill: #174EA6;\n",
              "    }\n",
              "\n",
              "    [theme=dark] .colab-df-convert {\n",
              "      background-color: #3B4455;\n",
              "      fill: #D2E3FC;\n",
              "    }\n",
              "\n",
              "    [theme=dark] .colab-df-convert:hover {\n",
              "      background-color: #434B5C;\n",
              "      box-shadow: 0px 1px 3px 1px rgba(0, 0, 0, 0.15);\n",
              "      filter: drop-shadow(0px 1px 2px rgba(0, 0, 0, 0.3));\n",
              "      fill: #FFFFFF;\n",
              "    }\n",
              "  </style>\n",
              "\n",
              "      <script>\n",
              "        const buttonEl =\n",
              "          document.querySelector('#df-775e408a-2d64-492a-abb8-438a1445de38 button.colab-df-convert');\n",
              "        buttonEl.style.display =\n",
              "          google.colab.kernel.accessAllowed ? 'block' : 'none';\n",
              "\n",
              "        async function convertToInteractive(key) {\n",
              "          const element = document.querySelector('#df-775e408a-2d64-492a-abb8-438a1445de38');\n",
              "          const dataTable =\n",
              "            await google.colab.kernel.invokeFunction('convertToInteractive',\n",
              "                                                     [key], {});\n",
              "          if (!dataTable) return;\n",
              "\n",
              "          const docLinkHtml = 'Like what you see? Visit the ' +\n",
              "            '<a target=\"_blank\" href=https://colab.research.google.com/notebooks/data_table.ipynb>data table notebook</a>'\n",
              "            + ' to learn more about interactive tables.';\n",
              "          element.innerHTML = '';\n",
              "          dataTable['output_type'] = 'display_data';\n",
              "          await google.colab.output.renderOutput(dataTable, element);\n",
              "          const docLink = document.createElement('div');\n",
              "          docLink.innerHTML = docLinkHtml;\n",
              "          element.appendChild(docLink);\n",
              "        }\n",
              "      </script>\n",
              "    </div>\n",
              "  </div>\n",
              "  "
            ]
          },
          "metadata": {},
          "execution_count": 72
        }
      ],
      "source": [
        "data.head(5)"
      ]
    },
    {
      "cell_type": "markdown",
      "id": "1db6937c",
      "metadata": {
        "deletable": false,
        "editable": false,
        "id": "1db6937c"
      },
      "source": [
        "### Шаг 3. Исследуйте данные и ответьте на вопросы"
      ]
    },
    {
      "cell_type": "markdown",
      "id": "6042d3e8",
      "metadata": {
        "deletable": false,
        "editable": false,
        "id": "6042d3e8"
      },
      "source": [
        "#### 3.1 Есть ли зависимость между количеством детей и возвратом кредита в срок?"
      ]
    },
    {
      "cell_type": "code",
      "execution_count": null,
      "id": "10fdbc20",
      "metadata": {
        "deletable": false,
        "id": "10fdbc20",
        "colab": {
          "base_uri": "https://localhost:8080/"
        },
        "outputId": "be0c6d22-da90-44db-f680-caca840c6f77"
      },
      "outputs": [
        {
          "output_type": "execute_result",
          "data": {
            "text/plain": [
              "children\n",
              "0    0.924562\n",
              "1    0.907654\n",
              "2    0.905458\n",
              "3    0.918182\n",
              "4    0.902439\n",
              "5    1.000000\n",
              "Name: debt, dtype: float64"
            ]
          },
          "metadata": {},
          "execution_count": 30
        }
      ],
      "source": [
        "child_count=data.groupby('children')['debt'].count()#---(1)\n",
        "child_negative=data.groupby('children')['debt'].sum()#---(2)\n",
        "child_positive_=child_count-child_negative#---(3)\n",
        "data['debt'].unique#---(4) без сохранения\n",
        "child_debt=child_positive_/child_count#---(5)\n",
        "child_debt#---(5)\n"
      ]
    },
    {
      "cell_type": "markdown",
      "id": "e1c02bdb",
      "metadata": {
        "id": "e1c02bdb"
      },
      "source": [
        "#### 1)сгруппируем по колличеству детей от 0 до 5 стоблец с debt, где 1 - была просрочка по кредиту, 0 - не было -- посчитаем общее колличетво строк у заемщиков с разным колличеством детей\n",
        "#### 2)сгруппируем по колличеству детей от 0 до 5 стоблец с debt -- посчитаем собщую сумму по debt у заемщиков с разным колличеством детей - тогда мы получем сумму заемщиков у которых была просрочка по кредиту\n",
        "#### 3)так как в оперцаии 1 мы считали общее количетво заемщиков, а в операции 2 нашли количество заемщиков у которых была просрочка по кредиту, то мы можем найти количетсво заемщиков у которых не было просрочки отняв от результата 1 операции 2ую.....\n",
        "#### 4).....т.к. третьего не дано\n",
        "#### 5)найдем соотношение отдавших кредит в срок от всех заемщиков\n",
        "#### 6) выведем на экран"
      ]
    },
    {
      "cell_type": "code",
      "source": [
        "child_debt"
      ],
      "metadata": {
        "colab": {
          "base_uri": "https://localhost:8080/"
        },
        "id": "x_xtjXW3-eCy",
        "outputId": "75a34a05-b775-451f-88be-a5008f6458d6"
      },
      "id": "x_xtjXW3-eCy",
      "execution_count": null,
      "outputs": [
        {
          "output_type": "execute_result",
          "data": {
            "text/plain": [
              "children\n",
              "0    0.924562\n",
              "1    0.907654\n",
              "2    0.905458\n",
              "3    0.918182\n",
              "4    0.902439\n",
              "5    1.000000\n",
              "Name: debt, dtype: float64"
            ]
          },
          "metadata": {},
          "execution_count": 31
        }
      ]
    },
    {
      "cell_type": "code",
      "execution_count": null,
      "id": "ec34b55e",
      "metadata": {
        "id": "ec34b55e",
        "colab": {
          "base_uri": "https://localhost:8080/",
          "height": 269
        },
        "outputId": "001fff59-0145-4392-cc0a-3de6650d9dcb"
      },
      "outputs": [
        {
          "output_type": "execute_result",
          "data": {
            "text/plain": [
              "           sum  count  debt_percentage\n",
              "children                              \n",
              "4            4     41             9.76\n",
              "2          194   2052             9.45\n",
              "1          444   4808             9.23\n",
              "3           27    330             8.18\n",
              "0         1063  14091             7.54\n",
              "5            0      9             0.00"
            ],
            "text/html": [
              "\n",
              "  <div id=\"df-3b0fba0f-635d-4c38-9f1b-d95cec60cdeb\">\n",
              "    <div class=\"colab-df-container\">\n",
              "      <div>\n",
              "<style scoped>\n",
              "    .dataframe tbody tr th:only-of-type {\n",
              "        vertical-align: middle;\n",
              "    }\n",
              "\n",
              "    .dataframe tbody tr th {\n",
              "        vertical-align: top;\n",
              "    }\n",
              "\n",
              "    .dataframe thead th {\n",
              "        text-align: right;\n",
              "    }\n",
              "</style>\n",
              "<table border=\"1\" class=\"dataframe\">\n",
              "  <thead>\n",
              "    <tr style=\"text-align: right;\">\n",
              "      <th></th>\n",
              "      <th>sum</th>\n",
              "      <th>count</th>\n",
              "      <th>debt_percentage</th>\n",
              "    </tr>\n",
              "    <tr>\n",
              "      <th>children</th>\n",
              "      <th></th>\n",
              "      <th></th>\n",
              "      <th></th>\n",
              "    </tr>\n",
              "  </thead>\n",
              "  <tbody>\n",
              "    <tr>\n",
              "      <th>4</th>\n",
              "      <td>4</td>\n",
              "      <td>41</td>\n",
              "      <td>9.76</td>\n",
              "    </tr>\n",
              "    <tr>\n",
              "      <th>2</th>\n",
              "      <td>194</td>\n",
              "      <td>2052</td>\n",
              "      <td>9.45</td>\n",
              "    </tr>\n",
              "    <tr>\n",
              "      <th>1</th>\n",
              "      <td>444</td>\n",
              "      <td>4808</td>\n",
              "      <td>9.23</td>\n",
              "    </tr>\n",
              "    <tr>\n",
              "      <th>3</th>\n",
              "      <td>27</td>\n",
              "      <td>330</td>\n",
              "      <td>8.18</td>\n",
              "    </tr>\n",
              "    <tr>\n",
              "      <th>0</th>\n",
              "      <td>1063</td>\n",
              "      <td>14091</td>\n",
              "      <td>7.54</td>\n",
              "    </tr>\n",
              "    <tr>\n",
              "      <th>5</th>\n",
              "      <td>0</td>\n",
              "      <td>9</td>\n",
              "      <td>0.00</td>\n",
              "    </tr>\n",
              "  </tbody>\n",
              "</table>\n",
              "</div>\n",
              "      <button class=\"colab-df-convert\" onclick=\"convertToInteractive('df-3b0fba0f-635d-4c38-9f1b-d95cec60cdeb')\"\n",
              "              title=\"Convert this dataframe to an interactive table.\"\n",
              "              style=\"display:none;\">\n",
              "        \n",
              "  <svg xmlns=\"http://www.w3.org/2000/svg\" height=\"24px\"viewBox=\"0 0 24 24\"\n",
              "       width=\"24px\">\n",
              "    <path d=\"M0 0h24v24H0V0z\" fill=\"none\"/>\n",
              "    <path d=\"M18.56 5.44l.94 2.06.94-2.06 2.06-.94-2.06-.94-.94-2.06-.94 2.06-2.06.94zm-11 1L8.5 8.5l.94-2.06 2.06-.94-2.06-.94L8.5 2.5l-.94 2.06-2.06.94zm10 10l.94 2.06.94-2.06 2.06-.94-2.06-.94-.94-2.06-.94 2.06-2.06.94z\"/><path d=\"M17.41 7.96l-1.37-1.37c-.4-.4-.92-.59-1.43-.59-.52 0-1.04.2-1.43.59L10.3 9.45l-7.72 7.72c-.78.78-.78 2.05 0 2.83L4 21.41c.39.39.9.59 1.41.59.51 0 1.02-.2 1.41-.59l7.78-7.78 2.81-2.81c.8-.78.8-2.07 0-2.86zM5.41 20L4 18.59l7.72-7.72 1.47 1.35L5.41 20z\"/>\n",
              "  </svg>\n",
              "      </button>\n",
              "      \n",
              "  <style>\n",
              "    .colab-df-container {\n",
              "      display:flex;\n",
              "      flex-wrap:wrap;\n",
              "      gap: 12px;\n",
              "    }\n",
              "\n",
              "    .colab-df-convert {\n",
              "      background-color: #E8F0FE;\n",
              "      border: none;\n",
              "      border-radius: 50%;\n",
              "      cursor: pointer;\n",
              "      display: none;\n",
              "      fill: #1967D2;\n",
              "      height: 32px;\n",
              "      padding: 0 0 0 0;\n",
              "      width: 32px;\n",
              "    }\n",
              "\n",
              "    .colab-df-convert:hover {\n",
              "      background-color: #E2EBFA;\n",
              "      box-shadow: 0px 1px 2px rgba(60, 64, 67, 0.3), 0px 1px 3px 1px rgba(60, 64, 67, 0.15);\n",
              "      fill: #174EA6;\n",
              "    }\n",
              "\n",
              "    [theme=dark] .colab-df-convert {\n",
              "      background-color: #3B4455;\n",
              "      fill: #D2E3FC;\n",
              "    }\n",
              "\n",
              "    [theme=dark] .colab-df-convert:hover {\n",
              "      background-color: #434B5C;\n",
              "      box-shadow: 0px 1px 3px 1px rgba(0, 0, 0, 0.15);\n",
              "      filter: drop-shadow(0px 1px 2px rgba(0, 0, 0, 0.3));\n",
              "      fill: #FFFFFF;\n",
              "    }\n",
              "  </style>\n",
              "\n",
              "      <script>\n",
              "        const buttonEl =\n",
              "          document.querySelector('#df-3b0fba0f-635d-4c38-9f1b-d95cec60cdeb button.colab-df-convert');\n",
              "        buttonEl.style.display =\n",
              "          google.colab.kernel.accessAllowed ? 'block' : 'none';\n",
              "\n",
              "        async function convertToInteractive(key) {\n",
              "          const element = document.querySelector('#df-3b0fba0f-635d-4c38-9f1b-d95cec60cdeb');\n",
              "          const dataTable =\n",
              "            await google.colab.kernel.invokeFunction('convertToInteractive',\n",
              "                                                     [key], {});\n",
              "          if (!dataTable) return;\n",
              "\n",
              "          const docLinkHtml = 'Like what you see? Visit the ' +\n",
              "            '<a target=\"_blank\" href=https://colab.research.google.com/notebooks/data_table.ipynb>data table notebook</a>'\n",
              "            + ' to learn more about interactive tables.';\n",
              "          element.innerHTML = '';\n",
              "          dataTable['output_type'] = 'display_data';\n",
              "          await google.colab.output.renderOutput(dataTable, element);\n",
              "          const docLink = document.createElement('div');\n",
              "          docLink.innerHTML = docLinkHtml;\n",
              "          element.appendChild(docLink);\n",
              "        }\n",
              "      </script>\n",
              "    </div>\n",
              "  </div>\n",
              "  "
            ]
          },
          "metadata": {},
          "execution_count": 32
        }
      ],
      "source": [
        "data_children_debt = data.groupby('children').agg({'debt':['sum', 'count']})\n",
        "#дополнительно рассчитаем процент должников для каждой группы\n",
        "data_children_debt=data_children_debt['debt']\n",
        "data_children_debt[ 'debt_percentage'] = round(data_children_debt['sum']/data_children_debt['count']*100, 2)\n",
        "data_children_debt=data_children_debt.sort_values(by='debt_percentage',ascending=False)\n",
        "data_children_debt\n",
        "#data_children_debt['sum_weight_parameter']"
      ]
    },
    {
      "cell_type": "code",
      "source": [
        "data_children_debt[data_children_debt['debt_percentage']!=0].reset_index()[['debt_percentage','children']].corr()"
      ],
      "metadata": {
        "colab": {
          "base_uri": "https://localhost:8080/",
          "height": 112
        },
        "id": "sMIA0MUoSOwc",
        "outputId": "c59e54d6-2c24-41f4-a21d-d77fc9748416"
      },
      "id": "sMIA0MUoSOwc",
      "execution_count": null,
      "outputs": [
        {
          "output_type": "execute_result",
          "data": {
            "text/plain": [
              "                 debt_percentage  children\n",
              "debt_percentage         1.000000  0.573352\n",
              "children                0.573352  1.000000"
            ],
            "text/html": [
              "\n",
              "  <div id=\"df-3e9fc7c9-4f43-4e13-993d-472b30094e42\">\n",
              "    <div class=\"colab-df-container\">\n",
              "      <div>\n",
              "<style scoped>\n",
              "    .dataframe tbody tr th:only-of-type {\n",
              "        vertical-align: middle;\n",
              "    }\n",
              "\n",
              "    .dataframe tbody tr th {\n",
              "        vertical-align: top;\n",
              "    }\n",
              "\n",
              "    .dataframe thead th {\n",
              "        text-align: right;\n",
              "    }\n",
              "</style>\n",
              "<table border=\"1\" class=\"dataframe\">\n",
              "  <thead>\n",
              "    <tr style=\"text-align: right;\">\n",
              "      <th></th>\n",
              "      <th>debt_percentage</th>\n",
              "      <th>children</th>\n",
              "    </tr>\n",
              "  </thead>\n",
              "  <tbody>\n",
              "    <tr>\n",
              "      <th>debt_percentage</th>\n",
              "      <td>1.000000</td>\n",
              "      <td>0.573352</td>\n",
              "    </tr>\n",
              "    <tr>\n",
              "      <th>children</th>\n",
              "      <td>0.573352</td>\n",
              "      <td>1.000000</td>\n",
              "    </tr>\n",
              "  </tbody>\n",
              "</table>\n",
              "</div>\n",
              "      <button class=\"colab-df-convert\" onclick=\"convertToInteractive('df-3e9fc7c9-4f43-4e13-993d-472b30094e42')\"\n",
              "              title=\"Convert this dataframe to an interactive table.\"\n",
              "              style=\"display:none;\">\n",
              "        \n",
              "  <svg xmlns=\"http://www.w3.org/2000/svg\" height=\"24px\"viewBox=\"0 0 24 24\"\n",
              "       width=\"24px\">\n",
              "    <path d=\"M0 0h24v24H0V0z\" fill=\"none\"/>\n",
              "    <path d=\"M18.56 5.44l.94 2.06.94-2.06 2.06-.94-2.06-.94-.94-2.06-.94 2.06-2.06.94zm-11 1L8.5 8.5l.94-2.06 2.06-.94-2.06-.94L8.5 2.5l-.94 2.06-2.06.94zm10 10l.94 2.06.94-2.06 2.06-.94-2.06-.94-.94-2.06-.94 2.06-2.06.94z\"/><path d=\"M17.41 7.96l-1.37-1.37c-.4-.4-.92-.59-1.43-.59-.52 0-1.04.2-1.43.59L10.3 9.45l-7.72 7.72c-.78.78-.78 2.05 0 2.83L4 21.41c.39.39.9.59 1.41.59.51 0 1.02-.2 1.41-.59l7.78-7.78 2.81-2.81c.8-.78.8-2.07 0-2.86zM5.41 20L4 18.59l7.72-7.72 1.47 1.35L5.41 20z\"/>\n",
              "  </svg>\n",
              "      </button>\n",
              "      \n",
              "  <style>\n",
              "    .colab-df-container {\n",
              "      display:flex;\n",
              "      flex-wrap:wrap;\n",
              "      gap: 12px;\n",
              "    }\n",
              "\n",
              "    .colab-df-convert {\n",
              "      background-color: #E8F0FE;\n",
              "      border: none;\n",
              "      border-radius: 50%;\n",
              "      cursor: pointer;\n",
              "      display: none;\n",
              "      fill: #1967D2;\n",
              "      height: 32px;\n",
              "      padding: 0 0 0 0;\n",
              "      width: 32px;\n",
              "    }\n",
              "\n",
              "    .colab-df-convert:hover {\n",
              "      background-color: #E2EBFA;\n",
              "      box-shadow: 0px 1px 2px rgba(60, 64, 67, 0.3), 0px 1px 3px 1px rgba(60, 64, 67, 0.15);\n",
              "      fill: #174EA6;\n",
              "    }\n",
              "\n",
              "    [theme=dark] .colab-df-convert {\n",
              "      background-color: #3B4455;\n",
              "      fill: #D2E3FC;\n",
              "    }\n",
              "\n",
              "    [theme=dark] .colab-df-convert:hover {\n",
              "      background-color: #434B5C;\n",
              "      box-shadow: 0px 1px 3px 1px rgba(0, 0, 0, 0.15);\n",
              "      filter: drop-shadow(0px 1px 2px rgba(0, 0, 0, 0.3));\n",
              "      fill: #FFFFFF;\n",
              "    }\n",
              "  </style>\n",
              "\n",
              "      <script>\n",
              "        const buttonEl =\n",
              "          document.querySelector('#df-3e9fc7c9-4f43-4e13-993d-472b30094e42 button.colab-df-convert');\n",
              "        buttonEl.style.display =\n",
              "          google.colab.kernel.accessAllowed ? 'block' : 'none';\n",
              "\n",
              "        async function convertToInteractive(key) {\n",
              "          const element = document.querySelector('#df-3e9fc7c9-4f43-4e13-993d-472b30094e42');\n",
              "          const dataTable =\n",
              "            await google.colab.kernel.invokeFunction('convertToInteractive',\n",
              "                                                     [key], {});\n",
              "          if (!dataTable) return;\n",
              "\n",
              "          const docLinkHtml = 'Like what you see? Visit the ' +\n",
              "            '<a target=\"_blank\" href=https://colab.research.google.com/notebooks/data_table.ipynb>data table notebook</a>'\n",
              "            + ' to learn more about interactive tables.';\n",
              "          element.innerHTML = '';\n",
              "          dataTable['output_type'] = 'display_data';\n",
              "          await google.colab.output.renderOutput(dataTable, element);\n",
              "          const docLink = document.createElement('div');\n",
              "          docLink.innerHTML = docLinkHtml;\n",
              "          element.appendChild(docLink);\n",
              "        }\n",
              "      </script>\n",
              "    </div>\n",
              "  </div>\n",
              "  "
            ]
          },
          "metadata": {},
          "execution_count": 33
        }
      ]
    },
    {
      "cell_type": "markdown",
      "source": [
        "**Вывод:**\n",
        "\n",
        "0.57 корреляции - это значит сильная связь. То есть чем больше детей у заемщика, тем больше шанс иметь задолженность по кредиту."
      ],
      "metadata": {
        "id": "V29UlLl_XPEr"
      },
      "id": "V29UlLl_XPEr"
    },
    {
      "cell_type": "code",
      "source": [
        "print(f'Средний показатель уровня просрочки по кредиту:  {round((1-child_debt.mean())*100,2)}')\n"
      ],
      "metadata": {
        "colab": {
          "base_uri": "https://localhost:8080/"
        },
        "id": "y6VaALYOF7h4",
        "outputId": "a4ac0327-9ca4-4185-d448-1e1a91c2ebf8"
      },
      "id": "y6VaALYOF7h4",
      "execution_count": null,
      "outputs": [
        {
          "output_type": "stream",
          "name": "stdout",
          "text": [
            "Средний показатель уровня просрочки по кредиту:  7.36\n"
          ]
        }
      ]
    },
    {
      "cell_type": "code",
      "execution_count": null,
      "id": "b0f50beb",
      "metadata": {
        "id": "b0f50beb",
        "colab": {
          "base_uri": "https://localhost:8080/",
          "height": 472
        },
        "outputId": "b31a9720-3a76-4c13-da90-1b8d9b70d92d"
      },
      "outputs": [
        {
          "output_type": "display_data",
          "data": {
            "text/plain": [
              "<Figure size 640x480 with 1 Axes>"
            ],
            "image/png": "[encoded data removed]"
          },
          "metadata": {}
        }
      ],
      "source": [
        "sns.barplot(x=data_children_debt.index,y=data_children_debt['debt_percentage'])\n",
        "plt.title('Сравнение среднего процента просрочки в зависимости от количества детей')\n",
        "sns.despine()"
      ]
    },
    {
      "cell_type": "code",
      "source": [
        "data[['debt','children']].corr()"
      ],
      "metadata": {
        "colab": {
          "base_uri": "https://localhost:8080/",
          "height": 112
        },
        "id": "FBaZx7cfMzsn",
        "outputId": "50b81fda-a85a-4e4e-9ae1-dffc55c114fc"
      },
      "id": "FBaZx7cfMzsn",
      "execution_count": null,
      "outputs": [
        {
          "output_type": "execute_result",
          "data": {
            "text/plain": [
              "              debt  children\n",
              "debt      1.000000  0.024643\n",
              "children  0.024643  1.000000"
            ],
            "text/html": [
              "\n",
              "  <div id=\"df-ce47d33d-30aa-4cb4-9018-d0e0c4b5bb41\">\n",
              "    <div class=\"colab-df-container\">\n",
              "      <div>\n",
              "<style scoped>\n",
              "    .dataframe tbody tr th:only-of-type {\n",
              "        vertical-align: middle;\n",
              "    }\n",
              "\n",
              "    .dataframe tbody tr th {\n",
              "        vertical-align: top;\n",
              "    }\n",
              "\n",
              "    .dataframe thead th {\n",
              "        text-align: right;\n",
              "    }\n",
              "</style>\n",
              "<table border=\"1\" class=\"dataframe\">\n",
              "  <thead>\n",
              "    <tr style=\"text-align: right;\">\n",
              "      <th></th>\n",
              "      <th>debt</th>\n",
              "      <th>children</th>\n",
              "    </tr>\n",
              "  </thead>\n",
              "  <tbody>\n",
              "    <tr>\n",
              "      <th>debt</th>\n",
              "      <td>1.000000</td>\n",
              "      <td>0.024643</td>\n",
              "    </tr>\n",
              "    <tr>\n",
              "      <th>children</th>\n",
              "      <td>0.024643</td>\n",
              "      <td>1.000000</td>\n",
              "    </tr>\n",
              "  </tbody>\n",
              "</table>\n",
              "</div>\n",
              "      <button class=\"colab-df-convert\" onclick=\"convertToInteractive('df-ce47d33d-30aa-4cb4-9018-d0e0c4b5bb41')\"\n",
              "              title=\"Convert this dataframe to an interactive table.\"\n",
              "              style=\"display:none;\">\n",
              "        \n",
              "  <svg xmlns=\"http://www.w3.org/2000/svg\" height=\"24px\"viewBox=\"0 0 24 24\"\n",
              "       width=\"24px\">\n",
              "    <path d=\"M0 0h24v24H0V0z\" fill=\"none\"/>\n",
              "    <path d=\"M18.56 5.44l.94 2.06.94-2.06 2.06-.94-2.06-.94-.94-2.06-.94 2.06-2.06.94zm-11 1L8.5 8.5l.94-2.06 2.06-.94-2.06-.94L8.5 2.5l-.94 2.06-2.06.94zm10 10l.94 2.06.94-2.06 2.06-.94-2.06-.94-.94-2.06-.94 2.06-2.06.94z\"/><path d=\"M17.41 7.96l-1.37-1.37c-.4-.4-.92-.59-1.43-.59-.52 0-1.04.2-1.43.59L10.3 9.45l-7.72 7.72c-.78.78-.78 2.05 0 2.83L4 21.41c.39.39.9.59 1.41.59.51 0 1.02-.2 1.41-.59l7.78-7.78 2.81-2.81c.8-.78.8-2.07 0-2.86zM5.41 20L4 18.59l7.72-7.72 1.47 1.35L5.41 20z\"/>\n",
              "  </svg>\n",
              "      </button>\n",
              "      \n",
              "  <style>\n",
              "    .colab-df-container {\n",
              "      display:flex;\n",
              "      flex-wrap:wrap;\n",
              "      gap: 12px;\n",
              "    }\n",
              "\n",
              "    .colab-df-convert {\n",
              "      background-color: #E8F0FE;\n",
              "      border: none;\n",
              "      border-radius: 50%;\n",
              "      cursor: pointer;\n",
              "      display: none;\n",
              "      fill: #1967D2;\n",
              "      height: 32px;\n",
              "      padding: 0 0 0 0;\n",
              "      width: 32px;\n",
              "    }\n",
              "\n",
              "    .colab-df-convert:hover {\n",
              "      background-color: #E2EBFA;\n",
              "      box-shadow: 0px 1px 2px rgba(60, 64, 67, 0.3), 0px 1px 3px 1px rgba(60, 64, 67, 0.15);\n",
              "      fill: #174EA6;\n",
              "    }\n",
              "\n",
              "    [theme=dark] .colab-df-convert {\n",
              "      background-color: #3B4455;\n",
              "      fill: #D2E3FC;\n",
              "    }\n",
              "\n",
              "    [theme=dark] .colab-df-convert:hover {\n",
              "      background-color: #434B5C;\n",
              "      box-shadow: 0px 1px 3px 1px rgba(0, 0, 0, 0.15);\n",
              "      filter: drop-shadow(0px 1px 2px rgba(0, 0, 0, 0.3));\n",
              "      fill: #FFFFFF;\n",
              "    }\n",
              "  </style>\n",
              "\n",
              "      <script>\n",
              "        const buttonEl =\n",
              "          document.querySelector('#df-ce47d33d-30aa-4cb4-9018-d0e0c4b5bb41 button.colab-df-convert');\n",
              "        buttonEl.style.display =\n",
              "          google.colab.kernel.accessAllowed ? 'block' : 'none';\n",
              "\n",
              "        async function convertToInteractive(key) {\n",
              "          const element = document.querySelector('#df-ce47d33d-30aa-4cb4-9018-d0e0c4b5bb41');\n",
              "          const dataTable =\n",
              "            await google.colab.kernel.invokeFunction('convertToInteractive',\n",
              "                                                     [key], {});\n",
              "          if (!dataTable) return;\n",
              "\n",
              "          const docLinkHtml = 'Like what you see? Visit the ' +\n",
              "            '<a target=\"_blank\" href=https://colab.research.google.com/notebooks/data_table.ipynb>data table notebook</a>'\n",
              "            + ' to learn more about interactive tables.';\n",
              "          element.innerHTML = '';\n",
              "          dataTable['output_type'] = 'display_data';\n",
              "          await google.colab.output.renderOutput(dataTable, element);\n",
              "          const docLink = document.createElement('div');\n",
              "          docLink.innerHTML = docLinkHtml;\n",
              "          element.appendChild(docLink);\n",
              "        }\n",
              "      </script>\n",
              "    </div>\n",
              "  </div>\n",
              "  "
            ]
          },
          "metadata": {},
          "execution_count": 36
        }
      ]
    },
    {
      "cell_type": "markdown",
      "id": "5d2bd739",
      "metadata": {
        "id": "5d2bd739"
      },
      "source": [
        "**Вывод.1:** Cильно бросается в глаза только доля непросроченных кредиторов у которых 5 детей. У людей без детей средняя платежеспособность. у людей с тремя детьми ситуация не сильн отличается ее скорре можно назватб пограничной. У людей же с 1,2 и 4 детьми есть проблемы с платежеспособностью. Закономерности в этой группе нет. **Однако** этот вывод актуален если не смотреть на размеры выборки.\n",
        "\n",
        "Если же делать вывод учитывая размеры выборки, то из-за малых размеров выборки у когорт с 3, 4 и 5 детьми, то на лицо возрастающая последовательностб значений. На лицо корреляция что с увеличением количества детей у заемщика, повышается шанс невозврата кредита. Так что при переизбытке заемщиков предпочтение стоит отдавать заемщикам с малым количеством детей."
      ]
    },
    {
      "cell_type": "markdown",
      "id": "7f904c45",
      "metadata": {
        "deletable": false,
        "editable": false,
        "id": "7f904c45"
      },
      "source": [
        "#### 3.2 Есть ли зависимость между семейным положением и возвратом кредита в срок?"
      ]
    },
    {
      "cell_type": "code",
      "execution_count": null,
      "id": "1b5f0b72",
      "metadata": {
        "deletable": false,
        "id": "1b5f0b72",
        "colab": {
          "base_uri": "https://localhost:8080/",
          "height": 357
        },
        "outputId": "34a78dd9-7cf6-436b-d44b-11305069b1bb"
      },
      "outputs": [
        {
          "output_type": "execute_result",
          "data": {
            "text/plain": [
              "   children  days_employed  dob_years education  education_id  \\\n",
              "0         1    8437.673028         42    высшее             0   \n",
              "1         1    4024.803754         36   среднее             1   \n",
              "2         0    5623.422610         33   среднее             1   \n",
              "3         3    4124.747207         32   среднее             1   \n",
              "4         0  340266.072047         53   среднее             1   \n",
              "\n",
              "      family_status  family_status_id gender income_type  debt  total_income  \\\n",
              "0   женат / замужем                 0      F   сотрудник     0        253875   \n",
              "1   женат / замужем                 0      F   сотрудник     0        112080   \n",
              "2   женат / замужем                 0      M   сотрудник     0        145885   \n",
              "3   женат / замужем                 0      M   сотрудник     0        267628   \n",
              "4  гражданский брак                 1      F   пенсионер     0        158616   \n",
              "\n",
              "                      purpose total_income_category          purpose_category  \n",
              "0               покупка жилья                     B  операции с недвижимостью  \n",
              "1     приобретение автомобиля                     C    операции с автомобилем  \n",
              "2               покупка жилья                     C  операции с недвижимостью  \n",
              "3  дополнительное образование                     B     получение образования  \n",
              "4             сыграть свадьбу                     C        проведение свадьбы  "
            ],
            "text/html": [
              "\n",
              "  <div id=\"df-078d75cf-1f28-4969-8481-ec575f985533\">\n",
              "    <div class=\"colab-df-container\">\n",
              "      <div>\n",
              "<style scoped>\n",
              "    .dataframe tbody tr th:only-of-type {\n",
              "        vertical-align: middle;\n",
              "    }\n",
              "\n",
              "    .dataframe tbody tr th {\n",
              "        vertical-align: top;\n",
              "    }\n",
              "\n",
              "    .dataframe thead th {\n",
              "        text-align: right;\n",
              "    }\n",
              "</style>\n",
              "<table border=\"1\" class=\"dataframe\">\n",
              "  <thead>\n",
              "    <tr style=\"text-align: right;\">\n",
              "      <th></th>\n",
              "      <th>children</th>\n",
              "      <th>days_employed</th>\n",
              "      <th>dob_years</th>\n",
              "      <th>education</th>\n",
              "      <th>education_id</th>\n",
              "      <th>family_status</th>\n",
              "      <th>family_status_id</th>\n",
              "      <th>gender</th>\n",
              "      <th>income_type</th>\n",
              "      <th>debt</th>\n",
              "      <th>total_income</th>\n",
              "      <th>purpose</th>\n",
              "      <th>total_income_category</th>\n",
              "      <th>purpose_category</th>\n",
              "    </tr>\n",
              "  </thead>\n",
              "  <tbody>\n",
              "    <tr>\n",
              "      <th>0</th>\n",
              "      <td>1</td>\n",
              "      <td>8437.673028</td>\n",
              "      <td>42</td>\n",
              "      <td>высшее</td>\n",
              "      <td>0</td>\n",
              "      <td>женат / замужем</td>\n",
              "      <td>0</td>\n",
              "      <td>F</td>\n",
              "      <td>сотрудник</td>\n",
              "      <td>0</td>\n",
              "      <td>253875</td>\n",
              "      <td>покупка жилья</td>\n",
              "      <td>B</td>\n",
              "      <td>операции с недвижимостью</td>\n",
              "    </tr>\n",
              "    <tr>\n",
              "      <th>1</th>\n",
              "      <td>1</td>\n",
              "      <td>4024.803754</td>\n",
              "      <td>36</td>\n",
              "      <td>среднее</td>\n",
              "      <td>1</td>\n",
              "      <td>женат / замужем</td>\n",
              "      <td>0</td>\n",
              "      <td>F</td>\n",
              "      <td>сотрудник</td>\n",
              "      <td>0</td>\n",
              "      <td>112080</td>\n",
              "      <td>приобретение автомобиля</td>\n",
              "      <td>C</td>\n",
              "      <td>операции с автомобилем</td>\n",
              "    </tr>\n",
              "    <tr>\n",
              "      <th>2</th>\n",
              "      <td>0</td>\n",
              "      <td>5623.422610</td>\n",
              "      <td>33</td>\n",
              "      <td>среднее</td>\n",
              "      <td>1</td>\n",
              "      <td>женат / замужем</td>\n",
              "      <td>0</td>\n",
              "      <td>M</td>\n",
              "      <td>сотрудник</td>\n",
              "      <td>0</td>\n",
              "      <td>145885</td>\n",
              "      <td>покупка жилья</td>\n",
              "      <td>C</td>\n",
              "      <td>операции с недвижимостью</td>\n",
              "    </tr>\n",
              "    <tr>\n",
              "      <th>3</th>\n",
              "      <td>3</td>\n",
              "      <td>4124.747207</td>\n",
              "      <td>32</td>\n",
              "      <td>среднее</td>\n",
              "      <td>1</td>\n",
              "      <td>женат / замужем</td>\n",
              "      <td>0</td>\n",
              "      <td>M</td>\n",
              "      <td>сотрудник</td>\n",
              "      <td>0</td>\n",
              "      <td>267628</td>\n",
              "      <td>дополнительное образование</td>\n",
              "      <td>B</td>\n",
              "      <td>получение образования</td>\n",
              "    </tr>\n",
              "    <tr>\n",
              "      <th>4</th>\n",
              "      <td>0</td>\n",
              "      <td>340266.072047</td>\n",
              "      <td>53</td>\n",
              "      <td>среднее</td>\n",
              "      <td>1</td>\n",
              "      <td>гражданский брак</td>\n",
              "      <td>1</td>\n",
              "      <td>F</td>\n",
              "      <td>пенсионер</td>\n",
              "      <td>0</td>\n",
              "      <td>158616</td>\n",
              "      <td>сыграть свадьбу</td>\n",
              "      <td>C</td>\n",
              "      <td>проведение свадьбы</td>\n",
              "    </tr>\n",
              "  </tbody>\n",
              "</table>\n",
              "</div>\n",
              "      <button class=\"colab-df-convert\" onclick=\"convertToInteractive('df-078d75cf-1f28-4969-8481-ec575f985533')\"\n",
              "              title=\"Convert this dataframe to an interactive table.\"\n",
              "              style=\"display:none;\">\n",
              "        \n",
              "  <svg xmlns=\"http://www.w3.org/2000/svg\" height=\"24px\"viewBox=\"0 0 24 24\"\n",
              "       width=\"24px\">\n",
              "    <path d=\"M0 0h24v24H0V0z\" fill=\"none\"/>\n",
              "    <path d=\"M18.56 5.44l.94 2.06.94-2.06 2.06-.94-2.06-.94-.94-2.06-.94 2.06-2.06.94zm-11 1L8.5 8.5l.94-2.06 2.06-.94-2.06-.94L8.5 2.5l-.94 2.06-2.06.94zm10 10l.94 2.06.94-2.06 2.06-.94-2.06-.94-.94-2.06-.94 2.06-2.06.94z\"/><path d=\"M17.41 7.96l-1.37-1.37c-.4-.4-.92-.59-1.43-.59-.52 0-1.04.2-1.43.59L10.3 9.45l-7.72 7.72c-.78.78-.78 2.05 0 2.83L4 21.41c.39.39.9.59 1.41.59.51 0 1.02-.2 1.41-.59l7.78-7.78 2.81-2.81c.8-.78.8-2.07 0-2.86zM5.41 20L4 18.59l7.72-7.72 1.47 1.35L5.41 20z\"/>\n",
              "  </svg>\n",
              "      </button>\n",
              "      \n",
              "  <style>\n",
              "    .colab-df-container {\n",
              "      display:flex;\n",
              "      flex-wrap:wrap;\n",
              "      gap: 12px;\n",
              "    }\n",
              "\n",
              "    .colab-df-convert {\n",
              "      background-color: #E8F0FE;\n",
              "      border: none;\n",
              "      border-radius: 50%;\n",
              "      cursor: pointer;\n",
              "      display: none;\n",
              "      fill: #1967D2;\n",
              "      height: 32px;\n",
              "      padding: 0 0 0 0;\n",
              "      width: 32px;\n",
              "    }\n",
              "\n",
              "    .colab-df-convert:hover {\n",
              "      background-color: #E2EBFA;\n",
              "      box-shadow: 0px 1px 2px rgba(60, 64, 67, 0.3), 0px 1px 3px 1px rgba(60, 64, 67, 0.15);\n",
              "      fill: #174EA6;\n",
              "    }\n",
              "\n",
              "    [theme=dark] .colab-df-convert {\n",
              "      background-color: #3B4455;\n",
              "      fill: #D2E3FC;\n",
              "    }\n",
              "\n",
              "    [theme=dark] .colab-df-convert:hover {\n",
              "      background-color: #434B5C;\n",
              "      box-shadow: 0px 1px 3px 1px rgba(0, 0, 0, 0.15);\n",
              "      filter: drop-shadow(0px 1px 2px rgba(0, 0, 0, 0.3));\n",
              "      fill: #FFFFFF;\n",
              "    }\n",
              "  </style>\n",
              "\n",
              "      <script>\n",
              "        const buttonEl =\n",
              "          document.querySelector('#df-078d75cf-1f28-4969-8481-ec575f985533 button.colab-df-convert');\n",
              "        buttonEl.style.display =\n",
              "          google.colab.kernel.accessAllowed ? 'block' : 'none';\n",
              "\n",
              "        async function convertToInteractive(key) {\n",
              "          const element = document.querySelector('#df-078d75cf-1f28-4969-8481-ec575f985533');\n",
              "          const dataTable =\n",
              "            await google.colab.kernel.invokeFunction('convertToInteractive',\n",
              "                                                     [key], {});\n",
              "          if (!dataTable) return;\n",
              "\n",
              "          const docLinkHtml = 'Like what you see? Visit the ' +\n",
              "            '<a target=\"_blank\" href=https://colab.research.google.com/notebooks/data_table.ipynb>data table notebook</a>'\n",
              "            + ' to learn more about interactive tables.';\n",
              "          element.innerHTML = '';\n",
              "          dataTable['output_type'] = 'display_data';\n",
              "          await google.colab.output.renderOutput(dataTable, element);\n",
              "          const docLink = document.createElement('div');\n",
              "          docLink.innerHTML = docLinkHtml;\n",
              "          element.appendChild(docLink);\n",
              "        }\n",
              "      </script>\n",
              "    </div>\n",
              "  </div>\n",
              "  "
            ]
          },
          "metadata": {},
          "execution_count": 50
        }
      ],
      "source": [
        "data.head(5)"
      ]
    },
    {
      "cell_type": "code",
      "execution_count": null,
      "id": "38dc45d2",
      "metadata": {
        "id": "38dc45d2",
        "colab": {
          "base_uri": "https://localhost:8080/",
          "height": 238
        },
        "outputId": "7ef848e0-45e8-4491-e76c-2d0c04719e3d"
      },
      "outputs": [
        {
          "output_type": "execute_result",
          "data": {
            "text/plain": [
              "                           debt\n",
              "family_status                  \n",
              "Не женат / не замужем  0.902361\n",
              "гражданский брак       0.906870\n",
              "женат / замужем        0.924394\n",
              "в разводе              0.929352\n",
              "вдовец / вдова         0.933754"
            ],
            "text/html": [
              "\n",
              "  <div id=\"df-18673649-f115-4e49-9b69-e75ba5dafc39\">\n",
              "    <div class=\"colab-df-container\">\n",
              "      <div>\n",
              "<style scoped>\n",
              "    .dataframe tbody tr th:only-of-type {\n",
              "        vertical-align: middle;\n",
              "    }\n",
              "\n",
              "    .dataframe tbody tr th {\n",
              "        vertical-align: top;\n",
              "    }\n",
              "\n",
              "    .dataframe thead th {\n",
              "        text-align: right;\n",
              "    }\n",
              "</style>\n",
              "<table border=\"1\" class=\"dataframe\">\n",
              "  <thead>\n",
              "    <tr style=\"text-align: right;\">\n",
              "      <th></th>\n",
              "      <th>debt</th>\n",
              "    </tr>\n",
              "    <tr>\n",
              "      <th>family_status</th>\n",
              "      <th></th>\n",
              "    </tr>\n",
              "  </thead>\n",
              "  <tbody>\n",
              "    <tr>\n",
              "      <th>Не женат / не замужем</th>\n",
              "      <td>0.902361</td>\n",
              "    </tr>\n",
              "    <tr>\n",
              "      <th>гражданский брак</th>\n",
              "      <td>0.906870</td>\n",
              "    </tr>\n",
              "    <tr>\n",
              "      <th>женат / замужем</th>\n",
              "      <td>0.924394</td>\n",
              "    </tr>\n",
              "    <tr>\n",
              "      <th>в разводе</th>\n",
              "      <td>0.929352</td>\n",
              "    </tr>\n",
              "    <tr>\n",
              "      <th>вдовец / вдова</th>\n",
              "      <td>0.933754</td>\n",
              "    </tr>\n",
              "  </tbody>\n",
              "</table>\n",
              "</div>\n",
              "      <button class=\"colab-df-convert\" onclick=\"convertToInteractive('df-18673649-f115-4e49-9b69-e75ba5dafc39')\"\n",
              "              title=\"Convert this dataframe to an interactive table.\"\n",
              "              style=\"display:none;\">\n",
              "        \n",
              "  <svg xmlns=\"http://www.w3.org/2000/svg\" height=\"24px\"viewBox=\"0 0 24 24\"\n",
              "       width=\"24px\">\n",
              "    <path d=\"M0 0h24v24H0V0z\" fill=\"none\"/>\n",
              "    <path d=\"M18.56 5.44l.94 2.06.94-2.06 2.06-.94-2.06-.94-.94-2.06-.94 2.06-2.06.94zm-11 1L8.5 8.5l.94-2.06 2.06-.94-2.06-.94L8.5 2.5l-.94 2.06-2.06.94zm10 10l.94 2.06.94-2.06 2.06-.94-2.06-.94-.94-2.06-.94 2.06-2.06.94z\"/><path d=\"M17.41 7.96l-1.37-1.37c-.4-.4-.92-.59-1.43-.59-.52 0-1.04.2-1.43.59L10.3 9.45l-7.72 7.72c-.78.78-.78 2.05 0 2.83L4 21.41c.39.39.9.59 1.41.59.51 0 1.02-.2 1.41-.59l7.78-7.78 2.81-2.81c.8-.78.8-2.07 0-2.86zM5.41 20L4 18.59l7.72-7.72 1.47 1.35L5.41 20z\"/>\n",
              "  </svg>\n",
              "      </button>\n",
              "      \n",
              "  <style>\n",
              "    .colab-df-container {\n",
              "      display:flex;\n",
              "      flex-wrap:wrap;\n",
              "      gap: 12px;\n",
              "    }\n",
              "\n",
              "    .colab-df-convert {\n",
              "      background-color: #E8F0FE;\n",
              "      border: none;\n",
              "      border-radius: 50%;\n",
              "      cursor: pointer;\n",
              "      display: none;\n",
              "      fill: #1967D2;\n",
              "      height: 32px;\n",
              "      padding: 0 0 0 0;\n",
              "      width: 32px;\n",
              "    }\n",
              "\n",
              "    .colab-df-convert:hover {\n",
              "      background-color: #E2EBFA;\n",
              "      box-shadow: 0px 1px 2px rgba(60, 64, 67, 0.3), 0px 1px 3px 1px rgba(60, 64, 67, 0.15);\n",
              "      fill: #174EA6;\n",
              "    }\n",
              "\n",
              "    [theme=dark] .colab-df-convert {\n",
              "      background-color: #3B4455;\n",
              "      fill: #D2E3FC;\n",
              "    }\n",
              "\n",
              "    [theme=dark] .colab-df-convert:hover {\n",
              "      background-color: #434B5C;\n",
              "      box-shadow: 0px 1px 3px 1px rgba(0, 0, 0, 0.15);\n",
              "      filter: drop-shadow(0px 1px 2px rgba(0, 0, 0, 0.3));\n",
              "      fill: #FFFFFF;\n",
              "    }\n",
              "  </style>\n",
              "\n",
              "      <script>\n",
              "        const buttonEl =\n",
              "          document.querySelector('#df-18673649-f115-4e49-9b69-e75ba5dafc39 button.colab-df-convert');\n",
              "        buttonEl.style.display =\n",
              "          google.colab.kernel.accessAllowed ? 'block' : 'none';\n",
              "\n",
              "        async function convertToInteractive(key) {\n",
              "          const element = document.querySelector('#df-18673649-f115-4e49-9b69-e75ba5dafc39');\n",
              "          const dataTable =\n",
              "            await google.colab.kernel.invokeFunction('convertToInteractive',\n",
              "                                                     [key], {});\n",
              "          if (!dataTable) return;\n",
              "\n",
              "          const docLinkHtml = 'Like what you see? Visit the ' +\n",
              "            '<a target=\"_blank\" href=https://colab.research.google.com/notebooks/data_table.ipynb>data table notebook</a>'\n",
              "            + ' to learn more about interactive tables.';\n",
              "          element.innerHTML = '';\n",
              "          dataTable['output_type'] = 'display_data';\n",
              "          await google.colab.output.renderOutput(dataTable, element);\n",
              "          const docLink = document.createElement('div');\n",
              "          docLink.innerHTML = docLinkHtml;\n",
              "          element.appendChild(docLink);\n",
              "        }\n",
              "      </script>\n",
              "    </div>\n",
              "  </div>\n",
              "  "
            ]
          },
          "metadata": {},
          "execution_count": 54
        }
      ],
      "source": [
        "data['family_status'].unique()#---(1)\n",
        "family_all=data.groupby('family_status')['debt'].count() #---(2)\n",
        "family_negative=data.groupby('family_status')['debt'].sum()#---(3)\n",
        "family_positive_=family_all-family_negative#---(4)\n",
        "family_debt=family_positive_/family_all#---(5)\n",
        "pd.DataFrame(family_debt.sort_values())"
      ]
    },
    {
      "cell_type": "markdown",
      "id": "66ca0f13",
      "metadata": {
        "id": "66ca0f13"
      },
      "source": [
        "1)выведем на экран и узнам какие статутсы вообще есть:'женат / замужем', 'гражданский брак', 'вдовец / вдова','в разводе', 'Не женат / не замужем'\n",
        "2)сгруппируем по семенйному положению:'женат / замужем', 'гражданский брак', 'вдовец / вдова','в разводе', 'Не женат / не замужем' с debt, где 1 - была просрочка по кредиту, 0 - не было -- посчитаем общее колличетво строк у заемщиков с разным семейным положением\n",
        "3)сгруппируем по семенйному положению стоблец с debt -- посчитаем собщую сумму по debt у заемщиков с разным семейным положением - тогда мы получем сумму заемщиков у которых была просрочка по кредиту\n",
        "4)так как в оперцаии 2 мы считали общее количество заемщиков, а в операции 3 нашли количество заемщиков у которых была просрочка по кредиту, то мы можем найти количетсво заемщиков у которых не было просрочки отняв от результата 2 операции 3ю.\n",
        "5)найдем соотношение отдавших кредит в срок от всех заемщиков\n",
        "6) выведем на экран"
      ]
    },
    {
      "cell_type": "code",
      "execution_count": null,
      "id": "83879dda",
      "metadata": {
        "deletable": false,
        "id": "83879dda",
        "colab": {
          "base_uri": "https://localhost:8080/",
          "height": 708
        },
        "outputId": "4e21c895-2aaa-4ba0-bc4e-fa84baf8a92e"
      },
      "outputs": [
        {
          "output_type": "display_data",
          "data": {
            "text/plain": [
              "                       sum  count  debt_percentage\n",
              "family_status                                     \n",
              "Не женат / не замужем  273   2796             9.76\n",
              "гражданский брак       385   4134             9.31\n",
              "женат / замужем        927  12261             7.56\n",
              "в разводе               84   1189             7.06\n",
              "вдовец / вдова          63    951             6.62"
            ],
            "text/html": [
              "\n",
              "  <div id=\"df-7698cab2-ce23-456a-b201-0c797961fdc4\">\n",
              "    <div class=\"colab-df-container\">\n",
              "      <div>\n",
              "<style scoped>\n",
              "    .dataframe tbody tr th:only-of-type {\n",
              "        vertical-align: middle;\n",
              "    }\n",
              "\n",
              "    .dataframe tbody tr th {\n",
              "        vertical-align: top;\n",
              "    }\n",
              "\n",
              "    .dataframe thead th {\n",
              "        text-align: right;\n",
              "    }\n",
              "</style>\n",
              "<table border=\"1\" class=\"dataframe\">\n",
              "  <thead>\n",
              "    <tr style=\"text-align: right;\">\n",
              "      <th></th>\n",
              "      <th>sum</th>\n",
              "      <th>count</th>\n",
              "      <th>debt_percentage</th>\n",
              "    </tr>\n",
              "    <tr>\n",
              "      <th>family_status</th>\n",
              "      <th></th>\n",
              "      <th></th>\n",
              "      <th></th>\n",
              "    </tr>\n",
              "  </thead>\n",
              "  <tbody>\n",
              "    <tr>\n",
              "      <th>Не женат / не замужем</th>\n",
              "      <td>273</td>\n",
              "      <td>2796</td>\n",
              "      <td>9.76</td>\n",
              "    </tr>\n",
              "    <tr>\n",
              "      <th>гражданский брак</th>\n",
              "      <td>385</td>\n",
              "      <td>4134</td>\n",
              "      <td>9.31</td>\n",
              "    </tr>\n",
              "    <tr>\n",
              "      <th>женат / замужем</th>\n",
              "      <td>927</td>\n",
              "      <td>12261</td>\n",
              "      <td>7.56</td>\n",
              "    </tr>\n",
              "    <tr>\n",
              "      <th>в разводе</th>\n",
              "      <td>84</td>\n",
              "      <td>1189</td>\n",
              "      <td>7.06</td>\n",
              "    </tr>\n",
              "    <tr>\n",
              "      <th>вдовец / вдова</th>\n",
              "      <td>63</td>\n",
              "      <td>951</td>\n",
              "      <td>6.62</td>\n",
              "    </tr>\n",
              "  </tbody>\n",
              "</table>\n",
              "</div>\n",
              "      <button class=\"colab-df-convert\" onclick=\"convertToInteractive('df-7698cab2-ce23-456a-b201-0c797961fdc4')\"\n",
              "              title=\"Convert this dataframe to an interactive table.\"\n",
              "              style=\"display:none;\">\n",
              "        \n",
              "  <svg xmlns=\"http://www.w3.org/2000/svg\" height=\"24px\"viewBox=\"0 0 24 24\"\n",
              "       width=\"24px\">\n",
              "    <path d=\"M0 0h24v24H0V0z\" fill=\"none\"/>\n",
              "    <path d=\"M18.56 5.44l.94 2.06.94-2.06 2.06-.94-2.06-.94-.94-2.06-.94 2.06-2.06.94zm-11 1L8.5 8.5l.94-2.06 2.06-.94-2.06-.94L8.5 2.5l-.94 2.06-2.06.94zm10 10l.94 2.06.94-2.06 2.06-.94-2.06-.94-.94-2.06-.94 2.06-2.06.94z\"/><path d=\"M17.41 7.96l-1.37-1.37c-.4-.4-.92-.59-1.43-.59-.52 0-1.04.2-1.43.59L10.3 9.45l-7.72 7.72c-.78.78-.78 2.05 0 2.83L4 21.41c.39.39.9.59 1.41.59.51 0 1.02-.2 1.41-.59l7.78-7.78 2.81-2.81c.8-.78.8-2.07 0-2.86zM5.41 20L4 18.59l7.72-7.72 1.47 1.35L5.41 20z\"/>\n",
              "  </svg>\n",
              "      </button>\n",
              "      \n",
              "  <style>\n",
              "    .colab-df-container {\n",
              "      display:flex;\n",
              "      flex-wrap:wrap;\n",
              "      gap: 12px;\n",
              "    }\n",
              "\n",
              "    .colab-df-convert {\n",
              "      background-color: #E8F0FE;\n",
              "      border: none;\n",
              "      border-radius: 50%;\n",
              "      cursor: pointer;\n",
              "      display: none;\n",
              "      fill: #1967D2;\n",
              "      height: 32px;\n",
              "      padding: 0 0 0 0;\n",
              "      width: 32px;\n",
              "    }\n",
              "\n",
              "    .colab-df-convert:hover {\n",
              "      background-color: #E2EBFA;\n",
              "      box-shadow: 0px 1px 2px rgba(60, 64, 67, 0.3), 0px 1px 3px 1px rgba(60, 64, 67, 0.15);\n",
              "      fill: #174EA6;\n",
              "    }\n",
              "\n",
              "    [theme=dark] .colab-df-convert {\n",
              "      background-color: #3B4455;\n",
              "      fill: #D2E3FC;\n",
              "    }\n",
              "\n",
              "    [theme=dark] .colab-df-convert:hover {\n",
              "      background-color: #434B5C;\n",
              "      box-shadow: 0px 1px 3px 1px rgba(0, 0, 0, 0.15);\n",
              "      filter: drop-shadow(0px 1px 2px rgba(0, 0, 0, 0.3));\n",
              "      fill: #FFFFFF;\n",
              "    }\n",
              "  </style>\n",
              "\n",
              "      <script>\n",
              "        const buttonEl =\n",
              "          document.querySelector('#df-7698cab2-ce23-456a-b201-0c797961fdc4 button.colab-df-convert');\n",
              "        buttonEl.style.display =\n",
              "          google.colab.kernel.accessAllowed ? 'block' : 'none';\n",
              "\n",
              "        async function convertToInteractive(key) {\n",
              "          const element = document.querySelector('#df-7698cab2-ce23-456a-b201-0c797961fdc4');\n",
              "          const dataTable =\n",
              "            await google.colab.kernel.invokeFunction('convertToInteractive',\n",
              "                                                     [key], {});\n",
              "          if (!dataTable) return;\n",
              "\n",
              "          const docLinkHtml = 'Like what you see? Visit the ' +\n",
              "            '<a target=\"_blank\" href=https://colab.research.google.com/notebooks/data_table.ipynb>data table notebook</a>'\n",
              "            + ' to learn more about interactive tables.';\n",
              "          element.innerHTML = '';\n",
              "          dataTable['output_type'] = 'display_data';\n",
              "          await google.colab.output.renderOutput(dataTable, element);\n",
              "          const docLink = document.createElement('div');\n",
              "          docLink.innerHTML = docLinkHtml;\n",
              "          element.appendChild(docLink);\n",
              "        }\n",
              "      </script>\n",
              "    </div>\n",
              "  </div>\n",
              "  "
            ]
          },
          "metadata": {}
        },
        {
          "output_type": "display_data",
          "data": {
            "text/plain": [
              "<Figure size 1200x500 with 1 Axes>"
            ],
            "image/png": "[encoded data removed]"
          },
          "metadata": {}
        }
      ],
      "source": [
        "data_family_status_debt = data.groupby('family_status').agg({'debt':['sum', 'count']})\n",
        "#дополнительно рассчитаем процент должников для каждой группы\n",
        "data_family_status_debt[('debt', 'debt_percentage')] = round(data_family_status_debt['debt']['sum']/data_family_status_debt['debt']['count']*100, 2)\n",
        "data_family_status_debt.columns=['sum',\t'count',\t'debt_percentage']\n",
        "data_family_status_debt=data_family_status_debt.sort_values(by = 'debt_percentage', ascending = False)\n",
        "display(data_family_status_debt)\n",
        "\n",
        "\n",
        "import matplotlib.pyplot as plt\n",
        "plt.figure(figsize = (12, 5))\n",
        "sns.barplot(x = data_family_status_debt.index, y = 'debt_percentage', data = data_family_status_debt)\n",
        "plt.xlabel('Семейный статус')\n",
        "plt.ylabel('Средний процент просрочки')\n",
        "plt.title('Сравнение среднего процента просрочки категорий по семейному статусу')\n",
        "plt.show()"
      ]
    },
    {
      "cell_type": "code",
      "execution_count": null,
      "id": "158e97fb",
      "metadata": {
        "id": "158e97fb",
        "colab": {
          "base_uri": "https://localhost:8080/"
        },
        "outputId": "b4579bb7-ad26-4ad1-e6fe-afe00368a58f"
      },
      "outputs": [
        {
          "output_type": "stream",
          "name": "stdout",
          "text": [
            "Средний показатель уровня просрочки по кредиту:  8.07\n"
          ]
        }
      ],
      "source": [
        "print(f'Средний показатель уровня просрочки по кредиту:  {round((1-family_debt.mean())*100,2)}')\n"
      ]
    },
    {
      "cell_type": "markdown",
      "id": "dbf3adb0",
      "metadata": {
        "id": "dbf3adb0"
      },
      "source": [
        "**Вывод1:** Нужно обратить внимание на на опказатеди выше среднего, это: гражданский брак и люди вне брака - то есть на группы людей у которых еще не было официальных отношений - у них прецент просрочек по кредиту выше среднего. Выходит, что состоящие или состоявшие в браке заемщики более надежны."
      ]
    },
    {
      "cell_type": "markdown",
      "id": "178f31cc",
      "metadata": {
        "deletable": false,
        "editable": false,
        "id": "178f31cc"
      },
      "source": [
        "#### 3.3 Есть ли зависимость между уровнем дохода и возвратом кредита в срок?"
      ]
    },
    {
      "cell_type": "code",
      "execution_count": null,
      "id": "5b5a70b1",
      "metadata": {
        "deletable": false,
        "id": "5b5a70b1",
        "colab": {
          "base_uri": "https://localhost:8080/",
          "height": 238
        },
        "outputId": "d045c4fe-7478-412f-a99c-bf8c686939f2"
      },
      "outputs": [
        {
          "output_type": "execute_result",
          "data": {
            "text/plain": [
              "                           debt\n",
              "total_income_category          \n",
              "A                      0.920000\n",
              "B                      0.929398\n",
              "C                      0.915018\n",
              "D                      0.939828\n",
              "E                      0.909091"
            ],
            "text/html": [
              "\n",
              "  <div id=\"df-b5c16e35-1beb-4c48-879b-65bb2b4f4c36\">\n",
              "    <div class=\"colab-df-container\">\n",
              "      <div>\n",
              "<style scoped>\n",
              "    .dataframe tbody tr th:only-of-type {\n",
              "        vertical-align: middle;\n",
              "    }\n",
              "\n",
              "    .dataframe tbody tr th {\n",
              "        vertical-align: top;\n",
              "    }\n",
              "\n",
              "    .dataframe thead th {\n",
              "        text-align: right;\n",
              "    }\n",
              "</style>\n",
              "<table border=\"1\" class=\"dataframe\">\n",
              "  <thead>\n",
              "    <tr style=\"text-align: right;\">\n",
              "      <th></th>\n",
              "      <th>debt</th>\n",
              "    </tr>\n",
              "    <tr>\n",
              "      <th>total_income_category</th>\n",
              "      <th></th>\n",
              "    </tr>\n",
              "  </thead>\n",
              "  <tbody>\n",
              "    <tr>\n",
              "      <th>A</th>\n",
              "      <td>0.920000</td>\n",
              "    </tr>\n",
              "    <tr>\n",
              "      <th>B</th>\n",
              "      <td>0.929398</td>\n",
              "    </tr>\n",
              "    <tr>\n",
              "      <th>C</th>\n",
              "      <td>0.915018</td>\n",
              "    </tr>\n",
              "    <tr>\n",
              "      <th>D</th>\n",
              "      <td>0.939828</td>\n",
              "    </tr>\n",
              "    <tr>\n",
              "      <th>E</th>\n",
              "      <td>0.909091</td>\n",
              "    </tr>\n",
              "  </tbody>\n",
              "</table>\n",
              "</div>\n",
              "      <button class=\"colab-df-convert\" onclick=\"convertToInteractive('df-b5c16e35-1beb-4c48-879b-65bb2b4f4c36')\"\n",
              "              title=\"Convert this dataframe to an interactive table.\"\n",
              "              style=\"display:none;\">\n",
              "        \n",
              "  <svg xmlns=\"http://www.w3.org/2000/svg\" height=\"24px\"viewBox=\"0 0 24 24\"\n",
              "       width=\"24px\">\n",
              "    <path d=\"M0 0h24v24H0V0z\" fill=\"none\"/>\n",
              "    <path d=\"M18.56 5.44l.94 2.06.94-2.06 2.06-.94-2.06-.94-.94-2.06-.94 2.06-2.06.94zm-11 1L8.5 8.5l.94-2.06 2.06-.94-2.06-.94L8.5 2.5l-.94 2.06-2.06.94zm10 10l.94 2.06.94-2.06 2.06-.94-2.06-.94-.94-2.06-.94 2.06-2.06.94z\"/><path d=\"M17.41 7.96l-1.37-1.37c-.4-.4-.92-.59-1.43-.59-.52 0-1.04.2-1.43.59L10.3 9.45l-7.72 7.72c-.78.78-.78 2.05 0 2.83L4 21.41c.39.39.9.59 1.41.59.51 0 1.02-.2 1.41-.59l7.78-7.78 2.81-2.81c.8-.78.8-2.07 0-2.86zM5.41 20L4 18.59l7.72-7.72 1.47 1.35L5.41 20z\"/>\n",
              "  </svg>\n",
              "      </button>\n",
              "      \n",
              "  <style>\n",
              "    .colab-df-container {\n",
              "      display:flex;\n",
              "      flex-wrap:wrap;\n",
              "      gap: 12px;\n",
              "    }\n",
              "\n",
              "    .colab-df-convert {\n",
              "      background-color: #E8F0FE;\n",
              "      border: none;\n",
              "      border-radius: 50%;\n",
              "      cursor: pointer;\n",
              "      display: none;\n",
              "      fill: #1967D2;\n",
              "      height: 32px;\n",
              "      padding: 0 0 0 0;\n",
              "      width: 32px;\n",
              "    }\n",
              "\n",
              "    .colab-df-convert:hover {\n",
              "      background-color: #E2EBFA;\n",
              "      box-shadow: 0px 1px 2px rgba(60, 64, 67, 0.3), 0px 1px 3px 1px rgba(60, 64, 67, 0.15);\n",
              "      fill: #174EA6;\n",
              "    }\n",
              "\n",
              "    [theme=dark] .colab-df-convert {\n",
              "      background-color: #3B4455;\n",
              "      fill: #D2E3FC;\n",
              "    }\n",
              "\n",
              "    [theme=dark] .colab-df-convert:hover {\n",
              "      background-color: #434B5C;\n",
              "      box-shadow: 0px 1px 3px 1px rgba(0, 0, 0, 0.15);\n",
              "      filter: drop-shadow(0px 1px 2px rgba(0, 0, 0, 0.3));\n",
              "      fill: #FFFFFF;\n",
              "    }\n",
              "  </style>\n",
              "\n",
              "      <script>\n",
              "        const buttonEl =\n",
              "          document.querySelector('#df-b5c16e35-1beb-4c48-879b-65bb2b4f4c36 button.colab-df-convert');\n",
              "        buttonEl.style.display =\n",
              "          google.colab.kernel.accessAllowed ? 'block' : 'none';\n",
              "\n",
              "        async function convertToInteractive(key) {\n",
              "          const element = document.querySelector('#df-b5c16e35-1beb-4c48-879b-65bb2b4f4c36');\n",
              "          const dataTable =\n",
              "            await google.colab.kernel.invokeFunction('convertToInteractive',\n",
              "                                                     [key], {});\n",
              "          if (!dataTable) return;\n",
              "\n",
              "          const docLinkHtml = 'Like what you see? Visit the ' +\n",
              "            '<a target=\"_blank\" href=https://colab.research.google.com/notebooks/data_table.ipynb>data table notebook</a>'\n",
              "            + ' to learn more about interactive tables.';\n",
              "          element.innerHTML = '';\n",
              "          dataTable['output_type'] = 'display_data';\n",
              "          await google.colab.output.renderOutput(dataTable, element);\n",
              "          const docLink = document.createElement('div');\n",
              "          docLink.innerHTML = docLinkHtml;\n",
              "          element.appendChild(docLink);\n",
              "        }\n",
              "      </script>\n",
              "    </div>\n",
              "  </div>\n",
              "  "
            ]
          },
          "metadata": {},
          "execution_count": 55
        }
      ],
      "source": [
        "len(data['total_income'].unique())#---(1)\n",
        "income_level_all=data.groupby('total_income_category')['debt'].count()#---(2)\n",
        "income_level_negative=data.groupby('total_income_category')['debt'].sum()#---(3)\n",
        "income_level_positive=income_level_all-income_level_negative#---(4)\n",
        "income_level_debt=income_level_positive/income_level_all#---(5)\n",
        "pd.DataFrame(income_level_debt)#---(6)"
      ]
    },
    {
      "cell_type": "markdown",
      "id": "ac97054e",
      "metadata": {
        "id": "ac97054e"
      },
      "source": [
        "1)если идти по прошлому алгоритму то не выйдет ничего хорошего для наших менеджеров: всего существует 18504 разных доходов. Значит лучше будет использовать следующие категории дохода из пункта 16:\n",
        "1.000.001 и выше — 'A'.\n",
        "200.001–1.000.000 — 'B';\n",
        "50.001–200.000 — 'C';\n",
        "30.001–50.000 — 'D';\n",
        "0–30.000 — 'E';\n",
        "2)сгруппируем по категории дохода:A, B, C, D и E с debt, где 1 - была просрочка по кредиту, 0 - не было -- посчитаем общее колличетво строк у заемщиков из разных категорий дохода\n",
        "3)сгруппируем по категории дохода стоблец с debt -- посчитаем собщую сумму по debt у заемщиков из разных категорий дохода - тогда мы получем сумму заемщиков у которых была просрочка по кредиту\n",
        "4)так как в оперцаии 2 мы считали общее количество заемщиков, а в операции 3 нашли количество заемщиков у которых была просрочка по кредиту, то мы можем найти количетсво заемщиков у которых не было просрочки отняв от результата 2 операции 3ю\n",
        "5)найдем соотношение отдавших кредит в срок от всех заемщиков\n",
        "6) выведем на экран"
      ]
    },
    {
      "cell_type": "markdown",
      "id": "27796afc",
      "metadata": {
        "id": "27796afc"
      },
      "source": [
        "!!!логичной была бы гипотеза о том что при повышении доходы снижается процент невозврата\n"
      ]
    },
    {
      "cell_type": "code",
      "execution_count": null,
      "id": "abcd6dcb",
      "metadata": {
        "id": "abcd6dcb",
        "colab": {
          "base_uri": "https://localhost:8080/",
          "height": 693
        },
        "outputId": "997233ac-63aa-4b3d-aac4-c601b221c1ef"
      },
      "outputs": [
        {
          "output_type": "display_data",
          "data": {
            "text/plain": [
              "                        sum  count  debt_percentage\n",
              "total_income_category                              \n",
              "A                         2     25             8.00\n",
              "B                       354   5014             7.06\n",
              "C                      1353  15921             8.50\n",
              "D                        21    349             6.02\n",
              "E                         2     22             9.09"
            ],
            "text/html": [
              "\n",
              "  <div id=\"df-ae711844-5d4e-482e-b1a4-cf9775f98c77\">\n",
              "    <div class=\"colab-df-container\">\n",
              "      <div>\n",
              "<style scoped>\n",
              "    .dataframe tbody tr th:only-of-type {\n",
              "        vertical-align: middle;\n",
              "    }\n",
              "\n",
              "    .dataframe tbody tr th {\n",
              "        vertical-align: top;\n",
              "    }\n",
              "\n",
              "    .dataframe thead th {\n",
              "        text-align: right;\n",
              "    }\n",
              "</style>\n",
              "<table border=\"1\" class=\"dataframe\">\n",
              "  <thead>\n",
              "    <tr style=\"text-align: right;\">\n",
              "      <th></th>\n",
              "      <th>sum</th>\n",
              "      <th>count</th>\n",
              "      <th>debt_percentage</th>\n",
              "    </tr>\n",
              "    <tr>\n",
              "      <th>total_income_category</th>\n",
              "      <th></th>\n",
              "      <th></th>\n",
              "      <th></th>\n",
              "    </tr>\n",
              "  </thead>\n",
              "  <tbody>\n",
              "    <tr>\n",
              "      <th>A</th>\n",
              "      <td>2</td>\n",
              "      <td>25</td>\n",
              "      <td>8.00</td>\n",
              "    </tr>\n",
              "    <tr>\n",
              "      <th>B</th>\n",
              "      <td>354</td>\n",
              "      <td>5014</td>\n",
              "      <td>7.06</td>\n",
              "    </tr>\n",
              "    <tr>\n",
              "      <th>C</th>\n",
              "      <td>1353</td>\n",
              "      <td>15921</td>\n",
              "      <td>8.50</td>\n",
              "    </tr>\n",
              "    <tr>\n",
              "      <th>D</th>\n",
              "      <td>21</td>\n",
              "      <td>349</td>\n",
              "      <td>6.02</td>\n",
              "    </tr>\n",
              "    <tr>\n",
              "      <th>E</th>\n",
              "      <td>2</td>\n",
              "      <td>22</td>\n",
              "      <td>9.09</td>\n",
              "    </tr>\n",
              "  </tbody>\n",
              "</table>\n",
              "</div>\n",
              "      <button class=\"colab-df-convert\" onclick=\"convertToInteractive('df-ae711844-5d4e-482e-b1a4-cf9775f98c77')\"\n",
              "              title=\"Convert this dataframe to an interactive table.\"\n",
              "              style=\"display:none;\">\n",
              "        \n",
              "  <svg xmlns=\"http://www.w3.org/2000/svg\" height=\"24px\"viewBox=\"0 0 24 24\"\n",
              "       width=\"24px\">\n",
              "    <path d=\"M0 0h24v24H0V0z\" fill=\"none\"/>\n",
              "    <path d=\"M18.56 5.44l.94 2.06.94-2.06 2.06-.94-2.06-.94-.94-2.06-.94 2.06-2.06.94zm-11 1L8.5 8.5l.94-2.06 2.06-.94-2.06-.94L8.5 2.5l-.94 2.06-2.06.94zm10 10l.94 2.06.94-2.06 2.06-.94-2.06-.94-.94-2.06-.94 2.06-2.06.94z\"/><path d=\"M17.41 7.96l-1.37-1.37c-.4-.4-.92-.59-1.43-.59-.52 0-1.04.2-1.43.59L10.3 9.45l-7.72 7.72c-.78.78-.78 2.05 0 2.83L4 21.41c.39.39.9.59 1.41.59.51 0 1.02-.2 1.41-.59l7.78-7.78 2.81-2.81c.8-.78.8-2.07 0-2.86zM5.41 20L4 18.59l7.72-7.72 1.47 1.35L5.41 20z\"/>\n",
              "  </svg>\n",
              "      </button>\n",
              "      \n",
              "  <style>\n",
              "    .colab-df-container {\n",
              "      display:flex;\n",
              "      flex-wrap:wrap;\n",
              "      gap: 12px;\n",
              "    }\n",
              "\n",
              "    .colab-df-convert {\n",
              "      background-color: #E8F0FE;\n",
              "      border: none;\n",
              "      border-radius: 50%;\n",
              "      cursor: pointer;\n",
              "      display: none;\n",
              "      fill: #1967D2;\n",
              "      height: 32px;\n",
              "      padding: 0 0 0 0;\n",
              "      width: 32px;\n",
              "    }\n",
              "\n",
              "    .colab-df-convert:hover {\n",
              "      background-color: #E2EBFA;\n",
              "      box-shadow: 0px 1px 2px rgba(60, 64, 67, 0.3), 0px 1px 3px 1px rgba(60, 64, 67, 0.15);\n",
              "      fill: #174EA6;\n",
              "    }\n",
              "\n",
              "    [theme=dark] .colab-df-convert {\n",
              "      background-color: #3B4455;\n",
              "      fill: #D2E3FC;\n",
              "    }\n",
              "\n",
              "    [theme=dark] .colab-df-convert:hover {\n",
              "      background-color: #434B5C;\n",
              "      box-shadow: 0px 1px 3px 1px rgba(0, 0, 0, 0.15);\n",
              "      filter: drop-shadow(0px 1px 2px rgba(0, 0, 0, 0.3));\n",
              "      fill: #FFFFFF;\n",
              "    }\n",
              "  </style>\n",
              "\n",
              "      <script>\n",
              "        const buttonEl =\n",
              "          document.querySelector('#df-ae711844-5d4e-482e-b1a4-cf9775f98c77 button.colab-df-convert');\n",
              "        buttonEl.style.display =\n",
              "          google.colab.kernel.accessAllowed ? 'block' : 'none';\n",
              "\n",
              "        async function convertToInteractive(key) {\n",
              "          const element = document.querySelector('#df-ae711844-5d4e-482e-b1a4-cf9775f98c77');\n",
              "          const dataTable =\n",
              "            await google.colab.kernel.invokeFunction('convertToInteractive',\n",
              "                                                     [key], {});\n",
              "          if (!dataTable) return;\n",
              "\n",
              "          const docLinkHtml = 'Like what you see? Visit the ' +\n",
              "            '<a target=\"_blank\" href=https://colab.research.google.com/notebooks/data_table.ipynb>data table notebook</a>'\n",
              "            + ' to learn more about interactive tables.';\n",
              "          element.innerHTML = '';\n",
              "          dataTable['output_type'] = 'display_data';\n",
              "          await google.colab.output.renderOutput(dataTable, element);\n",
              "          const docLink = document.createElement('div');\n",
              "          docLink.innerHTML = docLinkHtml;\n",
              "          element.appendChild(docLink);\n",
              "        }\n",
              "      </script>\n",
              "    </div>\n",
              "  </div>\n",
              "  "
            ]
          },
          "metadata": {}
        },
        {
          "output_type": "display_data",
          "data": {
            "text/plain": [
              "<Figure size 640x480 with 1 Axes>"
            ],
            "image/png": "[encoded data removed]"
          },
          "metadata": {}
        }
      ],
      "source": [
        "data_level_debt = data.groupby('total_income_category').agg({'debt':['sum', 'count']})\n",
        "#дополнительно рассчитаем процент должников для каждой группы\n",
        "data_level_debt[('debt', 'debt_percentage')] = round(data_level_debt['debt']['sum']/data_level_debt['debt']['count']*100, 2)\n",
        "data_level_debt=data_level_debt['debt']\n",
        "display(data_level_debt)\n",
        "sns.barplot(x=data_level_debt.index,y=data_level_debt['debt_percentage'])\n",
        "plt.xlabel('Группа по доходу')\n",
        "plt.ylabel('Средний процент просрочки')\n",
        "plt.title('Сравнение среднего процента просрочки категорий по группе по доходу')\n",
        "plt.show()"
      ]
    },
    {
      "cell_type": "markdown",
      "id": "6f942217",
      "metadata": {
        "id": "6f942217"
      },
      "source": [
        "**Вывод:** 1.000.001 и выше — 'A'..... 200.001–1.000.000 — 'B'..... 50.001–200.000 — 'C'..... 30.001–50.000 — 'D'..... 0–30.000 — 'E'/.По графику видно, что знаечения отличаются не так сильно. НО в категриях A и B слишком мало значений что бы, можно репрезентовать эти выводы, тоже касается и значения D. Если же рассмотреть значени B и C - то есть катоегрии с хорошей выборокой - то можно сделать вывод о том что чем более заработок - тем платежеспособнее человек (закрывает кредиты без просрочек). НО как говорится нельзя построить график только по двум точкам (а это точно не линейная зависимость). Так что выявить зависимость тут не удалось по причине не хавтке данных либо ее тут нет. Логичнее 1 вариант.\n",
        "\n",
        "**НО** если сравнить только две самые большие категории можно сказать что чем выше доход, тем заемщики лучше платят кредиты. Напрашивается рекомендация банку - изменить шкалу градации клиентов по доходам, для получения более сбалансированных выборок."
      ]
    },
    {
      "cell_type": "markdown",
      "id": "6f2c3beb",
      "metadata": {
        "deletable": false,
        "editable": false,
        "id": "6f2c3beb"
      },
      "source": [
        "#### 3.4 Как разные цели кредита влияют на его возврат в срок?"
      ]
    },
    {
      "cell_type": "code",
      "execution_count": null,
      "id": "6ad0e4bd",
      "metadata": {
        "deletable": false,
        "id": "6ad0e4bd",
        "colab": {
          "base_uri": "https://localhost:8080/"
        },
        "outputId": "34a9b291-273b-4c65-f4be-a1cdebfdd280"
      },
      "outputs": [
        {
          "output_type": "execute_result",
          "data": {
            "text/plain": [
              "purpose_category\n",
              "операции с автомобилем      0.906520\n",
              "операции с недвижимостью    0.927449\n",
              "получение образования       0.907472\n",
              "проведение свадьбы          0.920882\n",
              "Name: debt, dtype: float64"
            ]
          },
          "metadata": {},
          "execution_count": 45
        }
      ],
      "source": [
        "len(data['purpose'].unique())#---(1)\n",
        "purpose_all=data.groupby('purpose_category')['debt'].count()#---(2)\n",
        "purpose_negative=data.groupby('purpose_category')['debt'].sum()#---(3)\n",
        "purpose_positive=purpose_all-purpose_negative#---(4)\n",
        "purpose_debt=purpose_positive/purpose_all#---(5)\n",
        "purpose_debt#---(6)"
      ]
    },
    {
      "cell_type": "markdown",
      "id": "9d130b24",
      "metadata": {
        "id": "9d130b24"
      },
      "source": [
        "1)узнаем сколько уникальных целей кредита есть == 38 - это много для визуализции. Лучше воспользоваться результатом задания 18 - группой целей 2)сгруппируем по группам целей:\n",
        "----операции с автомобилем',\n",
        "----'операции с недвижимостью',\n",
        "----'проведение свадьбы',\n",
        "----'получение образования' с debt, где 1 - была просрочка по кредиту, 0 - не было -- посчитаем общее колличетво строк у заемщиков с разным целями 3)сгруппируем по целям стоблец с debt -- посчитаем собщую сумму по debt у заемщиков с разным целями - тогда мы получем сумму заемщиков у которых была просрочка по кредиту 4)так как в оперцаии 2 мы считали общее количество заемщиков, а в операции 3 нашли количество заемщиков у которых была просрочка по кредиту, то мы можем найти количетсво заемщиков у которых не было просрочки отняв от результата 2 операции 3ю. 5)найдем соотношение отдавших кредит в срок от всех заемщиков 6) выведем на экран"
      ]
    },
    {
      "cell_type": "code",
      "execution_count": null,
      "id": "8e6ca55a",
      "metadata": {
        "scrolled": true,
        "id": "8e6ca55a",
        "colab": {
          "base_uri": "https://localhost:8080/",
          "height": 676
        },
        "outputId": "1e610790-effc-411f-b1b3-128cb9f21c9d"
      },
      "outputs": [
        {
          "output_type": "display_data",
          "data": {
            "text/plain": [
              "                          sum  count  debt_percentage\n",
              "purpose_category                                     \n",
              "операции с автомобилем    400   4279             9.35\n",
              "получение образования     369   3988             9.25\n",
              "проведение свадьбы        183   2313             7.91\n",
              "операции с недвижимостью  780  10751             7.26"
            ],
            "text/html": [
              "\n",
              "  <div id=\"df-f399839b-f861-4a93-891d-1a032b29ff07\">\n",
              "    <div class=\"colab-df-container\">\n",
              "      <div>\n",
              "<style scoped>\n",
              "    .dataframe tbody tr th:only-of-type {\n",
              "        vertical-align: middle;\n",
              "    }\n",
              "\n",
              "    .dataframe tbody tr th {\n",
              "        vertical-align: top;\n",
              "    }\n",
              "\n",
              "    .dataframe thead th {\n",
              "        text-align: right;\n",
              "    }\n",
              "</style>\n",
              "<table border=\"1\" class=\"dataframe\">\n",
              "  <thead>\n",
              "    <tr style=\"text-align: right;\">\n",
              "      <th></th>\n",
              "      <th>sum</th>\n",
              "      <th>count</th>\n",
              "      <th>debt_percentage</th>\n",
              "    </tr>\n",
              "    <tr>\n",
              "      <th>purpose_category</th>\n",
              "      <th></th>\n",
              "      <th></th>\n",
              "      <th></th>\n",
              "    </tr>\n",
              "  </thead>\n",
              "  <tbody>\n",
              "    <tr>\n",
              "      <th>операции с автомобилем</th>\n",
              "      <td>400</td>\n",
              "      <td>4279</td>\n",
              "      <td>9.35</td>\n",
              "    </tr>\n",
              "    <tr>\n",
              "      <th>получение образования</th>\n",
              "      <td>369</td>\n",
              "      <td>3988</td>\n",
              "      <td>9.25</td>\n",
              "    </tr>\n",
              "    <tr>\n",
              "      <th>проведение свадьбы</th>\n",
              "      <td>183</td>\n",
              "      <td>2313</td>\n",
              "      <td>7.91</td>\n",
              "    </tr>\n",
              "    <tr>\n",
              "      <th>операции с недвижимостью</th>\n",
              "      <td>780</td>\n",
              "      <td>10751</td>\n",
              "      <td>7.26</td>\n",
              "    </tr>\n",
              "  </tbody>\n",
              "</table>\n",
              "</div>\n",
              "      <button class=\"colab-df-convert\" onclick=\"convertToInteractive('df-f399839b-f861-4a93-891d-1a032b29ff07')\"\n",
              "              title=\"Convert this dataframe to an interactive table.\"\n",
              "              style=\"display:none;\">\n",
              "        \n",
              "  <svg xmlns=\"http://www.w3.org/2000/svg\" height=\"24px\"viewBox=\"0 0 24 24\"\n",
              "       width=\"24px\">\n",
              "    <path d=\"M0 0h24v24H0V0z\" fill=\"none\"/>\n",
              "    <path d=\"M18.56 5.44l.94 2.06.94-2.06 2.06-.94-2.06-.94-.94-2.06-.94 2.06-2.06.94zm-11 1L8.5 8.5l.94-2.06 2.06-.94-2.06-.94L8.5 2.5l-.94 2.06-2.06.94zm10 10l.94 2.06.94-2.06 2.06-.94-2.06-.94-.94-2.06-.94 2.06-2.06.94z\"/><path d=\"M17.41 7.96l-1.37-1.37c-.4-.4-.92-.59-1.43-.59-.52 0-1.04.2-1.43.59L10.3 9.45l-7.72 7.72c-.78.78-.78 2.05 0 2.83L4 21.41c.39.39.9.59 1.41.59.51 0 1.02-.2 1.41-.59l7.78-7.78 2.81-2.81c.8-.78.8-2.07 0-2.86zM5.41 20L4 18.59l7.72-7.72 1.47 1.35L5.41 20z\"/>\n",
              "  </svg>\n",
              "      </button>\n",
              "      \n",
              "  <style>\n",
              "    .colab-df-container {\n",
              "      display:flex;\n",
              "      flex-wrap:wrap;\n",
              "      gap: 12px;\n",
              "    }\n",
              "\n",
              "    .colab-df-convert {\n",
              "      background-color: #E8F0FE;\n",
              "      border: none;\n",
              "      border-radius: 50%;\n",
              "      cursor: pointer;\n",
              "      display: none;\n",
              "      fill: #1967D2;\n",
              "      height: 32px;\n",
              "      padding: 0 0 0 0;\n",
              "      width: 32px;\n",
              "    }\n",
              "\n",
              "    .colab-df-convert:hover {\n",
              "      background-color: #E2EBFA;\n",
              "      box-shadow: 0px 1px 2px rgba(60, 64, 67, 0.3), 0px 1px 3px 1px rgba(60, 64, 67, 0.15);\n",
              "      fill: #174EA6;\n",
              "    }\n",
              "\n",
              "    [theme=dark] .colab-df-convert {\n",
              "      background-color: #3B4455;\n",
              "      fill: #D2E3FC;\n",
              "    }\n",
              "\n",
              "    [theme=dark] .colab-df-convert:hover {\n",
              "      background-color: #434B5C;\n",
              "      box-shadow: 0px 1px 3px 1px rgba(0, 0, 0, 0.15);\n",
              "      filter: drop-shadow(0px 1px 2px rgba(0, 0, 0, 0.3));\n",
              "      fill: #FFFFFF;\n",
              "    }\n",
              "  </style>\n",
              "\n",
              "      <script>\n",
              "        const buttonEl =\n",
              "          document.querySelector('#df-f399839b-f861-4a93-891d-1a032b29ff07 button.colab-df-convert');\n",
              "        buttonEl.style.display =\n",
              "          google.colab.kernel.accessAllowed ? 'block' : 'none';\n",
              "\n",
              "        async function convertToInteractive(key) {\n",
              "          const element = document.querySelector('#df-f399839b-f861-4a93-891d-1a032b29ff07');\n",
              "          const dataTable =\n",
              "            await google.colab.kernel.invokeFunction('convertToInteractive',\n",
              "                                                     [key], {});\n",
              "          if (!dataTable) return;\n",
              "\n",
              "          const docLinkHtml = 'Like what you see? Visit the ' +\n",
              "            '<a target=\"_blank\" href=https://colab.research.google.com/notebooks/data_table.ipynb>data table notebook</a>'\n",
              "            + ' to learn more about interactive tables.';\n",
              "          element.innerHTML = '';\n",
              "          dataTable['output_type'] = 'display_data';\n",
              "          await google.colab.output.renderOutput(dataTable, element);\n",
              "          const docLink = document.createElement('div');\n",
              "          docLink.innerHTML = docLinkHtml;\n",
              "          element.appendChild(docLink);\n",
              "        }\n",
              "      </script>\n",
              "    </div>\n",
              "  </div>\n",
              "  "
            ]
          },
          "metadata": {}
        },
        {
          "output_type": "display_data",
          "data": {
            "text/plain": [
              "<Figure size 1200x500 with 1 Axes>"
            ],
            "image/png": "[encoded data removed]"
          },
          "metadata": {}
        }
      ],
      "source": [
        "data_purpose_debt = data.groupby('purpose_category').agg({'debt':['sum', 'count']})\n",
        "#дополнительно рассчитаем процент должников для каждой группы\n",
        "data_purpose_debt[('debt', 'debt_percentage')] = round(data_purpose_debt['debt']['sum']/data_purpose_debt['debt']['count']*100, 2)\n",
        "data_purpose_debt=data_purpose_debt['debt'].sort_values(by='debt_percentage',ascending=False)\n",
        "display(data_purpose_debt)\n",
        "plt.figure(figsize = (12, 5))\n",
        "sns.barplot(x=data_purpose_debt.index,y=data_purpose_debt['debt_percentage'])\n",
        "plt.xlabel('Цель кредита')\n",
        "plt.ylabel('Средний процент просрочки')\n",
        "plt.title('Сравнение среднего процента просрочки категорий цели кредитования')\n",
        "plt.show()"
      ]
    },
    {
      "cell_type": "markdown",
      "id": "dad23206",
      "metadata": {
        "id": "dad23206"
      },
      "source": [
        "**Вывод1:** Судя по таблице выше среднего будут категории с целями: кредит на полуячения обрзования и кредит на автомобиль - них нужно обратить вниммание. А самыми проблемными выглядят автокредиты и кредиты на образование"
      ]
    },
    {
      "cell_type": "markdown",
      "id": "754c63dc",
      "metadata": {
        "deletable": false,
        "editable": false,
        "id": "754c63dc"
      },
      "source": [
        "#### 3.5 Приведите возможные причины появления пропусков в исходных данных."
      ]
    },
    {
      "cell_type": "markdown",
      "id": "1a3d9f08",
      "metadata": {
        "deletable": false,
        "id": "1a3d9f08"
      },
      "source": [
        "*Ответ:* Факторы появления пропусков: либо человеческий фактор, либо технический.Причина может крыться в недостатке информации при заполнении, и/или ошибки при заполнении информации, иногда это может быть закономерная ошибка при обработке данных которая может снести часть данных"
      ]
    },
    {
      "cell_type": "markdown",
      "id": "25e3c053",
      "metadata": {
        "deletable": false,
        "editable": false,
        "id": "25e3c053"
      },
      "source": [
        "#### 3.6 Объясните, почему заполнить пропуски медианным значением — лучшее решение для количественных переменных."
      ]
    },
    {
      "cell_type": "markdown",
      "id": "7c4064c7",
      "metadata": {
        "deletable": false,
        "id": "7c4064c7"
      },
      "source": [
        "*Ответ:* Заполнять пропуски в количественных данных медианным значением является лучшим решением, т.к. данное значение не приводит к аномалиям в данных и искажению исследования.\n",
        "Вкратце - медиана менее чувствительна к выбросам\n",
        "Использовать среднее арифметическое для этих целей будет ошибкой из-за возможных выбросов в данных, из-за которых \"среднее\" на самом деле не будет отражать усредненное состояние на основе большинства данных."
      ]
    },
    {
      "cell_type": "code",
      "execution_count": null,
      "id": "91e8c451",
      "metadata": {
        "id": "91e8c451",
        "colab": {
          "base_uri": "https://localhost:8080/",
          "height": 468
        },
        "outputId": "eb112b43-962c-4a66-d206-3822d06e78a0"
      },
      "outputs": [
        {
          "output_type": "display_data",
          "data": {
            "text/plain": [
              "<Figure size 1500x500 with 1 Axes>"
            ],
            "image/png": "[encoded data removed]"
          },
          "metadata": {}
        }
      ],
      "source": [
        "plt.figure(figsize = (15,5))\n",
        "\n",
        "ax = data['days_employed'].hist(bins = 40)\n",
        "\n",
        "ax.axvline(x = data['days_employed'].mean(), color = 'r', linestyle = 'dashed', label = 'mean')\n",
        "ax.axvline(x = data['days_employed'].median(), color = 'y', linestyle = 'dashed', label = 'median')\n",
        "plt.legend()\n",
        "plt.title('Гистограмма по столбцу days_employed с медианой и средним')\n",
        "plt.show()"
      ]
    },
    {
      "cell_type": "markdown",
      "id": "267f6ea6",
      "metadata": {
        "deletable": false,
        "editable": false,
        "id": "267f6ea6"
      },
      "source": [
        "### Шаг 4: общий вывод."
      ]
    },
    {
      "cell_type": "markdown",
      "id": "9dcaed36",
      "metadata": {
        "deletable": false,
        "id": "9dcaed36"
      },
      "source": [
        "Целью проекта было **Исследовать надежность заемщиков** для последующего учета результатов при построении модели кредитного скоринга.\n",
        "\n",
        "Можно сделать обощающий вывод.\n",
        "\n",
        "Отсутвиет зависимость между количеством детей и возвратом кредита в срок.\n",
        "     Есть зависимость между семейным положением и возвратом кредита в срок.Кредиты, выданные заемщикам, которые не состоящили в официальных отношениях чаще попадают в просрочку.\n",
        "Отсутвует зависимость между уровнем дохода и возвратом кредита в срок. Скорее всего не хавтает данные в некотрых категориях.\n",
        "В результате анализа целей кредитования было выявлено, что кредиты, выданные на операции с автомобилями и на получение образования, чаще попадают в просрочку, чем остальные.\n",
        "\n",
        "При построении модели кредитного скоринга следует обратить внимание на следующие факторы:\n",
        "\n",
        "- Семейное положение заемщиков\n",
        "- Цели кредита"
      ]
    }
  ],
  "metadata": {
    "ExecuteTimeLog": [
      {
        "duration": 519,
        "start_time": "2022-08-29T12:19:13.939Z"
      },
      {
        "duration": 19,
        "start_time": "2022-08-29T12:19:14.460Z"
      },
      {
        "duration": 24,
        "start_time": "2022-08-29T12:19:14.480Z"
      },
      {
        "duration": 17,
        "start_time": "2022-08-29T12:19:14.506Z"
      },
      {
        "duration": 36,
        "start_time": "2022-08-29T12:19:14.524Z"
      },
      {
        "duration": 3,
        "start_time": "2022-08-29T12:19:14.561Z"
      },
      {
        "duration": 27,
        "start_time": "2022-08-29T12:19:14.566Z"
      },
      {
        "duration": 17,
        "start_time": "2022-08-29T12:19:14.594Z"
      },
      {
        "duration": 29,
        "start_time": "2022-08-29T12:19:14.613Z"
      },
      {
        "duration": 17,
        "start_time": "2022-08-29T12:19:14.644Z"
      },
      {
        "duration": 45,
        "start_time": "2022-08-29T12:19:14.662Z"
      },
      {
        "duration": 8,
        "start_time": "2022-08-29T12:19:14.708Z"
      },
      {
        "duration": 19,
        "start_time": "2022-08-29T12:19:14.717Z"
      },
      {
        "duration": 30,
        "start_time": "2022-08-29T12:19:14.737Z"
      },
      {
        "duration": 25,
        "start_time": "2022-08-29T12:19:14.768Z"
      },
      {
        "duration": 15,
        "start_time": "2022-08-29T12:19:14.795Z"
      },
      {
        "duration": 16,
        "start_time": "2022-08-29T12:19:14.811Z"
      },
      {
        "duration": 20,
        "start_time": "2022-08-29T12:19:14.829Z"
      },
      {
        "duration": 22,
        "start_time": "2022-08-29T12:19:14.851Z"
      },
      {
        "duration": 18,
        "start_time": "2022-08-29T12:19:14.874Z"
      },
      {
        "duration": 36,
        "start_time": "2022-08-29T12:19:14.894Z"
      },
      {
        "duration": 23,
        "start_time": "2022-08-29T12:19:14.932Z"
      },
      {
        "duration": 20,
        "start_time": "2022-08-29T12:19:14.957Z"
      },
      {
        "duration": 34,
        "start_time": "2022-08-29T12:19:14.979Z"
      },
      {
        "duration": 34,
        "start_time": "2022-08-29T12:19:15.014Z"
      },
      {
        "duration": 72,
        "start_time": "2022-08-29T12:20:07.033Z"
      },
      {
        "duration": 14,
        "start_time": "2022-08-29T12:20:07.106Z"
      },
      {
        "duration": 15,
        "start_time": "2022-08-29T12:20:07.122Z"
      },
      {
        "duration": 19,
        "start_time": "2022-08-29T12:20:07.139Z"
      },
      {
        "duration": 28,
        "start_time": "2022-08-29T12:20:07.160Z"
      },
      {
        "duration": 3,
        "start_time": "2022-08-29T12:20:07.190Z"
      },
      {
        "duration": 10,
        "start_time": "2022-08-29T12:20:07.194Z"
      },
      {
        "duration": 4,
        "start_time": "2022-08-29T12:20:07.205Z"
      },
      {
        "duration": 46,
        "start_time": "2022-08-29T12:20:07.211Z"
      },
      {
        "duration": 4,
        "start_time": "2022-08-29T12:20:07.260Z"
      },
      {
        "duration": 34,
        "start_time": "2022-08-29T12:20:07.266Z"
      },
      {
        "duration": 8,
        "start_time": "2022-08-29T12:20:07.302Z"
      },
      {
        "duration": 4,
        "start_time": "2022-08-29T12:20:07.311Z"
      },
      {
        "duration": 40,
        "start_time": "2022-08-29T12:20:07.316Z"
      },
      {
        "duration": 15,
        "start_time": "2022-08-29T12:20:07.358Z"
      },
      {
        "duration": 16,
        "start_time": "2022-08-29T12:20:07.375Z"
      },
      {
        "duration": 5,
        "start_time": "2022-08-29T12:20:07.392Z"
      },
      {
        "duration": 19,
        "start_time": "2022-08-29T12:20:07.399Z"
      },
      {
        "duration": 7,
        "start_time": "2022-08-29T12:20:07.419Z"
      },
      {
        "duration": 29,
        "start_time": "2022-08-29T12:20:07.427Z"
      },
      {
        "duration": 13,
        "start_time": "2022-08-29T12:20:07.458Z"
      },
      {
        "duration": 7,
        "start_time": "2022-08-29T12:20:07.473Z"
      },
      {
        "duration": 10,
        "start_time": "2022-08-29T12:20:07.482Z"
      },
      {
        "duration": 11,
        "start_time": "2022-08-29T12:20:07.493Z"
      },
      {
        "duration": 8,
        "start_time": "2022-08-29T12:20:07.505Z"
      },
      {
        "duration": 21,
        "start_time": "2022-08-29T12:29:56.820Z"
      },
      {
        "duration": 25,
        "start_time": "2022-08-29T12:39:39.456Z"
      },
      {
        "duration": 65,
        "start_time": "2022-08-29T13:06:01.685Z"
      },
      {
        "duration": 3,
        "start_time": "2022-08-29T13:06:22.674Z"
      },
      {
        "duration": 5,
        "start_time": "2022-08-29T13:06:29.342Z"
      },
      {
        "duration": 7,
        "start_time": "2022-08-29T13:07:31.756Z"
      },
      {
        "duration": 5,
        "start_time": "2022-08-29T13:09:56.226Z"
      },
      {
        "duration": 7,
        "start_time": "2022-08-29T13:10:02.050Z"
      },
      {
        "duration": 9,
        "start_time": "2022-08-29T13:12:09.246Z"
      },
      {
        "duration": 3,
        "start_time": "2022-08-29T13:13:58.238Z"
      },
      {
        "duration": 20,
        "start_time": "2022-08-29T13:14:02.125Z"
      },
      {
        "duration": 8,
        "start_time": "2022-08-29T13:17:09.641Z"
      },
      {
        "duration": 836,
        "start_time": "2022-08-29T13:20:49.950Z"
      },
      {
        "duration": 48,
        "start_time": "2022-08-29T13:20:57.969Z"
      },
      {
        "duration": 16,
        "start_time": "2022-08-29T13:21:47.298Z"
      },
      {
        "duration": 15,
        "start_time": "2022-08-29T13:23:32.519Z"
      },
      {
        "duration": 88,
        "start_time": "2022-08-29T13:24:40.594Z"
      },
      {
        "duration": 91,
        "start_time": "2022-08-29T13:24:56.237Z"
      },
      {
        "duration": 6,
        "start_time": "2022-08-29T13:25:32.321Z"
      },
      {
        "duration": 6,
        "start_time": "2022-08-29T13:25:42.657Z"
      },
      {
        "duration": 6,
        "start_time": "2022-08-29T13:25:45.866Z"
      },
      {
        "duration": 69,
        "start_time": "2022-08-29T13:26:00.953Z"
      },
      {
        "duration": 16,
        "start_time": "2022-08-29T13:26:01.025Z"
      },
      {
        "duration": 17,
        "start_time": "2022-08-29T13:26:01.042Z"
      },
      {
        "duration": 26,
        "start_time": "2022-08-29T13:26:01.061Z"
      },
      {
        "duration": 37,
        "start_time": "2022-08-29T13:26:01.089Z"
      },
      {
        "duration": 5,
        "start_time": "2022-08-29T13:26:01.127Z"
      },
      {
        "duration": 30,
        "start_time": "2022-08-29T13:26:01.134Z"
      },
      {
        "duration": 16,
        "start_time": "2022-08-29T13:26:01.165Z"
      },
      {
        "duration": 39,
        "start_time": "2022-08-29T13:26:01.183Z"
      },
      {
        "duration": 22,
        "start_time": "2022-08-29T13:26:01.223Z"
      },
      {
        "duration": 52,
        "start_time": "2022-08-29T13:26:01.247Z"
      },
      {
        "duration": 10,
        "start_time": "2022-08-29T13:26:01.300Z"
      },
      {
        "duration": 18,
        "start_time": "2022-08-29T13:26:01.311Z"
      },
      {
        "duration": 37,
        "start_time": "2022-08-29T13:26:01.332Z"
      },
      {
        "duration": 31,
        "start_time": "2022-08-29T13:26:01.371Z"
      },
      {
        "duration": 17,
        "start_time": "2022-08-29T13:26:01.403Z"
      },
      {
        "duration": 5,
        "start_time": "2022-08-29T13:26:01.421Z"
      },
      {
        "duration": 24,
        "start_time": "2022-08-29T13:26:01.428Z"
      },
      {
        "duration": 18,
        "start_time": "2022-08-29T13:26:01.454Z"
      },
      {
        "duration": 5,
        "start_time": "2022-08-29T13:26:01.474Z"
      },
      {
        "duration": 36,
        "start_time": "2022-08-29T13:26:01.480Z"
      },
      {
        "duration": 7,
        "start_time": "2022-08-29T13:26:01.517Z"
      },
      {
        "duration": 28,
        "start_time": "2022-08-29T13:26:01.526Z"
      },
      {
        "duration": 24,
        "start_time": "2022-08-29T13:26:01.556Z"
      },
      {
        "duration": 37,
        "start_time": "2022-08-29T13:26:01.582Z"
      },
      {
        "duration": 9,
        "start_time": "2022-08-29T13:26:09.360Z"
      },
      {
        "duration": 90,
        "start_time": "2022-08-29T13:26:21.648Z"
      },
      {
        "duration": 11,
        "start_time": "2022-08-29T13:26:35.740Z"
      },
      {
        "duration": 4,
        "start_time": "2022-08-29T13:33:58.237Z"
      },
      {
        "duration": 4,
        "start_time": "2022-08-29T13:37:05.935Z"
      },
      {
        "duration": 4,
        "start_time": "2022-08-29T13:39:29.140Z"
      },
      {
        "duration": 103,
        "start_time": "2022-08-29T13:40:26.065Z"
      },
      {
        "duration": 13,
        "start_time": "2022-08-29T13:53:17.797Z"
      },
      {
        "duration": 6,
        "start_time": "2022-08-29T13:59:07.925Z"
      },
      {
        "duration": 5,
        "start_time": "2022-08-29T13:59:44.547Z"
      },
      {
        "duration": 11,
        "start_time": "2022-08-29T14:05:32.876Z"
      },
      {
        "duration": 8,
        "start_time": "2022-08-29T14:05:50.783Z"
      },
      {
        "duration": 10,
        "start_time": "2022-08-29T14:13:25.072Z"
      },
      {
        "duration": 19,
        "start_time": "2022-08-29T14:14:24.092Z"
      },
      {
        "duration": 8,
        "start_time": "2022-08-29T14:14:53.049Z"
      },
      {
        "duration": 5,
        "start_time": "2022-08-29T14:15:00.871Z"
      },
      {
        "duration": 33,
        "start_time": "2022-08-29T14:16:08.849Z"
      },
      {
        "duration": 13,
        "start_time": "2022-08-29T14:52:21.520Z"
      },
      {
        "duration": 12,
        "start_time": "2022-08-29T14:52:26.592Z"
      },
      {
        "duration": 13,
        "start_time": "2022-08-29T14:52:50.196Z"
      },
      {
        "duration": 7,
        "start_time": "2022-08-29T14:53:32.034Z"
      },
      {
        "duration": 10,
        "start_time": "2022-08-29T14:54:33.320Z"
      },
      {
        "duration": 10,
        "start_time": "2022-08-29T14:54:38.234Z"
      },
      {
        "duration": 17,
        "start_time": "2022-08-29T14:56:05.347Z"
      },
      {
        "duration": 12,
        "start_time": "2022-08-29T15:02:02.217Z"
      },
      {
        "duration": 153,
        "start_time": "2022-08-29T15:03:00.337Z"
      },
      {
        "duration": 13,
        "start_time": "2022-08-29T15:03:59.724Z"
      },
      {
        "duration": 15,
        "start_time": "2022-08-29T15:04:02.916Z"
      },
      {
        "duration": 21,
        "start_time": "2022-08-29T15:07:29.271Z"
      },
      {
        "duration": 13,
        "start_time": "2022-08-29T15:07:33.838Z"
      },
      {
        "duration": 1357,
        "start_time": "2022-08-29T15:12:14.841Z"
      },
      {
        "duration": 5,
        "start_time": "2022-08-29T15:12:20.341Z"
      },
      {
        "duration": 4,
        "start_time": "2022-08-29T15:12:41.220Z"
      },
      {
        "duration": 25,
        "start_time": "2022-08-29T15:13:13.268Z"
      },
      {
        "duration": 10,
        "start_time": "2022-08-29T15:52:39.038Z"
      },
      {
        "duration": 11,
        "start_time": "2022-08-29T15:56:46.242Z"
      },
      {
        "duration": 12,
        "start_time": "2022-08-29T15:56:51.625Z"
      },
      {
        "duration": 10,
        "start_time": "2022-08-29T16:01:52.140Z"
      },
      {
        "duration": 100,
        "start_time": "2022-08-29T16:03:38.096Z"
      },
      {
        "duration": 13,
        "start_time": "2022-08-29T16:11:32.974Z"
      },
      {
        "duration": 13,
        "start_time": "2022-08-29T16:11:47.653Z"
      },
      {
        "duration": 22,
        "start_time": "2022-08-29T16:16:49.396Z"
      },
      {
        "duration": 12,
        "start_time": "2022-08-29T16:24:55.287Z"
      },
      {
        "duration": 8,
        "start_time": "2022-08-29T16:25:09.378Z"
      },
      {
        "duration": 21,
        "start_time": "2022-08-29T16:25:14.336Z"
      },
      {
        "duration": 75,
        "start_time": "2022-08-29T16:25:42.979Z"
      },
      {
        "duration": 1237,
        "start_time": "2022-08-29T16:26:03.322Z"
      },
      {
        "duration": 6,
        "start_time": "2022-08-29T16:26:36.473Z"
      },
      {
        "duration": 6,
        "start_time": "2022-08-29T16:26:46.871Z"
      },
      {
        "duration": 7,
        "start_time": "2022-08-29T16:26:56.298Z"
      },
      {
        "duration": 5,
        "start_time": "2022-08-29T16:27:20.725Z"
      },
      {
        "duration": 6,
        "start_time": "2022-08-29T16:27:38.776Z"
      },
      {
        "duration": 7,
        "start_time": "2022-08-29T16:27:55.622Z"
      },
      {
        "duration": 12,
        "start_time": "2022-08-29T16:35:48.671Z"
      },
      {
        "duration": 15,
        "start_time": "2022-08-29T16:36:34.594Z"
      },
      {
        "duration": 6,
        "start_time": "2022-08-29T16:37:22.827Z"
      },
      {
        "duration": 14,
        "start_time": "2022-08-29T16:37:27.527Z"
      },
      {
        "duration": 14,
        "start_time": "2022-08-29T16:37:42.091Z"
      },
      {
        "duration": 364,
        "start_time": "2022-08-29T16:39:21.834Z"
      },
      {
        "duration": 15,
        "start_time": "2022-08-29T16:40:18.288Z"
      },
      {
        "duration": 161,
        "start_time": "2022-08-29T16:40:28.766Z"
      },
      {
        "duration": 15,
        "start_time": "2022-08-29T16:41:46.756Z"
      },
      {
        "duration": 13,
        "start_time": "2022-08-29T16:41:58.871Z"
      },
      {
        "duration": 10,
        "start_time": "2022-08-29T16:49:53.628Z"
      },
      {
        "duration": 13,
        "start_time": "2022-08-29T16:50:04.829Z"
      },
      {
        "duration": 13,
        "start_time": "2022-08-29T16:50:11.668Z"
      },
      {
        "duration": 19,
        "start_time": "2022-08-29T17:13:05.268Z"
      },
      {
        "duration": 4,
        "start_time": "2022-08-29T17:27:03.314Z"
      },
      {
        "duration": 4,
        "start_time": "2022-08-29T17:27:14.012Z"
      },
      {
        "duration": 433,
        "start_time": "2022-08-30T07:13:23.746Z"
      },
      {
        "duration": 22,
        "start_time": "2022-08-30T07:13:24.181Z"
      },
      {
        "duration": 16,
        "start_time": "2022-08-30T07:13:24.204Z"
      },
      {
        "duration": 10,
        "start_time": "2022-08-30T07:13:24.222Z"
      },
      {
        "duration": 35,
        "start_time": "2022-08-30T07:13:24.234Z"
      },
      {
        "duration": 3,
        "start_time": "2022-08-30T07:13:24.271Z"
      },
      {
        "duration": 34,
        "start_time": "2022-08-30T07:13:24.276Z"
      },
      {
        "duration": 4,
        "start_time": "2022-08-30T07:13:24.311Z"
      },
      {
        "duration": 12,
        "start_time": "2022-08-30T07:13:24.317Z"
      },
      {
        "duration": 6,
        "start_time": "2022-08-30T07:13:24.330Z"
      },
      {
        "duration": 35,
        "start_time": "2022-08-30T07:13:24.338Z"
      },
      {
        "duration": 10,
        "start_time": "2022-08-30T07:13:24.375Z"
      },
      {
        "duration": 25,
        "start_time": "2022-08-30T07:13:24.386Z"
      },
      {
        "duration": 14,
        "start_time": "2022-08-30T07:13:24.415Z"
      },
      {
        "duration": 20,
        "start_time": "2022-08-30T07:13:24.431Z"
      },
      {
        "duration": 17,
        "start_time": "2022-08-30T07:13:24.452Z"
      },
      {
        "duration": 3,
        "start_time": "2022-08-30T07:13:24.471Z"
      },
      {
        "duration": 37,
        "start_time": "2022-08-30T07:13:24.476Z"
      },
      {
        "duration": 13,
        "start_time": "2022-08-30T07:13:24.515Z"
      },
      {
        "duration": 4,
        "start_time": "2022-08-30T07:13:24.530Z"
      },
      {
        "duration": 28,
        "start_time": "2022-08-30T07:13:24.536Z"
      },
      {
        "duration": 8,
        "start_time": "2022-08-30T07:13:24.566Z"
      },
      {
        "duration": 891,
        "start_time": "2022-08-30T07:13:24.576Z"
      },
      {
        "duration": 22,
        "start_time": "2022-08-30T07:13:25.468Z"
      },
      {
        "duration": 25,
        "start_time": "2022-08-30T07:13:25.492Z"
      },
      {
        "duration": 135,
        "start_time": "2022-08-30T07:13:25.519Z"
      },
      {
        "duration": 22,
        "start_time": "2022-08-30T07:13:25.655Z"
      },
      {
        "duration": 37,
        "start_time": "2022-08-30T07:13:25.679Z"
      },
      {
        "duration": 117,
        "start_time": "2022-08-30T07:13:25.718Z"
      },
      {
        "duration": 14,
        "start_time": "2022-08-30T07:13:25.836Z"
      },
      {
        "duration": 151,
        "start_time": "2022-08-30T07:13:25.851Z"
      },
      {
        "duration": 7,
        "start_time": "2022-08-30T07:13:26.004Z"
      },
      {
        "duration": 316,
        "start_time": "2022-08-30T07:31:29.549Z"
      },
      {
        "duration": 8,
        "start_time": "2022-08-31T13:21:52.297Z"
      },
      {
        "duration": 1373,
        "start_time": "2022-08-31T13:32:19.117Z"
      },
      {
        "duration": 307,
        "start_time": "2022-08-31T13:33:33.811Z"
      },
      {
        "duration": 24,
        "start_time": "2022-08-31T13:33:34.120Z"
      },
      {
        "duration": 18,
        "start_time": "2022-08-31T13:33:34.145Z"
      },
      {
        "duration": 8,
        "start_time": "2022-08-31T13:33:34.165Z"
      },
      {
        "duration": 48,
        "start_time": "2022-08-31T13:33:34.174Z"
      },
      {
        "duration": 3,
        "start_time": "2022-08-31T13:33:34.223Z"
      },
      {
        "duration": 11,
        "start_time": "2022-08-31T13:33:34.227Z"
      },
      {
        "duration": 8,
        "start_time": "2022-08-31T13:33:34.239Z"
      },
      {
        "duration": 7,
        "start_time": "2022-08-31T13:33:34.249Z"
      },
      {
        "duration": 3,
        "start_time": "2022-08-31T13:33:34.258Z"
      },
      {
        "duration": 50,
        "start_time": "2022-08-31T13:33:34.262Z"
      },
      {
        "duration": 9,
        "start_time": "2022-08-31T13:33:34.313Z"
      },
      {
        "duration": 3,
        "start_time": "2022-08-31T13:33:34.324Z"
      },
      {
        "duration": 11,
        "start_time": "2022-08-31T13:33:34.329Z"
      },
      {
        "duration": 17,
        "start_time": "2022-08-31T13:33:34.342Z"
      },
      {
        "duration": 16,
        "start_time": "2022-08-31T13:33:34.360Z"
      },
      {
        "duration": 3,
        "start_time": "2022-08-31T13:33:34.377Z"
      },
      {
        "duration": 9,
        "start_time": "2022-08-31T13:33:34.410Z"
      },
      {
        "duration": 8,
        "start_time": "2022-08-31T13:33:34.421Z"
      },
      {
        "duration": 4,
        "start_time": "2022-08-31T13:33:34.430Z"
      },
      {
        "duration": 24,
        "start_time": "2022-08-31T13:33:34.436Z"
      },
      {
        "duration": 9,
        "start_time": "2022-08-31T13:33:34.461Z"
      },
      {
        "duration": 151,
        "start_time": "2022-08-31T13:33:34.471Z"
      },
      {
        "duration": 18,
        "start_time": "2022-08-31T13:33:34.623Z"
      },
      {
        "duration": 13,
        "start_time": "2022-08-31T13:33:34.643Z"
      },
      {
        "duration": 125,
        "start_time": "2022-08-31T13:33:34.657Z"
      },
      {
        "duration": 31,
        "start_time": "2022-08-31T13:33:34.783Z"
      },
      {
        "duration": 11,
        "start_time": "2022-08-31T13:33:34.817Z"
      },
      {
        "duration": 112,
        "start_time": "2022-08-31T13:33:34.830Z"
      },
      {
        "duration": 14,
        "start_time": "2022-08-31T13:33:34.944Z"
      },
      {
        "duration": 119,
        "start_time": "2022-08-31T13:33:34.959Z"
      },
      {
        "duration": 407,
        "start_time": "2022-08-31T13:33:35.079Z"
      },
      {
        "duration": 5,
        "start_time": "2022-08-31T13:33:35.488Z"
      },
      {
        "duration": 44,
        "start_time": "2022-08-31T21:14:26.259Z"
      },
      {
        "duration": 6,
        "start_time": "2022-08-31T21:14:56.842Z"
      },
      {
        "duration": 791,
        "start_time": "2022-08-31T21:15:01.863Z"
      },
      {
        "duration": 25,
        "start_time": "2022-08-31T21:15:02.656Z"
      },
      {
        "duration": 16,
        "start_time": "2022-08-31T21:15:02.684Z"
      },
      {
        "duration": 11,
        "start_time": "2022-08-31T21:15:02.703Z"
      },
      {
        "duration": 50,
        "start_time": "2022-08-31T21:15:02.716Z"
      },
      {
        "duration": 5,
        "start_time": "2022-08-31T21:15:02.787Z"
      },
      {
        "duration": 22,
        "start_time": "2022-08-31T21:15:02.794Z"
      },
      {
        "duration": 12,
        "start_time": "2022-08-31T21:15:02.818Z"
      },
      {
        "duration": 10,
        "start_time": "2022-08-31T21:15:02.833Z"
      },
      {
        "duration": 10,
        "start_time": "2022-08-31T21:15:02.847Z"
      },
      {
        "duration": 63,
        "start_time": "2022-08-31T21:15:02.859Z"
      },
      {
        "duration": 13,
        "start_time": "2022-08-31T21:15:02.925Z"
      },
      {
        "duration": 11,
        "start_time": "2022-08-31T21:15:02.940Z"
      },
      {
        "duration": 17,
        "start_time": "2022-08-31T21:15:02.954Z"
      },
      {
        "duration": 22,
        "start_time": "2022-08-31T21:15:02.985Z"
      },
      {
        "duration": 22,
        "start_time": "2022-08-31T21:15:03.009Z"
      },
      {
        "duration": 4,
        "start_time": "2022-08-31T21:15:03.033Z"
      },
      {
        "duration": 21,
        "start_time": "2022-08-31T21:15:03.039Z"
      },
      {
        "duration": 35,
        "start_time": "2022-08-31T21:15:03.061Z"
      },
      {
        "duration": 4,
        "start_time": "2022-08-31T21:15:03.098Z"
      },
      {
        "duration": 42,
        "start_time": "2022-08-31T21:15:03.104Z"
      },
      {
        "duration": 10,
        "start_time": "2022-08-31T21:15:03.148Z"
      },
      {
        "duration": 1109,
        "start_time": "2022-08-31T21:15:03.160Z"
      },
      {
        "duration": 72,
        "start_time": "2022-08-31T21:15:04.270Z"
      },
      {
        "duration": 0,
        "start_time": "2022-08-31T21:15:04.344Z"
      },
      {
        "duration": 0,
        "start_time": "2022-08-31T21:15:04.345Z"
      },
      {
        "duration": 0,
        "start_time": "2022-08-31T21:15:04.346Z"
      },
      {
        "duration": 0,
        "start_time": "2022-08-31T21:15:04.347Z"
      },
      {
        "duration": 0,
        "start_time": "2022-08-31T21:15:04.348Z"
      },
      {
        "duration": 0,
        "start_time": "2022-08-31T21:15:04.349Z"
      },
      {
        "duration": 0,
        "start_time": "2022-08-31T21:15:04.351Z"
      },
      {
        "duration": 0,
        "start_time": "2022-08-31T21:15:04.352Z"
      },
      {
        "duration": 0,
        "start_time": "2022-08-31T21:15:04.353Z"
      },
      {
        "duration": 0,
        "start_time": "2022-08-31T21:15:04.354Z"
      },
      {
        "duration": 14,
        "start_time": "2022-08-31T21:15:16.347Z"
      },
      {
        "duration": 5,
        "start_time": "2022-08-31T21:15:30.900Z"
      },
      {
        "duration": 68,
        "start_time": "2022-08-31T21:16:21.218Z"
      },
      {
        "duration": 10,
        "start_time": "2022-08-31T21:16:24.970Z"
      },
      {
        "duration": 11,
        "start_time": "2022-08-31T21:17:57.962Z"
      },
      {
        "duration": 50,
        "start_time": "2022-08-31T21:19:02.657Z"
      },
      {
        "duration": 12,
        "start_time": "2022-08-31T21:19:16.813Z"
      },
      {
        "duration": 67,
        "start_time": "2022-08-31T21:19:24.057Z"
      },
      {
        "duration": 18,
        "start_time": "2022-08-31T21:19:51.780Z"
      },
      {
        "duration": 752,
        "start_time": "2022-09-01T16:16:50.491Z"
      },
      {
        "duration": 29,
        "start_time": "2022-09-01T16:16:51.246Z"
      },
      {
        "duration": 35,
        "start_time": "2022-09-01T16:16:51.277Z"
      },
      {
        "duration": 21,
        "start_time": "2022-09-01T16:16:51.315Z"
      },
      {
        "duration": 69,
        "start_time": "2022-09-01T16:16:51.339Z"
      },
      {
        "duration": 4,
        "start_time": "2022-09-01T16:16:51.410Z"
      },
      {
        "duration": 26,
        "start_time": "2022-09-01T16:16:51.416Z"
      },
      {
        "duration": 26,
        "start_time": "2022-09-01T16:16:51.443Z"
      },
      {
        "duration": 34,
        "start_time": "2022-09-01T16:16:51.470Z"
      },
      {
        "duration": 14,
        "start_time": "2022-09-01T16:16:51.508Z"
      },
      {
        "duration": 55,
        "start_time": "2022-09-01T16:16:51.524Z"
      },
      {
        "duration": 10,
        "start_time": "2022-09-01T16:16:51.581Z"
      },
      {
        "duration": 32,
        "start_time": "2022-09-01T16:16:51.592Z"
      },
      {
        "duration": 34,
        "start_time": "2022-09-01T16:16:51.626Z"
      },
      {
        "duration": 32,
        "start_time": "2022-09-01T16:16:51.661Z"
      },
      {
        "duration": 34,
        "start_time": "2022-09-01T16:16:51.694Z"
      },
      {
        "duration": 13,
        "start_time": "2022-09-01T16:16:51.730Z"
      },
      {
        "duration": 40,
        "start_time": "2022-09-01T16:16:51.745Z"
      },
      {
        "duration": 23,
        "start_time": "2022-09-01T16:16:51.787Z"
      },
      {
        "duration": 25,
        "start_time": "2022-09-01T16:16:51.812Z"
      },
      {
        "duration": 84,
        "start_time": "2022-09-01T16:16:51.839Z"
      },
      {
        "duration": 47,
        "start_time": "2022-09-01T16:16:51.924Z"
      },
      {
        "duration": 1161,
        "start_time": "2022-09-01T16:16:51.973Z"
      },
      {
        "duration": 11,
        "start_time": "2022-09-01T16:16:53.136Z"
      },
      {
        "duration": 24,
        "start_time": "2022-09-01T16:16:53.149Z"
      },
      {
        "duration": 39,
        "start_time": "2022-09-01T16:16:53.175Z"
      },
      {
        "duration": 151,
        "start_time": "2022-09-01T16:16:53.216Z"
      },
      {
        "duration": 33,
        "start_time": "2022-09-01T16:16:53.371Z"
      },
      {
        "duration": 12,
        "start_time": "2022-09-01T16:16:53.406Z"
      },
      {
        "duration": 141,
        "start_time": "2022-09-01T16:16:53.421Z"
      },
      {
        "duration": 15,
        "start_time": "2022-09-01T16:16:53.564Z"
      },
      {
        "duration": 156,
        "start_time": "2022-09-01T16:16:53.581Z"
      },
      {
        "duration": 472,
        "start_time": "2022-09-01T16:16:53.738Z"
      },
      {
        "duration": 5,
        "start_time": "2022-09-01T16:16:54.212Z"
      },
      {
        "duration": 24,
        "start_time": "2022-09-01T16:38:39.382Z"
      },
      {
        "duration": 16,
        "start_time": "2022-09-01T16:38:46.943Z"
      },
      {
        "duration": 7,
        "start_time": "2022-09-01T16:43:30.060Z"
      },
      {
        "duration": 15,
        "start_time": "2022-09-01T16:43:48.016Z"
      },
      {
        "duration": 16,
        "start_time": "2022-09-01T16:46:59.401Z"
      },
      {
        "duration": 17,
        "start_time": "2022-09-01T16:48:21.834Z"
      },
      {
        "duration": 120,
        "start_time": "2022-09-01T16:57:21.488Z"
      },
      {
        "duration": 17,
        "start_time": "2022-09-01T16:57:29.688Z"
      },
      {
        "duration": 25,
        "start_time": "2022-09-01T17:01:34.122Z"
      },
      {
        "duration": 13,
        "start_time": "2022-09-01T17:08:01.145Z"
      },
      {
        "duration": 13,
        "start_time": "2022-09-01T17:13:37.693Z"
      },
      {
        "duration": 10,
        "start_time": "2022-09-01T17:13:41.964Z"
      },
      {
        "duration": 54,
        "start_time": "2022-09-01T17:14:03.270Z"
      },
      {
        "duration": 4,
        "start_time": "2022-09-01T17:14:10.462Z"
      },
      {
        "duration": 5,
        "start_time": "2022-09-01T17:14:20.620Z"
      },
      {
        "duration": 5,
        "start_time": "2022-09-01T17:15:06.317Z"
      },
      {
        "duration": 35,
        "start_time": "2022-09-01T17:21:56.474Z"
      },
      {
        "duration": 21,
        "start_time": "2022-09-01T17:22:05.974Z"
      },
      {
        "duration": 18,
        "start_time": "2022-09-01T17:23:40.918Z"
      },
      {
        "duration": 25,
        "start_time": "2022-09-01T17:24:02.177Z"
      },
      {
        "duration": 56,
        "start_time": "2022-09-01T18:13:21.502Z"
      },
      {
        "duration": 613,
        "start_time": "2022-09-02T06:08:08.185Z"
      },
      {
        "duration": 19,
        "start_time": "2022-09-02T06:08:08.800Z"
      },
      {
        "duration": 13,
        "start_time": "2022-09-02T06:08:08.820Z"
      },
      {
        "duration": 8,
        "start_time": "2022-09-02T06:08:08.835Z"
      },
      {
        "duration": 41,
        "start_time": "2022-09-02T06:08:08.845Z"
      },
      {
        "duration": 4,
        "start_time": "2022-09-02T06:08:08.888Z"
      },
      {
        "duration": 16,
        "start_time": "2022-09-02T06:08:08.893Z"
      },
      {
        "duration": 5,
        "start_time": "2022-09-02T06:08:08.910Z"
      },
      {
        "duration": 9,
        "start_time": "2022-09-02T06:08:08.938Z"
      },
      {
        "duration": 6,
        "start_time": "2022-09-02T06:08:08.950Z"
      },
      {
        "duration": 43,
        "start_time": "2022-09-02T06:08:08.958Z"
      },
      {
        "duration": 11,
        "start_time": "2022-09-02T06:08:09.003Z"
      },
      {
        "duration": 5,
        "start_time": "2022-09-02T06:08:09.016Z"
      },
      {
        "duration": 13,
        "start_time": "2022-09-02T06:08:09.038Z"
      },
      {
        "duration": 22,
        "start_time": "2022-09-02T06:08:09.052Z"
      },
      {
        "duration": 15,
        "start_time": "2022-09-02T06:08:09.075Z"
      },
      {
        "duration": 3,
        "start_time": "2022-09-02T06:08:09.091Z"
      },
      {
        "duration": 15,
        "start_time": "2022-09-02T06:08:09.096Z"
      },
      {
        "duration": 5,
        "start_time": "2022-09-02T06:08:09.112Z"
      },
      {
        "duration": 20,
        "start_time": "2022-09-02T06:08:09.118Z"
      },
      {
        "duration": 21,
        "start_time": "2022-09-02T06:08:09.140Z"
      },
      {
        "duration": 9,
        "start_time": "2022-09-02T06:08:09.162Z"
      },
      {
        "duration": 773,
        "start_time": "2022-09-02T06:08:09.172Z"
      },
      {
        "duration": 4,
        "start_time": "2022-09-02T06:08:09.947Z"
      },
      {
        "duration": 25,
        "start_time": "2022-09-02T06:08:09.952Z"
      },
      {
        "duration": 23,
        "start_time": "2022-09-02T06:08:09.978Z"
      },
      {
        "duration": 17,
        "start_time": "2022-09-02T06:08:10.003Z"
      },
      {
        "duration": 117,
        "start_time": "2022-09-02T06:08:10.038Z"
      },
      {
        "duration": 4,
        "start_time": "2022-09-02T06:08:10.157Z"
      },
      {
        "duration": 21,
        "start_time": "2022-09-02T06:08:10.162Z"
      },
      {
        "duration": 9,
        "start_time": "2022-09-02T06:08:10.185Z"
      },
      {
        "duration": 124,
        "start_time": "2022-09-02T06:08:10.195Z"
      },
      {
        "duration": 26,
        "start_time": "2022-09-02T06:08:10.320Z"
      },
      {
        "duration": 106,
        "start_time": "2022-09-02T06:08:10.348Z"
      },
      {
        "duration": 0,
        "start_time": "2022-09-02T06:08:10.455Z"
      },
      {
        "duration": 0,
        "start_time": "2022-09-02T06:08:10.457Z"
      },
      {
        "duration": 0,
        "start_time": "2022-09-02T06:08:10.457Z"
      },
      {
        "duration": 0,
        "start_time": "2022-09-02T06:08:10.458Z"
      },
      {
        "duration": 794,
        "start_time": "2022-09-02T20:13:38.518Z"
      },
      {
        "duration": 26,
        "start_time": "2022-09-02T20:13:39.314Z"
      },
      {
        "duration": 33,
        "start_time": "2022-09-02T20:13:39.342Z"
      },
      {
        "duration": 26,
        "start_time": "2022-09-02T20:13:39.378Z"
      },
      {
        "duration": 44,
        "start_time": "2022-09-02T20:13:39.405Z"
      },
      {
        "duration": 5,
        "start_time": "2022-09-02T20:13:39.451Z"
      },
      {
        "duration": 16,
        "start_time": "2022-09-02T20:13:39.458Z"
      },
      {
        "duration": 27,
        "start_time": "2022-09-02T20:13:39.476Z"
      },
      {
        "duration": 11,
        "start_time": "2022-09-02T20:13:39.506Z"
      },
      {
        "duration": 17,
        "start_time": "2022-09-02T20:13:39.521Z"
      },
      {
        "duration": 40,
        "start_time": "2022-09-02T20:13:39.540Z"
      },
      {
        "duration": 10,
        "start_time": "2022-09-02T20:13:39.582Z"
      },
      {
        "duration": 5,
        "start_time": "2022-09-02T20:13:39.602Z"
      },
      {
        "duration": 12,
        "start_time": "2022-09-02T20:13:39.609Z"
      },
      {
        "duration": 21,
        "start_time": "2022-09-02T20:13:39.622Z"
      },
      {
        "duration": 18,
        "start_time": "2022-09-02T20:13:39.645Z"
      },
      {
        "duration": 4,
        "start_time": "2022-09-02T20:13:39.665Z"
      },
      {
        "duration": 41,
        "start_time": "2022-09-02T20:13:39.670Z"
      },
      {
        "duration": 12,
        "start_time": "2022-09-02T20:13:39.713Z"
      },
      {
        "duration": 10,
        "start_time": "2022-09-02T20:13:39.727Z"
      },
      {
        "duration": 32,
        "start_time": "2022-09-02T20:13:39.739Z"
      },
      {
        "duration": 17,
        "start_time": "2022-09-02T20:13:39.773Z"
      },
      {
        "duration": 1176,
        "start_time": "2022-09-02T20:13:39.802Z"
      },
      {
        "duration": 5,
        "start_time": "2022-09-02T20:13:40.980Z"
      },
      {
        "duration": 31,
        "start_time": "2022-09-02T20:13:40.987Z"
      },
      {
        "duration": 23,
        "start_time": "2022-09-02T20:13:41.020Z"
      },
      {
        "duration": 16,
        "start_time": "2022-09-02T20:13:41.045Z"
      },
      {
        "duration": 225,
        "start_time": "2022-09-02T20:13:41.066Z"
      },
      {
        "duration": 11,
        "start_time": "2022-09-02T20:13:41.293Z"
      },
      {
        "duration": 27,
        "start_time": "2022-09-02T20:13:41.306Z"
      },
      {
        "duration": 14,
        "start_time": "2022-09-02T20:13:41.335Z"
      },
      {
        "duration": 163,
        "start_time": "2022-09-02T20:13:41.351Z"
      },
      {
        "duration": 22,
        "start_time": "2022-09-02T20:13:41.516Z"
      },
      {
        "duration": 134,
        "start_time": "2022-09-02T20:13:41.541Z"
      },
      {
        "duration": 0,
        "start_time": "2022-09-02T20:13:41.677Z"
      },
      {
        "duration": 0,
        "start_time": "2022-09-02T20:13:41.678Z"
      },
      {
        "duration": 0,
        "start_time": "2022-09-02T20:13:41.680Z"
      },
      {
        "duration": 0,
        "start_time": "2022-09-02T20:13:41.681Z"
      },
      {
        "duration": 19,
        "start_time": "2022-09-02T20:16:44.942Z"
      },
      {
        "duration": 4,
        "start_time": "2022-09-02T20:17:38.754Z"
      },
      {
        "duration": 14,
        "start_time": "2022-09-02T20:19:32.275Z"
      },
      {
        "duration": 503,
        "start_time": "2022-09-02T20:19:41.512Z"
      },
      {
        "duration": 24,
        "start_time": "2022-09-02T20:19:42.017Z"
      },
      {
        "duration": 17,
        "start_time": "2022-09-02T20:19:42.044Z"
      },
      {
        "duration": 42,
        "start_time": "2022-09-02T20:19:42.063Z"
      },
      {
        "duration": 36,
        "start_time": "2022-09-02T20:19:42.107Z"
      },
      {
        "duration": 5,
        "start_time": "2022-09-02T20:19:42.144Z"
      },
      {
        "duration": 11,
        "start_time": "2022-09-02T20:19:42.151Z"
      },
      {
        "duration": 5,
        "start_time": "2022-09-02T20:19:42.164Z"
      },
      {
        "duration": 39,
        "start_time": "2022-09-02T20:19:42.171Z"
      },
      {
        "duration": 5,
        "start_time": "2022-09-02T20:19:42.214Z"
      },
      {
        "duration": 41,
        "start_time": "2022-09-02T20:19:42.220Z"
      },
      {
        "duration": 10,
        "start_time": "2022-09-02T20:19:42.263Z"
      },
      {
        "duration": 29,
        "start_time": "2022-09-02T20:19:42.275Z"
      },
      {
        "duration": 13,
        "start_time": "2022-09-02T20:19:42.305Z"
      },
      {
        "duration": 24,
        "start_time": "2022-09-02T20:19:42.320Z"
      },
      {
        "duration": 18,
        "start_time": "2022-09-02T20:19:42.346Z"
      },
      {
        "duration": 4,
        "start_time": "2022-09-02T20:19:42.365Z"
      },
      {
        "duration": 42,
        "start_time": "2022-09-02T20:19:42.370Z"
      },
      {
        "duration": 7,
        "start_time": "2022-09-02T20:19:42.413Z"
      },
      {
        "duration": 7,
        "start_time": "2022-09-02T20:19:42.421Z"
      },
      {
        "duration": 15,
        "start_time": "2022-09-02T20:19:42.430Z"
      },
      {
        "duration": 17,
        "start_time": "2022-09-02T20:19:42.447Z"
      },
      {
        "duration": 943,
        "start_time": "2022-09-02T20:19:42.466Z"
      },
      {
        "duration": 6,
        "start_time": "2022-09-02T20:19:43.411Z"
      },
      {
        "duration": 28,
        "start_time": "2022-09-02T20:19:43.419Z"
      },
      {
        "duration": 28,
        "start_time": "2022-09-02T20:19:43.449Z"
      },
      {
        "duration": 37,
        "start_time": "2022-09-02T20:19:43.478Z"
      },
      {
        "duration": 141,
        "start_time": "2022-09-02T20:19:43.519Z"
      },
      {
        "duration": 5,
        "start_time": "2022-09-02T20:19:43.661Z"
      },
      {
        "duration": 20,
        "start_time": "2022-09-02T20:19:43.668Z"
      },
      {
        "duration": 12,
        "start_time": "2022-09-02T20:19:43.703Z"
      },
      {
        "duration": 137,
        "start_time": "2022-09-02T20:19:43.717Z"
      },
      {
        "duration": 17,
        "start_time": "2022-09-02T20:19:43.856Z"
      },
      {
        "duration": 33,
        "start_time": "2022-09-02T20:19:43.875Z"
      },
      {
        "duration": 20,
        "start_time": "2022-09-02T20:19:43.909Z"
      },
      {
        "duration": 143,
        "start_time": "2022-09-02T20:19:43.930Z"
      },
      {
        "duration": 29,
        "start_time": "2022-09-02T20:19:44.074Z"
      },
      {
        "duration": 381,
        "start_time": "2022-09-02T20:19:44.105Z"
      },
      {
        "duration": 5,
        "start_time": "2022-09-02T20:19:44.488Z"
      },
      {
        "duration": 467,
        "start_time": "2022-09-02T23:24:18.961Z"
      },
      {
        "duration": 20,
        "start_time": "2022-09-02T23:24:19.430Z"
      },
      {
        "duration": 14,
        "start_time": "2022-09-02T23:24:19.451Z"
      },
      {
        "duration": 8,
        "start_time": "2022-09-02T23:24:19.467Z"
      },
      {
        "duration": 31,
        "start_time": "2022-09-02T23:24:19.477Z"
      },
      {
        "duration": 3,
        "start_time": "2022-09-02T23:24:19.510Z"
      },
      {
        "duration": 30,
        "start_time": "2022-09-02T23:24:19.514Z"
      },
      {
        "duration": 4,
        "start_time": "2022-09-02T23:24:19.545Z"
      },
      {
        "duration": 7,
        "start_time": "2022-09-02T23:24:19.551Z"
      },
      {
        "duration": 4,
        "start_time": "2022-09-02T23:24:19.561Z"
      },
      {
        "duration": 32,
        "start_time": "2022-09-02T23:24:19.566Z"
      },
      {
        "duration": 39,
        "start_time": "2022-09-02T23:24:19.599Z"
      },
      {
        "duration": 3,
        "start_time": "2022-09-02T23:24:19.640Z"
      },
      {
        "duration": 12,
        "start_time": "2022-09-02T23:24:19.645Z"
      },
      {
        "duration": 17,
        "start_time": "2022-09-02T23:24:19.659Z"
      },
      {
        "duration": 19,
        "start_time": "2022-09-02T23:24:19.677Z"
      },
      {
        "duration": 3,
        "start_time": "2022-09-02T23:24:19.697Z"
      },
      {
        "duration": 12,
        "start_time": "2022-09-02T23:24:19.702Z"
      },
      {
        "duration": 6,
        "start_time": "2022-09-02T23:24:19.738Z"
      },
      {
        "duration": 6,
        "start_time": "2022-09-02T23:24:19.745Z"
      },
      {
        "duration": 16,
        "start_time": "2022-09-02T23:24:19.752Z"
      },
      {
        "duration": 12,
        "start_time": "2022-09-02T23:24:19.771Z"
      },
      {
        "duration": 808,
        "start_time": "2022-09-02T23:24:19.784Z"
      },
      {
        "duration": 4,
        "start_time": "2022-09-02T23:24:20.594Z"
      },
      {
        "duration": 18,
        "start_time": "2022-09-02T23:24:20.600Z"
      },
      {
        "duration": 33,
        "start_time": "2022-09-02T23:24:20.619Z"
      },
      {
        "duration": 12,
        "start_time": "2022-09-02T23:24:20.654Z"
      },
      {
        "duration": 124,
        "start_time": "2022-09-02T23:24:20.669Z"
      },
      {
        "duration": 5,
        "start_time": "2022-09-02T23:24:20.794Z"
      },
      {
        "duration": 20,
        "start_time": "2022-09-02T23:24:20.800Z"
      },
      {
        "duration": 25,
        "start_time": "2022-09-02T23:24:20.821Z"
      },
      {
        "duration": 118,
        "start_time": "2022-09-02T23:24:20.848Z"
      },
      {
        "duration": 14,
        "start_time": "2022-09-02T23:24:20.968Z"
      },
      {
        "duration": 15,
        "start_time": "2022-09-02T23:24:20.983Z"
      },
      {
        "duration": 18,
        "start_time": "2022-09-02T23:24:20.999Z"
      },
      {
        "duration": 124,
        "start_time": "2022-09-02T23:24:21.018Z"
      },
      {
        "duration": 15,
        "start_time": "2022-09-02T23:24:21.144Z"
      },
      {
        "duration": 332,
        "start_time": "2022-09-02T23:24:21.160Z"
      },
      {
        "duration": 4,
        "start_time": "2022-09-02T23:24:21.493Z"
      },
      {
        "duration": 124,
        "start_time": "2022-09-02T23:29:52.826Z"
      },
      {
        "duration": 115,
        "start_time": "2022-09-02T23:30:53.299Z"
      },
      {
        "duration": 103,
        "start_time": "2022-09-02T23:31:17.947Z"
      },
      {
        "duration": 11,
        "start_time": "2022-09-02T23:31:51.570Z"
      },
      {
        "duration": 412,
        "start_time": "2022-09-02T23:31:59.874Z"
      },
      {
        "duration": 20,
        "start_time": "2022-09-02T23:32:00.288Z"
      },
      {
        "duration": 16,
        "start_time": "2022-09-02T23:32:00.309Z"
      },
      {
        "duration": 9,
        "start_time": "2022-09-02T23:32:00.337Z"
      },
      {
        "duration": 35,
        "start_time": "2022-09-02T23:32:00.348Z"
      },
      {
        "duration": 4,
        "start_time": "2022-09-02T23:32:00.384Z"
      },
      {
        "duration": 13,
        "start_time": "2022-09-02T23:32:00.389Z"
      },
      {
        "duration": 11,
        "start_time": "2022-09-02T23:32:00.404Z"
      },
      {
        "duration": 9,
        "start_time": "2022-09-02T23:32:00.417Z"
      },
      {
        "duration": 13,
        "start_time": "2022-09-02T23:32:00.428Z"
      },
      {
        "duration": 36,
        "start_time": "2022-09-02T23:32:00.443Z"
      },
      {
        "duration": 9,
        "start_time": "2022-09-02T23:32:00.480Z"
      },
      {
        "duration": 22,
        "start_time": "2022-09-02T23:32:00.490Z"
      },
      {
        "duration": 22,
        "start_time": "2022-09-02T23:32:00.514Z"
      },
      {
        "duration": 27,
        "start_time": "2022-09-02T23:32:00.537Z"
      },
      {
        "duration": 16,
        "start_time": "2022-09-02T23:32:00.565Z"
      },
      {
        "duration": 3,
        "start_time": "2022-09-02T23:32:00.582Z"
      },
      {
        "duration": 19,
        "start_time": "2022-09-02T23:32:00.587Z"
      },
      {
        "duration": 12,
        "start_time": "2022-09-02T23:32:00.607Z"
      },
      {
        "duration": 8,
        "start_time": "2022-09-02T23:32:00.621Z"
      },
      {
        "duration": 15,
        "start_time": "2022-09-02T23:32:00.631Z"
      },
      {
        "duration": 42,
        "start_time": "2022-09-02T23:32:00.647Z"
      },
      {
        "duration": 860,
        "start_time": "2022-09-02T23:32:00.691Z"
      },
      {
        "duration": 4,
        "start_time": "2022-09-02T23:32:01.553Z"
      },
      {
        "duration": 52,
        "start_time": "2022-09-02T23:32:01.558Z"
      },
      {
        "duration": 27,
        "start_time": "2022-09-02T23:32:01.612Z"
      },
      {
        "duration": 32,
        "start_time": "2022-09-02T23:32:01.640Z"
      },
      {
        "duration": 137,
        "start_time": "2022-09-02T23:32:01.676Z"
      },
      {
        "duration": 101,
        "start_time": "2022-09-02T23:32:01.815Z"
      },
      {
        "duration": 0,
        "start_time": "2022-09-02T23:32:01.918Z"
      },
      {
        "duration": 0,
        "start_time": "2022-09-02T23:32:01.919Z"
      },
      {
        "duration": 0,
        "start_time": "2022-09-02T23:32:01.920Z"
      },
      {
        "duration": 0,
        "start_time": "2022-09-02T23:32:01.921Z"
      },
      {
        "duration": 0,
        "start_time": "2022-09-02T23:32:01.922Z"
      },
      {
        "duration": 0,
        "start_time": "2022-09-02T23:32:01.923Z"
      },
      {
        "duration": 0,
        "start_time": "2022-09-02T23:32:01.923Z"
      },
      {
        "duration": 0,
        "start_time": "2022-09-02T23:32:01.925Z"
      },
      {
        "duration": 0,
        "start_time": "2022-09-02T23:32:01.925Z"
      },
      {
        "duration": 0,
        "start_time": "2022-09-02T23:32:01.939Z"
      },
      {
        "duration": 0,
        "start_time": "2022-09-02T23:32:01.939Z"
      },
      {
        "duration": 11,
        "start_time": "2022-09-02T23:32:43.944Z"
      },
      {
        "duration": 11,
        "start_time": "2022-09-02T23:34:24.109Z"
      },
      {
        "duration": 12,
        "start_time": "2022-09-02T23:35:02.657Z"
      },
      {
        "duration": 20,
        "start_time": "2022-09-02T23:35:51.730Z"
      },
      {
        "duration": 118,
        "start_time": "2022-09-02T23:36:06.195Z"
      },
      {
        "duration": 128,
        "start_time": "2022-09-02T23:37:35.784Z"
      },
      {
        "duration": 138,
        "start_time": "2022-09-02T23:38:31.309Z"
      },
      {
        "duration": 136,
        "start_time": "2022-09-02T23:38:43.915Z"
      },
      {
        "duration": 148,
        "start_time": "2022-09-02T23:39:33.657Z"
      },
      {
        "duration": 8,
        "start_time": "2022-09-11T19:55:23.179Z"
      },
      {
        "duration": 53,
        "start_time": "2022-09-11T21:29:56.405Z"
      },
      {
        "duration": 737,
        "start_time": "2022-09-11T21:30:02.289Z"
      },
      {
        "duration": 20,
        "start_time": "2022-09-11T21:30:03.029Z"
      },
      {
        "duration": 17,
        "start_time": "2022-09-11T21:30:03.051Z"
      },
      {
        "duration": 42,
        "start_time": "2022-09-11T21:30:03.070Z"
      },
      {
        "duration": 110,
        "start_time": "2022-09-11T21:30:03.113Z"
      },
      {
        "duration": 3,
        "start_time": "2022-09-11T21:30:03.225Z"
      },
      {
        "duration": 33,
        "start_time": "2022-09-11T21:30:03.230Z"
      },
      {
        "duration": 33,
        "start_time": "2022-09-11T21:30:03.265Z"
      },
      {
        "duration": 27,
        "start_time": "2022-09-11T21:30:03.300Z"
      },
      {
        "duration": 38,
        "start_time": "2022-09-11T21:30:03.331Z"
      },
      {
        "duration": 40,
        "start_time": "2022-09-11T21:30:03.371Z"
      },
      {
        "duration": 12,
        "start_time": "2022-09-11T21:30:03.412Z"
      },
      {
        "duration": 14,
        "start_time": "2022-09-11T21:30:03.426Z"
      },
      {
        "duration": 37,
        "start_time": "2022-09-11T21:30:03.441Z"
      },
      {
        "duration": 48,
        "start_time": "2022-09-11T21:30:03.480Z"
      },
      {
        "duration": 25,
        "start_time": "2022-09-11T21:30:03.530Z"
      },
      {
        "duration": 24,
        "start_time": "2022-09-11T21:30:03.557Z"
      },
      {
        "duration": 45,
        "start_time": "2022-09-11T21:30:03.582Z"
      },
      {
        "duration": 22,
        "start_time": "2022-09-11T21:30:03.629Z"
      },
      {
        "duration": 36,
        "start_time": "2022-09-11T21:30:03.653Z"
      },
      {
        "duration": 22,
        "start_time": "2022-09-11T21:30:03.690Z"
      },
      {
        "duration": 27,
        "start_time": "2022-09-11T21:30:03.714Z"
      },
      {
        "duration": 38,
        "start_time": "2022-09-11T21:30:03.743Z"
      },
      {
        "duration": 1044,
        "start_time": "2022-09-11T21:30:03.782Z"
      },
      {
        "duration": 4,
        "start_time": "2022-09-11T21:30:04.828Z"
      },
      {
        "duration": 47,
        "start_time": "2022-09-11T21:30:04.834Z"
      },
      {
        "duration": 36,
        "start_time": "2022-09-11T21:30:04.882Z"
      },
      {
        "duration": 37,
        "start_time": "2022-09-11T21:30:04.921Z"
      },
      {
        "duration": 181,
        "start_time": "2022-09-11T21:30:04.959Z"
      },
      {
        "duration": 153,
        "start_time": "2022-09-11T21:30:05.141Z"
      },
      {
        "duration": 4,
        "start_time": "2022-09-11T21:30:05.296Z"
      },
      {
        "duration": 61,
        "start_time": "2022-09-11T21:30:05.301Z"
      },
      {
        "duration": 12,
        "start_time": "2022-09-11T21:30:05.363Z"
      },
      {
        "duration": 126,
        "start_time": "2022-09-11T21:30:05.376Z"
      },
      {
        "duration": 20,
        "start_time": "2022-09-11T21:30:05.503Z"
      },
      {
        "duration": 30,
        "start_time": "2022-09-11T21:30:05.524Z"
      },
      {
        "duration": 25,
        "start_time": "2022-09-11T21:30:05.556Z"
      },
      {
        "duration": 134,
        "start_time": "2022-09-11T21:30:05.583Z"
      },
      {
        "duration": 19,
        "start_time": "2022-09-11T21:30:05.718Z"
      },
      {
        "duration": 394,
        "start_time": "2022-09-11T21:30:05.739Z"
      },
      {
        "duration": 5,
        "start_time": "2022-09-11T21:30:06.135Z"
      },
      {
        "duration": 498,
        "start_time": "2022-10-13T22:04:00.036Z"
      },
      {
        "duration": 20,
        "start_time": "2022-10-13T22:04:00.536Z"
      },
      {
        "duration": 29,
        "start_time": "2022-10-13T22:04:00.558Z"
      },
      {
        "duration": 12,
        "start_time": "2022-10-13T22:04:00.589Z"
      },
      {
        "duration": 43,
        "start_time": "2022-10-13T22:04:00.602Z"
      },
      {
        "duration": 4,
        "start_time": "2022-10-13T22:04:00.646Z"
      },
      {
        "duration": 28,
        "start_time": "2022-10-13T22:04:00.651Z"
      },
      {
        "duration": 6,
        "start_time": "2022-10-13T22:04:00.681Z"
      },
      {
        "duration": 13,
        "start_time": "2022-10-13T22:04:00.689Z"
      },
      {
        "duration": 12,
        "start_time": "2022-10-13T22:04:00.705Z"
      },
      {
        "duration": 44,
        "start_time": "2022-10-13T22:04:00.718Z"
      },
      {
        "duration": 10,
        "start_time": "2022-10-13T22:04:00.763Z"
      },
      {
        "duration": 7,
        "start_time": "2022-10-13T22:04:00.775Z"
      },
      {
        "duration": 13,
        "start_time": "2022-10-13T22:04:00.784Z"
      },
      {
        "duration": 36,
        "start_time": "2022-10-13T22:04:00.799Z"
      },
      {
        "duration": 16,
        "start_time": "2022-10-13T22:04:00.837Z"
      },
      {
        "duration": 4,
        "start_time": "2022-10-13T22:04:00.854Z"
      },
      {
        "duration": 26,
        "start_time": "2022-10-13T22:04:00.860Z"
      },
      {
        "duration": 25,
        "start_time": "2022-10-13T22:04:00.887Z"
      },
      {
        "duration": 8,
        "start_time": "2022-10-13T22:04:00.914Z"
      },
      {
        "duration": 18,
        "start_time": "2022-10-13T22:04:00.923Z"
      },
      {
        "duration": 17,
        "start_time": "2022-10-13T22:04:00.942Z"
      },
      {
        "duration": 10,
        "start_time": "2022-10-13T22:04:00.960Z"
      },
      {
        "duration": 840,
        "start_time": "2022-10-13T22:04:00.971Z"
      },
      {
        "duration": 5,
        "start_time": "2022-10-13T22:04:01.822Z"
      },
      {
        "duration": 29,
        "start_time": "2022-10-13T22:04:01.828Z"
      },
      {
        "duration": 20,
        "start_time": "2022-10-13T22:04:01.858Z"
      },
      {
        "duration": 16,
        "start_time": "2022-10-13T22:04:01.881Z"
      },
      {
        "duration": 129,
        "start_time": "2022-10-13T22:04:01.899Z"
      },
      {
        "duration": 156,
        "start_time": "2022-10-13T22:04:02.030Z"
      },
      {
        "duration": 4,
        "start_time": "2022-10-13T22:04:02.188Z"
      },
      {
        "duration": 33,
        "start_time": "2022-10-13T22:04:02.194Z"
      },
      {
        "duration": 13,
        "start_time": "2022-10-13T22:04:02.228Z"
      },
      {
        "duration": 119,
        "start_time": "2022-10-13T22:04:02.243Z"
      },
      {
        "duration": 14,
        "start_time": "2022-10-13T22:04:02.364Z"
      },
      {
        "duration": 14,
        "start_time": "2022-10-13T22:04:02.380Z"
      },
      {
        "duration": 15,
        "start_time": "2022-10-13T22:04:02.396Z"
      },
      {
        "duration": 116,
        "start_time": "2022-10-13T22:04:02.412Z"
      },
      {
        "duration": 16,
        "start_time": "2022-10-13T22:04:02.530Z"
      },
      {
        "duration": 425,
        "start_time": "2022-10-13T22:04:02.548Z"
      },
      {
        "duration": 4,
        "start_time": "2022-10-13T22:04:02.974Z"
      },
      {
        "duration": 635,
        "start_time": "2022-12-13T16:49:36.497Z"
      },
      {
        "duration": 24,
        "start_time": "2022-12-13T16:49:37.134Z"
      },
      {
        "duration": 15,
        "start_time": "2022-12-13T16:49:37.160Z"
      },
      {
        "duration": 10,
        "start_time": "2022-12-13T16:49:37.177Z"
      },
      {
        "duration": 38,
        "start_time": "2022-12-13T16:49:37.189Z"
      },
      {
        "duration": 3,
        "start_time": "2022-12-13T16:49:37.229Z"
      },
      {
        "duration": 11,
        "start_time": "2022-12-13T16:49:37.234Z"
      },
      {
        "duration": 4,
        "start_time": "2022-12-13T16:49:37.247Z"
      },
      {
        "duration": 33,
        "start_time": "2022-12-13T16:49:37.253Z"
      },
      {
        "duration": 5,
        "start_time": "2022-12-13T16:49:37.291Z"
      },
      {
        "duration": 33,
        "start_time": "2022-12-13T16:49:37.298Z"
      },
      {
        "duration": 11,
        "start_time": "2022-12-13T16:49:37.333Z"
      },
      {
        "duration": 11,
        "start_time": "2022-12-13T16:49:37.346Z"
      },
      {
        "duration": 16,
        "start_time": "2022-12-13T16:49:37.378Z"
      },
      {
        "duration": 26,
        "start_time": "2022-12-13T16:49:37.396Z"
      },
      {
        "duration": 17,
        "start_time": "2022-12-13T16:49:37.424Z"
      },
      {
        "duration": 4,
        "start_time": "2022-12-13T16:49:37.443Z"
      },
      {
        "duration": 31,
        "start_time": "2022-12-13T16:49:37.448Z"
      },
      {
        "duration": 14,
        "start_time": "2022-12-13T16:49:37.481Z"
      },
      {
        "duration": 8,
        "start_time": "2022-12-13T16:49:37.497Z"
      },
      {
        "duration": 27,
        "start_time": "2022-12-13T16:49:37.506Z"
      },
      {
        "duration": 21,
        "start_time": "2022-12-13T16:49:37.535Z"
      },
      {
        "duration": 26,
        "start_time": "2022-12-13T16:49:37.559Z"
      },
      {
        "duration": 1047,
        "start_time": "2022-12-13T16:49:37.587Z"
      },
      {
        "duration": 5,
        "start_time": "2022-12-13T16:49:38.635Z"
      },
      {
        "duration": 20,
        "start_time": "2022-12-13T16:49:38.641Z"
      },
      {
        "duration": 34,
        "start_time": "2022-12-13T16:49:38.663Z"
      },
      {
        "duration": 14,
        "start_time": "2022-12-13T16:49:38.700Z"
      },
      {
        "duration": 150,
        "start_time": "2022-12-13T16:49:38.715Z"
      },
      {
        "duration": 181,
        "start_time": "2022-12-13T16:49:38.867Z"
      },
      {
        "duration": 4,
        "start_time": "2022-12-13T16:49:39.050Z"
      },
      {
        "duration": 35,
        "start_time": "2022-12-13T16:49:39.056Z"
      },
      {
        "duration": 11,
        "start_time": "2022-12-13T16:49:39.093Z"
      },
      {
        "duration": 122,
        "start_time": "2022-12-13T16:49:39.106Z"
      },
      {
        "duration": 22,
        "start_time": "2022-12-13T16:49:39.230Z"
      },
      {
        "duration": 31,
        "start_time": "2022-12-13T16:49:39.254Z"
      },
      {
        "duration": 16,
        "start_time": "2022-12-13T16:49:39.287Z"
      },
      {
        "duration": 132,
        "start_time": "2022-12-13T16:49:39.305Z"
      },
      {
        "duration": 19,
        "start_time": "2022-12-13T16:49:39.439Z"
      },
      {
        "duration": 416,
        "start_time": "2022-12-13T16:49:39.459Z"
      },
      {
        "duration": 5,
        "start_time": "2022-12-13T16:49:39.878Z"
      },
      {
        "duration": 10,
        "start_time": "2022-12-13T16:50:23.555Z"
      },
      {
        "duration": 5,
        "start_time": "2022-12-13T16:50:37.771Z"
      },
      {
        "duration": 484,
        "start_time": "2022-12-13T16:50:45.399Z"
      },
      {
        "duration": 23,
        "start_time": "2022-12-13T16:50:45.885Z"
      },
      {
        "duration": 15,
        "start_time": "2022-12-13T16:50:45.910Z"
      },
      {
        "duration": 8,
        "start_time": "2022-12-13T16:50:45.928Z"
      },
      {
        "duration": 62,
        "start_time": "2022-12-13T16:50:45.938Z"
      },
      {
        "duration": 3,
        "start_time": "2022-12-13T16:50:46.002Z"
      },
      {
        "duration": 11,
        "start_time": "2022-12-13T16:50:46.007Z"
      },
      {
        "duration": 5,
        "start_time": "2022-12-13T16:50:46.020Z"
      },
      {
        "duration": 11,
        "start_time": "2022-12-13T16:50:46.027Z"
      },
      {
        "duration": 5,
        "start_time": "2022-12-13T16:50:46.043Z"
      },
      {
        "duration": 58,
        "start_time": "2022-12-13T16:50:46.050Z"
      },
      {
        "duration": 9,
        "start_time": "2022-12-13T16:50:46.111Z"
      },
      {
        "duration": 4,
        "start_time": "2022-12-13T16:50:46.121Z"
      },
      {
        "duration": 14,
        "start_time": "2022-12-13T16:50:46.126Z"
      },
      {
        "duration": 43,
        "start_time": "2022-12-13T16:50:46.141Z"
      },
      {
        "duration": 18,
        "start_time": "2022-12-13T16:50:46.186Z"
      },
      {
        "duration": 4,
        "start_time": "2022-12-13T16:50:46.206Z"
      },
      {
        "duration": 1186,
        "start_time": "2022-12-13T16:50:46.212Z"
      },
      {
        "duration": 0,
        "start_time": "2022-12-13T16:50:47.400Z"
      },
      {
        "duration": 0,
        "start_time": "2022-12-13T16:50:47.401Z"
      },
      {
        "duration": 0,
        "start_time": "2022-12-13T16:50:47.403Z"
      },
      {
        "duration": 0,
        "start_time": "2022-12-13T16:50:47.404Z"
      },
      {
        "duration": 0,
        "start_time": "2022-12-13T16:50:47.405Z"
      },
      {
        "duration": 0,
        "start_time": "2022-12-13T16:50:47.406Z"
      },
      {
        "duration": 0,
        "start_time": "2022-12-13T16:50:47.406Z"
      },
      {
        "duration": 0,
        "start_time": "2022-12-13T16:50:47.408Z"
      },
      {
        "duration": 0,
        "start_time": "2022-12-13T16:50:47.408Z"
      },
      {
        "duration": 0,
        "start_time": "2022-12-13T16:50:47.409Z"
      },
      {
        "duration": 0,
        "start_time": "2022-12-13T16:50:47.410Z"
      },
      {
        "duration": 0,
        "start_time": "2022-12-13T16:50:47.411Z"
      },
      {
        "duration": 0,
        "start_time": "2022-12-13T16:50:47.412Z"
      },
      {
        "duration": 0,
        "start_time": "2022-12-13T16:50:47.413Z"
      },
      {
        "duration": 0,
        "start_time": "2022-12-13T16:50:47.414Z"
      },
      {
        "duration": 0,
        "start_time": "2022-12-13T16:50:47.415Z"
      },
      {
        "duration": 0,
        "start_time": "2022-12-13T16:50:47.416Z"
      },
      {
        "duration": 0,
        "start_time": "2022-12-13T16:50:47.417Z"
      },
      {
        "duration": 0,
        "start_time": "2022-12-13T16:50:47.419Z"
      },
      {
        "duration": 0,
        "start_time": "2022-12-13T16:50:47.420Z"
      },
      {
        "duration": 0,
        "start_time": "2022-12-13T16:50:47.420Z"
      },
      {
        "duration": 0,
        "start_time": "2022-12-13T16:50:47.422Z"
      },
      {
        "duration": 0,
        "start_time": "2022-12-13T16:50:47.423Z"
      },
      {
        "duration": 0,
        "start_time": "2022-12-13T16:50:47.424Z"
      },
      {
        "duration": 6,
        "start_time": "2022-12-13T16:51:13.189Z"
      },
      {
        "duration": 14,
        "start_time": "2022-12-13T16:51:19.980Z"
      },
      {
        "duration": 4,
        "start_time": "2022-12-13T16:51:34.589Z"
      }
    ],
    "colab": {
      "provenance": []
    },
    "kernelspec": {
      "display_name": "Python 3 (ipykernel)",
      "language": "python",
      "name": "python3"
    },
    "language_info": {
      "codemirror_mode": {
        "name": "ipython",
        "version": 3
      },
      "file_extension": ".py",
      "mimetype": "text/x-python",
      "name": "python",
      "nbconvert_exporter": "python",
      "pygments_lexer": "ipython3",
      "version": "3.9.5"
    },
    "toc": {
      "base_numbering": 1,
      "nav_menu": {},
      "number_sections": true,
      "sideBar": true,
      "skip_h1_title": true,
      "title_cell": "Table of Contents",
      "title_sidebar": "Contents",
      "toc_cell": false,
      "toc_position": {},
      "toc_section_display": true,
      "toc_window_display": false
    }
  },
  "nbformat": 4,
  "nbformat_minor": 5
}
