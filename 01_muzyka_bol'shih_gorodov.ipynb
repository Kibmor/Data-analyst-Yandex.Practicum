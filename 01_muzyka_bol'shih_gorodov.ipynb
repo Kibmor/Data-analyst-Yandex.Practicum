{
  "cells": [
    {
      "cell_type": "markdown",
      "metadata": {
        "deletable": false,
        "editable": false,
        "id": "E0vqbgi9ay0H"
      },
      "source": [
        "# Яндекс Музыка"
      ]
    },
    {
      "cell_type": "markdown",
      "metadata": {
        "deletable": false,
        "editable": false,
        "id": "VUC88oWjTJw2"
      },
      "source": [
        "Сравнение Москвы и Петербурга окружено мифами. Например:\n",
        " * Москва — мегаполис, подчинённый жёсткому ритму рабочей недели;\n",
        " * Петербург — культурная столица, со своими вкусами.\n",
        "\n",
        "На данных Яндекс Музыки вы сравните поведение пользователей двух столиц.\n",
        "\n",
        "**Цель исследования** — проверьте три гипотезы:\n",
        "1. Активность пользователей зависит от дня недели. Причём в Москве и Петербурге это проявляется по-разному.\n",
        "2. В понедельник утром в Москве преобладают одни жанры, а в Петербурге — другие. Так же и вечером пятницы преобладают разные жанры — в зависимости от города.\n",
        "3. Москва и Петербург предпочитают разные жанры музыки. В Москве чаще слушают поп-музыку, в Петербурге — русский рэп.\n",
        "\n",
        "**Ход исследования**\n",
        "\n",
        "Данные о поведении пользователей вы получите из файла. О качестве данных ничего не известно. Поэтому перед проверкой гипотез понадобится обзор данных.\n",
        "\n",
        "Вы проверите данные на ошибки и оцените их влияние на исследование. Затем, на этапе предобработки вы поищете возможность исправить самые критичные ошибки данных.\n",
        "\n",
        "Таким образом, исследование пройдёт в три этапа:\n",
        " 1. Обзор данных.\n",
        " 2. Предобработка данных.\n",
        " 3. Проверка гипотез.\n",
        "\n"
      ]
    },
    {
      "cell_type": "markdown",
      "metadata": {
        "deletable": false,
        "editable": false,
        "id": "Ml1hmfXC_Zcs"
      },
      "source": [
        "## Обзор данных\n",
        "\n",
        "Составьте первое представление о данных Яндекс Музыки.\n",
        "\n",
        "\n"
      ]
    },
    {
      "cell_type": "markdown",
      "metadata": {
        "deletable": false,
        "editable": false,
        "id": "57eAOGIz_Zcs",
        "tags": [
          "start_task"
        ]
      },
      "source": [
        "**Задание 1**\n",
        "\n",
        "Основной инструмент аналитика — `pandas`. Импортируйте эту библиотеку."
      ]
    },
    {
      "cell_type": "code",
      "execution_count": 1,
      "metadata": {
        "deletable": false,
        "id": "AXN7PHPN_Zcs"
      },
      "outputs": [],
      "source": [
        "import pandas as pd# импорт библиотеки pandas\n",
        "from io import BytesIO\n",
        "import requests"
      ]
    },
    {
      "cell_type": "markdown",
      "metadata": {
        "deletable": false,
        "editable": false,
        "id": "SG23P8tt_Zcs",
        "tags": [
          "start_task"
        ]
      },
      "source": [
        "**Задание 2**\n",
        "\n",
        "Прочитайте файл `yandex_music_project.csv` из папки `/datasets` и сохраните его в переменной `df`:"
      ]
    },
    {
      "cell_type": "code",
      "source": [
        "def get_data(link):\n",
        "  spreadsheet_id = link[link.find('d/')+2:link.find('/edit')]\n",
        "  file_name = 'https://docs.google.com/spreadsheets/d/{}/export?format=csv'.format(spreadsheet_id)\n",
        "  r = requests.get(file_name)\n",
        "  data = pd.read_csv(BytesIO(r.content))\n",
        "  return data"
      ],
      "metadata": {
        "id": "xXZBk3oI3Abq"
      },
      "execution_count": 2,
      "outputs": []
    },
    {
      "cell_type": "code",
      "execution_count": 3,
      "metadata": {
        "deletable": false,
        "id": "fFVu7vqh_Zct",
        "scrolled": true
      },
      "outputs": [],
      "source": [
        "df=get_data('https://docs.google.com/spreadsheets/d/--------------------------------------/edit?usp=drive_link') # чтение файла с данными и сохранение в df"
      ]
    },
    {
      "cell_type": "markdown",
      "metadata": {
        "deletable": false,
        "editable": false,
        "id": "rDoOMd3uTqnZ",
        "tags": [
          "start_task"
        ]
      },
      "source": [
        "**Задание 3**\n",
        "\n",
        "\n",
        "Выведите на экран первые десять строк таблицы:"
      ]
    },
    {
      "cell_type": "code",
      "execution_count": 4,
      "metadata": {
        "deletable": false,
        "id": "oWTVX3gW_Zct",
        "colab": {
          "base_uri": "https://localhost:8080/",
          "height": 363
        },
        "outputId": "61ed9e00-f6de-4f7c-ecfc-1244f034cf46"
      },
      "outputs": [
        {
          "output_type": "execute_result",
          "data": {
            "text/plain": [
              "     userID                        Track            artist   genre  \\\n",
              "0  FFB692EC            Kamigata To Boots  The Mass Missile    rock   \n",
              "1  55204538  Delayed Because of Accident  Andreas Rönnberg    rock   \n",
              "2    20EC38            Funiculì funiculà       Mario Lanza     pop   \n",
              "3  A3DD03C9        Dragons in the Sunset        Fire + Ice    folk   \n",
              "4  E2DC1FAE                  Soul People        Space Echo   dance   \n",
              "5  842029A1                    Преданная         IMPERVTOR  rusrap   \n",
              "6  4CB90AA5                         TRUE      Roman Messer   dance   \n",
              "7  F03E1C1F             Feeling This Way   Polina Griffith   dance   \n",
              "8  8FA1D3BE     И вновь продолжается бой               NaN  ruspop   \n",
              "9  E772D5C0                    Pessimist               NaN   dance   \n",
              "\n",
              "               City      time        Day  \n",
              "0  Saint-Petersburg  20:28:33  Wednesday  \n",
              "1            Moscow  14:07:09     Friday  \n",
              "2  Saint-Petersburg  20:58:07  Wednesday  \n",
              "3  Saint-Petersburg   8:37:09     Monday  \n",
              "4            Moscow   8:34:34     Monday  \n",
              "5  Saint-Petersburg  13:09:41     Friday  \n",
              "6            Moscow  13:00:07  Wednesday  \n",
              "7            Moscow  20:47:49  Wednesday  \n",
              "8            Moscow   9:17:40     Friday  \n",
              "9  Saint-Petersburg  21:20:49  Wednesday  "
            ],
            "text/html": [
              "\n",
              "  <div id=\"df-859a1308-1b21-4a6b-9e09-bc0b298e9ea0\">\n",
              "    <div class=\"colab-df-container\">\n",
              "      <div>\n",
              "<style scoped>\n",
              "    .dataframe tbody tr th:only-of-type {\n",
              "        vertical-align: middle;\n",
              "    }\n",
              "\n",
              "    .dataframe tbody tr th {\n",
              "        vertical-align: top;\n",
              "    }\n",
              "\n",
              "    .dataframe thead th {\n",
              "        text-align: right;\n",
              "    }\n",
              "</style>\n",
              "<table border=\"1\" class=\"dataframe\">\n",
              "  <thead>\n",
              "    <tr style=\"text-align: right;\">\n",
              "      <th></th>\n",
              "      <th>userID</th>\n",
              "      <th>Track</th>\n",
              "      <th>artist</th>\n",
              "      <th>genre</th>\n",
              "      <th>City</th>\n",
              "      <th>time</th>\n",
              "      <th>Day</th>\n",
              "    </tr>\n",
              "  </thead>\n",
              "  <tbody>\n",
              "    <tr>\n",
              "      <th>0</th>\n",
              "      <td>FFB692EC</td>\n",
              "      <td>Kamigata To Boots</td>\n",
              "      <td>The Mass Missile</td>\n",
              "      <td>rock</td>\n",
              "      <td>Saint-Petersburg</td>\n",
              "      <td>20:28:33</td>\n",
              "      <td>Wednesday</td>\n",
              "    </tr>\n",
              "    <tr>\n",
              "      <th>1</th>\n",
              "      <td>55204538</td>\n",
              "      <td>Delayed Because of Accident</td>\n",
              "      <td>Andreas Rönnberg</td>\n",
              "      <td>rock</td>\n",
              "      <td>Moscow</td>\n",
              "      <td>14:07:09</td>\n",
              "      <td>Friday</td>\n",
              "    </tr>\n",
              "    <tr>\n",
              "      <th>2</th>\n",
              "      <td>20EC38</td>\n",
              "      <td>Funiculì funiculà</td>\n",
              "      <td>Mario Lanza</td>\n",
              "      <td>pop</td>\n",
              "      <td>Saint-Petersburg</td>\n",
              "      <td>20:58:07</td>\n",
              "      <td>Wednesday</td>\n",
              "    </tr>\n",
              "    <tr>\n",
              "      <th>3</th>\n",
              "      <td>A3DD03C9</td>\n",
              "      <td>Dragons in the Sunset</td>\n",
              "      <td>Fire + Ice</td>\n",
              "      <td>folk</td>\n",
              "      <td>Saint-Petersburg</td>\n",
              "      <td>8:37:09</td>\n",
              "      <td>Monday</td>\n",
              "    </tr>\n",
              "    <tr>\n",
              "      <th>4</th>\n",
              "      <td>E2DC1FAE</td>\n",
              "      <td>Soul People</td>\n",
              "      <td>Space Echo</td>\n",
              "      <td>dance</td>\n",
              "      <td>Moscow</td>\n",
              "      <td>8:34:34</td>\n",
              "      <td>Monday</td>\n",
              "    </tr>\n",
              "    <tr>\n",
              "      <th>5</th>\n",
              "      <td>842029A1</td>\n",
              "      <td>Преданная</td>\n",
              "      <td>IMPERVTOR</td>\n",
              "      <td>rusrap</td>\n",
              "      <td>Saint-Petersburg</td>\n",
              "      <td>13:09:41</td>\n",
              "      <td>Friday</td>\n",
              "    </tr>\n",
              "    <tr>\n",
              "      <th>6</th>\n",
              "      <td>4CB90AA5</td>\n",
              "      <td>TRUE</td>\n",
              "      <td>Roman Messer</td>\n",
              "      <td>dance</td>\n",
              "      <td>Moscow</td>\n",
              "      <td>13:00:07</td>\n",
              "      <td>Wednesday</td>\n",
              "    </tr>\n",
              "    <tr>\n",
              "      <th>7</th>\n",
              "      <td>F03E1C1F</td>\n",
              "      <td>Feeling This Way</td>\n",
              "      <td>Polina Griffith</td>\n",
              "      <td>dance</td>\n",
              "      <td>Moscow</td>\n",
              "      <td>20:47:49</td>\n",
              "      <td>Wednesday</td>\n",
              "    </tr>\n",
              "    <tr>\n",
              "      <th>8</th>\n",
              "      <td>8FA1D3BE</td>\n",
              "      <td>И вновь продолжается бой</td>\n",
              "      <td>NaN</td>\n",
              "      <td>ruspop</td>\n",
              "      <td>Moscow</td>\n",
              "      <td>9:17:40</td>\n",
              "      <td>Friday</td>\n",
              "    </tr>\n",
              "    <tr>\n",
              "      <th>9</th>\n",
              "      <td>E772D5C0</td>\n",
              "      <td>Pessimist</td>\n",
              "      <td>NaN</td>\n",
              "      <td>dance</td>\n",
              "      <td>Saint-Petersburg</td>\n",
              "      <td>21:20:49</td>\n",
              "      <td>Wednesday</td>\n",
              "    </tr>\n",
              "  </tbody>\n",
              "</table>\n",
              "</div>\n",
              "      <button class=\"colab-df-convert\" onclick=\"convertToInteractive('df-859a1308-1b21-4a6b-9e09-bc0b298e9ea0')\"\n",
              "              title=\"Convert this dataframe to an interactive table.\"\n",
              "              style=\"display:none;\">\n",
              "        \n",
              "  <svg xmlns=\"http://www.w3.org/2000/svg\" height=\"24px\"viewBox=\"0 0 24 24\"\n",
              "       width=\"24px\">\n",
              "    <path d=\"M0 0h24v24H0V0z\" fill=\"none\"/>\n",
              "    <path d=\"M18.56 5.44l.94 2.06.94-2.06 2.06-.94-2.06-.94-.94-2.06-.94 2.06-2.06.94zm-11 1L8.5 8.5l.94-2.06 2.06-.94-2.06-.94L8.5 2.5l-.94 2.06-2.06.94zm10 10l.94 2.06.94-2.06 2.06-.94-2.06-.94-.94-2.06-.94 2.06-2.06.94z\"/><path d=\"M17.41 7.96l-1.37-1.37c-.4-.4-.92-.59-1.43-.59-.52 0-1.04.2-1.43.59L10.3 9.45l-7.72 7.72c-.78.78-.78 2.05 0 2.83L4 21.41c.39.39.9.59 1.41.59.51 0 1.02-.2 1.41-.59l7.78-7.78 2.81-2.81c.8-.78.8-2.07 0-2.86zM5.41 20L4 18.59l7.72-7.72 1.47 1.35L5.41 20z\"/>\n",
              "  </svg>\n",
              "      </button>\n",
              "      \n",
              "  <style>\n",
              "    .colab-df-container {\n",
              "      display:flex;\n",
              "      flex-wrap:wrap;\n",
              "      gap: 12px;\n",
              "    }\n",
              "\n",
              "    .colab-df-convert {\n",
              "      background-color: #E8F0FE;\n",
              "      border: none;\n",
              "      border-radius: 50%;\n",
              "      cursor: pointer;\n",
              "      display: none;\n",
              "      fill: #1967D2;\n",
              "      height: 32px;\n",
              "      padding: 0 0 0 0;\n",
              "      width: 32px;\n",
              "    }\n",
              "\n",
              "    .colab-df-convert:hover {\n",
              "      background-color: #E2EBFA;\n",
              "      box-shadow: 0px 1px 2px rgba(60, 64, 67, 0.3), 0px 1px 3px 1px rgba(60, 64, 67, 0.15);\n",
              "      fill: #174EA6;\n",
              "    }\n",
              "\n",
              "    [theme=dark] .colab-df-convert {\n",
              "      background-color: #3B4455;\n",
              "      fill: #D2E3FC;\n",
              "    }\n",
              "\n",
              "    [theme=dark] .colab-df-convert:hover {\n",
              "      background-color: #434B5C;\n",
              "      box-shadow: 0px 1px 3px 1px rgba(0, 0, 0, 0.15);\n",
              "      filter: drop-shadow(0px 1px 2px rgba(0, 0, 0, 0.3));\n",
              "      fill: #FFFFFF;\n",
              "    }\n",
              "  </style>\n",
              "\n",
              "      <script>\n",
              "        const buttonEl =\n",
              "          document.querySelector('#df-859a1308-1b21-4a6b-9e09-bc0b298e9ea0 button.colab-df-convert');\n",
              "        buttonEl.style.display =\n",
              "          google.colab.kernel.accessAllowed ? 'block' : 'none';\n",
              "\n",
              "        async function convertToInteractive(key) {\n",
              "          const element = document.querySelector('#df-859a1308-1b21-4a6b-9e09-bc0b298e9ea0');\n",
              "          const dataTable =\n",
              "            await google.colab.kernel.invokeFunction('convertToInteractive',\n",
              "                                                     [key], {});\n",
              "          if (!dataTable) return;\n",
              "\n",
              "          const docLinkHtml = 'Like what you see? Visit the ' +\n",
              "            '<a target=\"_blank\" href=https://colab.research.google.com/notebooks/data_table.ipynb>data table notebook</a>'\n",
              "            + ' to learn more about interactive tables.';\n",
              "          element.innerHTML = '';\n",
              "          dataTable['output_type'] = 'display_data';\n",
              "          await google.colab.output.renderOutput(dataTable, element);\n",
              "          const docLink = document.createElement('div');\n",
              "          docLink.innerHTML = docLinkHtml;\n",
              "          element.appendChild(docLink);\n",
              "        }\n",
              "      </script>\n",
              "    </div>\n",
              "  </div>\n",
              "  "
            ]
          },
          "metadata": {},
          "execution_count": 4
        }
      ],
      "source": [
        "df.head(10)\n",
        "# получение первых 10 строк таблицы df"
      ]
    },
    {
      "cell_type": "markdown",
      "metadata": {
        "deletable": false,
        "editable": false,
        "id": "EO73Kwic_Zct",
        "tags": [
          "start_task"
        ]
      },
      "source": [
        "**Задание 4**\n",
        "\n",
        "\n",
        "Одной командой получить общую информацию о таблице c помощью метода `info()`:"
      ]
    },
    {
      "cell_type": "code",
      "execution_count": 5,
      "metadata": {
        "deletable": false,
        "id": "DSf2kIb-_Zct",
        "colab": {
          "base_uri": "https://localhost:8080/"
        },
        "outputId": "fe1328ca-d95d-4850-b756-7289048ab8ac"
      },
      "outputs": [
        {
          "output_type": "stream",
          "name": "stdout",
          "text": [
            "<class 'pandas.core.frame.DataFrame'>\n",
            "RangeIndex: 65079 entries, 0 to 65078\n",
            "Data columns (total 7 columns):\n",
            " #   Column  Non-Null Count  Dtype \n",
            "---  ------  --------------  ----- \n",
            " 0   userID  65079 non-null  object\n",
            " 1   Track   63848 non-null  object\n",
            " 2   artist  57876 non-null  object\n",
            " 3   genre   63881 non-null  object\n",
            " 4   City    65079 non-null  object\n",
            " 5   time    65079 non-null  object\n",
            " 6   Day     65079 non-null  object\n",
            "dtypes: object(7)\n",
            "memory usage: 3.5+ MB\n"
          ]
        }
      ],
      "source": [
        "df.info()# получение общей информации о данных в таблице df"
      ]
    },
    {
      "cell_type": "markdown",
      "metadata": {
        "deletable": false,
        "editable": false,
        "id": "TaQ2Iwbr_Zct"
      },
      "source": [
        "Итак, в таблице семь столбцов. Тип данных во всех столбцах — `object`.\n",
        "\n",
        "Согласно документации к данным:\n",
        "* `userID` — идентификатор пользователя;\n",
        "* `Track` — название трека;\n",
        "* `artist` — имя исполнителя;\n",
        "* `genre` — название жанра;\n",
        "* `City` — город пользователя;\n",
        "* `time` — время начала прослушивания;\n",
        "* `Day` — день недели.\n",
        "\n",
        "Количество значений в столбцах различается. Значит, в данных есть пропущенные значения."
      ]
    },
    {
      "cell_type": "markdown",
      "metadata": {
        "deletable": false,
        "editable": false,
        "id": "rAfziTBDmf2h",
        "tags": [
          "start_task"
        ]
      },
      "source": [
        "**Задание 5**\n",
        "\n",
        "**Вопрос со свободной формой ответа**\n",
        "\n",
        "В названиях колонок видны нарушения стиля:\n",
        "* Строчные буквы сочетаются с прописными.\n",
        "* Встречаются пробелы.\n",
        "\n",
        "Какое третье нарушение?"
      ]
    },
    {
      "cell_type": "code",
      "execution_count": 6,
      "metadata": {
        "id": "jD8EXEIvmf2h"
      },
      "outputs": [],
      "source": [
        "#\"userID\" - написанно не в змеином регистре Напишите ваш ответ здесь комментарием. Не удаляйте символ #. Не меняйте тип этой ячейки на Markdown."
      ]
    },
    {
      "cell_type": "markdown",
      "metadata": {
        "deletable": false,
        "editable": false,
        "id": "MCB6-dXG_Zct"
      },
      "source": [
        "**Выводы**\n",
        "\n",
        "В каждой строке таблицы — данные о прослушанном треке. Часть колонок описывает саму композицию: название, исполнителя и жанр. Остальные данные рассказывают о пользователе: из какого он города, когда он слушал музыку.\n",
        "\n",
        "Предварительно можно утверждать, что данных достаточно для проверки гипотез. Но встречаются пропуски в данных, а в названиях колонок — расхождения с хорошим стилем.\n",
        "\n",
        "Чтобы двигаться дальше, нужно устранить проблемы в данных."
      ]
    },
    {
      "cell_type": "markdown",
      "metadata": {
        "deletable": false,
        "editable": false,
        "id": "SjYF6Ub9_Zct"
      },
      "source": [
        "## Предобработка данных\n",
        "Исправьте стиль в заголовках столбцов, исключите пропуски. Затем проверьте данные на дубликаты."
      ]
    },
    {
      "cell_type": "markdown",
      "metadata": {
        "deletable": false,
        "editable": false,
        "id": "dIaKXr29_Zct",
        "tags": [
          "start_task"
        ]
      },
      "source": [
        "### Стиль заголовков\n",
        "\n",
        "**Задание 6**\n",
        "\n",
        "Выведите на экран названия столбцов:"
      ]
    },
    {
      "cell_type": "code",
      "execution_count": 7,
      "metadata": {
        "deletable": false,
        "id": "oKOTdF_Q_Zct",
        "colab": {
          "base_uri": "https://localhost:8080/"
        },
        "outputId": "b282645f-ae58-4e32-fced-ab7cf760dbdd"
      },
      "outputs": [
        {
          "output_type": "execute_result",
          "data": {
            "text/plain": [
              "Index(['userID', 'Track', 'artist', 'genre', 'City', 'time', 'Day'], dtype='object')"
            ]
          },
          "metadata": {},
          "execution_count": 7
        }
      ],
      "source": [
        "df.columns# перечень названий столбцов таблицы df"
      ]
    },
    {
      "cell_type": "markdown",
      "metadata": {
        "deletable": false,
        "editable": false,
        "id": "zj5534cv_Zct",
        "tags": [
          "start_task"
        ]
      },
      "source": [
        "**Задание 7**\n",
        "\n",
        "\n",
        "Приведите названия в соответствие с хорошим стилем:\n",
        "* несколько слов в названии запишите в «змеином_регистре»,\n",
        "* все символы сделайте строчными,\n",
        "* устраните пробелы.\n",
        "\n",
        "Для этого переименуйте колонки так:\n",
        "* `'  userID'` → `'user_id'`;\n",
        "* `'Track'` → `'track'`;\n",
        "* `'  City  '` → `'city'`;\n",
        "* `'Day'` → `'day'`."
      ]
    },
    {
      "cell_type": "code",
      "execution_count": 8,
      "metadata": {
        "deletable": false,
        "id": "ISlFqs5y_Zct"
      },
      "outputs": [],
      "source": [
        "df=df.rename(columns={'userID':'user_id','Track':'track','City':'city','Day':'day'})"
      ]
    },
    {
      "cell_type": "markdown",
      "metadata": {
        "deletable": false,
        "editable": false,
        "id": "1dqbh00J_Zct",
        "tags": [
          "start_task"
        ]
      },
      "source": [
        "**Задание 8**\n",
        "\n",
        "\n",
        "Проверьте результат. Для этого ещё раз выведите на экран названия столбцов:"
      ]
    },
    {
      "cell_type": "code",
      "execution_count": 9,
      "metadata": {
        "deletable": false,
        "id": "d4NOAmTW_Zct",
        "colab": {
          "base_uri": "https://localhost:8080/"
        },
        "outputId": "892a2cda-c944-4f58-f17d-ec750aa9b5c8"
      },
      "outputs": [
        {
          "output_type": "execute_result",
          "data": {
            "text/plain": [
              "Index(['user_id', 'track', 'artist', 'genre', 'city', 'time', 'day'], dtype='object')"
            ]
          },
          "metadata": {},
          "execution_count": 9
        }
      ],
      "source": [
        "df.columns # проверка результатов - перечень названий столбцов"
      ]
    },
    {
      "cell_type": "markdown",
      "metadata": {
        "deletable": false,
        "editable": false,
        "id": "5ISfbcfY_Zct",
        "tags": [
          "start_task"
        ]
      },
      "source": [
        "### Пропуски значений\n",
        "\n",
        "**Задание 9**\n",
        "\n",
        "Сначала посчитайте, сколько в таблице пропущенных значений. Для этого достаточно двух методов `pandas`:"
      ]
    },
    {
      "cell_type": "code",
      "execution_count": 10,
      "metadata": {
        "deletable": false,
        "id": "RskX29qr_Zct",
        "colab": {
          "base_uri": "https://localhost:8080/"
        },
        "outputId": "8e03c2e3-31a3-41a3-c0fa-f573518e65d0"
      },
      "outputs": [
        {
          "output_type": "execute_result",
          "data": {
            "text/plain": [
              "user_id       0\n",
              "track      1231\n",
              "artist     7203\n",
              "genre      1198\n",
              "city          0\n",
              "time          0\n",
              "day           0\n",
              "dtype: int64"
            ]
          },
          "metadata": {},
          "execution_count": 10
        }
      ],
      "source": [
        "df.isna().sum()# подсчёт пропусков"
      ]
    },
    {
      "cell_type": "markdown",
      "metadata": {
        "deletable": false,
        "editable": false,
        "id": "qubhgnlO_Zct"
      },
      "source": [
        "Не все пропущенные значения влияют на исследование. Так в `track` и `artist` пропуски не важны для вашей работы. Достаточно заменить их явными обозначениями.\n",
        "\n",
        "Но пропуски в `genre` могут помешать сравнению музыкальных вкусов в Москве и Санкт-Петербурге. На практике было бы правильно установить причину пропусков и восстановить данные. Такой возможности нет в учебном проекте. Придётся:\n",
        "* заполнить и эти пропуски явными обозначениями;\n",
        "* оценить, насколько они повредят расчётам."
      ]
    },
    {
      "cell_type": "markdown",
      "metadata": {
        "deletable": false,
        "editable": false,
        "id": "fSv2laPA_Zct",
        "tags": [
          "start_task"
        ]
      },
      "source": [
        "**Задание 10**\n",
        "\n",
        "Замените пропущенные значения в столбцах `track`, `artist` и `genre` на строку `'unknown'`. Для этого создайте список `columns_to_replace`, переберите его элементы циклом `for` и для каждого столбца выполните замену пропущенных значений:"
      ]
    },
    {
      "cell_type": "code",
      "execution_count": 11,
      "metadata": {
        "deletable": false,
        "id": "KplB5qWs_Zct"
      },
      "outputs": [],
      "source": [
        "columns_to_replace=['track', 'artist','genre']\n",
        "for column in columns_to_replace:\n",
        "    df[column]=  df[column].fillna('unknown') # перебор названий столбцов в цикле и замена пропущенных значений на 'unknown'"
      ]
    },
    {
      "cell_type": "markdown",
      "metadata": {
        "deletable": false,
        "editable": false,
        "id": "Ilsm-MZo_Zct",
        "tags": [
          "start_task"
        ]
      },
      "source": [
        "**Задание 11**\n",
        "\n",
        "Убедитесь, что в таблице не осталось пропусков. Для этого ещё раз посчитайте пропущенные значения."
      ]
    },
    {
      "cell_type": "code",
      "execution_count": 12,
      "metadata": {
        "deletable": false,
        "id": "Tq4nYRX4_Zct",
        "colab": {
          "base_uri": "https://localhost:8080/"
        },
        "outputId": "d6c91fb8-1351-4232-895e-8bf0d19a9212"
      },
      "outputs": [
        {
          "output_type": "execute_result",
          "data": {
            "text/plain": [
              "user_id    0\n",
              "track      0\n",
              "artist     0\n",
              "genre      0\n",
              "city       0\n",
              "time       0\n",
              "day        0\n",
              "dtype: int64"
            ]
          },
          "metadata": {},
          "execution_count": 12
        }
      ],
      "source": [
        "df.isna().sum() # подсчёт пропусков"
      ]
    },
    {
      "cell_type": "markdown",
      "metadata": {
        "deletable": false,
        "editable": false,
        "id": "BWKRtBJ3_Zct",
        "tags": [
          "start_task"
        ]
      },
      "source": [
        "### Дубликаты\n",
        "\n",
        "**Задание 12**\n",
        "\n",
        "Посчитайте явные дубликаты в таблице одной командой:"
      ]
    },
    {
      "cell_type": "code",
      "execution_count": 13,
      "metadata": {
        "deletable": false,
        "id": "36eES_S0_Zct",
        "colab": {
          "base_uri": "https://localhost:8080/"
        },
        "outputId": "fd89879c-41fe-43b3-eca4-809453dc9f07"
      },
      "outputs": [
        {
          "output_type": "execute_result",
          "data": {
            "text/plain": [
              "3826"
            ]
          },
          "metadata": {},
          "execution_count": 13
        }
      ],
      "source": [
        "df.duplicated().sum() # подсчёт явных дубликатов"
      ]
    },
    {
      "cell_type": "markdown",
      "metadata": {
        "deletable": false,
        "editable": false,
        "id": "Ot25h6XR_Zct",
        "tags": [
          "start_task"
        ]
      },
      "source": [
        "**Задание 13**\n",
        "\n",
        "Вызовите специальный метод `pandas`, чтобы удалить явные дубликаты:"
      ]
    },
    {
      "cell_type": "code",
      "execution_count": 14,
      "metadata": {
        "deletable": false,
        "id": "exFHq6tt_Zct"
      },
      "outputs": [],
      "source": [
        "df=df.drop_duplicates().reset_index(drop=True)# удаление явных дубликатов"
      ]
    },
    {
      "cell_type": "markdown",
      "metadata": {
        "deletable": false,
        "editable": false,
        "id": "Im2YwBEG_Zct",
        "tags": [
          "start_task"
        ]
      },
      "source": [
        "**Задание 14**\n",
        "\n",
        "Ещё раз посчитайте явные дубликаты в таблице — убедитесь, что полностью от них избавились:"
      ]
    },
    {
      "cell_type": "code",
      "execution_count": 15,
      "metadata": {
        "deletable": false,
        "id": "-8PuNWQ0_Zct",
        "colab": {
          "base_uri": "https://localhost:8080/"
        },
        "outputId": "3a75cdc3-d231-40f9-db34-a3b32e317749"
      },
      "outputs": [
        {
          "output_type": "execute_result",
          "data": {
            "text/plain": [
              "0"
            ]
          },
          "metadata": {},
          "execution_count": 15
        }
      ],
      "source": [
        "df.duplicated().sum() # проверка на отсутствие дубликатов"
      ]
    },
    {
      "cell_type": "markdown",
      "metadata": {
        "deletable": false,
        "editable": false,
        "id": "QlFBsxAr_Zct"
      },
      "source": [
        "Теперь избавьтесь от неявных дубликатов в колонке `genre`. Например, название одного и того же жанра может быть записано немного по-разному. Такие ошибки тоже повлияют на результат исследования."
      ]
    },
    {
      "cell_type": "markdown",
      "metadata": {
        "deletable": false,
        "editable": false,
        "id": "eSjWwsOh_Zct",
        "tags": [
          "start_task"
        ]
      },
      "source": [
        "**Задание 15**\n",
        "\n",
        "Выведите на экран список уникальных названий жанров, отсортированный в алфавитном порядке. Для этого:\n",
        "1. извлеките нужный столбец датафрейма;\n",
        "2. примените к нему метод сортировки;\n",
        "3. для отсортированного столбца вызовите метод, который вернёт уникальные значения из столбца."
      ]
    },
    {
      "cell_type": "code",
      "execution_count": 16,
      "metadata": {
        "deletable": false,
        "id": "JIUcqzZN_Zct",
        "colab": {
          "base_uri": "https://localhost:8080/"
        },
        "outputId": "95068c49-127e-4fcd-e4de-144b5b05c729"
      },
      "outputs": [
        {
          "output_type": "execute_result",
          "data": {
            "text/plain": [
              "array(['acid', 'acoustic', 'action', 'adult', 'africa', 'afrikaans',\n",
              "       'alternative', 'alternativepunk', 'ambient', 'americana',\n",
              "       'animated', 'anime', 'arabesk', 'arabic', 'arena',\n",
              "       'argentinetango', 'art', 'audiobook', 'author', 'avantgarde',\n",
              "       'axé', 'baile', 'balkan', 'beats', 'bigroom', 'black', 'bluegrass',\n",
              "       'blues', 'bollywood', 'bossa', 'brazilian', 'breakbeat', 'breaks',\n",
              "       'broadway', 'cantautori', 'cantopop', 'canzone', 'caribbean',\n",
              "       'caucasian', 'celtic', 'chamber', 'chanson', 'children', 'chill',\n",
              "       'chinese', 'choral', 'christian', 'christmas', 'classical',\n",
              "       'classicmetal', 'club', 'colombian', 'comedy', 'conjazz',\n",
              "       'contemporary', 'country', 'cuban', 'dance', 'dancehall',\n",
              "       'dancepop', 'dark', 'death', 'deep', 'deutschrock', 'deutschspr',\n",
              "       'dirty', 'disco', 'dnb', 'documentary', 'downbeat', 'downtempo',\n",
              "       'drum', 'dub', 'dubstep', 'eastern', 'easy', 'electronic',\n",
              "       'electropop', 'emo', 'entehno', 'epicmetal', 'estrada', 'ethnic',\n",
              "       'eurofolk', 'european', 'experimental', 'extrememetal', 'fado',\n",
              "       'fairytail', 'film', 'fitness', 'flamenco', 'folk', 'folklore',\n",
              "       'folkmetal', 'folkrock', 'folktronica', 'forró', 'frankreich',\n",
              "       'französisch', 'french', 'funk', 'future', 'gangsta', 'garage',\n",
              "       'german', 'ghazal', 'gitarre', 'glitch', 'gospel', 'gothic',\n",
              "       'grime', 'grunge', 'gypsy', 'handsup', \"hard'n'heavy\", 'hardcore',\n",
              "       'hardstyle', 'hardtechno', 'hip', 'hip-hop', 'hiphop',\n",
              "       'historisch', 'holiday', 'hop', 'horror', 'house', 'hymn', 'idm',\n",
              "       'independent', 'indian', 'indie', 'indipop', 'industrial',\n",
              "       'inspirational', 'instrumental', 'international', 'irish', 'jam',\n",
              "       'japanese', 'jazz', 'jewish', 'jpop', 'jungle', 'k-pop',\n",
              "       'karadeniz', 'karaoke', 'kayokyoku', 'korean', 'laiko', 'latin',\n",
              "       'latino', 'leftfield', 'local', 'lounge', 'loungeelectronic',\n",
              "       'lovers', 'malaysian', 'mandopop', 'marschmusik', 'meditative',\n",
              "       'mediterranean', 'melodic', 'metal', 'metalcore', 'mexican',\n",
              "       'middle', 'minimal', 'miscellaneous', 'modern', 'mood', 'mpb',\n",
              "       'muslim', 'native', 'neoklassik', 'neue', 'new', 'newage',\n",
              "       'newwave', 'nu', 'nujazz', 'numetal', 'oceania', 'old', 'opera',\n",
              "       'orchestral', 'other', 'piano', 'podcasts', 'pop', 'popdance',\n",
              "       'popelectronic', 'popeurodance', 'poprussian', 'post',\n",
              "       'posthardcore', 'postrock', 'power', 'progmetal', 'progressive',\n",
              "       'psychedelic', 'punjabi', 'punk', 'quebecois', 'ragga', 'ram',\n",
              "       'rancheras', 'rap', 'rave', 'reggae', 'reggaeton', 'regional',\n",
              "       'relax', 'religious', 'retro', 'rhythm', 'rnb', 'rnr', 'rock',\n",
              "       'rockabilly', 'rockalternative', 'rockindie', 'rockother',\n",
              "       'romance', 'roots', 'ruspop', 'rusrap', 'rusrock', 'russian',\n",
              "       'salsa', 'samba', 'scenic', 'schlager', 'self', 'sertanejo',\n",
              "       'shanson', 'shoegazing', 'showtunes', 'singer', 'ska', 'skarock',\n",
              "       'slow', 'smooth', 'soft', 'soul', 'soulful', 'sound', 'soundtrack',\n",
              "       'southern', 'specialty', 'speech', 'spiritual', 'sport',\n",
              "       'stonerrock', 'surf', 'swing', 'synthpop', 'synthrock',\n",
              "       'sängerportrait', 'tango', 'tanzorchester', 'taraftar', 'tatar',\n",
              "       'tech', 'techno', 'teen', 'thrash', 'top', 'traditional',\n",
              "       'tradjazz', 'trance', 'tribal', 'trip', 'triphop', 'tropical',\n",
              "       'türk', 'türkçe', 'ukrrock', 'unknown', 'urban', 'uzbek',\n",
              "       'variété', 'vi', 'videogame', 'vocal', 'western', 'world',\n",
              "       'worldbeat', 'ïîï', 'электроника'], dtype=object)"
            ]
          },
          "metadata": {},
          "execution_count": 16
        }
      ],
      "source": [
        "df['genre'].sort_values().unique()\n",
        "# Просмотр уникальных названий жанров"
      ]
    },
    {
      "cell_type": "markdown",
      "metadata": {
        "deletable": false,
        "editable": false,
        "id": "qej-Qmuo_Zct",
        "tags": [
          "start_task"
        ]
      },
      "source": [
        "**Задание 16**\n",
        "\n",
        "Просмотрите список и найдите неявные дубликаты названия `hiphop`. Это могут быть названия с ошибками или альтернативные названия того же жанра.\n",
        "\n",
        "Вы увидите следующие неявные дубликаты:\n",
        "* *hip*,\n",
        "* *hop*,\n",
        "* *hip-hop*.\n",
        "\n",
        "Чтобы очистить от них таблицу используйте метод `replace()` с двумя аргументами: списком строк-дубликатов (включащий *hip*, *hop* и *hip-hop*) и строкой с правильным значением. Вам нужно исправить колонку `genre` в таблице `df`: заменить каждое значение из списка дубликатов на верное. Вместо `hip`, `hop` и `hip-hop` в таблице должно быть значение `hiphop`:"
      ]
    },
    {
      "cell_type": "code",
      "execution_count": 17,
      "metadata": {
        "deletable": false,
        "id": "ErNDkmns_Zct"
      },
      "outputs": [],
      "source": [
        "\n",
        "duplicates = ['hip', 'hop', 'hip-hop']\n",
        "df['genre'] = df['genre'].replace(duplicates, 'hiphop')"
      ]
    },
    {
      "cell_type": "markdown",
      "metadata": {
        "deletable": false,
        "editable": false,
        "id": "zQKF16_RG15m",
        "tags": [
          "start_task"
        ]
      },
      "source": [
        "**Задание 17**\n",
        "\n",
        "Проверьте, что заменили неправильные названия:\n",
        "\n",
        "*   hip,\n",
        "*   hop,\n",
        "*   hip-hop.\n",
        "\n",
        "Выведите отсортированный список уникальных значений столбца `genre`:"
      ]
    },
    {
      "cell_type": "code",
      "execution_count": 18,
      "metadata": {
        "deletable": false,
        "id": "wvixALnFG15m",
        "colab": {
          "base_uri": "https://localhost:8080/"
        },
        "outputId": "cbc8d1bf-35a1-4de0-dff3-5c8cb4023c0c"
      },
      "outputs": [
        {
          "output_type": "execute_result",
          "data": {
            "text/plain": [
              "array(['acid', 'acoustic', 'action', 'adult', 'africa', 'afrikaans',\n",
              "       'alternative', 'alternativepunk', 'ambient', 'americana',\n",
              "       'animated', 'anime', 'arabesk', 'arabic', 'arena',\n",
              "       'argentinetango', 'art', 'audiobook', 'author', 'avantgarde',\n",
              "       'axé', 'baile', 'balkan', 'beats', 'bigroom', 'black', 'bluegrass',\n",
              "       'blues', 'bollywood', 'bossa', 'brazilian', 'breakbeat', 'breaks',\n",
              "       'broadway', 'cantautori', 'cantopop', 'canzone', 'caribbean',\n",
              "       'caucasian', 'celtic', 'chamber', 'chanson', 'children', 'chill',\n",
              "       'chinese', 'choral', 'christian', 'christmas', 'classical',\n",
              "       'classicmetal', 'club', 'colombian', 'comedy', 'conjazz',\n",
              "       'contemporary', 'country', 'cuban', 'dance', 'dancehall',\n",
              "       'dancepop', 'dark', 'death', 'deep', 'deutschrock', 'deutschspr',\n",
              "       'dirty', 'disco', 'dnb', 'documentary', 'downbeat', 'downtempo',\n",
              "       'drum', 'dub', 'dubstep', 'eastern', 'easy', 'electronic',\n",
              "       'electropop', 'emo', 'entehno', 'epicmetal', 'estrada', 'ethnic',\n",
              "       'eurofolk', 'european', 'experimental', 'extrememetal', 'fado',\n",
              "       'fairytail', 'film', 'fitness', 'flamenco', 'folk', 'folklore',\n",
              "       'folkmetal', 'folkrock', 'folktronica', 'forró', 'frankreich',\n",
              "       'französisch', 'french', 'funk', 'future', 'gangsta', 'garage',\n",
              "       'german', 'ghazal', 'gitarre', 'glitch', 'gospel', 'gothic',\n",
              "       'grime', 'grunge', 'gypsy', 'handsup', \"hard'n'heavy\", 'hardcore',\n",
              "       'hardstyle', 'hardtechno', 'hiphop', 'historisch', 'holiday',\n",
              "       'horror', 'house', 'hymn', 'idm', 'independent', 'indian', 'indie',\n",
              "       'indipop', 'industrial', 'inspirational', 'instrumental',\n",
              "       'international', 'irish', 'jam', 'japanese', 'jazz', 'jewish',\n",
              "       'jpop', 'jungle', 'k-pop', 'karadeniz', 'karaoke', 'kayokyoku',\n",
              "       'korean', 'laiko', 'latin', 'latino', 'leftfield', 'local',\n",
              "       'lounge', 'loungeelectronic', 'lovers', 'malaysian', 'mandopop',\n",
              "       'marschmusik', 'meditative', 'mediterranean', 'melodic', 'metal',\n",
              "       'metalcore', 'mexican', 'middle', 'minimal', 'miscellaneous',\n",
              "       'modern', 'mood', 'mpb', 'muslim', 'native', 'neoklassik', 'neue',\n",
              "       'new', 'newage', 'newwave', 'nu', 'nujazz', 'numetal', 'oceania',\n",
              "       'old', 'opera', 'orchestral', 'other', 'piano', 'podcasts', 'pop',\n",
              "       'popdance', 'popelectronic', 'popeurodance', 'poprussian', 'post',\n",
              "       'posthardcore', 'postrock', 'power', 'progmetal', 'progressive',\n",
              "       'psychedelic', 'punjabi', 'punk', 'quebecois', 'ragga', 'ram',\n",
              "       'rancheras', 'rap', 'rave', 'reggae', 'reggaeton', 'regional',\n",
              "       'relax', 'religious', 'retro', 'rhythm', 'rnb', 'rnr', 'rock',\n",
              "       'rockabilly', 'rockalternative', 'rockindie', 'rockother',\n",
              "       'romance', 'roots', 'ruspop', 'rusrap', 'rusrock', 'russian',\n",
              "       'salsa', 'samba', 'scenic', 'schlager', 'self', 'sertanejo',\n",
              "       'shanson', 'shoegazing', 'showtunes', 'singer', 'ska', 'skarock',\n",
              "       'slow', 'smooth', 'soft', 'soul', 'soulful', 'sound', 'soundtrack',\n",
              "       'southern', 'specialty', 'speech', 'spiritual', 'sport',\n",
              "       'stonerrock', 'surf', 'swing', 'synthpop', 'synthrock',\n",
              "       'sängerportrait', 'tango', 'tanzorchester', 'taraftar', 'tatar',\n",
              "       'tech', 'techno', 'teen', 'thrash', 'top', 'traditional',\n",
              "       'tradjazz', 'trance', 'tribal', 'trip', 'triphop', 'tropical',\n",
              "       'türk', 'türkçe', 'ukrrock', 'unknown', 'urban', 'uzbek',\n",
              "       'variété', 'vi', 'videogame', 'vocal', 'western', 'world',\n",
              "       'worldbeat', 'ïîï', 'электроника'], dtype=object)"
            ]
          },
          "metadata": {},
          "execution_count": 18
        }
      ],
      "source": [
        "df['genre'].sort_values().unique()# Проверка на неявные дубликаты"
      ]
    },
    {
      "cell_type": "markdown",
      "metadata": {
        "deletable": false,
        "editable": false,
        "id": "jz6a9-7HQUDd"
      },
      "source": [
        "**Выводы**\n",
        "\n",
        "Предобработка обнаружила три проблемы в данных:\n",
        "\n",
        "- нарушения в стиле заголовков,\n",
        "- пропущенные значения,\n",
        "- дубликаты — явные и неявные.\n",
        "\n",
        "Вы исправили заголовки, чтобы упростить работу с таблицей. Без дубликатов исследование станет более точным.\n",
        "\n",
        "Пропущенные значения вы заменили на `'unknown'`. Ещё предстоит увидеть, не повредят ли исследованию пропуски в колонке `genre`.\n",
        "\n",
        "Теперь можно перейти к проверке гипотез."
      ]
    },
    {
      "cell_type": "markdown",
      "metadata": {
        "deletable": false,
        "editable": false,
        "id": "WttZHXH0SqKk"
      },
      "source": [
        "## Проверка гипотез"
      ]
    },
    {
      "cell_type": "markdown",
      "metadata": {
        "deletable": false,
        "editable": false,
        "id": "Im936VVi_Zcu"
      },
      "source": [
        "### Сравнение поведения пользователей двух столиц"
      ]
    },
    {
      "cell_type": "markdown",
      "metadata": {
        "deletable": false,
        "editable": false,
        "id": "nwt_MuaL_Zcu"
      },
      "source": [
        "Первая гипотеза утверждает, что пользователи по-разному слушают музыку в Москве и Санкт-Петербурге. Проверьте это предположение по данным о трёх днях недели — понедельнике, среде и пятнице. Для этого:\n",
        "\n",
        "* Разделите пользователей Москвы и Санкт-Петербурга.\n",
        "* Сравните, сколько треков послушала каждая группа пользователей в понедельник, среду и пятницу.\n"
      ]
    },
    {
      "cell_type": "markdown",
      "metadata": {
        "deletable": false,
        "editable": false,
        "id": "8Dw_YMmT_Zcu",
        "tags": [
          "start_task"
        ]
      },
      "source": [
        "**Задание 18**\n",
        "\n",
        "Для тренировки сначала выполните каждый из расчётов по отдельности.\n",
        "\n",
        "Оцените активность пользователей в каждом городе. Сгруппируйте данные по городу и посчитайте прослушивания в каждой группе.\n",
        "\n"
      ]
    },
    {
      "cell_type": "code",
      "source": [
        "df.info()"
      ],
      "metadata": {
        "colab": {
          "base_uri": "https://localhost:8080/"
        },
        "id": "NW1a9jwM4MwU",
        "outputId": "8c32c964-94d6-410b-92da-3c20bd7d3f2e"
      },
      "execution_count": 19,
      "outputs": [
        {
          "output_type": "stream",
          "name": "stdout",
          "text": [
            "<class 'pandas.core.frame.DataFrame'>\n",
            "RangeIndex: 61253 entries, 0 to 61252\n",
            "Data columns (total 7 columns):\n",
            " #   Column   Non-Null Count  Dtype \n",
            "---  ------   --------------  ----- \n",
            " 0   user_id  61253 non-null  object\n",
            " 1   track    61253 non-null  object\n",
            " 2   artist   61253 non-null  object\n",
            " 3   genre    61253 non-null  object\n",
            " 4   city     61253 non-null  object\n",
            " 5   time     61253 non-null  object\n",
            " 6   day      61253 non-null  object\n",
            "dtypes: object(7)\n",
            "memory usage: 3.3+ MB\n"
          ]
        }
      ]
    },
    {
      "cell_type": "code",
      "execution_count": 20,
      "metadata": {
        "deletable": false,
        "id": "0_Qs96oh_Zcu",
        "colab": {
          "base_uri": "https://localhost:8080/"
        },
        "outputId": "8b3ccdc8-87bd-4091-b502-2c20d7f6e725"
      },
      "outputs": [
        {
          "output_type": "execute_result",
          "data": {
            "text/plain": [
              "city\n",
              "Moscow              42741\n",
              "Saint-Petersburg    18512\n",
              "Name: city, dtype: int64"
            ]
          },
          "metadata": {},
          "execution_count": 20
        }
      ],
      "source": [
        "df.groupby('city')['city'].count()"
      ]
    },
    {
      "cell_type": "markdown",
      "metadata": {
        "deletable": false,
        "editable": false,
        "id": "dzli3w8o_Zcu",
        "tags": [
          "start_task"
        ]
      },
      "source": [
        "В Москве прослушиваний больше, чем в Петербурге. Из этого не следует, что московские пользователи чаще слушают музыку. Просто самих пользователей в Москве больше.\n",
        "\n",
        "**Задание 19**\n",
        "\n",
        "Теперь сгруппируйте данные по дню недели и посчитайте прослушивания в понедельник, среду и пятницу. Учтите, что в данных есть информация о прослушиваниях только за эти дни.\n"
      ]
    },
    {
      "cell_type": "code",
      "execution_count": 21,
      "metadata": {
        "deletable": false,
        "id": "uZMKjiJz_Zcu",
        "colab": {
          "base_uri": "https://localhost:8080/"
        },
        "outputId": "0ea97ac5-451b-4400-fb18-ccd86a147462"
      },
      "outputs": [
        {
          "output_type": "execute_result",
          "data": {
            "text/plain": [
              "day\n",
              "Friday       21840\n",
              "Monday       21354\n",
              "Wednesday    18059\n",
              "Name: day, dtype: int64"
            ]
          },
          "metadata": {},
          "execution_count": 21
        }
      ],
      "source": [
        "df.groupby('day')['day'].count()# Подсчёт прослушиваний в каждый из трёх дней"
      ]
    },
    {
      "cell_type": "markdown",
      "metadata": {
        "deletable": false,
        "editable": false,
        "id": "cC2tNrlL_Zcu"
      },
      "source": [
        "В среднем пользователи из двух городов менее активны по средам. Но картина может измениться, если рассмотреть каждый город в отдельности."
      ]
    },
    {
      "cell_type": "markdown",
      "metadata": {
        "deletable": false,
        "editable": false,
        "id": "POzs8bGa_Zcu",
        "tags": [
          "start_task"
        ]
      },
      "source": [
        "**Задание 20**\n",
        "\n",
        "\n",
        "Вы видели, как работает группировка по городу и по дням недели. Теперь напишите функцию, которая объединит два эти расчёта.\n",
        "\n",
        "Создайте функцию `number_tracks()`, которая посчитает прослушивания для заданного дня и города. Ей понадобятся два параметра:\n",
        "* день недели,\n",
        "* название города.\n",
        "\n",
        "В функции сохраните в переменную строки исходной таблицы, у которых значение:\n",
        "  * в колонке `day` равно параметру `day`,\n",
        "  * в колонке `city` равно параметру `city`.\n",
        "\n",
        "Для этого примените последовательную фильтрацию с логической индексацией (или сложные логические выражения в одну строку, если вы уже знакомы с ними).\n",
        "\n",
        "Затем посчитайте значения в столбце `user_id` получившейся таблицы. Результат сохраните в новую переменную. Верните эту переменную из функции."
      ]
    },
    {
      "cell_type": "code",
      "execution_count": 22,
      "metadata": {
        "deletable": false,
        "id": "Nz3GdQB1_Zcu"
      },
      "outputs": [],
      "source": [
        "def number_tracks(day, city):# <создание функции number_tracks()>\n",
        "    track_list=df[(df['day']==day)&(df['city']==city)]\n",
        "    track_list_count=track_list['user_id'].count()\n",
        "    return track_list_count# Объявляется функция с двумя параметрами: day, city.\n",
        "# В переменной track_list сохраняются те строки таблицы df, для которых\n",
        "# значение в столбце 'day' равно параметру day и одновременно значение\n",
        "# в столбце 'city' равно параметру city (используйте последовательную фильтрацию\n",
        "# с помощью логической индексации или сложные логические выражения в одну строку, если вы уже знакомы с ними).\n",
        "# В переменной track_list_count сохраняется число значений столбца 'user_id',\n",
        "# рассчитанное методом count() для таблицы track_list.\n",
        "# Функция возвращает число - значение track_list_count.\n",
        "\n",
        "# Функция для подсчёта прослушиваний для конкретного города и дня.\n",
        "# С помощью последовательной фильтрации с логической индексацией она\n",
        "# сначала получит из исходной таблицы строки с нужным днём,\n",
        "# затем из результата отфильтрует строки с нужным городом,\n",
        "# методом count() посчитает количество значений в колонке user_id.\n",
        "# Это количество функция вернёт в качестве результата"
      ]
    },
    {
      "cell_type": "markdown",
      "metadata": {
        "deletable": false,
        "editable": false,
        "id": "ytf7xFrFJQ2r",
        "tags": [
          "start_task"
        ]
      },
      "source": [
        "**Задание 21**\n",
        "\n",
        "Вызовите `number_tracks()` шесть раз, меняя значение параметров — так, чтобы получить данные для каждого города в каждый из трёх дней."
      ]
    },
    {
      "cell_type": "code",
      "execution_count": 23,
      "metadata": {
        "deletable": false,
        "id": "rJcRATNQ_Zcu",
        "colab": {
          "base_uri": "https://localhost:8080/"
        },
        "outputId": "c5c1eb3a-cbbe-48c1-e1cb-823c6ece578a"
      },
      "outputs": [
        {
          "output_type": "execute_result",
          "data": {
            "text/plain": [
              "15740"
            ]
          },
          "metadata": {},
          "execution_count": 23
        }
      ],
      "source": [
        "number_tracks('Monday','Moscow')# количество прослушиваний в Москве по понедельникам"
      ]
    },
    {
      "cell_type": "code",
      "execution_count": 24,
      "metadata": {
        "deletable": false,
        "id": "hq_ncZ5T_Zcu",
        "colab": {
          "base_uri": "https://localhost:8080/"
        },
        "outputId": "2753c74e-e32f-4bf1-fdf6-bf8988df95db"
      },
      "outputs": [
        {
          "output_type": "execute_result",
          "data": {
            "text/plain": [
              "5614"
            ]
          },
          "metadata": {},
          "execution_count": 24
        }
      ],
      "source": [
        "number_tracks('Monday','Saint-Petersburg')\n",
        "# количество прослушиваний в Санкт-Петербурге по понедельникам"
      ]
    },
    {
      "cell_type": "code",
      "execution_count": 25,
      "metadata": {
        "deletable": false,
        "id": "_NTy2VPU_Zcu",
        "colab": {
          "base_uri": "https://localhost:8080/"
        },
        "outputId": "a5a76eee-4d0b-428e-e075-28db30946bdb"
      },
      "outputs": [
        {
          "output_type": "execute_result",
          "data": {
            "text/plain": [
              "11056"
            ]
          },
          "metadata": {},
          "execution_count": 25
        }
      ],
      "source": [
        "number_tracks('Wednesday','Moscow')# количество прослушиваний в Москве по средам"
      ]
    },
    {
      "cell_type": "code",
      "execution_count": 26,
      "metadata": {
        "deletable": false,
        "id": "j2y3TAwo_Zcu",
        "colab": {
          "base_uri": "https://localhost:8080/"
        },
        "outputId": "fb4b5c2d-14a5-4d27-8317-ed96998da136"
      },
      "outputs": [
        {
          "output_type": "execute_result",
          "data": {
            "text/plain": [
              "7003"
            ]
          },
          "metadata": {},
          "execution_count": 26
        }
      ],
      "source": [
        "number_tracks('Wednesday','Saint-Petersburg')# количество прослушиваний в Санкт-Петербурге по средам"
      ]
    },
    {
      "cell_type": "code",
      "execution_count": 27,
      "metadata": {
        "deletable": false,
        "id": "vYDw5u_K_Zcu",
        "colab": {
          "base_uri": "https://localhost:8080/"
        },
        "outputId": "f72ed76f-49ae-4e21-93f7-fa170b65c614"
      },
      "outputs": [
        {
          "output_type": "execute_result",
          "data": {
            "text/plain": [
              "15945"
            ]
          },
          "metadata": {},
          "execution_count": 27
        }
      ],
      "source": [
        "number_tracks('Friday','Moscow')# количество прослушиваний в Москве по пятницам"
      ]
    },
    {
      "cell_type": "code",
      "execution_count": 28,
      "metadata": {
        "deletable": false,
        "id": "8_yzFtW3_Zcu",
        "colab": {
          "base_uri": "https://localhost:8080/"
        },
        "outputId": "39c454c8-df21-48d2-e543-cf4e8d157b6e"
      },
      "outputs": [
        {
          "output_type": "execute_result",
          "data": {
            "text/plain": [
              "5895"
            ]
          },
          "metadata": {},
          "execution_count": 28
        }
      ],
      "source": [
        "number_tracks('Friday','Saint-Petersburg')# количество прослушиваний в Санкт-Петербурге по пятницам"
      ]
    },
    {
      "cell_type": "markdown",
      "metadata": {
        "deletable": false,
        "editable": false,
        "id": "7QXffbO-_Zcu",
        "tags": [
          "start_task"
        ]
      },
      "source": [
        "**Задание 22**\n",
        "\n",
        "Создайте c помощью конструктора `pd.DataFrame` таблицу, где\n",
        "* названия колонок — `['city', 'monday', 'wednesday', 'friday']`;\n",
        "* данные — результаты, которые вы получили с помощью `number_tracks`."
      ]
    },
    {
      "cell_type": "code",
      "execution_count": 29,
      "metadata": {
        "deletable": false,
        "id": "APAcLpOr_Zcu",
        "colab": {
          "base_uri": "https://localhost:8080/",
          "height": 112
        },
        "outputId": "0c80c7aa-2e14-4b17-fe24-549b077e81df"
      },
      "outputs": [
        {
          "output_type": "execute_result",
          "data": {
            "text/plain": [
              "               city  monday  wednesday  friday\n",
              "0            Moscow   15740      11056   15945\n",
              "1  Saint-Petersburg    5614       7003    5895"
            ],
            "text/html": [
              "\n",
              "  <div id=\"df-7766ec99-380b-4e95-aa79-d33f7bd14100\">\n",
              "    <div class=\"colab-df-container\">\n",
              "      <div>\n",
              "<style scoped>\n",
              "    .dataframe tbody tr th:only-of-type {\n",
              "        vertical-align: middle;\n",
              "    }\n",
              "\n",
              "    .dataframe tbody tr th {\n",
              "        vertical-align: top;\n",
              "    }\n",
              "\n",
              "    .dataframe thead th {\n",
              "        text-align: right;\n",
              "    }\n",
              "</style>\n",
              "<table border=\"1\" class=\"dataframe\">\n",
              "  <thead>\n",
              "    <tr style=\"text-align: right;\">\n",
              "      <th></th>\n",
              "      <th>city</th>\n",
              "      <th>monday</th>\n",
              "      <th>wednesday</th>\n",
              "      <th>friday</th>\n",
              "    </tr>\n",
              "  </thead>\n",
              "  <tbody>\n",
              "    <tr>\n",
              "      <th>0</th>\n",
              "      <td>Moscow</td>\n",
              "      <td>15740</td>\n",
              "      <td>11056</td>\n",
              "      <td>15945</td>\n",
              "    </tr>\n",
              "    <tr>\n",
              "      <th>1</th>\n",
              "      <td>Saint-Petersburg</td>\n",
              "      <td>5614</td>\n",
              "      <td>7003</td>\n",
              "      <td>5895</td>\n",
              "    </tr>\n",
              "  </tbody>\n",
              "</table>\n",
              "</div>\n",
              "      <button class=\"colab-df-convert\" onclick=\"convertToInteractive('df-7766ec99-380b-4e95-aa79-d33f7bd14100')\"\n",
              "              title=\"Convert this dataframe to an interactive table.\"\n",
              "              style=\"display:none;\">\n",
              "        \n",
              "  <svg xmlns=\"http://www.w3.org/2000/svg\" height=\"24px\"viewBox=\"0 0 24 24\"\n",
              "       width=\"24px\">\n",
              "    <path d=\"M0 0h24v24H0V0z\" fill=\"none\"/>\n",
              "    <path d=\"M18.56 5.44l.94 2.06.94-2.06 2.06-.94-2.06-.94-.94-2.06-.94 2.06-2.06.94zm-11 1L8.5 8.5l.94-2.06 2.06-.94-2.06-.94L8.5 2.5l-.94 2.06-2.06.94zm10 10l.94 2.06.94-2.06 2.06-.94-2.06-.94-.94-2.06-.94 2.06-2.06.94z\"/><path d=\"M17.41 7.96l-1.37-1.37c-.4-.4-.92-.59-1.43-.59-.52 0-1.04.2-1.43.59L10.3 9.45l-7.72 7.72c-.78.78-.78 2.05 0 2.83L4 21.41c.39.39.9.59 1.41.59.51 0 1.02-.2 1.41-.59l7.78-7.78 2.81-2.81c.8-.78.8-2.07 0-2.86zM5.41 20L4 18.59l7.72-7.72 1.47 1.35L5.41 20z\"/>\n",
              "  </svg>\n",
              "      </button>\n",
              "      \n",
              "  <style>\n",
              "    .colab-df-container {\n",
              "      display:flex;\n",
              "      flex-wrap:wrap;\n",
              "      gap: 12px;\n",
              "    }\n",
              "\n",
              "    .colab-df-convert {\n",
              "      background-color: #E8F0FE;\n",
              "      border: none;\n",
              "      border-radius: 50%;\n",
              "      cursor: pointer;\n",
              "      display: none;\n",
              "      fill: #1967D2;\n",
              "      height: 32px;\n",
              "      padding: 0 0 0 0;\n",
              "      width: 32px;\n",
              "    }\n",
              "\n",
              "    .colab-df-convert:hover {\n",
              "      background-color: #E2EBFA;\n",
              "      box-shadow: 0px 1px 2px rgba(60, 64, 67, 0.3), 0px 1px 3px 1px rgba(60, 64, 67, 0.15);\n",
              "      fill: #174EA6;\n",
              "    }\n",
              "\n",
              "    [theme=dark] .colab-df-convert {\n",
              "      background-color: #3B4455;\n",
              "      fill: #D2E3FC;\n",
              "    }\n",
              "\n",
              "    [theme=dark] .colab-df-convert:hover {\n",
              "      background-color: #434B5C;\n",
              "      box-shadow: 0px 1px 3px 1px rgba(0, 0, 0, 0.15);\n",
              "      filter: drop-shadow(0px 1px 2px rgba(0, 0, 0, 0.3));\n",
              "      fill: #FFFFFF;\n",
              "    }\n",
              "  </style>\n",
              "\n",
              "      <script>\n",
              "        const buttonEl =\n",
              "          document.querySelector('#df-7766ec99-380b-4e95-aa79-d33f7bd14100 button.colab-df-convert');\n",
              "        buttonEl.style.display =\n",
              "          google.colab.kernel.accessAllowed ? 'block' : 'none';\n",
              "\n",
              "        async function convertToInteractive(key) {\n",
              "          const element = document.querySelector('#df-7766ec99-380b-4e95-aa79-d33f7bd14100');\n",
              "          const dataTable =\n",
              "            await google.colab.kernel.invokeFunction('convertToInteractive',\n",
              "                                                     [key], {});\n",
              "          if (!dataTable) return;\n",
              "\n",
              "          const docLinkHtml = 'Like what you see? Visit the ' +\n",
              "            '<a target=\"_blank\" href=https://colab.research.google.com/notebooks/data_table.ipynb>data table notebook</a>'\n",
              "            + ' to learn more about interactive tables.';\n",
              "          element.innerHTML = '';\n",
              "          dataTable['output_type'] = 'display_data';\n",
              "          await google.colab.output.renderOutput(dataTable, element);\n",
              "          const docLink = document.createElement('div');\n",
              "          docLink.innerHTML = docLinkHtml;\n",
              "          element.appendChild(docLink);\n",
              "        }\n",
              "      </script>\n",
              "    </div>\n",
              "  </div>\n",
              "  "
            ]
          },
          "metadata": {},
          "execution_count": 29
        }
      ],
      "source": [
        "    # Таблица с результатами\n",
        "columns =['city', 'monday', 'wednesday', 'friday']\n",
        "data = [['Moscow',15740,11056,15945],['Saint-Petersburg',5614,7003,5895]]\n",
        "pd.DataFrame(data = data, columns = columns)"
      ]
    },
    {
      "cell_type": "markdown",
      "metadata": {
        "deletable": false,
        "editable": false,
        "id": "-EgPIHYu_Zcu"
      },
      "source": [
        "**Выводы**\n",
        "\n",
        "Данные показывают разницу поведения пользователей:\n",
        "\n",
        "- В Москве пик прослушиваний приходится на понедельник и пятницу, а в среду заметен спад.\n",
        "- В Петербурге, наоборот, больше слушают музыку по средам. Активность в понедельник и пятницу здесь почти в равной мере уступает среде.\n",
        "\n",
        "Значит, данные говорят в пользу первой гипотезы."
      ]
    },
    {
      "cell_type": "markdown",
      "metadata": {
        "deletable": false,
        "editable": false,
        "id": "atZAxtq4_Zcu"
      },
      "source": [
        "### Музыка в начале и в конце недели"
      ]
    },
    {
      "cell_type": "markdown",
      "metadata": {
        "deletable": false,
        "editable": false,
        "id": "eXrQqXFH_Zcu"
      },
      "source": [
        "Согласно второй гипотезе, утром в понедельник в Москве преобладают одни жанры, а в Петербурге — другие. Так же и вечером пятницы преобладают разные жанры — в зависимости от города."
      ]
    },
    {
      "cell_type": "markdown",
      "metadata": {
        "deletable": false,
        "editable": false,
        "id": "S8UcW6Hw_Zcu",
        "tags": [
          "start_task"
        ]
      },
      "source": [
        "**Задание 23**\n",
        "\n",
        "Сохраните таблицы с данными в две переменные:\n",
        "* по Москве — в `moscow_general`;\n",
        "* по Санкт-Петербургу — в `spb_general`."
      ]
    },
    {
      "cell_type": "code",
      "execution_count": 30,
      "metadata": {
        "deletable": false,
        "id": "qeaFfM_P_Zcu"
      },
      "outputs": [],
      "source": [
        "moscow_general = df[df['city'] == 'Moscow']\n",
        "\n",
        "# получение таблицы moscow_general из тех строк таблицы df,\n",
        "# для которых значение в столбце 'city' равно 'Moscow'\n"
      ]
    },
    {
      "cell_type": "code",
      "execution_count": 31,
      "metadata": {
        "deletable": false,
        "id": "ORaVRKto_Zcu"
      },
      "outputs": [],
      "source": [
        "spb_general = df[df['city'] == 'Saint-Petersburg']# получение таблицы spb_general из тех строк таблицы df,\n",
        "# для которых значение в столбце 'city' равно 'Saint-Petersburg'\n"
      ]
    },
    {
      "cell_type": "markdown",
      "metadata": {
        "deletable": false,
        "editable": false,
        "id": "MEJV-CX2_Zcu",
        "tags": [
          "start_task"
        ]
      },
      "source": [
        "**Задание 24**\n",
        "\n",
        "Создайте функцию `genre_weekday()` с четырьмя параметрами:\n",
        "* таблица (датафрейм) с данными,\n",
        "* день недели,\n",
        "* начальная временная метка в формате 'hh:mm',\n",
        "* последняя временная метка в формате 'hh:mm'.\n",
        "\n",
        "Функция должна вернуть информацию о топ-10 жанров тех треков, которые прослушивали в указанный день, в промежутке между двумя отметками времени."
      ]
    },
    {
      "cell_type": "code",
      "execution_count": 32,
      "metadata": {
        "deletable": false,
        "id": "laJT9BYl_Zcu"
      },
      "outputs": [],
      "source": [
        "# Объявление функции genre_weekday() с параметрами table, day, time1, time2,\n",
        "# которая возвращает информацию о самых популярных жанрах в указанный день в\n",
        "# заданное время:\n",
        "# 1) в переменную genre_df сохраняются те строки переданного датафрейма table,\n",
        "#    которых одновременно:\n",
        "#    - значение в столбце day равно значению аргумента day\n",
        "#    - значение в столбце time больше значения аргумента time1\n",
        "#    - значение в столбце time меньше значения аргумента time2\n",
        "#    Используйте последовательную фильтрацию с помощью логической индексации.\n",
        "# 2) сгруппировать датафрейм genre_df по столбцу genre, взять один из его\n",
        "#    столбцов и посчитать методом count() количество записей для каждого из\n",
        "#    присутствующих жанров, получившийся Series записать в переменную\n",
        "#    genre_df_count\n",
        "# 3) отсортировать genre_df_count по убыванию встречаемости и сохранить\n",
        "#    в переменную genre_df_sorted\n",
        "# 4) вернуть Series из 10 первых значений genre_df_sorted, это будут топ-10\n",
        "#    популярных жанров (в указанный день, в заданное время)\n",
        "\n",
        "def genre_weekday(df, day, time1, time2):\n",
        "    # последовательная фильтрация\n",
        "    # оставляем в genre_df только те строки df, у которых день равен day\n",
        "    genre_df = df[df['day']==day] # ваш код здесь\n",
        "    # оставляем в genre_df только те строки genre_df, у которых время меньше time2\n",
        "    genre_df = genre_df[genre_df['time']<time2] # ваш код здесь\n",
        "    # оставляем в genre_df только те строки genre_df, у которых время больше time1\n",
        "    genre_df =genre_df[genre_df['time']>time1] # ваш код здесь\n",
        "    # сгруппируем отфильтрованный датафрейм по столбцу с названиями жанров, возьмём столбец genre и посчитаем кол-во строк для каждого жанра методом count()\n",
        "    genre_df_grouped =genre_df.groupby('genre')['genre'].count() # ваш код здесь\n",
        "    # отсортируем результат по убыванию (чтобы в начале Series оказались самые популярные жанры)\n",
        "    genre_df_sorted = genre_df_grouped.sort_values(ascending=False)# ваш код здесь\n",
        "    # вернём Series с 10 самыми популярными жанрами в указанный отрезок времени заданного дня\n",
        "    return genre_df_sorted.head(10)"
      ]
    },
    {
      "cell_type": "markdown",
      "metadata": {
        "deletable": false,
        "editable": false,
        "id": "la2s2_PF_Zcu",
        "tags": [
          "start_task"
        ]
      },
      "source": [
        "**Задание 25**\n",
        "\n",
        "\n",
        "Cравните результаты функции `genre_weekday()` для Москвы и Санкт-Петербурга в понедельник утром (с 7:00 до 11:00) и в пятницу вечером (с 17:00 до 23:00):"
      ]
    },
    {
      "cell_type": "code",
      "execution_count": 33,
      "metadata": {
        "deletable": false,
        "id": "yz7itPUQ_Zcu",
        "colab": {
          "base_uri": "https://localhost:8080/"
        },
        "outputId": "2f5fcc8a-6136-4210-e8d3-87fd3ad1d035"
      },
      "outputs": [
        {
          "output_type": "execute_result",
          "data": {
            "text/plain": [
              "genre\n",
              "dance            6\n",
              "pop              5\n",
              "rock             4\n",
              "electronic       3\n",
              "hiphop           3\n",
              "alternative      2\n",
              "miscellaneous    2\n",
              "soundtrack       2\n",
              "rusrap           2\n",
              "local            2\n",
              "Name: genre, dtype: int64"
            ]
          },
          "metadata": {},
          "execution_count": 33
        }
      ],
      "source": [
        "genre_weekday(moscow_general, 'Monday', '07:00', '11:00')"
      ]
    },
    {
      "cell_type": "code",
      "execution_count": 34,
      "metadata": {
        "deletable": false,
        "id": "kwUcHPdy_Zcu",
        "colab": {
          "base_uri": "https://localhost:8080/"
        },
        "outputId": "b0dbc5bc-68dd-44a2-a587-bb902e812395"
      },
      "outputs": [
        {
          "output_type": "execute_result",
          "data": {
            "text/plain": [
              "genre\n",
              "electronic    3\n",
              "pop           3\n",
              "classical     2\n",
              "hiphop        1\n",
              "rusrap        1\n",
              "Name: genre, dtype: int64"
            ]
          },
          "metadata": {},
          "execution_count": 34
        }
      ],
      "source": [
        "genre_weekday(spb_general, 'Monday', '07:00', '11:00')# вызов функции для утра понедельника в Петербурге (вместо df — таблица spb_general)"
      ]
    },
    {
      "cell_type": "code",
      "execution_count": 35,
      "metadata": {
        "deletable": false,
        "id": "EzXVRE1o_Zcu",
        "colab": {
          "base_uri": "https://localhost:8080/"
        },
        "outputId": "4ab1b810-728d-4479-9b44-900593dd4928"
      },
      "outputs": [
        {
          "output_type": "execute_result",
          "data": {
            "text/plain": [
              "genre\n",
              "pop            713\n",
              "rock           517\n",
              "dance          495\n",
              "electronic     482\n",
              "hiphop         273\n",
              "world          208\n",
              "ruspop         170\n",
              "alternative    163\n",
              "classical      163\n",
              "rusrap         142\n",
              "Name: genre, dtype: int64"
            ]
          },
          "metadata": {},
          "execution_count": 35
        }
      ],
      "source": [
        "genre_weekday(moscow_general, 'Friday', '17:00', '23:00')# вызов функции для вечера пятницы в Москве"
      ]
    },
    {
      "cell_type": "code",
      "execution_count": 36,
      "metadata": {
        "deletable": false,
        "id": "JZaEKu5v_Zcu",
        "colab": {
          "base_uri": "https://localhost:8080/"
        },
        "outputId": "9f9521b2-f6b2-4ce0-d6b1-0260fe071bfc"
      },
      "outputs": [
        {
          "output_type": "execute_result",
          "data": {
            "text/plain": [
              "genre\n",
              "pop            256\n",
              "electronic     216\n",
              "rock           216\n",
              "dance          210\n",
              "hiphop          97\n",
              "alternative     63\n",
              "jazz            61\n",
              "classical       60\n",
              "rusrap          59\n",
              "world           54\n",
              "Name: genre, dtype: int64"
            ]
          },
          "metadata": {},
          "execution_count": 36
        }
      ],
      "source": [
        "genre_weekday(spb_general, 'Friday', '17:00', '23:00')# вызов функции для вечера пятницы в Петербурге"
      ]
    },
    {
      "cell_type": "markdown",
      "metadata": {
        "deletable": false,
        "editable": false,
        "id": "wrCe4MNX_Zcu"
      },
      "source": [
        "**Выводы**\n",
        "\n",
        "Если сравнить топ-10 жанров в понедельник утром, можно сделать такие выводы:\n",
        "\n",
        "1. В Москве и Петербурге слушают похожую музыку. Единственное отличие — в московский рейтинг вошёл жанр “world”, а в петербургский — джаз и классика.\n",
        "\n",
        "2. В Москве пропущенных значений оказалось так много, что значение `'unknown'` заняло десятое место среди самых популярных жанров. Значит, пропущенные значения занимают существенную долю в данных и угрожают достоверности исследования.\n",
        "\n",
        "Вечер пятницы не меняет эту картину. Некоторые жанры поднимаются немного выше, другие спускаются, но в целом топ-10 остаётся тем же самым.\n",
        "\n",
        "Таким образом, вторая гипотеза подтвердилась лишь частично:\n",
        "* Пользователи слушают похожую музыку в начале недели и в конце.\n",
        "* Разница между Москвой и Петербургом не слишком выражена. В Москве чаще слушают русскую популярную музыку, в Петербурге — джаз.\n",
        "\n",
        "Однако пропуски в данных ставят под сомнение этот результат. В Москве их так много, что рейтинг топ-10 мог бы выглядеть иначе, если бы не утерянные  данные о жанрах."
      ]
    },
    {
      "cell_type": "markdown",
      "metadata": {
        "deletable": false,
        "editable": false,
        "id": "JolODAqr_Zcu"
      },
      "source": [
        "### Жанровые предпочтения в Москве и Петербурге\n",
        "\n",
        "Гипотеза: Петербург — столица рэпа, музыку этого жанра там слушают чаще, чем в Москве.  А Москва — город контрастов, в котором, тем не менее, преобладает поп-музыка."
      ]
    },
    {
      "cell_type": "markdown",
      "metadata": {
        "deletable": false,
        "editable": false,
        "id": "DlegSvaT_Zcu",
        "tags": [
          "start_task"
        ]
      },
      "source": [
        "**Задание 26**\n",
        "\n",
        "Сгруппируйте таблицу `moscow_general` по жанру и посчитайте прослушивания треков каждого жанра методом `count()`. Затем отсортируйте результат в порядке убывания и сохраните его в таблице `moscow_genres`."
      ]
    },
    {
      "cell_type": "code",
      "execution_count": 37,
      "metadata": {
        "deletable": false,
        "id": "r19lIPke_Zcu",
        "colab": {
          "base_uri": "https://localhost:8080/"
        },
        "outputId": "f1dbb7cf-e180-40e2-bf43-8ac4fc039db9"
      },
      "outputs": [
        {
          "output_type": "stream",
          "name": "stdout",
          "text": [
            "genre\n",
            "pop            5892\n",
            "dance          4435\n",
            "rock           3965\n",
            "electronic     3786\n",
            "hiphop         2096\n",
            "               ... \n",
            "neoklassik        1\n",
            "mood              1\n",
            "metalcore         1\n",
            "marschmusik       1\n",
            "ïîï               1\n",
            "Name: genre, Length: 267, dtype: int64\n"
          ]
        }
      ],
      "source": [
        "moscow_genres=moscow_general.groupby('genre')['genre'].count().sort_values(ascending=False)\n",
        "print(moscow_genres)\n"
      ]
    },
    {
      "cell_type": "markdown",
      "metadata": {
        "deletable": false,
        "editable": false,
        "id": "6kMuomxTiIr8",
        "tags": [
          "start_task"
        ]
      },
      "source": [
        "**Задание 27**\n",
        "\n",
        "Выведите на экран первые десять строк `moscow_genres`:"
      ]
    },
    {
      "cell_type": "code",
      "execution_count": 38,
      "metadata": {
        "deletable": false,
        "id": "WhCSooF8_Zcv",
        "colab": {
          "base_uri": "https://localhost:8080/"
        },
        "outputId": "3b5ce38a-13af-4ed1-8cb6-5fb9ff7ab237"
      },
      "outputs": [
        {
          "output_type": "execute_result",
          "data": {
            "text/plain": [
              "genre\n",
              "pop            5892\n",
              "dance          4435\n",
              "rock           3965\n",
              "electronic     3786\n",
              "hiphop         2096\n",
              "classical      1616\n",
              "world          1432\n",
              "alternative    1379\n",
              "ruspop         1372\n",
              "rusrap         1161\n",
              "Name: genre, dtype: int64"
            ]
          },
          "metadata": {},
          "execution_count": 38
        }
      ],
      "source": [
        "moscow_genres.head(10)# просмотр первых 10 строк moscow_genres"
      ]
    },
    {
      "cell_type": "markdown",
      "metadata": {
        "deletable": false,
        "editable": false,
        "id": "cnPG2vnN_Zcv",
        "tags": [
          "start_task"
        ]
      },
      "source": [
        "**Задание 28**\n",
        "\n",
        "\n",
        "Теперь повторите то же и для Петербурга.\n",
        "\n",
        "Сгруппируйте таблицу `spb_general` по жанру. Посчитайте прослушивания треков каждого жанра. Результат отсортируйте в порядке убывания и сохраните в таблице `spb_genres`:\n"
      ]
    },
    {
      "cell_type": "code",
      "execution_count": 39,
      "metadata": {
        "deletable": false,
        "id": "gluLIpE7_Zcv"
      },
      "outputs": [],
      "source": [
        "spb_genres=spb_general.groupby('genre')['time'].count().sort_values(ascending=False) # одной строкой: группировка таблицы spb_general по столбцу 'genre',\n",
        "# подсчёт числа значений 'genre' в этой группировке методом count(),\n",
        "# сортировка получившегося Series в порядке убывания и сохранение в spb_genres"
      ]
    },
    {
      "cell_type": "markdown",
      "metadata": {
        "deletable": false,
        "editable": false,
        "id": "5Doha_ODgyQ8",
        "tags": [
          "start_task"
        ]
      },
      "source": [
        "**Задание 29**\n",
        "\n",
        "Выведите на экран первые десять строк `spb_genres`:"
      ]
    },
    {
      "cell_type": "code",
      "execution_count": 40,
      "metadata": {
        "deletable": false,
        "id": "uaGJHjVU_Zcv",
        "colab": {
          "base_uri": "https://localhost:8080/"
        },
        "outputId": "0da38c88-b146-499c-e73d-e10b0a441dee"
      },
      "outputs": [
        {
          "output_type": "execute_result",
          "data": {
            "text/plain": [
              "genre\n",
              "pop            2431\n",
              "dance          1932\n",
              "rock           1879\n",
              "electronic     1736\n",
              "hiphop          960\n",
              "alternative     649\n",
              "classical       646\n",
              "rusrap          564\n",
              "ruspop          538\n",
              "world           515\n",
              "Name: time, dtype: int64"
            ]
          },
          "metadata": {},
          "execution_count": 40
        }
      ],
      "source": [
        "spb_genres.head(10)# просмотр первых 10 строк spb_genres"
      ]
    },
    {
      "cell_type": "markdown",
      "metadata": {
        "deletable": false,
        "editable": false,
        "id": "RY51YJYu_Zcv"
      },
      "source": [
        "**Выводы**"
      ]
    },
    {
      "cell_type": "markdown",
      "metadata": {
        "deletable": false,
        "editable": false,
        "id": "nVhnJEm__Zcv"
      },
      "source": [
        "Гипотеза частично подтвердилась:\n",
        "* Поп-музыка — самый популярный жанр в Москве, как и предполагала гипотеза. Более того, в топ-10 жанров встречается близкий жанр — русская популярная музыка.\n",
        "* Вопреки ожиданиям, рэп одинаково популярен в Москве и Петербурге.\n"
      ]
    },
    {
      "cell_type": "markdown",
      "metadata": {
        "deletable": false,
        "editable": false,
        "id": "ykKQ0N65_Zcv"
      },
      "source": [
        "## Итоги исследования"
      ]
    },
    {
      "cell_type": "markdown",
      "metadata": {
        "deletable": false,
        "editable": false,
        "id": "tjUwbHb3_Zcv"
      },
      "source": [
        "Вы проверили три гипотезы и установили:\n",
        "\n",
        "1. День недели по-разному влияет на активность пользователей в Москве и Петербурге.\n",
        "\n",
        "Первая гипотеза полностью подтвердилась.\n",
        "\n",
        "2. Музыкальные предпочтения не сильно меняются в течение недели — будь то Москва или Петербург. Небольшие различия заметны в начале недели, по понедельникам:\n",
        "* в Москве слушают музыку жанра “world”,\n",
        "* в Петербурге — джаз и классику.\n",
        "\n",
        "Таким образом, вторая гипотеза подтвердилась лишь отчасти. Этот результат мог оказаться иным, если бы не пропуски в данных.\n",
        "\n",
        "3. Во вкусах пользователей Москвы и Петербурга больше общего чем различий. Вопреки ожиданиям, предпочтения жанров в Петербурге напоминают московские.\n",
        "\n",
        "Третья гипотеза не подтвердилась. Если различия в предпочтениях и существуют, на основной массе пользователей они незаметны.\n",
        "\n",
        "**На практике исследования содержат проверки статистических гипотез.**\n",
        "Из данных одного сервиса не всегда можно сделать вывод о всех жителях города.\n",
        "Проверки статистических гипотез покажут, насколько они достоверны, исходя из имеющихся данных.\n",
        "С методами проверок гипотез вы ещё познакомитесь в следующих темах."
      ]
    },
    {
      "cell_type": "code",
      "execution_count": 40,
      "metadata": {
        "id": "90aGxM3xT7Te"
      },
      "outputs": [],
      "source": []
    }
  ],
  "metadata": {
    "ExecuteTimeLog": [
      {
        "duration": 85,
        "start_time": "2022-08-03T19:18:33.477Z"
      },
      {
        "duration": 143,
        "start_time": "2022-08-03T19:19:27.241Z"
      },
      {
        "duration": 8,
        "start_time": "2022-08-03T19:19:46.465Z"
      },
      {
        "duration": 50,
        "start_time": "2022-08-04T16:33:55.047Z"
      },
      {
        "duration": 3,
        "start_time": "2022-08-04T16:40:01.326Z"
      },
      {
        "duration": 6,
        "start_time": "2022-08-04T16:45:06.468Z"
      },
      {
        "duration": 6,
        "start_time": "2022-08-04T16:45:31.852Z"
      },
      {
        "duration": 6,
        "start_time": "2022-08-04T16:45:45.052Z"
      },
      {
        "duration": 8,
        "start_time": "2022-08-04T16:46:55.128Z"
      },
      {
        "duration": 487,
        "start_time": "2022-08-04T16:48:12.472Z"
      },
      {
        "duration": 262,
        "start_time": "2022-08-04T16:48:16.878Z"
      },
      {
        "duration": 16,
        "start_time": "2022-08-04T16:48:21.081Z"
      },
      {
        "duration": 40,
        "start_time": "2022-08-04T16:48:28.324Z"
      },
      {
        "duration": 20,
        "start_time": "2022-08-04T17:10:12.211Z"
      },
      {
        "duration": 20,
        "start_time": "2022-08-04T17:13:20.710Z"
      },
      {
        "duration": 61,
        "start_time": "2022-08-04T17:15:48.464Z"
      },
      {
        "duration": 68,
        "start_time": "2022-08-04T17:17:09.930Z"
      },
      {
        "duration": 57,
        "start_time": "2022-08-04T17:19:03.208Z"
      },
      {
        "duration": 79,
        "start_time": "2022-08-04T17:19:12.854Z"
      },
      {
        "duration": 67,
        "start_time": "2022-08-04T17:19:50.404Z"
      },
      {
        "duration": 54,
        "start_time": "2022-08-04T17:20:15.173Z"
      },
      {
        "duration": 13,
        "start_time": "2022-08-04T17:20:56.211Z"
      },
      {
        "duration": 12,
        "start_time": "2022-08-04T17:39:52.974Z"
      },
      {
        "duration": 13,
        "start_time": "2022-08-04T17:39:58.286Z"
      },
      {
        "duration": 4,
        "start_time": "2022-08-04T17:41:03.967Z"
      },
      {
        "duration": 28,
        "start_time": "2022-08-04T17:53:00.126Z"
      },
      {
        "duration": 53,
        "start_time": "2022-08-04T18:06:54.132Z"
      },
      {
        "duration": 31,
        "start_time": "2022-08-04T18:06:58.752Z"
      },
      {
        "duration": 46,
        "start_time": "2022-08-04T18:28:26.436Z"
      },
      {
        "duration": 16,
        "start_time": "2022-08-04T18:30:20.958Z"
      },
      {
        "duration": 23,
        "start_time": "2022-08-04T18:30:30.160Z"
      },
      {
        "duration": 26,
        "start_time": "2022-08-04T18:31:04.633Z"
      },
      {
        "duration": 95,
        "start_time": "2022-08-04T18:37:07.987Z"
      },
      {
        "duration": 80,
        "start_time": "2022-08-04T18:39:24.053Z"
      },
      {
        "duration": 12,
        "start_time": "2022-08-04T18:39:50.760Z"
      },
      {
        "duration": 88,
        "start_time": "2022-08-04T18:39:57.073Z"
      },
      {
        "duration": 72,
        "start_time": "2022-08-04T18:40:16.553Z"
      },
      {
        "duration": 108,
        "start_time": "2022-08-04T18:40:32.981Z"
      },
      {
        "duration": 86,
        "start_time": "2022-08-04T18:40:37.233Z"
      },
      {
        "duration": 92,
        "start_time": "2022-08-04T19:04:38.266Z"
      },
      {
        "duration": 105,
        "start_time": "2022-08-04T19:04:43.884Z"
      },
      {
        "duration": 93,
        "start_time": "2022-08-04T19:05:32.177Z"
      },
      {
        "duration": 84,
        "start_time": "2022-08-04T19:05:37.756Z"
      },
      {
        "duration": 70,
        "start_time": "2022-08-04T19:13:40.755Z"
      },
      {
        "duration": 93,
        "start_time": "2022-08-04T19:13:44.250Z"
      },
      {
        "duration": 33,
        "start_time": "2022-08-04T19:31:00.744Z"
      },
      {
        "duration": 50,
        "start_time": "2022-08-04T19:31:05.999Z"
      },
      {
        "duration": 37,
        "start_time": "2022-08-04T19:31:41.849Z"
      },
      {
        "duration": 87,
        "start_time": "2022-08-04T20:25:45.782Z"
      },
      {
        "duration": 42,
        "start_time": "2022-08-04T20:25:55.849Z"
      },
      {
        "duration": 125,
        "start_time": "2022-08-04T20:26:20.451Z"
      },
      {
        "duration": 80,
        "start_time": "2022-08-04T20:27:16.892Z"
      },
      {
        "duration": 66,
        "start_time": "2022-08-04T20:28:39.159Z"
      },
      {
        "duration": 53,
        "start_time": "2022-08-04T20:31:21.845Z"
      },
      {
        "duration": 778,
        "start_time": "2022-08-04T20:31:28.071Z"
      },
      {
        "duration": 659,
        "start_time": "2022-08-04T20:32:47.681Z"
      },
      {
        "duration": 12,
        "start_time": "2022-08-04T20:35:43.836Z"
      },
      {
        "duration": 8,
        "start_time": "2022-08-04T20:39:07.576Z"
      },
      {
        "duration": 16,
        "start_time": "2022-08-04T20:39:42.848Z"
      },
      {
        "duration": 66,
        "start_time": "2022-08-04T20:46:33.261Z"
      },
      {
        "duration": 9,
        "start_time": "2022-08-04T20:46:37.429Z"
      },
      {
        "duration": 53,
        "start_time": "2022-08-04T20:46:52.958Z"
      },
      {
        "duration": 9,
        "start_time": "2022-08-04T20:46:58.565Z"
      },
      {
        "duration": 9,
        "start_time": "2022-08-04T20:49:10.376Z"
      },
      {
        "duration": 7,
        "start_time": "2022-08-04T20:51:35.843Z"
      },
      {
        "duration": 2,
        "start_time": "2022-08-04T20:52:03.928Z"
      },
      {
        "duration": 7,
        "start_time": "2022-08-04T20:52:47.367Z"
      },
      {
        "duration": 55,
        "start_time": "2022-08-05T18:02:02.505Z"
      },
      {
        "duration": 35,
        "start_time": "2022-08-05T18:02:09.652Z"
      },
      {
        "duration": 8,
        "start_time": "2022-08-05T18:02:29.800Z"
      },
      {
        "duration": 9,
        "start_time": "2022-08-05T18:15:00.649Z"
      },
      {
        "duration": 6,
        "start_time": "2022-08-05T18:18:06.133Z"
      },
      {
        "duration": 44,
        "start_time": "2022-08-05T18:18:49.702Z"
      },
      {
        "duration": 43,
        "start_time": "2022-08-05T18:19:35.490Z"
      },
      {
        "duration": 8,
        "start_time": "2022-08-05T18:39:21.665Z"
      },
      {
        "duration": 33,
        "start_time": "2022-08-05T18:40:13.448Z"
      },
      {
        "duration": 11,
        "start_time": "2022-08-05T18:59:59.473Z"
      },
      {
        "duration": 37,
        "start_time": "2022-08-05T19:00:51.457Z"
      },
      {
        "duration": 7,
        "start_time": "2022-08-05T19:01:43.422Z"
      },
      {
        "duration": 9,
        "start_time": "2022-08-05T19:02:52.785Z"
      },
      {
        "duration": 10,
        "start_time": "2022-08-05T19:05:25.674Z"
      },
      {
        "duration": 205,
        "start_time": "2022-08-05T19:05:33.990Z"
      },
      {
        "duration": 13,
        "start_time": "2022-08-05T19:05:45.281Z"
      },
      {
        "duration": 36,
        "start_time": "2022-08-05T19:06:02.899Z"
      },
      {
        "duration": 10,
        "start_time": "2022-08-05T19:07:43.436Z"
      },
      {
        "duration": 39,
        "start_time": "2022-08-05T19:07:54.327Z"
      },
      {
        "duration": 11,
        "start_time": "2022-08-05T19:08:24.188Z"
      },
      {
        "duration": 44,
        "start_time": "2022-08-05T19:09:35.030Z"
      },
      {
        "duration": 22,
        "start_time": "2022-08-05T19:09:43.948Z"
      },
      {
        "duration": 36,
        "start_time": "2022-08-05T19:09:56.437Z"
      },
      {
        "duration": 1255,
        "start_time": "2022-08-05T19:33:14.984Z"
      },
      {
        "duration": 1246,
        "start_time": "2022-08-05T19:39:41.340Z"
      },
      {
        "duration": 11,
        "start_time": "2022-08-05T19:44:46.805Z"
      },
      {
        "duration": 4,
        "start_time": "2022-08-05T19:51:55.823Z"
      },
      {
        "duration": 3,
        "start_time": "2022-08-05T19:57:55.844Z"
      },
      {
        "duration": 18,
        "start_time": "2022-08-05T19:58:00.146Z"
      },
      {
        "duration": 17,
        "start_time": "2022-08-05T19:58:01.154Z"
      },
      {
        "duration": 18,
        "start_time": "2022-08-05T19:58:01.596Z"
      },
      {
        "duration": 18,
        "start_time": "2022-08-05T19:58:02.026Z"
      },
      {
        "duration": 18,
        "start_time": "2022-08-05T19:58:02.708Z"
      },
      {
        "duration": 17,
        "start_time": "2022-08-05T19:58:04.255Z"
      },
      {
        "duration": 18,
        "start_time": "2022-08-05T20:00:42.831Z"
      },
      {
        "duration": 38,
        "start_time": "2022-08-05T20:01:47.602Z"
      },
      {
        "duration": 22,
        "start_time": "2022-08-05T20:02:22.580Z"
      },
      {
        "duration": 10,
        "start_time": "2022-08-05T20:15:49.075Z"
      },
      {
        "duration": 32,
        "start_time": "2022-08-05T20:16:01.233Z"
      },
      {
        "duration": 24,
        "start_time": "2022-08-05T20:16:26.830Z"
      },
      {
        "duration": 11,
        "start_time": "2022-08-05T20:17:29.910Z"
      },
      {
        "duration": 11,
        "start_time": "2022-08-05T20:18:06.318Z"
      },
      {
        "duration": 12,
        "start_time": "2022-08-05T20:19:44.554Z"
      },
      {
        "duration": 12,
        "start_time": "2022-08-05T20:19:57.231Z"
      },
      {
        "duration": 11,
        "start_time": "2022-08-05T20:19:59.238Z"
      },
      {
        "duration": 4,
        "start_time": "2022-08-05T21:12:44.537Z"
      },
      {
        "duration": 157,
        "start_time": "2022-08-05T21:13:09.116Z"
      },
      {
        "duration": 3,
        "start_time": "2022-08-05T21:13:17.061Z"
      },
      {
        "duration": 4,
        "start_time": "2022-08-05T21:17:23.737Z"
      },
      {
        "duration": 19,
        "start_time": "2022-08-05T21:18:00.728Z"
      },
      {
        "duration": 17,
        "start_time": "2022-08-05T21:18:11.612Z"
      },
      {
        "duration": 17,
        "start_time": "2022-08-05T21:18:15.590Z"
      },
      {
        "duration": 4,
        "start_time": "2022-08-05T21:18:21.210Z"
      },
      {
        "duration": 17,
        "start_time": "2022-08-05T21:18:23.969Z"
      },
      {
        "duration": 4,
        "start_time": "2022-08-05T21:19:05.816Z"
      },
      {
        "duration": 3,
        "start_time": "2022-08-05T21:20:15.981Z"
      },
      {
        "duration": 2506,
        "start_time": "2022-08-05T21:20:18.129Z"
      },
      {
        "duration": 0,
        "start_time": "2022-08-05T21:20:20.636Z"
      },
      {
        "duration": 1426,
        "start_time": "2022-08-05T21:20:21.815Z"
      },
      {
        "duration": 0,
        "start_time": "2022-08-05T21:20:23.242Z"
      },
      {
        "duration": 0,
        "start_time": "2022-08-05T21:20:23.244Z"
      },
      {
        "duration": 2740,
        "start_time": "2022-08-05T21:20:23.481Z"
      },
      {
        "duration": 1800,
        "start_time": "2022-08-05T21:20:31.465Z"
      },
      {
        "duration": 44,
        "start_time": "2022-08-05T21:22:49.262Z"
      },
      {
        "duration": 3,
        "start_time": "2022-08-05T21:22:52.761Z"
      },
      {
        "duration": 388,
        "start_time": "2022-08-05T21:23:00.833Z"
      },
      {
        "duration": 156,
        "start_time": "2022-08-05T21:23:01.841Z"
      },
      {
        "duration": 16,
        "start_time": "2022-08-05T21:23:02.573Z"
      },
      {
        "duration": 30,
        "start_time": "2022-08-05T21:23:03.001Z"
      },
      {
        "duration": 2,
        "start_time": "2022-08-05T21:23:03.561Z"
      },
      {
        "duration": 4,
        "start_time": "2022-08-05T21:23:04.543Z"
      },
      {
        "duration": 11,
        "start_time": "2022-08-05T21:23:04.946Z"
      },
      {
        "duration": 4,
        "start_time": "2022-08-05T21:23:05.330Z"
      },
      {
        "duration": 21,
        "start_time": "2022-08-05T21:23:05.743Z"
      },
      {
        "duration": 25,
        "start_time": "2022-08-05T21:23:06.376Z"
      },
      {
        "duration": 21,
        "start_time": "2022-08-05T21:23:06.808Z"
      },
      {
        "duration": 76,
        "start_time": "2022-08-05T21:23:07.240Z"
      },
      {
        "duration": 75,
        "start_time": "2022-08-05T21:23:08.511Z"
      },
      {
        "duration": 57,
        "start_time": "2022-08-05T21:23:08.872Z"
      },
      {
        "duration": 11,
        "start_time": "2022-08-05T21:23:09.933Z"
      },
      {
        "duration": 36,
        "start_time": "2022-08-05T21:23:11.021Z"
      },
      {
        "duration": 11,
        "start_time": "2022-08-05T21:23:14.215Z"
      },
      {
        "duration": 10,
        "start_time": "2022-08-05T21:23:17.958Z"
      },
      {
        "duration": 4,
        "start_time": "2022-08-05T21:23:20.077Z"
      },
      {
        "duration": 432,
        "start_time": "2022-08-05T21:25:30.454Z"
      },
      {
        "duration": 160,
        "start_time": "2022-08-05T21:25:31.624Z"
      },
      {
        "duration": 15,
        "start_time": "2022-08-05T21:25:33.991Z"
      },
      {
        "duration": 24,
        "start_time": "2022-08-05T21:25:34.820Z"
      },
      {
        "duration": 3,
        "start_time": "2022-08-05T21:25:35.403Z"
      },
      {
        "duration": 4,
        "start_time": "2022-08-05T21:25:36.042Z"
      },
      {
        "duration": 11,
        "start_time": "2022-08-05T21:25:36.313Z"
      },
      {
        "duration": 3,
        "start_time": "2022-08-05T21:25:36.610Z"
      },
      {
        "duration": 22,
        "start_time": "2022-08-05T21:25:36.915Z"
      },
      {
        "duration": 24,
        "start_time": "2022-08-05T21:25:37.386Z"
      },
      {
        "duration": 23,
        "start_time": "2022-08-05T21:25:37.723Z"
      },
      {
        "duration": 65,
        "start_time": "2022-08-05T21:25:38.042Z"
      },
      {
        "duration": 73,
        "start_time": "2022-08-05T21:25:38.323Z"
      },
      {
        "duration": 55,
        "start_time": "2022-08-05T21:25:38.657Z"
      },
      {
        "duration": 10,
        "start_time": "2022-08-05T21:25:39.489Z"
      },
      {
        "duration": 33,
        "start_time": "2022-08-05T21:25:39.841Z"
      },
      {
        "duration": 11,
        "start_time": "2022-08-05T21:25:40.873Z"
      },
      {
        "duration": 11,
        "start_time": "2022-08-05T21:25:41.253Z"
      },
      {
        "duration": 4,
        "start_time": "2022-08-05T21:25:41.843Z"
      },
      {
        "duration": 16,
        "start_time": "2022-08-05T21:25:43.345Z"
      },
      {
        "duration": 13,
        "start_time": "2022-08-05T21:25:44.315Z"
      },
      {
        "duration": 14,
        "start_time": "2022-08-05T21:25:44.699Z"
      },
      {
        "duration": 13,
        "start_time": "2022-08-05T21:25:45.524Z"
      },
      {
        "duration": 20,
        "start_time": "2022-08-05T21:25:45.898Z"
      },
      {
        "duration": 14,
        "start_time": "2022-08-05T21:25:46.449Z"
      },
      {
        "duration": 3,
        "start_time": "2022-08-05T21:25:47.717Z"
      },
      {
        "duration": 9,
        "start_time": "2022-08-06T08:05:58.247Z"
      },
      {
        "duration": 51,
        "start_time": "2022-08-06T08:06:00.451Z"
      },
      {
        "duration": 8,
        "start_time": "2022-08-06T08:06:14.598Z"
      },
      {
        "duration": 435,
        "start_time": "2022-08-06T08:06:35.681Z"
      },
      {
        "duration": 544,
        "start_time": "2022-08-06T08:06:36.425Z"
      },
      {
        "duration": 25,
        "start_time": "2022-08-06T08:06:38.653Z"
      },
      {
        "duration": 33,
        "start_time": "2022-08-06T08:06:40.257Z"
      },
      {
        "duration": 3,
        "start_time": "2022-08-06T08:06:42.135Z"
      },
      {
        "duration": 6,
        "start_time": "2022-08-06T08:06:44.312Z"
      },
      {
        "duration": 14,
        "start_time": "2022-08-06T08:06:46.316Z"
      },
      {
        "duration": 5,
        "start_time": "2022-08-06T08:06:47.712Z"
      },
      {
        "duration": 47,
        "start_time": "2022-08-06T08:06:48.928Z"
      },
      {
        "duration": 28,
        "start_time": "2022-08-06T08:06:50.464Z"
      },
      {
        "duration": 30,
        "start_time": "2022-08-06T08:06:51.481Z"
      },
      {
        "duration": 81,
        "start_time": "2022-08-06T08:06:53.384Z"
      },
      {
        "duration": 83,
        "start_time": "2022-08-06T08:06:54.663Z"
      },
      {
        "duration": 108,
        "start_time": "2022-08-06T08:06:56.392Z"
      },
      {
        "duration": 43,
        "start_time": "2022-08-06T08:07:04.858Z"
      },
      {
        "duration": 13,
        "start_time": "2022-08-06T08:07:07.218Z"
      },
      {
        "duration": 37,
        "start_time": "2022-08-06T08:07:08.852Z"
      },
      {
        "duration": 11,
        "start_time": "2022-08-06T08:07:12.436Z"
      },
      {
        "duration": 13,
        "start_time": "2022-08-06T08:07:13.712Z"
      },
      {
        "duration": 5,
        "start_time": "2022-08-06T08:07:16.257Z"
      },
      {
        "duration": 24,
        "start_time": "2022-08-06T08:07:17.976Z"
      },
      {
        "duration": 20,
        "start_time": "2022-08-06T08:07:18.634Z"
      },
      {
        "duration": 21,
        "start_time": "2022-08-06T08:07:19.114Z"
      },
      {
        "duration": 17,
        "start_time": "2022-08-06T08:07:19.633Z"
      },
      {
        "duration": 24,
        "start_time": "2022-08-06T08:07:20.160Z"
      },
      {
        "duration": 35,
        "start_time": "2022-08-06T08:07:21.258Z"
      },
      {
        "duration": 3,
        "start_time": "2022-08-06T08:11:21.415Z"
      },
      {
        "duration": 205,
        "start_time": "2022-08-06T08:11:21.422Z"
      },
      {
        "duration": 12,
        "start_time": "2022-08-06T08:11:21.629Z"
      },
      {
        "duration": 51,
        "start_time": "2022-08-06T08:11:21.642Z"
      },
      {
        "duration": 3,
        "start_time": "2022-08-06T08:11:21.695Z"
      },
      {
        "duration": 8,
        "start_time": "2022-08-06T08:11:21.699Z"
      },
      {
        "duration": 13,
        "start_time": "2022-08-06T08:11:21.708Z"
      },
      {
        "duration": 4,
        "start_time": "2022-08-06T08:11:21.723Z"
      },
      {
        "duration": 57,
        "start_time": "2022-08-06T08:11:21.728Z"
      },
      {
        "duration": 18,
        "start_time": "2022-08-06T08:11:21.787Z"
      },
      {
        "duration": 25,
        "start_time": "2022-08-06T08:11:21.807Z"
      },
      {
        "duration": 94,
        "start_time": "2022-08-06T08:11:21.834Z"
      },
      {
        "duration": 88,
        "start_time": "2022-08-06T08:11:21.930Z"
      },
      {
        "duration": 70,
        "start_time": "2022-08-06T08:11:22.020Z"
      },
      {
        "duration": 40,
        "start_time": "2022-08-06T08:11:22.092Z"
      },
      {
        "duration": 10,
        "start_time": "2022-08-06T08:11:22.134Z"
      },
      {
        "duration": 55,
        "start_time": "2022-08-06T08:11:22.146Z"
      },
      {
        "duration": 12,
        "start_time": "2022-08-06T08:11:22.203Z"
      },
      {
        "duration": 14,
        "start_time": "2022-08-06T08:11:22.216Z"
      },
      {
        "duration": 5,
        "start_time": "2022-08-06T08:11:22.231Z"
      },
      {
        "duration": 17,
        "start_time": "2022-08-06T08:11:22.267Z"
      },
      {
        "duration": 16,
        "start_time": "2022-08-06T08:11:22.286Z"
      },
      {
        "duration": 39,
        "start_time": "2022-08-06T08:11:22.303Z"
      },
      {
        "duration": 21,
        "start_time": "2022-08-06T08:11:22.344Z"
      },
      {
        "duration": 17,
        "start_time": "2022-08-06T08:11:22.368Z"
      },
      {
        "duration": 16,
        "start_time": "2022-08-06T08:11:22.387Z"
      },
      {
        "duration": 13,
        "start_time": "2022-08-06T08:11:22.405Z"
      },
      {
        "duration": 7,
        "start_time": "2022-08-06T08:11:22.420Z"
      },
      {
        "duration": 9,
        "start_time": "2022-08-06T08:11:22.430Z"
      },
      {
        "duration": 79,
        "start_time": "2022-08-06T08:11:22.441Z"
      },
      {
        "duration": 0,
        "start_time": "2022-08-06T08:11:22.521Z"
      },
      {
        "duration": 0,
        "start_time": "2022-08-06T08:11:22.523Z"
      },
      {
        "duration": 0,
        "start_time": "2022-08-06T08:11:22.524Z"
      },
      {
        "duration": 0,
        "start_time": "2022-08-06T08:11:22.525Z"
      },
      {
        "duration": 0,
        "start_time": "2022-08-06T08:11:22.526Z"
      },
      {
        "duration": 0,
        "start_time": "2022-08-06T08:11:22.527Z"
      },
      {
        "duration": 0,
        "start_time": "2022-08-06T08:11:22.528Z"
      },
      {
        "duration": 0,
        "start_time": "2022-08-06T08:11:22.529Z"
      },
      {
        "duration": 412,
        "start_time": "2022-08-06T08:12:57.673Z"
      },
      {
        "duration": 197,
        "start_time": "2022-08-06T08:12:58.087Z"
      },
      {
        "duration": 19,
        "start_time": "2022-08-06T08:12:58.285Z"
      },
      {
        "duration": 56,
        "start_time": "2022-08-06T08:12:58.306Z"
      },
      {
        "duration": 15,
        "start_time": "2022-08-06T08:12:58.364Z"
      },
      {
        "duration": 22,
        "start_time": "2022-08-06T08:12:58.381Z"
      },
      {
        "duration": 18,
        "start_time": "2022-08-06T08:12:58.405Z"
      },
      {
        "duration": 33,
        "start_time": "2022-08-06T08:12:58.425Z"
      },
      {
        "duration": 61,
        "start_time": "2022-08-06T08:12:58.459Z"
      },
      {
        "duration": 40,
        "start_time": "2022-08-06T08:12:58.522Z"
      },
      {
        "duration": 39,
        "start_time": "2022-08-06T08:12:58.564Z"
      },
      {
        "duration": 82,
        "start_time": "2022-08-06T08:12:58.605Z"
      },
      {
        "duration": 89,
        "start_time": "2022-08-06T08:12:58.688Z"
      },
      {
        "duration": 67,
        "start_time": "2022-08-06T08:12:58.780Z"
      },
      {
        "duration": 56,
        "start_time": "2022-08-06T08:12:58.849Z"
      },
      {
        "duration": 12,
        "start_time": "2022-08-06T08:12:58.907Z"
      },
      {
        "duration": 59,
        "start_time": "2022-08-06T08:12:58.920Z"
      },
      {
        "duration": 11,
        "start_time": "2022-08-06T08:12:58.981Z"
      },
      {
        "duration": 16,
        "start_time": "2022-08-06T08:12:58.994Z"
      },
      {
        "duration": 4,
        "start_time": "2022-08-06T08:12:59.012Z"
      },
      {
        "duration": 36,
        "start_time": "2022-08-06T08:12:59.018Z"
      },
      {
        "duration": 20,
        "start_time": "2022-08-06T08:12:59.056Z"
      },
      {
        "duration": 16,
        "start_time": "2022-08-06T08:12:59.078Z"
      },
      {
        "duration": 16,
        "start_time": "2022-08-06T08:12:59.096Z"
      },
      {
        "duration": 17,
        "start_time": "2022-08-06T08:12:59.114Z"
      },
      {
        "duration": 42,
        "start_time": "2022-08-06T08:12:59.133Z"
      },
      {
        "duration": 9,
        "start_time": "2022-08-06T08:12:59.177Z"
      },
      {
        "duration": 10,
        "start_time": "2022-08-06T08:12:59.190Z"
      },
      {
        "duration": 9,
        "start_time": "2022-08-06T08:12:59.201Z"
      },
      {
        "duration": 90,
        "start_time": "2022-08-06T08:12:59.212Z"
      },
      {
        "duration": 0,
        "start_time": "2022-08-06T08:12:59.304Z"
      },
      {
        "duration": 0,
        "start_time": "2022-08-06T08:12:59.306Z"
      },
      {
        "duration": 0,
        "start_time": "2022-08-06T08:12:59.308Z"
      },
      {
        "duration": 0,
        "start_time": "2022-08-06T08:12:59.309Z"
      },
      {
        "duration": 0,
        "start_time": "2022-08-06T08:12:59.311Z"
      },
      {
        "duration": 0,
        "start_time": "2022-08-06T08:12:59.312Z"
      },
      {
        "duration": 0,
        "start_time": "2022-08-06T08:12:59.314Z"
      },
      {
        "duration": 0,
        "start_time": "2022-08-06T08:12:59.315Z"
      },
      {
        "duration": 91,
        "start_time": "2022-08-06T08:23:40.908Z"
      },
      {
        "duration": 13,
        "start_time": "2022-08-06T08:23:56.509Z"
      },
      {
        "duration": 11,
        "start_time": "2022-08-06T08:49:38.942Z"
      },
      {
        "duration": 14,
        "start_time": "2022-08-06T08:49:53.909Z"
      },
      {
        "duration": 7,
        "start_time": "2022-08-06T13:10:11.469Z"
      },
      {
        "duration": 3,
        "start_time": "2022-08-06T13:10:13.459Z"
      },
      {
        "duration": 47,
        "start_time": "2022-08-06T13:12:36.520Z"
      },
      {
        "duration": 9,
        "start_time": "2022-08-06T13:13:05.782Z"
      },
      {
        "duration": 6,
        "start_time": "2022-08-06T13:15:26.667Z"
      },
      {
        "duration": 4,
        "start_time": "2022-08-06T13:15:34.079Z"
      },
      {
        "duration": 7,
        "start_time": "2022-08-06T13:15:42.191Z"
      },
      {
        "duration": 6,
        "start_time": "2022-08-06T13:15:44.997Z"
      },
      {
        "duration": 7,
        "start_time": "2022-08-06T13:16:57.729Z"
      },
      {
        "duration": 426,
        "start_time": "2022-08-06T13:17:23.454Z"
      },
      {
        "duration": 468,
        "start_time": "2022-08-06T13:17:23.883Z"
      },
      {
        "duration": 18,
        "start_time": "2022-08-06T13:17:24.353Z"
      },
      {
        "duration": 31,
        "start_time": "2022-08-06T13:17:24.373Z"
      },
      {
        "duration": 3,
        "start_time": "2022-08-06T13:17:24.406Z"
      },
      {
        "duration": 8,
        "start_time": "2022-08-06T13:17:24.410Z"
      },
      {
        "duration": 15,
        "start_time": "2022-08-06T13:17:24.420Z"
      },
      {
        "duration": 11,
        "start_time": "2022-08-06T13:17:24.437Z"
      },
      {
        "duration": 45,
        "start_time": "2022-08-06T13:17:24.449Z"
      },
      {
        "duration": 22,
        "start_time": "2022-08-06T13:17:24.497Z"
      },
      {
        "duration": 26,
        "start_time": "2022-08-06T13:17:24.521Z"
      },
      {
        "duration": 88,
        "start_time": "2022-08-06T13:17:24.549Z"
      },
      {
        "duration": 89,
        "start_time": "2022-08-06T13:17:24.639Z"
      },
      {
        "duration": 72,
        "start_time": "2022-08-06T13:17:24.730Z"
      },
      {
        "duration": 45,
        "start_time": "2022-08-06T13:17:24.803Z"
      },
      {
        "duration": 12,
        "start_time": "2022-08-06T13:17:24.849Z"
      },
      {
        "duration": 61,
        "start_time": "2022-08-06T13:17:24.862Z"
      },
      {
        "duration": 12,
        "start_time": "2022-08-06T13:17:24.925Z"
      },
      {
        "duration": 12,
        "start_time": "2022-08-06T13:17:24.938Z"
      },
      {
        "duration": 4,
        "start_time": "2022-08-06T13:17:24.951Z"
      },
      {
        "duration": 46,
        "start_time": "2022-08-06T13:17:24.957Z"
      },
      {
        "duration": 15,
        "start_time": "2022-08-06T13:17:25.005Z"
      },
      {
        "duration": 18,
        "start_time": "2022-08-06T13:17:25.021Z"
      },
      {
        "duration": 16,
        "start_time": "2022-08-06T13:17:25.041Z"
      },
      {
        "duration": 47,
        "start_time": "2022-08-06T13:17:25.059Z"
      },
      {
        "duration": 16,
        "start_time": "2022-08-06T13:17:25.107Z"
      },
      {
        "duration": 10,
        "start_time": "2022-08-06T13:17:25.124Z"
      },
      {
        "duration": 15,
        "start_time": "2022-08-06T13:17:25.137Z"
      },
      {
        "duration": 10,
        "start_time": "2022-08-06T13:17:25.154Z"
      },
      {
        "duration": 75,
        "start_time": "2022-08-06T13:17:25.165Z"
      },
      {
        "duration": 0,
        "start_time": "2022-08-06T13:17:25.242Z"
      },
      {
        "duration": 0,
        "start_time": "2022-08-06T13:17:25.243Z"
      },
      {
        "duration": 0,
        "start_time": "2022-08-06T13:17:25.244Z"
      },
      {
        "duration": 0,
        "start_time": "2022-08-06T13:17:25.245Z"
      },
      {
        "duration": 0,
        "start_time": "2022-08-06T13:17:25.247Z"
      },
      {
        "duration": 0,
        "start_time": "2022-08-06T13:17:25.248Z"
      },
      {
        "duration": 0,
        "start_time": "2022-08-06T13:17:25.249Z"
      },
      {
        "duration": 0,
        "start_time": "2022-08-06T13:17:25.251Z"
      },
      {
        "duration": 465,
        "start_time": "2022-08-06T14:09:00.460Z"
      },
      {
        "duration": 188,
        "start_time": "2022-08-06T14:09:00.928Z"
      },
      {
        "duration": 19,
        "start_time": "2022-08-06T14:09:01.118Z"
      },
      {
        "duration": 40,
        "start_time": "2022-08-06T14:09:01.139Z"
      },
      {
        "duration": 3,
        "start_time": "2022-08-06T14:09:01.191Z"
      },
      {
        "duration": 10,
        "start_time": "2022-08-06T14:09:01.196Z"
      },
      {
        "duration": 17,
        "start_time": "2022-08-06T14:09:01.207Z"
      },
      {
        "duration": 12,
        "start_time": "2022-08-06T14:09:01.226Z"
      },
      {
        "duration": 39,
        "start_time": "2022-08-06T14:09:01.240Z"
      },
      {
        "duration": 47,
        "start_time": "2022-08-06T14:09:01.282Z"
      },
      {
        "duration": 111,
        "start_time": "2022-08-06T14:09:01.330Z"
      },
      {
        "duration": 103,
        "start_time": "2022-08-06T14:09:01.443Z"
      },
      {
        "duration": 84,
        "start_time": "2022-08-06T14:09:01.547Z"
      },
      {
        "duration": 76,
        "start_time": "2022-08-06T14:09:01.633Z"
      },
      {
        "duration": 46,
        "start_time": "2022-08-06T14:09:01.711Z"
      },
      {
        "duration": 42,
        "start_time": "2022-08-06T14:09:01.760Z"
      },
      {
        "duration": 91,
        "start_time": "2022-08-06T14:09:01.804Z"
      },
      {
        "duration": 18,
        "start_time": "2022-08-06T14:09:01.898Z"
      },
      {
        "duration": 16,
        "start_time": "2022-08-06T14:09:01.918Z"
      },
      {
        "duration": 6,
        "start_time": "2022-08-06T14:09:01.936Z"
      },
      {
        "duration": 62,
        "start_time": "2022-08-06T14:09:01.944Z"
      },
      {
        "duration": 21,
        "start_time": "2022-08-06T14:09:02.009Z"
      },
      {
        "duration": 60,
        "start_time": "2022-08-06T14:09:02.032Z"
      },
      {
        "duration": 21,
        "start_time": "2022-08-06T14:09:02.094Z"
      },
      {
        "duration": 54,
        "start_time": "2022-08-06T14:09:02.117Z"
      },
      {
        "duration": 19,
        "start_time": "2022-08-06T14:09:02.173Z"
      },
      {
        "duration": 11,
        "start_time": "2022-08-06T14:09:02.194Z"
      },
      {
        "duration": 22,
        "start_time": "2022-08-06T14:09:02.208Z"
      },
      {
        "duration": 12,
        "start_time": "2022-08-06T14:09:02.231Z"
      },
      {
        "duration": 77,
        "start_time": "2022-08-06T14:09:02.245Z"
      },
      {
        "duration": 0,
        "start_time": "2022-08-06T14:09:02.323Z"
      },
      {
        "duration": 0,
        "start_time": "2022-08-06T14:09:02.325Z"
      },
      {
        "duration": 0,
        "start_time": "2022-08-06T14:09:02.326Z"
      },
      {
        "duration": 0,
        "start_time": "2022-08-06T14:09:02.327Z"
      },
      {
        "duration": 0,
        "start_time": "2022-08-06T14:09:02.328Z"
      },
      {
        "duration": 0,
        "start_time": "2022-08-06T14:09:02.329Z"
      },
      {
        "duration": 0,
        "start_time": "2022-08-06T14:09:02.330Z"
      },
      {
        "duration": 1,
        "start_time": "2022-08-06T14:09:02.331Z"
      },
      {
        "duration": 4,
        "start_time": "2022-08-06T14:56:58.392Z"
      },
      {
        "duration": 4,
        "start_time": "2022-08-06T14:57:00.900Z"
      },
      {
        "duration": 405,
        "start_time": "2022-08-06T15:03:47.241Z"
      },
      {
        "duration": 181,
        "start_time": "2022-08-06T15:03:47.648Z"
      },
      {
        "duration": 18,
        "start_time": "2022-08-06T15:03:47.831Z"
      },
      {
        "duration": 46,
        "start_time": "2022-08-06T15:03:47.851Z"
      },
      {
        "duration": 3,
        "start_time": "2022-08-06T15:03:47.898Z"
      },
      {
        "duration": 7,
        "start_time": "2022-08-06T15:03:47.903Z"
      },
      {
        "duration": 14,
        "start_time": "2022-08-06T15:03:47.911Z"
      },
      {
        "duration": 10,
        "start_time": "2022-08-06T15:03:47.927Z"
      },
      {
        "duration": 70,
        "start_time": "2022-08-06T15:03:47.938Z"
      },
      {
        "duration": 23,
        "start_time": "2022-08-06T15:03:48.012Z"
      },
      {
        "duration": 28,
        "start_time": "2022-08-06T15:03:48.038Z"
      },
      {
        "duration": 90,
        "start_time": "2022-08-06T15:03:48.068Z"
      },
      {
        "duration": 103,
        "start_time": "2022-08-06T15:03:48.160Z"
      },
      {
        "duration": 70,
        "start_time": "2022-08-06T15:03:48.265Z"
      },
      {
        "duration": 45,
        "start_time": "2022-08-06T15:03:48.337Z"
      },
      {
        "duration": 11,
        "start_time": "2022-08-06T15:03:48.393Z"
      },
      {
        "duration": 43,
        "start_time": "2022-08-06T15:03:48.406Z"
      },
      {
        "duration": 12,
        "start_time": "2022-08-06T15:03:48.451Z"
      },
      {
        "duration": 39,
        "start_time": "2022-08-06T15:03:48.464Z"
      },
      {
        "duration": 7,
        "start_time": "2022-08-06T15:03:48.505Z"
      },
      {
        "duration": 28,
        "start_time": "2022-08-06T15:03:48.515Z"
      },
      {
        "duration": 17,
        "start_time": "2022-08-06T15:03:48.544Z"
      },
      {
        "duration": 37,
        "start_time": "2022-08-06T15:03:48.563Z"
      },
      {
        "duration": 16,
        "start_time": "2022-08-06T15:03:48.602Z"
      },
      {
        "duration": 21,
        "start_time": "2022-08-06T15:03:48.620Z"
      },
      {
        "duration": 15,
        "start_time": "2022-08-06T15:03:48.643Z"
      },
      {
        "duration": 39,
        "start_time": "2022-08-06T15:03:48.660Z"
      },
      {
        "duration": 20,
        "start_time": "2022-08-06T15:03:48.702Z"
      },
      {
        "duration": 12,
        "start_time": "2022-08-06T15:03:48.723Z"
      },
      {
        "duration": 5,
        "start_time": "2022-08-06T15:03:48.737Z"
      },
      {
        "duration": 8,
        "start_time": "2022-08-06T15:03:48.744Z"
      },
      {
        "duration": 6,
        "start_time": "2022-08-06T15:03:48.754Z"
      },
      {
        "duration": 10,
        "start_time": "2022-08-06T15:03:48.762Z"
      },
      {
        "duration": 21,
        "start_time": "2022-08-06T15:03:48.775Z"
      },
      {
        "duration": 7,
        "start_time": "2022-08-06T15:03:48.798Z"
      },
      {
        "duration": 6,
        "start_time": "2022-08-06T15:03:48.807Z"
      },
      {
        "duration": 7,
        "start_time": "2022-08-06T15:03:48.816Z"
      },
      {
        "duration": 7,
        "start_time": "2022-08-06T15:03:48.825Z"
      },
      {
        "duration": 439,
        "start_time": "2022-08-06T15:14:16.508Z"
      },
      {
        "duration": 190,
        "start_time": "2022-08-06T15:14:16.949Z"
      },
      {
        "duration": 22,
        "start_time": "2022-08-06T15:14:17.141Z"
      },
      {
        "duration": 38,
        "start_time": "2022-08-06T15:14:17.166Z"
      },
      {
        "duration": 3,
        "start_time": "2022-08-06T15:14:17.206Z"
      },
      {
        "duration": 15,
        "start_time": "2022-08-06T15:14:17.210Z"
      },
      {
        "duration": 20,
        "start_time": "2022-08-06T15:14:17.227Z"
      },
      {
        "duration": 12,
        "start_time": "2022-08-06T15:14:17.249Z"
      },
      {
        "duration": 38,
        "start_time": "2022-08-06T15:14:17.263Z"
      },
      {
        "duration": 21,
        "start_time": "2022-08-06T15:14:17.304Z"
      },
      {
        "duration": 31,
        "start_time": "2022-08-06T15:14:17.327Z"
      },
      {
        "duration": 89,
        "start_time": "2022-08-06T15:14:17.360Z"
      },
      {
        "duration": 94,
        "start_time": "2022-08-06T15:14:17.450Z"
      },
      {
        "duration": 79,
        "start_time": "2022-08-06T15:14:17.546Z"
      },
      {
        "duration": 44,
        "start_time": "2022-08-06T15:14:17.627Z"
      },
      {
        "duration": 24,
        "start_time": "2022-08-06T15:14:17.673Z"
      },
      {
        "duration": 43,
        "start_time": "2022-08-06T15:14:17.699Z"
      },
      {
        "duration": 12,
        "start_time": "2022-08-06T15:14:17.743Z"
      },
      {
        "duration": 36,
        "start_time": "2022-08-06T15:14:17.757Z"
      },
      {
        "duration": 4,
        "start_time": "2022-08-06T15:14:17.794Z"
      },
      {
        "duration": 22,
        "start_time": "2022-08-06T15:14:17.800Z"
      },
      {
        "duration": 16,
        "start_time": "2022-08-06T15:14:17.823Z"
      },
      {
        "duration": 17,
        "start_time": "2022-08-06T15:14:17.841Z"
      },
      {
        "duration": 42,
        "start_time": "2022-08-06T15:14:17.859Z"
      },
      {
        "duration": 20,
        "start_time": "2022-08-06T15:14:17.902Z"
      },
      {
        "duration": 15,
        "start_time": "2022-08-06T15:14:17.924Z"
      },
      {
        "duration": 9,
        "start_time": "2022-08-06T15:14:17.941Z"
      },
      {
        "duration": 46,
        "start_time": "2022-08-06T15:14:17.954Z"
      },
      {
        "duration": 10,
        "start_time": "2022-08-06T15:14:18.002Z"
      },
      {
        "duration": 5,
        "start_time": "2022-08-06T15:14:18.014Z"
      },
      {
        "duration": 8,
        "start_time": "2022-08-06T15:14:18.020Z"
      },
      {
        "duration": 5,
        "start_time": "2022-08-06T15:14:18.030Z"
      },
      {
        "duration": 9,
        "start_time": "2022-08-06T15:14:18.037Z"
      },
      {
        "duration": 5,
        "start_time": "2022-08-06T15:14:18.048Z"
      },
      {
        "duration": 5,
        "start_time": "2022-08-06T15:14:18.054Z"
      },
      {
        "duration": 7,
        "start_time": "2022-08-06T15:14:18.061Z"
      },
      {
        "duration": 6,
        "start_time": "2022-08-06T15:14:18.070Z"
      },
      {
        "duration": 3,
        "start_time": "2022-08-06T15:14:18.092Z"
      },
      {
        "duration": 467,
        "start_time": "2022-08-06T15:15:26.581Z"
      },
      {
        "duration": 185,
        "start_time": "2022-08-06T15:15:27.050Z"
      },
      {
        "duration": 20,
        "start_time": "2022-08-06T15:15:27.237Z"
      },
      {
        "duration": 45,
        "start_time": "2022-08-06T15:15:27.259Z"
      },
      {
        "duration": 17,
        "start_time": "2022-08-06T15:15:27.306Z"
      },
      {
        "duration": 23,
        "start_time": "2022-08-06T15:15:27.324Z"
      },
      {
        "duration": 30,
        "start_time": "2022-08-06T15:15:27.349Z"
      },
      {
        "duration": 34,
        "start_time": "2022-08-06T15:15:27.380Z"
      },
      {
        "duration": 49,
        "start_time": "2022-08-06T15:15:27.416Z"
      },
      {
        "duration": 37,
        "start_time": "2022-08-06T15:15:27.468Z"
      },
      {
        "duration": 46,
        "start_time": "2022-08-06T15:15:27.508Z"
      },
      {
        "duration": 99,
        "start_time": "2022-08-06T15:15:27.556Z"
      },
      {
        "duration": 135,
        "start_time": "2022-08-06T15:15:27.658Z"
      },
      {
        "duration": 68,
        "start_time": "2022-08-06T15:15:27.795Z"
      },
      {
        "duration": 61,
        "start_time": "2022-08-06T15:15:27.865Z"
      },
      {
        "duration": 13,
        "start_time": "2022-08-06T15:15:27.928Z"
      },
      {
        "duration": 66,
        "start_time": "2022-08-06T15:15:27.942Z"
      },
      {
        "duration": 12,
        "start_time": "2022-08-06T15:15:28.010Z"
      },
      {
        "duration": 17,
        "start_time": "2022-08-06T15:15:28.023Z"
      },
      {
        "duration": 16,
        "start_time": "2022-08-06T15:15:28.041Z"
      },
      {
        "duration": 61,
        "start_time": "2022-08-06T15:15:28.059Z"
      },
      {
        "duration": 16,
        "start_time": "2022-08-06T15:15:28.122Z"
      },
      {
        "duration": 39,
        "start_time": "2022-08-06T15:15:28.140Z"
      },
      {
        "duration": 38,
        "start_time": "2022-08-06T15:15:28.181Z"
      },
      {
        "duration": 28,
        "start_time": "2022-08-06T15:15:28.221Z"
      },
      {
        "duration": 25,
        "start_time": "2022-08-06T15:15:28.251Z"
      },
      {
        "duration": 20,
        "start_time": "2022-08-06T15:15:28.278Z"
      },
      {
        "duration": 27,
        "start_time": "2022-08-06T15:15:28.302Z"
      },
      {
        "duration": 13,
        "start_time": "2022-08-06T15:15:28.332Z"
      },
      {
        "duration": 11,
        "start_time": "2022-08-06T15:15:28.347Z"
      },
      {
        "duration": 12,
        "start_time": "2022-08-06T15:15:28.360Z"
      },
      {
        "duration": 19,
        "start_time": "2022-08-06T15:15:28.373Z"
      },
      {
        "duration": 14,
        "start_time": "2022-08-06T15:15:28.394Z"
      },
      {
        "duration": 36,
        "start_time": "2022-08-06T15:15:28.410Z"
      },
      {
        "duration": 13,
        "start_time": "2022-08-06T15:15:28.448Z"
      },
      {
        "duration": 24,
        "start_time": "2022-08-06T15:15:28.463Z"
      },
      {
        "duration": 16,
        "start_time": "2022-08-06T15:15:28.489Z"
      },
      {
        "duration": 31,
        "start_time": "2022-08-06T15:15:28.507Z"
      },
      {
        "duration": 5,
        "start_time": "2022-08-06T15:17:24.520Z"
      },
      {
        "duration": 6,
        "start_time": "2022-08-06T15:17:42.098Z"
      },
      {
        "duration": 411,
        "start_time": "2022-08-07T14:25:04.328Z"
      },
      {
        "duration": 440,
        "start_time": "2022-08-07T14:25:04.741Z"
      },
      {
        "duration": 17,
        "start_time": "2022-08-07T14:25:05.182Z"
      },
      {
        "duration": 25,
        "start_time": "2022-08-07T14:25:05.201Z"
      },
      {
        "duration": 2,
        "start_time": "2022-08-07T14:25:05.228Z"
      },
      {
        "duration": 7,
        "start_time": "2022-08-07T14:25:05.231Z"
      },
      {
        "duration": 10,
        "start_time": "2022-08-07T14:25:05.239Z"
      },
      {
        "duration": 5,
        "start_time": "2022-08-07T14:25:05.251Z"
      },
      {
        "duration": 22,
        "start_time": "2022-08-07T14:25:05.258Z"
      },
      {
        "duration": 16,
        "start_time": "2022-08-07T14:25:05.282Z"
      },
      {
        "duration": 18,
        "start_time": "2022-08-07T14:25:05.300Z"
      },
      {
        "duration": 81,
        "start_time": "2022-08-07T14:25:05.319Z"
      },
      {
        "duration": 78,
        "start_time": "2022-08-07T14:25:05.401Z"
      },
      {
        "duration": 52,
        "start_time": "2022-08-07T14:25:05.481Z"
      },
      {
        "duration": 43,
        "start_time": "2022-08-07T14:25:05.535Z"
      },
      {
        "duration": 9,
        "start_time": "2022-08-07T14:25:05.580Z"
      },
      {
        "duration": 32,
        "start_time": "2022-08-07T14:25:05.590Z"
      },
      {
        "duration": 32,
        "start_time": "2022-08-07T14:25:05.624Z"
      },
      {
        "duration": 14,
        "start_time": "2022-08-07T14:25:05.657Z"
      },
      {
        "duration": 3,
        "start_time": "2022-08-07T14:25:05.672Z"
      },
      {
        "duration": 16,
        "start_time": "2022-08-07T14:25:05.677Z"
      },
      {
        "duration": 11,
        "start_time": "2022-08-07T14:25:05.695Z"
      },
      {
        "duration": 13,
        "start_time": "2022-08-07T14:25:05.707Z"
      },
      {
        "duration": 37,
        "start_time": "2022-08-07T14:25:05.722Z"
      },
      {
        "duration": 20,
        "start_time": "2022-08-07T14:25:05.761Z"
      },
      {
        "duration": 13,
        "start_time": "2022-08-07T14:25:05.783Z"
      },
      {
        "duration": 7,
        "start_time": "2022-08-07T14:25:05.798Z"
      },
      {
        "duration": 10,
        "start_time": "2022-08-07T14:25:05.808Z"
      },
      {
        "duration": 35,
        "start_time": "2022-08-07T14:25:05.820Z"
      },
      {
        "duration": 4,
        "start_time": "2022-08-07T14:25:05.856Z"
      },
      {
        "duration": 9,
        "start_time": "2022-08-07T14:25:05.862Z"
      },
      {
        "duration": 6,
        "start_time": "2022-08-07T14:25:05.872Z"
      },
      {
        "duration": 6,
        "start_time": "2022-08-07T14:25:05.879Z"
      },
      {
        "duration": 5,
        "start_time": "2022-08-07T14:25:05.886Z"
      },
      {
        "duration": 10,
        "start_time": "2022-08-07T14:25:05.892Z"
      },
      {
        "duration": 6,
        "start_time": "2022-08-07T14:25:05.903Z"
      },
      {
        "duration": 4,
        "start_time": "2022-08-07T14:25:05.911Z"
      },
      {
        "duration": 5,
        "start_time": "2022-08-07T14:25:05.917Z"
      },
      {
        "duration": 14,
        "start_time": "2022-08-07T14:30:05.976Z"
      },
      {
        "duration": 10,
        "start_time": "2022-08-07T14:34:25.513Z"
      },
      {
        "duration": 14,
        "start_time": "2022-08-07T14:34:39.326Z"
      },
      {
        "duration": 18,
        "start_time": "2022-08-07T14:35:27.645Z"
      },
      {
        "duration": 15,
        "start_time": "2022-08-07T14:35:30.149Z"
      },
      {
        "duration": 13,
        "start_time": "2022-08-07T14:35:33.117Z"
      },
      {
        "duration": 11,
        "start_time": "2022-08-07T14:35:40.413Z"
      },
      {
        "duration": 371,
        "start_time": "2022-08-07T14:36:15.864Z"
      },
      {
        "duration": 145,
        "start_time": "2022-08-07T14:36:16.237Z"
      },
      {
        "duration": 16,
        "start_time": "2022-08-07T14:36:16.383Z"
      },
      {
        "duration": 27,
        "start_time": "2022-08-07T14:36:16.400Z"
      },
      {
        "duration": 2,
        "start_time": "2022-08-07T14:36:16.429Z"
      },
      {
        "duration": 31,
        "start_time": "2022-08-07T14:36:16.433Z"
      },
      {
        "duration": 10,
        "start_time": "2022-08-07T14:36:16.466Z"
      },
      {
        "duration": 5,
        "start_time": "2022-08-07T14:36:16.478Z"
      },
      {
        "duration": 22,
        "start_time": "2022-08-07T14:36:16.484Z"
      },
      {
        "duration": 16,
        "start_time": "2022-08-07T14:36:16.507Z"
      },
      {
        "duration": 42,
        "start_time": "2022-08-07T14:36:16.525Z"
      },
      {
        "duration": 58,
        "start_time": "2022-08-07T14:36:16.571Z"
      },
      {
        "duration": 85,
        "start_time": "2022-08-07T14:36:16.631Z"
      },
      {
        "duration": 66,
        "start_time": "2022-08-07T14:36:16.717Z"
      },
      {
        "duration": 47,
        "start_time": "2022-08-07T14:36:16.784Z"
      },
      {
        "duration": 9,
        "start_time": "2022-08-07T14:36:16.832Z"
      },
      {
        "duration": 35,
        "start_time": "2022-08-07T14:36:16.857Z"
      },
      {
        "duration": 9,
        "start_time": "2022-08-07T14:36:16.893Z"
      },
      {
        "duration": 8,
        "start_time": "2022-08-07T14:36:16.904Z"
      },
      {
        "duration": 3,
        "start_time": "2022-08-07T14:36:16.914Z"
      },
      {
        "duration": 18,
        "start_time": "2022-08-07T14:36:16.919Z"
      },
      {
        "duration": 15,
        "start_time": "2022-08-07T14:36:16.954Z"
      },
      {
        "duration": 18,
        "start_time": "2022-08-07T14:36:16.971Z"
      },
      {
        "duration": 12,
        "start_time": "2022-08-07T14:36:16.991Z"
      },
      {
        "duration": 20,
        "start_time": "2022-08-07T14:36:17.011Z"
      },
      {
        "duration": 12,
        "start_time": "2022-08-07T14:36:17.032Z"
      },
      {
        "duration": 13,
        "start_time": "2022-08-07T14:36:17.056Z"
      },
      {
        "duration": 10,
        "start_time": "2022-08-07T14:36:17.072Z"
      },
      {
        "duration": 8,
        "start_time": "2022-08-07T14:36:17.084Z"
      },
      {
        "duration": 9,
        "start_time": "2022-08-07T14:36:17.093Z"
      },
      {
        "duration": 17,
        "start_time": "2022-08-07T14:36:17.103Z"
      },
      {
        "duration": 15,
        "start_time": "2022-08-07T14:36:17.121Z"
      },
      {
        "duration": 33,
        "start_time": "2022-08-07T14:36:17.137Z"
      },
      {
        "duration": 12,
        "start_time": "2022-08-07T14:36:17.171Z"
      },
      {
        "duration": 2,
        "start_time": "2022-08-07T14:36:17.184Z"
      },
      {
        "duration": 7,
        "start_time": "2022-08-07T14:36:17.187Z"
      },
      {
        "duration": 5,
        "start_time": "2022-08-07T14:36:17.195Z"
      },
      {
        "duration": 5,
        "start_time": "2022-08-07T14:36:17.202Z"
      },
      {
        "duration": 15,
        "start_time": "2022-08-07T14:37:09.262Z"
      },
      {
        "duration": 4,
        "start_time": "2022-08-07T15:03:22.189Z"
      },
      {
        "duration": 70,
        "start_time": "2022-08-07T15:10:13.650Z"
      },
      {
        "duration": 16,
        "start_time": "2022-08-07T15:18:11.072Z"
      },
      {
        "duration": 8,
        "start_time": "2022-08-07T15:26:05.049Z"
      },
      {
        "duration": 383,
        "start_time": "2022-08-07T15:26:11.063Z"
      },
      {
        "duration": 152,
        "start_time": "2022-08-07T15:26:11.448Z"
      },
      {
        "duration": 16,
        "start_time": "2022-08-07T15:26:11.602Z"
      },
      {
        "duration": 28,
        "start_time": "2022-08-07T15:26:11.619Z"
      },
      {
        "duration": 2,
        "start_time": "2022-08-07T15:26:11.654Z"
      },
      {
        "duration": 20,
        "start_time": "2022-08-07T15:26:11.660Z"
      },
      {
        "duration": 15,
        "start_time": "2022-08-07T15:26:11.681Z"
      },
      {
        "duration": 6,
        "start_time": "2022-08-07T15:26:11.698Z"
      },
      {
        "duration": 26,
        "start_time": "2022-08-07T15:26:11.705Z"
      },
      {
        "duration": 17,
        "start_time": "2022-08-07T15:26:11.732Z"
      },
      {
        "duration": 26,
        "start_time": "2022-08-07T15:26:11.750Z"
      },
      {
        "duration": 56,
        "start_time": "2022-08-07T15:26:11.777Z"
      },
      {
        "duration": 81,
        "start_time": "2022-08-07T15:26:11.834Z"
      },
      {
        "duration": 52,
        "start_time": "2022-08-07T15:26:11.918Z"
      },
      {
        "duration": 34,
        "start_time": "2022-08-07T15:26:11.972Z"
      },
      {
        "duration": 8,
        "start_time": "2022-08-07T15:26:12.007Z"
      },
      {
        "duration": 54,
        "start_time": "2022-08-07T15:26:12.017Z"
      },
      {
        "duration": 10,
        "start_time": "2022-08-07T15:26:12.072Z"
      },
      {
        "duration": 10,
        "start_time": "2022-08-07T15:26:12.083Z"
      },
      {
        "duration": 3,
        "start_time": "2022-08-07T15:26:12.094Z"
      },
      {
        "duration": 18,
        "start_time": "2022-08-07T15:26:12.099Z"
      },
      {
        "duration": 11,
        "start_time": "2022-08-07T15:26:12.118Z"
      },
      {
        "duration": 43,
        "start_time": "2022-08-07T15:26:12.130Z"
      },
      {
        "duration": 13,
        "start_time": "2022-08-07T15:26:12.174Z"
      },
      {
        "duration": 13,
        "start_time": "2022-08-07T15:26:12.189Z"
      },
      {
        "duration": 12,
        "start_time": "2022-08-07T15:26:12.204Z"
      },
      {
        "duration": 8,
        "start_time": "2022-08-07T15:26:12.217Z"
      },
      {
        "duration": 41,
        "start_time": "2022-08-07T15:26:12.227Z"
      },
      {
        "duration": 17,
        "start_time": "2022-08-07T15:26:12.269Z"
      },
      {
        "duration": 4,
        "start_time": "2022-08-07T15:26:12.287Z"
      },
      {
        "duration": 20,
        "start_time": "2022-08-07T15:26:12.293Z"
      },
      {
        "duration": 9,
        "start_time": "2022-08-07T15:26:12.314Z"
      },
      {
        "duration": 13,
        "start_time": "2022-08-07T15:26:12.325Z"
      },
      {
        "duration": 13,
        "start_time": "2022-08-07T15:26:12.359Z"
      },
      {
        "duration": 62,
        "start_time": "2022-08-07T15:26:12.375Z"
      },
      {
        "duration": 0,
        "start_time": "2022-08-07T15:26:12.438Z"
      },
      {
        "duration": 0,
        "start_time": "2022-08-07T15:26:12.440Z"
      },
      {
        "duration": 0,
        "start_time": "2022-08-07T15:26:12.441Z"
      },
      {
        "duration": 8,
        "start_time": "2022-08-07T15:26:56.343Z"
      },
      {
        "duration": 405,
        "start_time": "2022-08-07T15:30:26.500Z"
      },
      {
        "duration": 169,
        "start_time": "2022-08-07T15:30:26.907Z"
      },
      {
        "duration": 16,
        "start_time": "2022-08-07T15:30:27.077Z"
      },
      {
        "duration": 27,
        "start_time": "2022-08-07T15:30:27.096Z"
      },
      {
        "duration": 2,
        "start_time": "2022-08-07T15:30:27.125Z"
      },
      {
        "duration": 32,
        "start_time": "2022-08-07T15:30:27.128Z"
      },
      {
        "duration": 12,
        "start_time": "2022-08-07T15:30:27.162Z"
      },
      {
        "duration": 6,
        "start_time": "2022-08-07T15:30:27.176Z"
      },
      {
        "duration": 22,
        "start_time": "2022-08-07T15:30:27.184Z"
      },
      {
        "duration": 16,
        "start_time": "2022-08-07T15:30:27.208Z"
      },
      {
        "duration": 43,
        "start_time": "2022-08-07T15:30:27.226Z"
      },
      {
        "duration": 70,
        "start_time": "2022-08-07T15:30:27.276Z"
      },
      {
        "duration": 108,
        "start_time": "2022-08-07T15:30:27.348Z"
      },
      {
        "duration": 62,
        "start_time": "2022-08-07T15:30:27.459Z"
      },
      {
        "duration": 67,
        "start_time": "2022-08-07T15:30:27.522Z"
      },
      {
        "duration": 15,
        "start_time": "2022-08-07T15:30:27.591Z"
      },
      {
        "duration": 52,
        "start_time": "2022-08-07T15:30:27.608Z"
      },
      {
        "duration": 12,
        "start_time": "2022-08-07T15:30:27.664Z"
      },
      {
        "duration": 9,
        "start_time": "2022-08-07T15:30:27.678Z"
      },
      {
        "duration": 4,
        "start_time": "2022-08-07T15:30:27.688Z"
      },
      {
        "duration": 18,
        "start_time": "2022-08-07T15:30:27.693Z"
      },
      {
        "duration": 12,
        "start_time": "2022-08-07T15:30:27.712Z"
      },
      {
        "duration": 36,
        "start_time": "2022-08-07T15:30:27.725Z"
      },
      {
        "duration": 20,
        "start_time": "2022-08-07T15:30:27.762Z"
      },
      {
        "duration": 27,
        "start_time": "2022-08-07T15:30:27.792Z"
      },
      {
        "duration": 17,
        "start_time": "2022-08-07T15:30:27.823Z"
      },
      {
        "duration": 17,
        "start_time": "2022-08-07T15:30:27.841Z"
      },
      {
        "duration": 21,
        "start_time": "2022-08-07T15:30:27.864Z"
      },
      {
        "duration": 9,
        "start_time": "2022-08-07T15:30:27.887Z"
      },
      {
        "duration": 14,
        "start_time": "2022-08-07T15:30:27.897Z"
      },
      {
        "duration": 20,
        "start_time": "2022-08-07T15:30:27.913Z"
      },
      {
        "duration": 9,
        "start_time": "2022-08-07T15:30:27.935Z"
      },
      {
        "duration": 22,
        "start_time": "2022-08-07T15:30:27.945Z"
      },
      {
        "duration": 12,
        "start_time": "2022-08-07T15:30:27.968Z"
      },
      {
        "duration": 59,
        "start_time": "2022-08-07T15:30:27.981Z"
      },
      {
        "duration": 0,
        "start_time": "2022-08-07T15:30:28.042Z"
      },
      {
        "duration": 0,
        "start_time": "2022-08-07T15:30:28.042Z"
      },
      {
        "duration": 0,
        "start_time": "2022-08-07T15:30:28.043Z"
      },
      {
        "duration": 8,
        "start_time": "2022-08-07T15:33:05.074Z"
      },
      {
        "duration": 8,
        "start_time": "2022-08-07T15:33:15.732Z"
      },
      {
        "duration": 70,
        "start_time": "2022-08-07T15:43:43.483Z"
      },
      {
        "duration": 9,
        "start_time": "2022-08-07T15:44:19.939Z"
      },
      {
        "duration": 47,
        "start_time": "2022-08-07T15:44:33.180Z"
      },
      {
        "duration": 50,
        "start_time": "2022-08-07T15:45:18.715Z"
      },
      {
        "duration": 12,
        "start_time": "2022-08-07T15:47:42.080Z"
      },
      {
        "duration": 5,
        "start_time": "2022-08-07T15:48:28.455Z"
      },
      {
        "duration": 3,
        "start_time": "2022-08-07T15:50:46.545Z"
      },
      {
        "duration": 8,
        "start_time": "2022-08-07T15:51:24.569Z"
      },
      {
        "duration": 3,
        "start_time": "2022-08-07T15:51:39.420Z"
      },
      {
        "duration": 6,
        "start_time": "2022-08-07T15:51:49.565Z"
      },
      {
        "duration": 7,
        "start_time": "2022-08-07T16:05:20.078Z"
      },
      {
        "duration": 4,
        "start_time": "2022-08-07T16:05:28.959Z"
      },
      {
        "duration": 8,
        "start_time": "2022-08-07T16:05:40.785Z"
      },
      {
        "duration": 24,
        "start_time": "2022-08-07T16:06:12.495Z"
      },
      {
        "duration": 4,
        "start_time": "2022-08-07T16:16:00.716Z"
      },
      {
        "duration": 9,
        "start_time": "2022-08-07T16:17:47.829Z"
      },
      {
        "duration": 4,
        "start_time": "2022-08-07T16:18:09.742Z"
      },
      {
        "duration": 17,
        "start_time": "2022-08-07T16:19:28.355Z"
      },
      {
        "duration": 13,
        "start_time": "2022-08-07T16:19:35.113Z"
      },
      {
        "duration": 13,
        "start_time": "2022-08-07T16:20:26.313Z"
      },
      {
        "duration": 5,
        "start_time": "2022-08-07T16:20:49.409Z"
      },
      {
        "duration": 8,
        "start_time": "2022-08-07T16:37:49.289Z"
      },
      {
        "duration": 6,
        "start_time": "2022-08-07T16:38:18.446Z"
      },
      {
        "duration": 4,
        "start_time": "2022-08-07T16:38:33.876Z"
      },
      {
        "duration": 374,
        "start_time": "2022-08-07T16:38:57.365Z"
      },
      {
        "duration": 165,
        "start_time": "2022-08-07T16:38:57.741Z"
      },
      {
        "duration": 16,
        "start_time": "2022-08-07T16:38:57.908Z"
      },
      {
        "duration": 34,
        "start_time": "2022-08-07T16:38:57.926Z"
      },
      {
        "duration": 3,
        "start_time": "2022-08-07T16:38:57.967Z"
      },
      {
        "duration": 8,
        "start_time": "2022-08-07T16:38:57.971Z"
      },
      {
        "duration": 11,
        "start_time": "2022-08-07T16:38:57.980Z"
      },
      {
        "duration": 5,
        "start_time": "2022-08-07T16:38:57.992Z"
      },
      {
        "duration": 23,
        "start_time": "2022-08-07T16:38:57.999Z"
      },
      {
        "duration": 34,
        "start_time": "2022-08-07T16:38:58.024Z"
      },
      {
        "duration": 23,
        "start_time": "2022-08-07T16:38:58.064Z"
      },
      {
        "duration": 74,
        "start_time": "2022-08-07T16:38:58.089Z"
      },
      {
        "duration": 70,
        "start_time": "2022-08-07T16:38:58.166Z"
      },
      {
        "duration": 64,
        "start_time": "2022-08-07T16:38:58.239Z"
      },
      {
        "duration": 51,
        "start_time": "2022-08-07T16:38:58.305Z"
      },
      {
        "duration": 15,
        "start_time": "2022-08-07T16:38:58.360Z"
      },
      {
        "duration": 46,
        "start_time": "2022-08-07T16:38:58.376Z"
      },
      {
        "duration": 21,
        "start_time": "2022-08-07T16:38:58.424Z"
      },
      {
        "duration": 24,
        "start_time": "2022-08-07T16:38:58.447Z"
      },
      {
        "duration": 4,
        "start_time": "2022-08-07T16:38:58.472Z"
      },
      {
        "duration": 18,
        "start_time": "2022-08-07T16:38:58.477Z"
      },
      {
        "duration": 11,
        "start_time": "2022-08-07T16:38:58.497Z"
      },
      {
        "duration": 13,
        "start_time": "2022-08-07T16:38:58.510Z"
      },
      {
        "duration": 10,
        "start_time": "2022-08-07T16:38:58.525Z"
      },
      {
        "duration": 36,
        "start_time": "2022-08-07T16:38:58.537Z"
      },
      {
        "duration": 16,
        "start_time": "2022-08-07T16:38:58.575Z"
      },
      {
        "duration": 8,
        "start_time": "2022-08-07T16:38:58.592Z"
      },
      {
        "duration": 15,
        "start_time": "2022-08-07T16:38:58.601Z"
      },
      {
        "duration": 8,
        "start_time": "2022-08-07T16:38:58.618Z"
      },
      {
        "duration": 4,
        "start_time": "2022-08-07T16:38:58.627Z"
      },
      {
        "duration": 22,
        "start_time": "2022-08-07T16:38:58.656Z"
      },
      {
        "duration": 9,
        "start_time": "2022-08-07T16:38:58.680Z"
      },
      {
        "duration": 15,
        "start_time": "2022-08-07T16:38:58.691Z"
      },
      {
        "duration": 11,
        "start_time": "2022-08-07T16:38:58.707Z"
      },
      {
        "duration": 9,
        "start_time": "2022-08-07T16:38:58.719Z"
      },
      {
        "duration": 33,
        "start_time": "2022-08-07T16:38:58.729Z"
      },
      {
        "duration": 17,
        "start_time": "2022-08-07T16:38:58.763Z"
      },
      {
        "duration": 3,
        "start_time": "2022-08-07T16:38:58.782Z"
      },
      {
        "duration": 2,
        "start_time": "2022-08-07T16:39:48.924Z"
      },
      {
        "duration": 16,
        "start_time": "2022-08-07T16:41:32.655Z"
      },
      {
        "duration": 385,
        "start_time": "2022-08-07T16:43:35.896Z"
      },
      {
        "duration": 175,
        "start_time": "2022-08-07T16:43:36.283Z"
      },
      {
        "duration": 20,
        "start_time": "2022-08-07T16:43:36.464Z"
      },
      {
        "duration": 42,
        "start_time": "2022-08-07T16:43:36.486Z"
      },
      {
        "duration": 2,
        "start_time": "2022-08-07T16:43:36.530Z"
      },
      {
        "duration": 20,
        "start_time": "2022-08-07T16:43:36.534Z"
      },
      {
        "duration": 37,
        "start_time": "2022-08-07T16:43:36.556Z"
      },
      {
        "duration": 34,
        "start_time": "2022-08-07T16:43:36.595Z"
      },
      {
        "duration": 70,
        "start_time": "2022-08-07T16:43:36.630Z"
      },
      {
        "duration": 30,
        "start_time": "2022-08-07T16:43:36.701Z"
      },
      {
        "duration": 46,
        "start_time": "2022-08-07T16:43:36.733Z"
      },
      {
        "duration": 105,
        "start_time": "2022-08-07T16:43:36.792Z"
      },
      {
        "duration": 87,
        "start_time": "2022-08-07T16:43:36.899Z"
      },
      {
        "duration": 85,
        "start_time": "2022-08-07T16:43:36.990Z"
      },
      {
        "duration": 36,
        "start_time": "2022-08-07T16:43:37.077Z"
      },
      {
        "duration": 12,
        "start_time": "2022-08-07T16:43:37.114Z"
      },
      {
        "duration": 73,
        "start_time": "2022-08-07T16:43:37.128Z"
      },
      {
        "duration": 11,
        "start_time": "2022-08-07T16:43:37.203Z"
      },
      {
        "duration": 27,
        "start_time": "2022-08-07T16:43:37.216Z"
      },
      {
        "duration": 13,
        "start_time": "2022-08-07T16:43:37.245Z"
      },
      {
        "duration": 71,
        "start_time": "2022-08-07T16:43:37.260Z"
      },
      {
        "duration": 42,
        "start_time": "2022-08-07T16:43:37.333Z"
      },
      {
        "duration": 50,
        "start_time": "2022-08-07T16:43:37.377Z"
      },
      {
        "duration": 31,
        "start_time": "2022-08-07T16:43:37.429Z"
      },
      {
        "duration": 51,
        "start_time": "2022-08-07T16:43:37.464Z"
      },
      {
        "duration": 40,
        "start_time": "2022-08-07T16:43:37.518Z"
      },
      {
        "duration": 40,
        "start_time": "2022-08-07T16:43:37.562Z"
      },
      {
        "duration": 33,
        "start_time": "2022-08-07T16:43:37.604Z"
      },
      {
        "duration": 25,
        "start_time": "2022-08-07T16:43:37.639Z"
      },
      {
        "duration": 21,
        "start_time": "2022-08-07T16:43:37.666Z"
      },
      {
        "duration": 38,
        "start_time": "2022-08-07T16:43:37.689Z"
      },
      {
        "duration": 23,
        "start_time": "2022-08-07T16:43:37.729Z"
      },
      {
        "duration": 39,
        "start_time": "2022-08-07T16:43:37.753Z"
      },
      {
        "duration": 21,
        "start_time": "2022-08-07T16:43:37.794Z"
      },
      {
        "duration": 23,
        "start_time": "2022-08-07T16:43:37.816Z"
      },
      {
        "duration": 16,
        "start_time": "2022-08-07T16:43:37.841Z"
      },
      {
        "duration": 32,
        "start_time": "2022-08-07T16:43:37.859Z"
      },
      {
        "duration": 24,
        "start_time": "2022-08-07T16:43:37.894Z"
      },
      {
        "duration": 73,
        "start_time": "2022-08-07T16:44:10.138Z"
      },
      {
        "duration": 7,
        "start_time": "2022-08-07T16:44:14.201Z"
      },
      {
        "duration": 9,
        "start_time": "2022-08-07T16:44:26.963Z"
      },
      {
        "duration": 23,
        "start_time": "2022-08-07T16:45:57.453Z"
      },
      {
        "duration": 9,
        "start_time": "2022-08-07T16:46:51.417Z"
      },
      {
        "duration": 5,
        "start_time": "2022-08-07T16:46:53.403Z"
      },
      {
        "duration": 7,
        "start_time": "2022-08-07T16:47:29.908Z"
      },
      {
        "duration": 5,
        "start_time": "2022-08-07T16:47:56.693Z"
      },
      {
        "duration": 1124,
        "start_time": "2022-12-14T17:38:08.419Z"
      },
      {
        "duration": 221,
        "start_time": "2022-12-14T17:38:28.920Z"
      },
      {
        "duration": 8,
        "start_time": "2022-12-14T17:38:59.800Z"
      },
      {
        "duration": 13,
        "start_time": "2022-12-14T17:39:07.480Z"
      },
      {
        "duration": 10,
        "start_time": "2022-12-14T17:39:21.841Z"
      },
      {
        "duration": 7,
        "start_time": "2022-12-14T17:39:55.802Z"
      },
      {
        "duration": 4,
        "start_time": "2022-12-14T17:40:08.264Z"
      },
      {
        "duration": 4,
        "start_time": "2022-12-14T17:40:25.399Z"
      },
      {
        "duration": 4,
        "start_time": "2022-12-14T17:40:59.368Z"
      },
      {
        "duration": 8,
        "start_time": "2022-12-14T17:41:06.623Z"
      },
      {
        "duration": 6,
        "start_time": "2022-12-14T17:41:52.656Z"
      },
      {
        "duration": 4,
        "start_time": "2022-12-14T17:42:17.543Z"
      },
      {
        "duration": 11,
        "start_time": "2022-12-14T17:43:56.111Z"
      },
      {
        "duration": 5,
        "start_time": "2022-12-14T17:44:16.823Z"
      },
      {
        "duration": 5,
        "start_time": "2022-12-14T17:44:31.900Z"
      },
      {
        "duration": 9,
        "start_time": "2022-12-14T17:44:46.775Z"
      },
      {
        "duration": 13,
        "start_time": "2022-12-14T17:45:43.864Z"
      },
      {
        "duration": 6,
        "start_time": "2022-12-14T17:46:00.993Z"
      },
      {
        "duration": 4,
        "start_time": "2022-12-14T17:46:08.447Z"
      },
      {
        "duration": 4,
        "start_time": "2022-12-14T17:46:25.880Z"
      },
      {
        "duration": 224,
        "start_time": "2022-12-14T17:47:18.023Z"
      },
      {
        "duration": 8,
        "start_time": "2022-12-14T17:49:00.969Z"
      },
      {
        "duration": 81,
        "start_time": "2022-12-14T17:49:12.262Z"
      },
      {
        "duration": 7,
        "start_time": "2022-12-14T17:49:19.134Z"
      },
      {
        "duration": 52,
        "start_time": "2022-12-15T13:00:23.051Z"
      },
      {
        "duration": 492,
        "start_time": "2022-12-15T13:00:28.709Z"
      },
      {
        "duration": 473,
        "start_time": "2022-12-15T13:00:29.203Z"
      },
      {
        "duration": 17,
        "start_time": "2022-12-15T13:00:29.677Z"
      },
      {
        "duration": 46,
        "start_time": "2022-12-15T13:00:29.695Z"
      },
      {
        "duration": 3,
        "start_time": "2022-12-15T13:00:29.743Z"
      },
      {
        "duration": 15,
        "start_time": "2022-12-15T13:00:29.747Z"
      },
      {
        "duration": 13,
        "start_time": "2022-12-15T13:00:29.764Z"
      },
      {
        "duration": 16,
        "start_time": "2022-12-15T13:00:29.778Z"
      },
      {
        "duration": 34,
        "start_time": "2022-12-15T13:00:29.795Z"
      },
      {
        "duration": 31,
        "start_time": "2022-12-15T13:00:29.830Z"
      },
      {
        "duration": 28,
        "start_time": "2022-12-15T13:00:29.863Z"
      },
      {
        "duration": 72,
        "start_time": "2022-12-15T13:00:29.893Z"
      },
      {
        "duration": 95,
        "start_time": "2022-12-15T13:00:29.966Z"
      },
      {
        "duration": 70,
        "start_time": "2022-12-15T13:00:30.066Z"
      },
      {
        "duration": 53,
        "start_time": "2022-12-15T13:00:30.138Z"
      },
      {
        "duration": 22,
        "start_time": "2022-12-15T13:00:30.193Z"
      },
      {
        "duration": 46,
        "start_time": "2022-12-15T13:00:30.217Z"
      },
      {
        "duration": 12,
        "start_time": "2022-12-15T13:00:30.264Z"
      },
      {
        "duration": 57,
        "start_time": "2022-12-15T13:00:30.277Z"
      },
      {
        "duration": 18,
        "start_time": "2022-12-15T13:00:30.336Z"
      },
      {
        "duration": 31,
        "start_time": "2022-12-15T13:00:30.356Z"
      },
      {
        "duration": 46,
        "start_time": "2022-12-15T13:00:30.388Z"
      },
      {
        "duration": 62,
        "start_time": "2022-12-15T13:00:30.435Z"
      },
      {
        "duration": 55,
        "start_time": "2022-12-15T13:00:30.499Z"
      },
      {
        "duration": 40,
        "start_time": "2022-12-15T13:00:30.555Z"
      },
      {
        "duration": 31,
        "start_time": "2022-12-15T13:00:30.597Z"
      },
      {
        "duration": 22,
        "start_time": "2022-12-15T13:00:30.629Z"
      },
      {
        "duration": 20,
        "start_time": "2022-12-15T13:00:30.653Z"
      },
      {
        "duration": 33,
        "start_time": "2022-12-15T13:00:30.675Z"
      },
      {
        "duration": 24,
        "start_time": "2022-12-15T13:00:30.710Z"
      },
      {
        "duration": 98,
        "start_time": "2022-12-15T13:00:30.736Z"
      },
      {
        "duration": 18,
        "start_time": "2022-12-15T13:00:30.836Z"
      },
      {
        "duration": 47,
        "start_time": "2022-12-15T13:00:30.856Z"
      },
      {
        "duration": 28,
        "start_time": "2022-12-15T13:00:30.904Z"
      },
      {
        "duration": 35,
        "start_time": "2022-12-15T13:00:30.933Z"
      },
      {
        "duration": 31,
        "start_time": "2022-12-15T13:00:30.969Z"
      },
      {
        "duration": 31,
        "start_time": "2022-12-15T13:00:31.002Z"
      },
      {
        "duration": 45,
        "start_time": "2022-12-15T13:00:31.035Z"
      },
      {
        "duration": 739,
        "start_time": "2022-12-15T13:00:31.082Z"
      },
      {
        "duration": 5,
        "start_time": "2022-12-15T13:00:31.823Z"
      },
      {
        "duration": 25,
        "start_time": "2022-12-15T13:00:31.831Z"
      },
      {
        "duration": 7,
        "start_time": "2022-12-15T13:00:31.858Z"
      },
      {
        "duration": 10,
        "start_time": "2022-12-15T13:00:31.866Z"
      },
      {
        "duration": 10,
        "start_time": "2022-12-15T13:00:31.878Z"
      },
      {
        "duration": 15,
        "start_time": "2022-12-15T13:00:31.890Z"
      },
      {
        "duration": 7,
        "start_time": "2022-12-15T13:00:31.907Z"
      },
      {
        "duration": 6,
        "start_time": "2022-12-15T13:04:26.747Z"
      },
      {
        "duration": 7,
        "start_time": "2022-12-15T13:04:36.810Z"
      },
      {
        "duration": 5,
        "start_time": "2022-12-15T13:04:42.237Z"
      },
      {
        "duration": 4,
        "start_time": "2022-12-15T13:05:18.818Z"
      },
      {
        "duration": 4,
        "start_time": "2022-12-15T13:05:21.418Z"
      },
      {
        "duration": 5,
        "start_time": "2022-12-15T13:05:30.978Z"
      },
      {
        "duration": 4,
        "start_time": "2022-12-15T13:05:32.994Z"
      },
      {
        "duration": 403,
        "start_time": "2022-12-15T13:37:01.352Z"
      },
      {
        "duration": 172,
        "start_time": "2022-12-15T13:37:01.757Z"
      },
      {
        "duration": 17,
        "start_time": "2022-12-15T13:37:01.930Z"
      },
      {
        "duration": 56,
        "start_time": "2022-12-15T13:37:01.949Z"
      },
      {
        "duration": 2,
        "start_time": "2022-12-15T13:37:02.007Z"
      },
      {
        "duration": 15,
        "start_time": "2022-12-15T13:37:02.010Z"
      },
      {
        "duration": 17,
        "start_time": "2022-12-15T13:37:02.027Z"
      },
      {
        "duration": 9,
        "start_time": "2022-12-15T13:37:02.046Z"
      },
      {
        "duration": 32,
        "start_time": "2022-12-15T13:37:02.056Z"
      },
      {
        "duration": 23,
        "start_time": "2022-12-15T13:37:02.090Z"
      },
      {
        "duration": 27,
        "start_time": "2022-12-15T13:37:02.114Z"
      },
      {
        "duration": 86,
        "start_time": "2022-12-15T13:37:02.142Z"
      },
      {
        "duration": 87,
        "start_time": "2022-12-15T13:37:02.230Z"
      },
      {
        "duration": 69,
        "start_time": "2022-12-15T13:37:02.321Z"
      },
      {
        "duration": 52,
        "start_time": "2022-12-15T13:37:02.391Z"
      },
      {
        "duration": 14,
        "start_time": "2022-12-15T13:37:02.445Z"
      },
      {
        "duration": 57,
        "start_time": "2022-12-15T13:37:02.461Z"
      },
      {
        "duration": 12,
        "start_time": "2022-12-15T13:37:02.520Z"
      },
      {
        "duration": 14,
        "start_time": "2022-12-15T13:37:02.534Z"
      },
      {
        "duration": 5,
        "start_time": "2022-12-15T13:37:02.550Z"
      },
      {
        "duration": 28,
        "start_time": "2022-12-15T13:37:02.556Z"
      },
      {
        "duration": 30,
        "start_time": "2022-12-15T13:37:02.586Z"
      },
      {
        "duration": 20,
        "start_time": "2022-12-15T13:37:02.617Z"
      },
      {
        "duration": 14,
        "start_time": "2022-12-15T13:37:02.639Z"
      },
      {
        "duration": 16,
        "start_time": "2022-12-15T13:37:02.654Z"
      },
      {
        "duration": 37,
        "start_time": "2022-12-15T13:37:02.672Z"
      },
      {
        "duration": 8,
        "start_time": "2022-12-15T13:37:02.711Z"
      },
      {
        "duration": 14,
        "start_time": "2022-12-15T13:37:02.720Z"
      },
      {
        "duration": 10,
        "start_time": "2022-12-15T13:37:02.735Z"
      },
      {
        "duration": 5,
        "start_time": "2022-12-15T13:37:02.746Z"
      },
      {
        "duration": 25,
        "start_time": "2022-12-15T13:37:02.753Z"
      },
      {
        "duration": 34,
        "start_time": "2022-12-15T13:37:02.779Z"
      },
      {
        "duration": 19,
        "start_time": "2022-12-15T13:37:02.815Z"
      },
      {
        "duration": 12,
        "start_time": "2022-12-15T13:37:02.835Z"
      },
      {
        "duration": 9,
        "start_time": "2022-12-15T13:37:02.848Z"
      },
      {
        "duration": 4,
        "start_time": "2022-12-15T13:37:02.859Z"
      },
      {
        "duration": 6,
        "start_time": "2022-12-15T13:37:02.905Z"
      },
      {
        "duration": 7,
        "start_time": "2022-12-15T13:37:02.913Z"
      },
      {
        "duration": 754,
        "start_time": "2022-12-15T13:37:02.922Z"
      },
      {
        "duration": 5,
        "start_time": "2022-12-15T13:37:03.678Z"
      },
      {
        "duration": 23,
        "start_time": "2022-12-15T13:37:03.686Z"
      },
      {
        "duration": 5,
        "start_time": "2022-12-15T13:37:03.711Z"
      },
      {
        "duration": 9,
        "start_time": "2022-12-15T13:37:03.717Z"
      },
      {
        "duration": 12,
        "start_time": "2022-12-15T13:37:03.727Z"
      },
      {
        "duration": 11,
        "start_time": "2022-12-15T13:37:03.741Z"
      },
      {
        "duration": 10,
        "start_time": "2022-12-15T13:37:03.754Z"
      },
      {
        "duration": 7,
        "start_time": "2022-12-15T13:37:03.766Z"
      },
      {
        "duration": 32,
        "start_time": "2022-12-15T13:37:03.775Z"
      },
      {
        "duration": 6,
        "start_time": "2022-12-15T13:37:03.809Z"
      },
      {
        "duration": 549,
        "start_time": "2022-12-15T13:37:07.874Z"
      },
      {
        "duration": 418,
        "start_time": "2022-12-15T13:37:13.921Z"
      },
      {
        "duration": 355,
        "start_time": "2022-12-15T13:37:33.609Z"
      },
      {
        "duration": 8,
        "start_time": "2022-12-15T13:42:16.803Z"
      },
      {
        "duration": 8,
        "start_time": "2022-12-15T13:42:29.296Z"
      },
      {
        "duration": 1206,
        "start_time": "2022-12-17T14:37:03.182Z"
      },
      {
        "duration": 233,
        "start_time": "2022-12-17T14:38:14.812Z"
      },
      {
        "duration": 233,
        "start_time": "2022-12-17T14:38:56.172Z"
      },
      {
        "duration": 228,
        "start_time": "2022-12-17T14:50:21.419Z"
      },
      {
        "duration": 6,
        "start_time": "2022-12-17T14:51:41.129Z"
      },
      {
        "duration": 496,
        "start_time": "2022-12-19T11:58:48.092Z"
      },
      {
        "duration": 43,
        "start_time": "2022-12-19T11:58:53.766Z"
      },
      {
        "duration": 65,
        "start_time": "2022-12-19T11:59:05.020Z"
      },
      {
        "duration": 264,
        "start_time": "2022-12-19T11:59:17.467Z"
      },
      {
        "duration": 138,
        "start_time": "2022-12-19T11:59:19.609Z"
      },
      {
        "duration": 133,
        "start_time": "2022-12-19T12:12:35.147Z"
      },
      {
        "duration": 1170,
        "start_time": "2022-12-19T14:11:49.800Z"
      },
      {
        "duration": 14,
        "start_time": "2022-12-19T14:11:56.565Z"
      },
      {
        "duration": 7,
        "start_time": "2022-12-19T14:12:15.295Z"
      },
      {
        "duration": 83,
        "start_time": "2022-12-19T14:15:05.237Z"
      },
      {
        "duration": 5,
        "start_time": "2022-12-19T14:15:17.720Z"
      },
      {
        "duration": 437,
        "start_time": "2022-12-19T14:26:09.559Z"
      },
      {
        "duration": 11,
        "start_time": "2022-12-19T14:26:11.174Z"
      },
      {
        "duration": 5,
        "start_time": "2022-12-19T14:26:15.398Z"
      },
      {
        "duration": 5,
        "start_time": "2022-12-19T14:26:16.621Z"
      },
      {
        "duration": 8,
        "start_time": "2022-12-19T14:26:56.542Z"
      },
      {
        "duration": 7,
        "start_time": "2022-12-19T14:27:17.870Z"
      },
      {
        "duration": 6,
        "start_time": "2022-12-19T14:27:22.157Z"
      },
      {
        "duration": 4,
        "start_time": "2022-12-19T14:27:51.710Z"
      },
      {
        "duration": 8,
        "start_time": "2022-12-19T14:28:45.949Z"
      },
      {
        "duration": 8,
        "start_time": "2022-12-19T14:28:49.765Z"
      },
      {
        "duration": 47,
        "start_time": "2022-12-19T14:29:28.549Z"
      },
      {
        "duration": 33,
        "start_time": "2022-12-19T14:32:15.925Z"
      },
      {
        "duration": 141,
        "start_time": "2022-12-19T14:45:40.396Z"
      },
      {
        "duration": 179,
        "start_time": "2022-12-19T14:45:44.106Z"
      },
      {
        "duration": 10,
        "start_time": "2022-12-19T14:50:00.107Z"
      },
      {
        "duration": 9,
        "start_time": "2022-12-19T14:50:08.931Z"
      },
      {
        "duration": 3,
        "start_time": "2022-12-19T14:50:54.899Z"
      },
      {
        "duration": 11,
        "start_time": "2022-12-19T14:50:57.474Z"
      },
      {
        "duration": 11,
        "start_time": "2022-12-19T14:53:02.268Z"
      },
      {
        "duration": 4,
        "start_time": "2022-12-19T14:53:06.740Z"
      },
      {
        "duration": 13,
        "start_time": "2022-12-19T14:53:55.535Z"
      },
      {
        "duration": 3,
        "start_time": "2022-12-19T14:53:59.040Z"
      },
      {
        "duration": 5,
        "start_time": "2022-12-19T14:54:10.163Z"
      },
      {
        "duration": 114,
        "start_time": "2022-12-19T15:06:15.246Z"
      },
      {
        "duration": 7,
        "start_time": "2022-12-19T15:06:40.019Z"
      },
      {
        "duration": 5,
        "start_time": "2022-12-19T15:07:20.404Z"
      },
      {
        "duration": 8,
        "start_time": "2022-12-19T15:07:44.076Z"
      },
      {
        "duration": 6,
        "start_time": "2022-12-19T15:07:47.603Z"
      },
      {
        "duration": 8,
        "start_time": "2022-12-19T15:07:54.244Z"
      },
      {
        "duration": 11,
        "start_time": "2022-12-19T15:08:10.819Z"
      },
      {
        "duration": 12,
        "start_time": "2022-12-19T15:08:13.518Z"
      },
      {
        "duration": 13,
        "start_time": "2022-12-19T15:08:22.466Z"
      },
      {
        "duration": 14,
        "start_time": "2022-12-19T15:08:25.802Z"
      },
      {
        "duration": 5,
        "start_time": "2022-12-19T15:08:29.715Z"
      },
      {
        "duration": 9,
        "start_time": "2022-12-19T15:08:33.044Z"
      },
      {
        "duration": 460,
        "start_time": "2022-12-19T15:21:41.413Z"
      },
      {
        "duration": 461,
        "start_time": "2022-12-19T15:21:55.100Z"
      },
      {
        "duration": 473,
        "start_time": "2022-12-19T15:22:11.517Z"
      },
      {
        "duration": 5,
        "start_time": "2022-12-19T15:25:56.691Z"
      },
      {
        "duration": 5,
        "start_time": "2022-12-19T15:26:02.564Z"
      },
      {
        "duration": 11,
        "start_time": "2022-12-19T15:26:10.860Z"
      },
      {
        "duration": 23,
        "start_time": "2022-12-19T15:26:20.428Z"
      },
      {
        "duration": 4,
        "start_time": "2022-12-19T15:26:33.308Z"
      },
      {
        "duration": 13,
        "start_time": "2022-12-19T15:26:40.388Z"
      },
      {
        "duration": 5,
        "start_time": "2022-12-19T15:31:15.276Z"
      },
      {
        "duration": 12,
        "start_time": "2022-12-19T15:33:30.660Z"
      },
      {
        "duration": 6,
        "start_time": "2022-12-19T15:35:29.141Z"
      },
      {
        "duration": 6,
        "start_time": "2022-12-19T15:35:40.638Z"
      },
      {
        "duration": 5,
        "start_time": "2022-12-19T15:35:49.915Z"
      },
      {
        "duration": 7,
        "start_time": "2022-12-19T15:57:59.255Z"
      },
      {
        "duration": 92,
        "start_time": "2022-12-19T15:58:11.835Z"
      },
      {
        "duration": 10,
        "start_time": "2022-12-19T15:58:14.322Z"
      },
      {
        "duration": 6,
        "start_time": "2022-12-19T15:58:56.612Z"
      },
      {
        "duration": 6,
        "start_time": "2022-12-19T15:59:08.132Z"
      },
      {
        "duration": 10,
        "start_time": "2022-12-19T16:03:04.344Z"
      },
      {
        "duration": 500,
        "start_time": "2022-12-19T16:03:46.149Z"
      },
      {
        "duration": 454,
        "start_time": "2022-12-19T16:03:52.291Z"
      },
      {
        "duration": 447,
        "start_time": "2022-12-19T16:03:55.100Z"
      },
      {
        "duration": 516,
        "start_time": "2022-12-19T16:04:03.787Z"
      },
      {
        "duration": 477,
        "start_time": "2022-12-19T16:04:30.499Z"
      },
      {
        "duration": 466,
        "start_time": "2022-12-19T16:04:41.046Z"
      },
      {
        "duration": 14,
        "start_time": "2022-12-19T16:49:06.737Z"
      },
      {
        "duration": 359,
        "start_time": "2022-12-19T16:58:19.186Z"
      },
      {
        "duration": 18,
        "start_time": "2022-12-19T16:58:24.922Z"
      },
      {
        "duration": 471,
        "start_time": "2022-12-20T11:21:46.704Z"
      },
      {
        "duration": 467,
        "start_time": "2022-12-20T11:21:47.178Z"
      },
      {
        "duration": 19,
        "start_time": "2022-12-20T11:21:47.647Z"
      },
      {
        "duration": 39,
        "start_time": "2022-12-20T11:21:47.669Z"
      },
      {
        "duration": 3,
        "start_time": "2022-12-20T11:21:47.709Z"
      },
      {
        "duration": 12,
        "start_time": "2022-12-20T11:21:47.713Z"
      },
      {
        "duration": 12,
        "start_time": "2022-12-20T11:21:47.728Z"
      },
      {
        "duration": 10,
        "start_time": "2022-12-20T11:21:47.742Z"
      },
      {
        "duration": 27,
        "start_time": "2022-12-20T11:21:47.754Z"
      },
      {
        "duration": 44,
        "start_time": "2022-12-20T11:21:47.784Z"
      },
      {
        "duration": 25,
        "start_time": "2022-12-20T11:21:47.830Z"
      },
      {
        "duration": 90,
        "start_time": "2022-12-20T11:21:47.857Z"
      },
      {
        "duration": 90,
        "start_time": "2022-12-20T11:21:47.949Z"
      },
      {
        "duration": 64,
        "start_time": "2022-12-20T11:21:48.040Z"
      },
      {
        "duration": 45,
        "start_time": "2022-12-20T11:21:48.105Z"
      },
      {
        "duration": 10,
        "start_time": "2022-12-20T11:21:48.152Z"
      },
      {
        "duration": 35,
        "start_time": "2022-12-20T11:21:48.164Z"
      },
      {
        "duration": 31,
        "start_time": "2022-12-20T11:21:48.201Z"
      },
      {
        "duration": 11,
        "start_time": "2022-12-20T11:21:48.233Z"
      },
      {
        "duration": 4,
        "start_time": "2022-12-20T11:21:48.246Z"
      },
      {
        "duration": 25,
        "start_time": "2022-12-20T11:21:48.252Z"
      },
      {
        "duration": 14,
        "start_time": "2022-12-20T11:21:48.279Z"
      },
      {
        "duration": 15,
        "start_time": "2022-12-20T11:21:48.322Z"
      },
      {
        "duration": 14,
        "start_time": "2022-12-20T11:21:48.339Z"
      },
      {
        "duration": 16,
        "start_time": "2022-12-20T11:21:48.356Z"
      },
      {
        "duration": 16,
        "start_time": "2022-12-20T11:21:48.374Z"
      },
      {
        "duration": 10,
        "start_time": "2022-12-20T11:21:48.423Z"
      },
      {
        "duration": 11,
        "start_time": "2022-12-20T11:21:48.439Z"
      },
      {
        "duration": 10,
        "start_time": "2022-12-20T11:21:48.451Z"
      },
      {
        "duration": 7,
        "start_time": "2022-12-20T11:21:48.462Z"
      },
      {
        "duration": 51,
        "start_time": "2022-12-20T11:21:48.471Z"
      },
      {
        "duration": 12,
        "start_time": "2022-12-20T11:21:48.524Z"
      },
      {
        "duration": 19,
        "start_time": "2022-12-20T11:21:48.538Z"
      },
      {
        "duration": 13,
        "start_time": "2022-12-20T11:21:48.558Z"
      },
      {
        "duration": 9,
        "start_time": "2022-12-20T11:21:48.572Z"
      },
      {
        "duration": 5,
        "start_time": "2022-12-20T11:21:48.583Z"
      },
      {
        "duration": 7,
        "start_time": "2022-12-20T11:21:48.622Z"
      },
      {
        "duration": 16,
        "start_time": "2022-12-20T11:21:48.630Z"
      },
      {
        "duration": 820,
        "start_time": "2022-12-20T11:21:48.648Z"
      },
      {
        "duration": 4,
        "start_time": "2022-12-20T11:21:49.470Z"
      },
      {
        "duration": 17,
        "start_time": "2022-12-20T11:21:49.476Z"
      },
      {
        "duration": 11,
        "start_time": "2022-12-20T11:21:49.494Z"
      },
      {
        "duration": 8,
        "start_time": "2022-12-20T11:21:49.507Z"
      },
      {
        "duration": 9,
        "start_time": "2022-12-20T11:21:49.523Z"
      },
      {
        "duration": 9,
        "start_time": "2022-12-20T11:21:49.534Z"
      },
      {
        "duration": 8,
        "start_time": "2022-12-20T11:21:49.545Z"
      },
      {
        "duration": 12,
        "start_time": "2022-12-20T11:21:49.555Z"
      },
      {
        "duration": 12,
        "start_time": "2022-12-20T11:21:49.569Z"
      },
      {
        "duration": 7,
        "start_time": "2022-12-20T11:21:49.582Z"
      },
      {
        "duration": 592,
        "start_time": "2022-12-20T11:21:49.591Z"
      },
      {
        "duration": 7,
        "start_time": "2022-12-20T11:21:50.185Z"
      },
      {
        "duration": 16,
        "start_time": "2022-12-20T11:21:50.194Z"
      },
      {
        "duration": 215,
        "start_time": "2022-12-20T11:21:50.212Z"
      },
      {
        "duration": 5,
        "start_time": "2022-12-20T11:21:50.428Z"
      },
      {
        "duration": 275,
        "start_time": "2022-12-20T11:21:50.435Z"
      },
      {
        "duration": 161,
        "start_time": "2022-12-20T11:21:50.712Z"
      },
      {
        "duration": 140,
        "start_time": "2022-12-20T11:21:50.875Z"
      },
      {
        "duration": 414,
        "start_time": "2022-12-20T11:21:51.022Z"
      },
      {
        "duration": 6,
        "start_time": "2022-12-20T11:21:51.437Z"
      },
      {
        "duration": 8,
        "start_time": "2022-12-20T11:21:51.445Z"
      },
      {
        "duration": 8,
        "start_time": "2022-12-20T11:21:51.455Z"
      },
      {
        "duration": 10,
        "start_time": "2022-12-20T11:21:51.464Z"
      },
      {
        "duration": 16,
        "start_time": "2022-12-20T11:21:51.476Z"
      },
      {
        "duration": 30,
        "start_time": "2022-12-20T11:21:51.493Z"
      },
      {
        "duration": 19,
        "start_time": "2022-12-20T11:21:51.525Z"
      },
      {
        "duration": 110,
        "start_time": "2022-12-20T11:21:51.545Z"
      },
      {
        "duration": 0,
        "start_time": "2022-12-20T11:21:51.657Z"
      },
      {
        "duration": 0,
        "start_time": "2022-12-20T11:21:51.659Z"
      },
      {
        "duration": 0,
        "start_time": "2022-12-20T11:21:51.660Z"
      },
      {
        "duration": 0,
        "start_time": "2022-12-20T11:21:51.662Z"
      },
      {
        "duration": 0,
        "start_time": "2022-12-20T11:21:51.664Z"
      },
      {
        "duration": 0,
        "start_time": "2022-12-20T11:21:51.666Z"
      },
      {
        "duration": 0,
        "start_time": "2022-12-20T11:21:51.667Z"
      },
      {
        "duration": 0,
        "start_time": "2022-12-20T11:21:51.669Z"
      },
      {
        "duration": 0,
        "start_time": "2022-12-20T11:21:51.670Z"
      },
      {
        "duration": 0,
        "start_time": "2022-12-20T11:21:51.672Z"
      },
      {
        "duration": 0,
        "start_time": "2022-12-20T11:21:51.673Z"
      },
      {
        "duration": 0,
        "start_time": "2022-12-20T11:21:51.674Z"
      },
      {
        "duration": 0,
        "start_time": "2022-12-20T11:21:51.676Z"
      },
      {
        "duration": 3,
        "start_time": "2022-12-20T11:22:29.203Z"
      },
      {
        "duration": 89,
        "start_time": "2022-12-20T11:22:29.210Z"
      },
      {
        "duration": 191,
        "start_time": "2022-12-20T11:22:29.301Z"
      },
      {
        "duration": 9,
        "start_time": "2022-12-20T11:22:29.494Z"
      },
      {
        "duration": 63,
        "start_time": "2022-12-20T11:22:29.505Z"
      },
      {
        "duration": 42,
        "start_time": "2022-12-20T11:22:29.570Z"
      },
      {
        "duration": 65,
        "start_time": "2022-12-20T11:22:29.613Z"
      },
      {
        "duration": 40,
        "start_time": "2022-12-20T11:22:29.679Z"
      },
      {
        "duration": 43,
        "start_time": "2022-12-20T11:22:29.720Z"
      },
      {
        "duration": 53,
        "start_time": "2022-12-20T11:22:29.764Z"
      },
      {
        "duration": 37,
        "start_time": "2022-12-20T11:22:29.819Z"
      },
      {
        "duration": 70,
        "start_time": "2022-12-20T11:22:29.857Z"
      },
      {
        "duration": 375,
        "start_time": "2022-12-20T11:22:29.929Z"
      },
      {
        "duration": 24,
        "start_time": "2022-12-20T11:22:30.305Z"
      },
      {
        "duration": 479,
        "start_time": "2022-12-20T11:24:40.918Z"
      },
      {
        "duration": 9,
        "start_time": "2022-12-20T11:24:50.895Z"
      },
      {
        "duration": 290,
        "start_time": "2022-12-20T11:25:05.132Z"
      },
      {
        "duration": 19,
        "start_time": "2022-12-20T11:25:17.858Z"
      },
      {
        "duration": 14,
        "start_time": "2022-12-20T11:26:47.308Z"
      },
      {
        "duration": 432,
        "start_time": "2022-12-20T11:26:59.799Z"
      },
      {
        "duration": 181,
        "start_time": "2022-12-20T11:27:00.233Z"
      },
      {
        "duration": 21,
        "start_time": "2022-12-20T11:27:00.416Z"
      },
      {
        "duration": 68,
        "start_time": "2022-12-20T11:27:00.440Z"
      },
      {
        "duration": 18,
        "start_time": "2022-12-20T11:27:00.511Z"
      },
      {
        "duration": 42,
        "start_time": "2022-12-20T11:27:00.530Z"
      },
      {
        "duration": 31,
        "start_time": "2022-12-20T11:27:00.574Z"
      },
      {
        "duration": 21,
        "start_time": "2022-12-20T11:27:00.607Z"
      },
      {
        "duration": 46,
        "start_time": "2022-12-20T11:27:00.630Z"
      },
      {
        "duration": 31,
        "start_time": "2022-12-20T11:27:00.679Z"
      },
      {
        "duration": 26,
        "start_time": "2022-12-20T11:27:00.712Z"
      },
      {
        "duration": 102,
        "start_time": "2022-12-20T11:27:00.740Z"
      },
      {
        "duration": 95,
        "start_time": "2022-12-20T11:27:00.844Z"
      },
      {
        "duration": 90,
        "start_time": "2022-12-20T11:27:00.941Z"
      },
      {
        "duration": 40,
        "start_time": "2022-12-20T11:27:01.033Z"
      },
      {
        "duration": 14,
        "start_time": "2022-12-20T11:27:01.076Z"
      },
      {
        "duration": 79,
        "start_time": "2022-12-20T11:27:01.093Z"
      },
      {
        "duration": 18,
        "start_time": "2022-12-20T11:27:01.174Z"
      },
      {
        "duration": 34,
        "start_time": "2022-12-20T11:27:01.195Z"
      },
      {
        "duration": 27,
        "start_time": "2022-12-20T11:27:01.231Z"
      },
      {
        "duration": 77,
        "start_time": "2022-12-20T11:27:01.259Z"
      },
      {
        "duration": 44,
        "start_time": "2022-12-20T11:27:01.338Z"
      },
      {
        "duration": 66,
        "start_time": "2022-12-20T11:27:01.384Z"
      },
      {
        "duration": 21,
        "start_time": "2022-12-20T11:27:01.451Z"
      },
      {
        "duration": 32,
        "start_time": "2022-12-20T11:27:01.474Z"
      },
      {
        "duration": 34,
        "start_time": "2022-12-20T11:27:01.508Z"
      },
      {
        "duration": 22,
        "start_time": "2022-12-20T11:27:01.544Z"
      },
      {
        "duration": 31,
        "start_time": "2022-12-20T11:27:01.573Z"
      },
      {
        "duration": 66,
        "start_time": "2022-12-20T11:27:01.607Z"
      },
      {
        "duration": 25,
        "start_time": "2022-12-20T11:27:01.675Z"
      },
      {
        "duration": 48,
        "start_time": "2022-12-20T11:27:01.703Z"
      },
      {
        "duration": 12,
        "start_time": "2022-12-20T11:27:01.754Z"
      },
      {
        "duration": 27,
        "start_time": "2022-12-20T11:27:01.768Z"
      },
      {
        "duration": 31,
        "start_time": "2022-12-20T11:27:01.797Z"
      },
      {
        "duration": 12,
        "start_time": "2022-12-20T11:27:01.829Z"
      },
      {
        "duration": 15,
        "start_time": "2022-12-20T11:27:01.842Z"
      },
      {
        "duration": 21,
        "start_time": "2022-12-20T11:27:01.859Z"
      },
      {
        "duration": 16,
        "start_time": "2022-12-20T11:27:01.882Z"
      },
      {
        "duration": 706,
        "start_time": "2022-12-20T11:27:01.900Z"
      },
      {
        "duration": 15,
        "start_time": "2022-12-20T11:27:02.608Z"
      },
      {
        "duration": 11,
        "start_time": "2022-12-20T11:27:02.626Z"
      },
      {
        "duration": 8,
        "start_time": "2022-12-20T11:27:02.640Z"
      },
      {
        "duration": 20,
        "start_time": "2022-12-20T11:27:02.651Z"
      },
      {
        "duration": 21,
        "start_time": "2022-12-20T11:27:02.673Z"
      },
      {
        "duration": 10,
        "start_time": "2022-12-20T11:27:02.696Z"
      },
      {
        "duration": 14,
        "start_time": "2022-12-20T11:27:02.708Z"
      },
      {
        "duration": 18,
        "start_time": "2022-12-20T11:27:02.724Z"
      },
      {
        "duration": 8,
        "start_time": "2022-12-20T11:27:02.745Z"
      },
      {
        "duration": 11,
        "start_time": "2022-12-20T11:27:02.756Z"
      },
      {
        "duration": 390,
        "start_time": "2022-12-20T11:27:02.770Z"
      },
      {
        "duration": 10,
        "start_time": "2022-12-20T11:27:03.162Z"
      },
      {
        "duration": 19,
        "start_time": "2022-12-20T11:27:03.175Z"
      },
      {
        "duration": 210,
        "start_time": "2022-12-20T11:27:03.196Z"
      },
      {
        "duration": 13,
        "start_time": "2022-12-20T11:27:03.408Z"
      },
      {
        "duration": 350,
        "start_time": "2022-12-20T11:27:03.424Z"
      },
      {
        "duration": 150,
        "start_time": "2022-12-20T11:27:03.775Z"
      },
      {
        "duration": 147,
        "start_time": "2022-12-20T11:27:03.927Z"
      },
      {
        "duration": 496,
        "start_time": "2022-12-20T11:27:04.076Z"
      },
      {
        "duration": 9,
        "start_time": "2022-12-20T11:27:04.574Z"
      },
      {
        "duration": 20,
        "start_time": "2022-12-20T11:27:04.586Z"
      },
      {
        "duration": 18,
        "start_time": "2022-12-20T11:27:04.608Z"
      },
      {
        "duration": 8,
        "start_time": "2022-12-20T11:27:04.628Z"
      },
      {
        "duration": 7,
        "start_time": "2022-12-20T11:27:04.638Z"
      },
      {
        "duration": 9,
        "start_time": "2022-12-20T11:27:04.646Z"
      },
      {
        "duration": 13,
        "start_time": "2022-12-20T11:27:04.657Z"
      },
      {
        "duration": 14,
        "start_time": "2022-12-20T11:27:04.672Z"
      },
      {
        "duration": 48,
        "start_time": "2022-12-20T11:27:04.688Z"
      },
      {
        "duration": 121,
        "start_time": "2022-12-20T11:27:04.738Z"
      },
      {
        "duration": 12,
        "start_time": "2022-12-20T11:27:04.861Z"
      },
      {
        "duration": 14,
        "start_time": "2022-12-20T11:27:04.876Z"
      },
      {
        "duration": 10,
        "start_time": "2022-12-20T11:27:04.892Z"
      },
      {
        "duration": 19,
        "start_time": "2022-12-20T11:27:04.921Z"
      },
      {
        "duration": 14,
        "start_time": "2022-12-20T11:27:04.942Z"
      },
      {
        "duration": 18,
        "start_time": "2022-12-20T11:27:04.958Z"
      },
      {
        "duration": 6,
        "start_time": "2022-12-20T11:27:04.978Z"
      },
      {
        "duration": 15,
        "start_time": "2022-12-20T11:27:04.986Z"
      },
      {
        "duration": 11,
        "start_time": "2022-12-20T11:27:05.003Z"
      },
      {
        "duration": 350,
        "start_time": "2022-12-20T11:27:05.023Z"
      },
      {
        "duration": 248,
        "start_time": "2022-12-20T11:27:05.375Z"
      },
      {
        "duration": 7,
        "start_time": "2022-12-20T11:27:05.625Z"
      },
      {
        "duration": 336,
        "start_time": "2022-12-20T11:27:05.633Z"
      },
      {
        "duration": 15,
        "start_time": "2022-12-20T11:27:05.975Z"
      },
      {
        "duration": 33,
        "start_time": "2022-12-20T11:27:05.992Z"
      },
      {
        "duration": 11,
        "start_time": "2022-12-20T11:27:59.057Z"
      },
      {
        "duration": 1318,
        "start_time": "2022-12-20T11:28:37.513Z"
      },
      {
        "duration": 273,
        "start_time": "2022-12-20T11:28:38.833Z"
      },
      {
        "duration": 21,
        "start_time": "2022-12-20T11:28:39.107Z"
      },
      {
        "duration": 327,
        "start_time": "2022-12-20T11:28:39.130Z"
      },
      {
        "duration": 17,
        "start_time": "2022-12-20T11:28:39.459Z"
      },
      {
        "duration": 14,
        "start_time": "2022-12-20T11:28:39.479Z"
      },
      {
        "duration": 35,
        "start_time": "2022-12-20T11:28:39.495Z"
      },
      {
        "duration": 385,
        "start_time": "2022-12-20T11:29:00.673Z"
      },
      {
        "duration": 2,
        "start_time": "2022-12-20T11:29:01.999Z"
      },
      {
        "duration": 279,
        "start_time": "2022-12-20T11:29:02.523Z"
      },
      {
        "duration": 15,
        "start_time": "2022-12-20T11:29:03.723Z"
      },
      {
        "duration": 15,
        "start_time": "2022-12-20T11:29:04.657Z"
      },
      {
        "duration": 1273,
        "start_time": "2022-12-20T11:29:25.026Z"
      },
      {
        "duration": 3,
        "start_time": "2022-12-20T11:29:26.302Z"
      },
      {
        "duration": 343,
        "start_time": "2022-12-20T11:29:26.307Z"
      },
      {
        "duration": 14,
        "start_time": "2022-12-20T11:29:26.652Z"
      },
      {
        "duration": 14,
        "start_time": "2022-12-20T11:29:26.667Z"
      },
      {
        "duration": 10,
        "start_time": "2022-12-20T11:29:26.683Z"
      },
      {
        "duration": 253,
        "start_time": "2022-12-20T11:30:33.816Z"
      },
      {
        "duration": 3,
        "start_time": "2022-12-20T11:30:36.671Z"
      },
      {
        "duration": 107,
        "start_time": "2022-12-20T11:30:37.236Z"
      },
      {
        "duration": 15,
        "start_time": "2022-12-20T11:30:38.704Z"
      },
      {
        "duration": 11,
        "start_time": "2022-12-20T11:30:40.140Z"
      },
      {
        "duration": 9,
        "start_time": "2022-12-20T11:30:41.452Z"
      },
      {
        "duration": 10,
        "start_time": "2022-12-20T11:32:03.918Z"
      },
      {
        "duration": 15,
        "start_time": "2022-12-20T11:36:40.746Z"
      },
      {
        "duration": 17,
        "start_time": "2022-12-20T11:36:52.333Z"
      },
      {
        "duration": 9,
        "start_time": "2022-12-20T11:43:16.796Z"
      },
      {
        "duration": 28,
        "start_time": "2022-12-20T11:43:28.720Z"
      },
      {
        "duration": 13,
        "start_time": "2022-12-20T11:43:39.403Z"
      },
      {
        "duration": 8,
        "start_time": "2022-12-20T11:45:54.324Z"
      },
      {
        "duration": 9,
        "start_time": "2022-12-20T11:46:01.948Z"
      },
      {
        "duration": 10,
        "start_time": "2022-12-20T11:46:19.544Z"
      },
      {
        "duration": 9,
        "start_time": "2022-12-20T11:46:50.177Z"
      },
      {
        "duration": 11,
        "start_time": "2022-12-20T11:46:59.102Z"
      },
      {
        "duration": 13,
        "start_time": "2022-12-20T11:47:42.132Z"
      },
      {
        "duration": 29,
        "start_time": "2022-12-20T11:48:37.508Z"
      },
      {
        "duration": 18,
        "start_time": "2022-12-20T11:49:20.361Z"
      },
      {
        "duration": 4,
        "start_time": "2022-12-20T11:50:57.948Z"
      },
      {
        "duration": 22,
        "start_time": "2022-12-20T11:56:21.517Z"
      },
      {
        "duration": 18,
        "start_time": "2022-12-20T11:59:47.991Z"
      },
      {
        "duration": 52,
        "start_time": "2022-12-20T12:00:17.045Z"
      },
      {
        "duration": 21,
        "start_time": "2022-12-20T12:00:17.819Z"
      },
      {
        "duration": 11,
        "start_time": "2022-12-20T12:00:18.974Z"
      },
      {
        "duration": 28,
        "start_time": "2022-12-20T12:00:20.220Z"
      },
      {
        "duration": 10,
        "start_time": "2022-12-20T12:01:53.719Z"
      },
      {
        "duration": 12,
        "start_time": "2022-12-20T12:06:03.352Z"
      },
      {
        "duration": 108,
        "start_time": "2022-12-20T12:06:38.406Z"
      },
      {
        "duration": 10,
        "start_time": "2022-12-20T12:07:07.921Z"
      },
      {
        "duration": 8,
        "start_time": "2022-12-20T12:08:44.955Z"
      },
      {
        "duration": 13,
        "start_time": "2022-12-20T12:09:10.501Z"
      },
      {
        "duration": 15,
        "start_time": "2022-12-20T12:09:23.145Z"
      },
      {
        "duration": 14,
        "start_time": "2022-12-20T12:09:31.180Z"
      },
      {
        "duration": 15,
        "start_time": "2022-12-20T12:09:49.577Z"
      },
      {
        "duration": 10,
        "start_time": "2022-12-20T12:09:59.472Z"
      },
      {
        "duration": 18,
        "start_time": "2022-12-20T12:10:38.365Z"
      },
      {
        "duration": 15,
        "start_time": "2022-12-20T12:10:48.491Z"
      },
      {
        "duration": 10,
        "start_time": "2022-12-20T12:11:15.196Z"
      },
      {
        "duration": 13,
        "start_time": "2022-12-20T12:11:24.855Z"
      },
      {
        "duration": 6,
        "start_time": "2022-12-20T12:11:52.268Z"
      },
      {
        "duration": 19,
        "start_time": "2022-12-20T12:11:54.415Z"
      },
      {
        "duration": 13,
        "start_time": "2022-12-20T12:12:36.296Z"
      },
      {
        "duration": 11,
        "start_time": "2022-12-20T12:12:52.037Z"
      },
      {
        "duration": 11,
        "start_time": "2022-12-20T12:12:57.150Z"
      },
      {
        "duration": 10,
        "start_time": "2022-12-20T12:13:06.796Z"
      },
      {
        "duration": 10,
        "start_time": "2022-12-20T12:13:19.088Z"
      },
      {
        "duration": 14,
        "start_time": "2022-12-20T12:13:45.602Z"
      },
      {
        "duration": 12,
        "start_time": "2022-12-20T12:14:12.903Z"
      },
      {
        "duration": 9,
        "start_time": "2022-12-20T12:14:30.244Z"
      },
      {
        "duration": 11,
        "start_time": "2022-12-20T12:14:47.730Z"
      },
      {
        "duration": 10,
        "start_time": "2022-12-20T12:16:49.435Z"
      },
      {
        "duration": 14,
        "start_time": "2022-12-20T12:18:16.605Z"
      },
      {
        "duration": 13,
        "start_time": "2022-12-20T12:19:22.653Z"
      },
      {
        "duration": 13,
        "start_time": "2022-12-20T12:19:33.938Z"
      },
      {
        "duration": 5,
        "start_time": "2022-12-20T12:22:06.974Z"
      },
      {
        "duration": 8,
        "start_time": "2022-12-20T12:22:32.540Z"
      },
      {
        "duration": 7,
        "start_time": "2022-12-20T13:30:58.174Z"
      },
      {
        "duration": 7,
        "start_time": "2022-12-20T13:31:02.365Z"
      },
      {
        "duration": 6,
        "start_time": "2022-12-20T13:31:10.972Z"
      },
      {
        "duration": 9,
        "start_time": "2022-12-20T13:31:11.442Z"
      },
      {
        "duration": 9,
        "start_time": "2022-12-20T13:31:18.338Z"
      },
      {
        "duration": 8,
        "start_time": "2022-12-20T14:46:17.450Z"
      },
      {
        "duration": 5,
        "start_time": "2022-12-20T14:46:24.759Z"
      },
      {
        "duration": 4,
        "start_time": "2022-12-20T14:46:51.166Z"
      },
      {
        "duration": 3,
        "start_time": "2022-12-20T14:47:27.116Z"
      },
      {
        "duration": 6,
        "start_time": "2022-12-20T18:01:12.120Z"
      },
      {
        "duration": 78,
        "start_time": "2022-12-21T17:20:48.647Z"
      },
      {
        "duration": 192,
        "start_time": "2023-01-19T19:34:36.933Z"
      }
    ],
    "colab": {
      "collapsed_sections": [
        "E0vqbgi9ay0H",
        "VUC88oWjTJw2"
      ],
      "provenance": []
    },
    "kernelspec": {
      "display_name": "Python 3 (ipykernel)",
      "language": "python",
      "name": "python3"
    },
    "language_info": {
      "codemirror_mode": {
        "name": "ipython",
        "version": 3
      },
      "file_extension": ".py",
      "mimetype": "text/x-python",
      "name": "python",
      "nbconvert_exporter": "python",
      "pygments_lexer": "ipython3",
      "version": "3.9.5"
    },
    "toc": {
      "base_numbering": 1,
      "nav_menu": {
        "height": "215px",
        "width": "403px"
      },
      "number_sections": true,
      "sideBar": true,
      "skip_h1_title": true,
      "title_cell": "Table of Contents",
      "title_sidebar": "Contents",
      "toc_cell": false,
      "toc_position": {
        "height": "calc(100% - 180px)",
        "left": "10px",
        "top": "150px",
        "width": "285.825px"
      },
      "toc_section_display": true,
      "toc_window_display": false
    }
  },
  "nbformat": 4,
  "nbformat_minor": 0
}
